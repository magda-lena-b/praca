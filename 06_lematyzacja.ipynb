{
 "cells": [
  {
   "cell_type": "code",
   "execution_count": 1,
   "metadata": {},
   "outputs": [],
   "source": [
    "import re\n",
    "import pandas as pd\n",
    "import funcs \n",
    "import importlib\n",
    "import unicodecsv as csv\n",
    "import pickle\n",
    "import random\n",
    "from timeit import default_timer as timer\n",
    "from datetime import datetime, timedelta\n",
    "import ng_models\n",
    "import matplotlib.pyplot as plt\n",
    "from collections import Counter\n",
    "import stanza\n",
    "\n",
    "#stanza.download('pl')\n",
    "\n",
    "%matplotlib notebook\n",
    "importlib.reload(funcs)\n",
    "importlib.reload(ng_models)\n",
    "\n",
    "stopwords = open('00_dane/polish.stopwords.txt','r').read().split()\n",
    "stopwords.append(['.', ',','!', '?'])"
   ]
  },
  {
   "cell_type": "code",
   "execution_count": 2,
   "metadata": {},
   "outputs": [],
   "source": [
    "s = pd.read_csv('00_dane/sp_joined.csv',  sep='|', encoding='UTF-8')"
   ]
  },
  {
   "cell_type": "code",
   "execution_count": 3,
   "metadata": {},
   "outputs": [],
   "source": [
    "sp =pd.read_csv('00_dane/rawest.csv', sep='|', encoding='UTF-8')"
   ]
  },
  {
   "cell_type": "code",
   "execution_count": 16,
   "metadata": {},
   "outputs": [],
   "source": [
    "sp = sp.drop(columns = 'Unnamed: 0', axis=1)\n",
    "#sp.columns"
   ]
  },
  {
   "cell_type": "code",
   "execution_count": 4,
   "metadata": {},
   "outputs": [
    {
     "data": {
      "text/plain": [
       "'2500 szkół , Bóg . . . spojrzeć wstecz , zauważyć , wiek ziemia polski wielki skala , , szkół zamykać . raz ostatni katastrofa oświatowy dotknąć Polak wiek XIX następstwo utrata niepodległość . drugi połowa wiek XIX wiek XX rok mozolny odbud polski system oświatowy . 200 rok tworzyć ów system , budować otwierać szkoła . system niszczyć ? pytanie skierować minister , poseł koalicja rządzić . dziać ? dawien dawny rządzić odczuwać pokusa redukcja wydatek oświata . często urzędnik niemiecki rosyjski , nazistowski sowiecki . urzędnik polski uczestniczyć podobny proceder ? szkoła likwidować samorząd ? opinia . likwidować jedynie ręka . rząd , podobnie przypadek szpital przedszkola , uczynić samorząd jedynie likwidator . podkreślać likwidator . pojedynczy szkół ? . opinia , likwidywać tysiąc szkół , de facty likwidacja system oświata . rząd czuć odpowiedzialny likwidować szkoła ? los środowisko pozbawić kulturotwórczy rola szkoła ? prawo sprawiedliwość , wnosić projekt ustawa zmiana ustawa system oświata , upominać , kurator , składać podpis opinia likwidacja szkoła , poczuć ciężar odpowiedzialność , spoczywać .'"
      ]
     },
     "execution_count": 4,
     "metadata": {},
     "output_type": "execute_result"
    }
   ],
   "source": [
    "sp.iloc[66666]['speech_rawest']"
   ]
  },
  {
   "cell_type": "code",
   "execution_count": 3,
   "metadata": {},
   "outputs": [
    {
     "data": {
      "text/html": [
       "<div>\n",
       "<style scoped>\n",
       "    .dataframe tbody tr th:only-of-type {\n",
       "        vertical-align: middle;\n",
       "    }\n",
       "\n",
       "    .dataframe tbody tr th {\n",
       "        vertical-align: top;\n",
       "    }\n",
       "\n",
       "    .dataframe thead th {\n",
       "        text-align: right;\n",
       "    }\n",
       "</style>\n",
       "<table border=\"1\" class=\"dataframe\">\n",
       "  <thead>\n",
       "    <tr style=\"text-align: right;\">\n",
       "      <th></th>\n",
       "      <th>date_</th>\n",
       "      <th>speech_rawer</th>\n",
       "      <th>full_name</th>\n",
       "      <th>party_final</th>\n",
       "      <th>speech_rawest</th>\n",
       "    </tr>\n",
       "  </thead>\n",
       "  <tbody>\n",
       "    <tr>\n",
       "      <th>158872</th>\n",
       "      <td>31-08-2011</td>\n",
       "      <td>Panie Przewodniczący! Z należnym szacunkiem p...</td>\n",
       "      <td>Jan Kulas</td>\n",
       "      <td>Platforma Obywatelska</td>\n",
       "      <td>NaN</td>\n",
       "    </tr>\n",
       "    <tr>\n",
       "      <th>158873</th>\n",
       "      <td>31-08-2011</td>\n",
       "      <td>Moje oświadczenie poselskie poświęcam działaln...</td>\n",
       "      <td>Jan Kulas</td>\n",
       "      <td>Platforma Obywatelska</td>\n",
       "      <td>NaN</td>\n",
       "    </tr>\n",
       "    <tr>\n",
       "      <th>158874</th>\n",
       "      <td>31-08-2011</td>\n",
       "      <td>Wyobraźmy sobie, że gdzieś w tzw. cywilizowan...</td>\n",
       "      <td>Paweł Graś</td>\n",
       "      <td>Platforma Obywatelska</td>\n",
       "      <td>NaN</td>\n",
       "    </tr>\n",
       "    <tr>\n",
       "      <th>158875</th>\n",
       "      <td>31-08-2011</td>\n",
       "      <td>Doszło do skandalicznego głosowania, albowiem...</td>\n",
       "      <td>Paweł Graś</td>\n",
       "      <td>Platforma Obywatelska</td>\n",
       "      <td>NaN</td>\n",
       "    </tr>\n",
       "    <tr>\n",
       "      <th>158876</th>\n",
       "      <td>31-08-2011</td>\n",
       "      <td>Z głębokim smutkiem i wielkim zażenowaniem pr...</td>\n",
       "      <td>Paweł Graś</td>\n",
       "      <td>Platforma Obywatelska</td>\n",
       "      <td>NaN</td>\n",
       "    </tr>\n",
       "    <tr>\n",
       "      <th>158877</th>\n",
       "      <td>31-08-2011</td>\n",
       "      <td>Sojuszowi Lewicy Demokratycznej bardzo zależy...</td>\n",
       "      <td>Romuald Ajchler</td>\n",
       "      <td>Sojusz Lewicy Demokratycznej</td>\n",
       "      <td>NaN</td>\n",
       "    </tr>\n",
       "    <tr>\n",
       "      <th>158878</th>\n",
       "      <td>31-08-2011</td>\n",
       "      <td>Panie Przewodniczący Krajowej Rady Sądownictw...</td>\n",
       "      <td>Stanisław Rydzoń</td>\n",
       "      <td>Sojusz Lewicy Demokratycznej</td>\n",
       "      <td>NaN</td>\n",
       "    </tr>\n",
       "    <tr>\n",
       "      <th>158879</th>\n",
       "      <td>31-08-2011</td>\n",
       "      <td>Mam pytanie do pana ministra. Panie ministrze...</td>\n",
       "      <td>Stanisław Rydzoń</td>\n",
       "      <td>Sojusz Lewicy Demokratycznej</td>\n",
       "      <td>NaN</td>\n",
       "    </tr>\n",
       "    <tr>\n",
       "      <th>158880</th>\n",
       "      <td>31-08-2011</td>\n",
       "      <td>Pani Minister! Bardzo dużo mówi się o szkolni...</td>\n",
       "      <td>Stanisław Stec</td>\n",
       "      <td>Sojusz Lewicy Demokratycznej</td>\n",
       "      <td>NaN</td>\n",
       "    </tr>\n",
       "    <tr>\n",
       "      <th>158881</th>\n",
       "      <td>31-08-2011</td>\n",
       "      <td>Szanowna Pani Minister! Bardzo ważnym zadanie...</td>\n",
       "      <td>Tadeusz Tomaszewski</td>\n",
       "      <td>Sojusz Lewicy Demokratycznej</td>\n",
       "      <td>NaN</td>\n",
       "    </tr>\n",
       "  </tbody>\n",
       "</table>\n",
       "</div>"
      ],
      "text/plain": [
       "             date_                                       speech_rawer  \\\n",
       "158872  31-08-2011   Panie Przewodniczący! Z należnym szacunkiem p...   \n",
       "158873  31-08-2011  Moje oświadczenie poselskie poświęcam działaln...   \n",
       "158874  31-08-2011   Wyobraźmy sobie, że gdzieś w tzw. cywilizowan...   \n",
       "158875  31-08-2011   Doszło do skandalicznego głosowania, albowiem...   \n",
       "158876  31-08-2011   Z głębokim smutkiem i wielkim zażenowaniem pr...   \n",
       "158877  31-08-2011   Sojuszowi Lewicy Demokratycznej bardzo zależy...   \n",
       "158878  31-08-2011   Panie Przewodniczący Krajowej Rady Sądownictw...   \n",
       "158879  31-08-2011   Mam pytanie do pana ministra. Panie ministrze...   \n",
       "158880  31-08-2011   Pani Minister! Bardzo dużo mówi się o szkolni...   \n",
       "158881  31-08-2011   Szanowna Pani Minister! Bardzo ważnym zadanie...   \n",
       "\n",
       "                  full_name                   party_final speech_rawest  \n",
       "158872            Jan Kulas         Platforma Obywatelska           NaN  \n",
       "158873            Jan Kulas         Platforma Obywatelska           NaN  \n",
       "158874           Paweł Graś         Platforma Obywatelska           NaN  \n",
       "158875           Paweł Graś         Platforma Obywatelska           NaN  \n",
       "158876           Paweł Graś         Platforma Obywatelska           NaN  \n",
       "158877      Romuald Ajchler  Sojusz Lewicy Demokratycznej           NaN  \n",
       "158878     Stanisław Rydzoń  Sojusz Lewicy Demokratycznej           NaN  \n",
       "158879     Stanisław Rydzoń  Sojusz Lewicy Demokratycznej           NaN  \n",
       "158880       Stanisław Stec  Sojusz Lewicy Demokratycznej           NaN  \n",
       "158881  Tadeusz Tomaszewski  Sojusz Lewicy Demokratycznej           NaN  "
      ]
     },
     "execution_count": 3,
     "metadata": {},
     "output_type": "execute_result"
    }
   ],
   "source": [
    "sp.tail(10)"
   ]
  },
  {
   "cell_type": "code",
   "execution_count": 2,
   "metadata": {},
   "outputs": [],
   "source": [
    "sp_joined = pd.read_csv('00_dane/sp_joined2.csv',  sep='|', encoding='UTF-8')"
   ]
  },
  {
   "cell_type": "markdown",
   "metadata": {},
   "source": [
    "## Przygotowanie zbioru danych pod analizę tematyczną (i poźniej pod analizę sentymentu również):\n",
    "- lematyzacja\n",
    "- usunięcie stop words\n",
    "- wektoryzacja"
   ]
  },
  {
   "cell_type": "code",
   "execution_count": 72,
   "metadata": {},
   "outputs": [
    {
     "data": {
      "text/plain": [
       "' Andrzej Tadeusz Mazurkiewicz, Konfederacja Polski Niepodległej. Panie Marszałku! Wysoka Izbo! Proszę państwa, na tej sali padają jakieś dziwne głosy. Naprawdę zgadzam się ze zdaniem mojego kolegi Mirka Lewandowskiego, aby mówić językiem prostym. Padają argumenty, iż osąd co do stanu wojennego należy pozostawić historii. Tak, pozostawmy to historii, bo historycy mogą się tym zająć. Natomiast w tej chwili mamy rzeczywistość, którą musimy ocenić, i ocenimy ją tak, jak odczuwaliśmy to wcześniej. Padają tu opinie, iż różni eksperci wypowiadali się na ten temat i są różne ekspertyzy. Nie wiem z jakiego języka były one tłumaczone, ale rzeczywiście jest ich dużo. Proszę państwa, pan mecenas Taylor w imieniu Klubu Parlamentarnego Unia Demokratyczna powiedział, że poczucie sprawiedliwości trzeba poświęcić w imię poczucia bezpieczeństwa. Otóż nie, właśnie poczucie bezpieczeństwa wymaga sprawiedliwości, wymaga zwykłej ludzkiej sprawiedliwości. I te wnioski my dzisiaj na tej sali musimy wyciągnąć, głosując tak, jak czujemy. My i Konfederacja Polski Niepodległej opowiadamy się za poprawką nr 2, że stan wojenny był nielegalny, opowiadamy się za powołaniem Komisji Nadzwyczajnej i to wyrazimy w naszym głosowaniu. I tak na marginesie, jeszcze jedna uwaga do pani poseł Sierakowskiej. Z tym pogrzebem generała Jaruzelskiego, to się troszkę pani pospieszyła, niestety, byłoby to zbyt wczesne. Nie chcemy chować generała za życia, chcemy z nim jeszcze parę spraw załatwić. '"
      ]
     },
     "execution_count": 72,
     "metadata": {},
     "output_type": "execute_result"
    }
   ],
   "source": [
    "sp_joined.iloc[6]['speech_raw']"
   ]
  },
  {
   "cell_type": "code",
   "execution_count": 12,
   "metadata": {},
   "outputs": [],
   "source": [
    "sp = sp_joined[['date_', 'speech_rawer', 'full_name', 'party_final']]"
   ]
  },
  {
   "cell_type": "code",
   "execution_count": 8,
   "metadata": {},
   "outputs": [
    {
     "data": {
      "text/html": [
       "<div>\n",
       "<style scoped>\n",
       "    .dataframe tbody tr th:only-of-type {\n",
       "        vertical-align: middle;\n",
       "    }\n",
       "\n",
       "    .dataframe tbody tr th {\n",
       "        vertical-align: top;\n",
       "    }\n",
       "\n",
       "    .dataframe thead th {\n",
       "        text-align: right;\n",
       "    }\n",
       "</style>\n",
       "<table border=\"1\" class=\"dataframe\">\n",
       "  <thead>\n",
       "    <tr style=\"text-align: right;\">\n",
       "      <th></th>\n",
       "      <th>Unnamed: 0</th>\n",
       "      <th>date_</th>\n",
       "      <th>speech_rawer</th>\n",
       "      <th>full_name</th>\n",
       "      <th>party_final</th>\n",
       "      <th>speech_rawest</th>\n",
       "    </tr>\n",
       "  </thead>\n",
       "  <tbody>\n",
       "    <tr>\n",
       "      <th>158875</th>\n",
       "      <td>158875</td>\n",
       "      <td>31-08-2011</td>\n",
       "      <td>Panie Przewodniczący! Z należnym szacunkiem p...</td>\n",
       "      <td>Jan Kulas</td>\n",
       "      <td>Platforma Obywatelska</td>\n",
       "      <td>NaN</td>\n",
       "    </tr>\n",
       "    <tr>\n",
       "      <th>158876</th>\n",
       "      <td>158876</td>\n",
       "      <td>31-08-2011</td>\n",
       "      <td>Moje oświadczenie poselskie poświęcam działaln...</td>\n",
       "      <td>Jan Kulas</td>\n",
       "      <td>Platforma Obywatelska</td>\n",
       "      <td>NaN</td>\n",
       "    </tr>\n",
       "    <tr>\n",
       "      <th>158877</th>\n",
       "      <td>158877</td>\n",
       "      <td>31-08-2011</td>\n",
       "      <td>Wyobraźmy sobie, że gdzieś w tzw. cywilizowan...</td>\n",
       "      <td>Paweł Graś</td>\n",
       "      <td>Platforma Obywatelska</td>\n",
       "      <td>NaN</td>\n",
       "    </tr>\n",
       "    <tr>\n",
       "      <th>158878</th>\n",
       "      <td>158878</td>\n",
       "      <td>31-08-2011</td>\n",
       "      <td>Doszło do skandalicznego głosowania, albowiem...</td>\n",
       "      <td>Paweł Graś</td>\n",
       "      <td>Platforma Obywatelska</td>\n",
       "      <td>NaN</td>\n",
       "    </tr>\n",
       "    <tr>\n",
       "      <th>158879</th>\n",
       "      <td>158879</td>\n",
       "      <td>31-08-2011</td>\n",
       "      <td>Z głębokim smutkiem i wielkim zażenowaniem pr...</td>\n",
       "      <td>Paweł Graś</td>\n",
       "      <td>Platforma Obywatelska</td>\n",
       "      <td>NaN</td>\n",
       "    </tr>\n",
       "    <tr>\n",
       "      <th>158880</th>\n",
       "      <td>158880</td>\n",
       "      <td>31-08-2011</td>\n",
       "      <td>Sojuszowi Lewicy Demokratycznej bardzo zależy...</td>\n",
       "      <td>Romuald Ajchler</td>\n",
       "      <td>Sojusz Lewicy Demokratycznej</td>\n",
       "      <td>NaN</td>\n",
       "    </tr>\n",
       "    <tr>\n",
       "      <th>158881</th>\n",
       "      <td>158881</td>\n",
       "      <td>31-08-2011</td>\n",
       "      <td>Panie Przewodniczący Krajowej Rady Sądownictw...</td>\n",
       "      <td>Stanisław Rydzoń</td>\n",
       "      <td>Sojusz Lewicy Demokratycznej</td>\n",
       "      <td>NaN</td>\n",
       "    </tr>\n",
       "    <tr>\n",
       "      <th>158882</th>\n",
       "      <td>158882</td>\n",
       "      <td>31-08-2011</td>\n",
       "      <td>Mam pytanie do pana ministra. Panie ministrze...</td>\n",
       "      <td>Stanisław Rydzoń</td>\n",
       "      <td>Sojusz Lewicy Demokratycznej</td>\n",
       "      <td>NaN</td>\n",
       "    </tr>\n",
       "    <tr>\n",
       "      <th>158883</th>\n",
       "      <td>158883</td>\n",
       "      <td>31-08-2011</td>\n",
       "      <td>Pani Minister! Bardzo dużo mówi się o szkolni...</td>\n",
       "      <td>Stanisław Stec</td>\n",
       "      <td>Sojusz Lewicy Demokratycznej</td>\n",
       "      <td>NaN</td>\n",
       "    </tr>\n",
       "    <tr>\n",
       "      <th>158884</th>\n",
       "      <td>158884</td>\n",
       "      <td>31-08-2011</td>\n",
       "      <td>Szanowna Pani Minister! Bardzo ważnym zadanie...</td>\n",
       "      <td>Tadeusz Tomaszewski</td>\n",
       "      <td>Sojusz Lewicy Demokratycznej</td>\n",
       "      <td>NaN</td>\n",
       "    </tr>\n",
       "  </tbody>\n",
       "</table>\n",
       "</div>"
      ],
      "text/plain": [
       "        Unnamed: 0       date_  \\\n",
       "158875      158875  31-08-2011   \n",
       "158876      158876  31-08-2011   \n",
       "158877      158877  31-08-2011   \n",
       "158878      158878  31-08-2011   \n",
       "158879      158879  31-08-2011   \n",
       "158880      158880  31-08-2011   \n",
       "158881      158881  31-08-2011   \n",
       "158882      158882  31-08-2011   \n",
       "158883      158883  31-08-2011   \n",
       "158884      158884  31-08-2011   \n",
       "\n",
       "                                             speech_rawer  \\\n",
       "158875   Panie Przewodniczący! Z należnym szacunkiem p...   \n",
       "158876  Moje oświadczenie poselskie poświęcam działaln...   \n",
       "158877   Wyobraźmy sobie, że gdzieś w tzw. cywilizowan...   \n",
       "158878   Doszło do skandalicznego głosowania, albowiem...   \n",
       "158879   Z głębokim smutkiem i wielkim zażenowaniem pr...   \n",
       "158880   Sojuszowi Lewicy Demokratycznej bardzo zależy...   \n",
       "158881   Panie Przewodniczący Krajowej Rady Sądownictw...   \n",
       "158882   Mam pytanie do pana ministra. Panie ministrze...   \n",
       "158883   Pani Minister! Bardzo dużo mówi się o szkolni...   \n",
       "158884   Szanowna Pani Minister! Bardzo ważnym zadanie...   \n",
       "\n",
       "                  full_name                   party_final speech_rawest  \n",
       "158875            Jan Kulas         Platforma Obywatelska           NaN  \n",
       "158876            Jan Kulas         Platforma Obywatelska           NaN  \n",
       "158877           Paweł Graś         Platforma Obywatelska           NaN  \n",
       "158878           Paweł Graś         Platforma Obywatelska           NaN  \n",
       "158879           Paweł Graś         Platforma Obywatelska           NaN  \n",
       "158880      Romuald Ajchler  Sojusz Lewicy Demokratycznej           NaN  \n",
       "158881     Stanisław Rydzoń  Sojusz Lewicy Demokratycznej           NaN  \n",
       "158882     Stanisław Rydzoń  Sojusz Lewicy Demokratycznej           NaN  \n",
       "158883       Stanisław Stec  Sojusz Lewicy Demokratycznej           NaN  \n",
       "158884  Tadeusz Tomaszewski  Sojusz Lewicy Demokratycznej           NaN  "
      ]
     },
     "execution_count": 8,
     "metadata": {},
     "output_type": "execute_result"
    }
   ],
   "source": [
    "sp.tail(10)"
   ]
  },
  {
   "cell_type": "markdown",
   "metadata": {},
   "source": [
    "### Usunięcie stop words oraz lematyzacja"
   ]
  },
  {
   "cell_type": "code",
   "execution_count": 4,
   "metadata": {},
   "outputs": [
    {
     "name": "stderr",
     "output_type": "stream",
     "text": [
      "2020-05-03 22:11:02 INFO: Loading these models for language: pl (Polish):\n",
      "=======================\n",
      "| Processor | Package |\n",
      "-----------------------\n",
      "| tokenize  | lfg     |\n",
      "| pos       | lfg     |\n",
      "| lemma     | lfg     |\n",
      "| depparse  | lfg     |\n",
      "=======================\n",
      "\n",
      "2020-05-03 22:11:02 INFO: Use device: cpu\n",
      "2020-05-03 22:11:02 INFO: Loading: tokenize\n",
      "2020-05-03 22:11:02 INFO: Loading: pos\n",
      "2020-05-03 22:11:04 INFO: Loading: lemma\n",
      "2020-05-03 22:11:04 INFO: Loading: depparse\n",
      "2020-05-03 22:11:06 INFO: Done loading processors!\n"
     ]
    }
   ],
   "source": [
    "nlp = stanza.Pipeline('pl')"
   ]
  },
  {
   "cell_type": "code",
   "execution_count": 5,
   "metadata": {},
   "outputs": [
    {
     "name": "stdout",
     "output_type": "stream",
     "text": [
      "Done:  88.0 %\n",
      "Done:  89.0 %\n",
      "Done:  90.0 %\n",
      "Done:  91.0 %\n",
      "Done:  92.0 %\n",
      "Done:  93.0 %\n",
      "Done:  94.0 %\n",
      "Done:  95.0 %\n",
      "Done:  96.0 %\n",
      "Done:  97.0 %\n",
      "Done:  98.0 %\n",
      "Done:  99.0 %\n",
      "Done:  100.0 %\n",
      "Wall time: 12h 47min 26s\n"
     ]
    }
   ],
   "source": [
    "%%time\n",
    "x=0\n",
    "for i in sp[sp['speech_rawest'].isnull()].index:\n",
    "    \n",
    "    doc = nlp(sp.loc[i, 'speech_rawer'])\n",
    "    sp.loc[i, 'speech_rawest']= ' '.join([word.lemma for sent in doc.sentences for word in sent.words if word.lemma not in stopwords])\n",
    "    if round(100*i/len(sp['speech_rawer']),0)>x:\n",
    "        x = round(100*i/len(sp['speech_rawer']),0)\n",
    "        print('Done: ',x,'%')\n",
    "        sp.to_csv('00_dane/rawest.csv', sep='|', encoding='UTF-8')"
   ]
  },
  {
   "cell_type": "code",
   "execution_count": 6,
   "metadata": {},
   "outputs": [],
   "source": [
    "sp.to_csv('00_dane/rawest.csv', sep='|', encoding='UTF-8', index=False)\n"
   ]
  },
  {
   "cell_type": "code",
   "execution_count": 5,
   "metadata": {},
   "outputs": [
    {
     "data": {
      "text/plain": [
       "Int64Index([116830, 116831, 116832, 116833, 116834, 116835, 116836, 116837,\n",
       "            116838, 116839,\n",
       "            ...\n",
       "            158872, 158873, 158874, 158875, 158876, 158877, 158878, 158879,\n",
       "            158880, 158881],\n",
       "           dtype='int64', length=42052)"
      ]
     },
     "execution_count": 5,
     "metadata": {},
     "output_type": "execute_result"
    }
   ],
   "source": [
    "sp[sp['speech_rawest'].isnull()].index"
   ]
  },
  {
   "cell_type": "code",
   "execution_count": 39,
   "metadata": {
    "scrolled": true
   },
   "outputs": [
    {
     "data": {
      "text/plain": [
       "Int64Index([], dtype='int64')"
      ]
     },
     "execution_count": 39,
     "metadata": {},
     "output_type": "execute_result"
    }
   ],
   "source": [
    "sp[sp['speech_rawer']==' '].index"
   ]
  },
  {
   "cell_type": "code",
   "execution_count": 33,
   "metadata": {},
   "outputs": [
    {
     "ename": "KeyError",
     "evalue": "\"None of [Int64Index([27038, 80002, 115955], dtype='int64')] are in the [columns]\"",
     "output_type": "error",
     "traceback": [
      "\u001b[1;31m---------------------------------------------------------------------------\u001b[0m",
      "\u001b[1;31mKeyError\u001b[0m                                  Traceback (most recent call last)",
      "\u001b[1;32m<ipython-input-33-c60947b36d71>\u001b[0m in \u001b[0;36m<module>\u001b[1;34m\u001b[0m\n\u001b[1;32m----> 1\u001b[1;33m \u001b[0ma\u001b[0m \u001b[1;33m=\u001b[0m \u001b[0msp\u001b[0m\u001b[1;33m[\u001b[0m\u001b[0msp\u001b[0m\u001b[1;33m[\u001b[0m\u001b[0msp\u001b[0m\u001b[1;33m[\u001b[0m\u001b[1;34m'speech_rawer'\u001b[0m\u001b[1;33m]\u001b[0m\u001b[1;33m==\u001b[0m\u001b[1;34m' '\u001b[0m\u001b[1;33m]\u001b[0m\u001b[1;33m.\u001b[0m\u001b[0mindex\u001b[0m\u001b[1;33m]\u001b[0m\u001b[1;33m\u001b[0m\u001b[1;33m\u001b[0m\u001b[0m\n\u001b[0m",
      "\u001b[1;32m~\\Anaconda3\\lib\\site-packages\\pandas\\core\\frame.py\u001b[0m in \u001b[0;36m__getitem__\u001b[1;34m(self, key)\u001b[0m\n\u001b[0;32m   2804\u001b[0m             \u001b[1;32mif\u001b[0m \u001b[0mis_iterator\u001b[0m\u001b[1;33m(\u001b[0m\u001b[0mkey\u001b[0m\u001b[1;33m)\u001b[0m\u001b[1;33m:\u001b[0m\u001b[1;33m\u001b[0m\u001b[1;33m\u001b[0m\u001b[0m\n\u001b[0;32m   2805\u001b[0m                 \u001b[0mkey\u001b[0m \u001b[1;33m=\u001b[0m \u001b[0mlist\u001b[0m\u001b[1;33m(\u001b[0m\u001b[0mkey\u001b[0m\u001b[1;33m)\u001b[0m\u001b[1;33m\u001b[0m\u001b[1;33m\u001b[0m\u001b[0m\n\u001b[1;32m-> 2806\u001b[1;33m             \u001b[0mindexer\u001b[0m \u001b[1;33m=\u001b[0m \u001b[0mself\u001b[0m\u001b[1;33m.\u001b[0m\u001b[0mloc\u001b[0m\u001b[1;33m.\u001b[0m\u001b[0m_get_listlike_indexer\u001b[0m\u001b[1;33m(\u001b[0m\u001b[0mkey\u001b[0m\u001b[1;33m,\u001b[0m \u001b[0maxis\u001b[0m\u001b[1;33m=\u001b[0m\u001b[1;36m1\u001b[0m\u001b[1;33m,\u001b[0m \u001b[0mraise_missing\u001b[0m\u001b[1;33m=\u001b[0m\u001b[1;32mTrue\u001b[0m\u001b[1;33m)\u001b[0m\u001b[1;33m[\u001b[0m\u001b[1;36m1\u001b[0m\u001b[1;33m]\u001b[0m\u001b[1;33m\u001b[0m\u001b[1;33m\u001b[0m\u001b[0m\n\u001b[0m\u001b[0;32m   2807\u001b[0m \u001b[1;33m\u001b[0m\u001b[0m\n\u001b[0;32m   2808\u001b[0m         \u001b[1;31m# take() does not accept boolean indexers\u001b[0m\u001b[1;33m\u001b[0m\u001b[1;33m\u001b[0m\u001b[1;33m\u001b[0m\u001b[0m\n",
      "\u001b[1;32m~\\Anaconda3\\lib\\site-packages\\pandas\\core\\indexing.py\u001b[0m in \u001b[0;36m_get_listlike_indexer\u001b[1;34m(self, key, axis, raise_missing)\u001b[0m\n\u001b[0;32m   1550\u001b[0m \u001b[1;33m\u001b[0m\u001b[0m\n\u001b[0;32m   1551\u001b[0m         self._validate_read_indexer(\n\u001b[1;32m-> 1552\u001b[1;33m             \u001b[0mkeyarr\u001b[0m\u001b[1;33m,\u001b[0m \u001b[0mindexer\u001b[0m\u001b[1;33m,\u001b[0m \u001b[0mo\u001b[0m\u001b[1;33m.\u001b[0m\u001b[0m_get_axis_number\u001b[0m\u001b[1;33m(\u001b[0m\u001b[0maxis\u001b[0m\u001b[1;33m)\u001b[0m\u001b[1;33m,\u001b[0m \u001b[0mraise_missing\u001b[0m\u001b[1;33m=\u001b[0m\u001b[0mraise_missing\u001b[0m\u001b[1;33m\u001b[0m\u001b[1;33m\u001b[0m\u001b[0m\n\u001b[0m\u001b[0;32m   1553\u001b[0m         )\n\u001b[0;32m   1554\u001b[0m         \u001b[1;32mreturn\u001b[0m \u001b[0mkeyarr\u001b[0m\u001b[1;33m,\u001b[0m \u001b[0mindexer\u001b[0m\u001b[1;33m\u001b[0m\u001b[1;33m\u001b[0m\u001b[0m\n",
      "\u001b[1;32m~\\Anaconda3\\lib\\site-packages\\pandas\\core\\indexing.py\u001b[0m in \u001b[0;36m_validate_read_indexer\u001b[1;34m(self, key, indexer, axis, raise_missing)\u001b[0m\n\u001b[0;32m   1637\u001b[0m             \u001b[1;32mif\u001b[0m \u001b[0mmissing\u001b[0m \u001b[1;33m==\u001b[0m \u001b[0mlen\u001b[0m\u001b[1;33m(\u001b[0m\u001b[0mindexer\u001b[0m\u001b[1;33m)\u001b[0m\u001b[1;33m:\u001b[0m\u001b[1;33m\u001b[0m\u001b[1;33m\u001b[0m\u001b[0m\n\u001b[0;32m   1638\u001b[0m                 \u001b[0maxis_name\u001b[0m \u001b[1;33m=\u001b[0m \u001b[0mself\u001b[0m\u001b[1;33m.\u001b[0m\u001b[0mobj\u001b[0m\u001b[1;33m.\u001b[0m\u001b[0m_get_axis_name\u001b[0m\u001b[1;33m(\u001b[0m\u001b[0maxis\u001b[0m\u001b[1;33m)\u001b[0m\u001b[1;33m\u001b[0m\u001b[1;33m\u001b[0m\u001b[0m\n\u001b[1;32m-> 1639\u001b[1;33m                 \u001b[1;32mraise\u001b[0m \u001b[0mKeyError\u001b[0m\u001b[1;33m(\u001b[0m\u001b[1;34mf\"None of [{key}] are in the [{axis_name}]\"\u001b[0m\u001b[1;33m)\u001b[0m\u001b[1;33m\u001b[0m\u001b[1;33m\u001b[0m\u001b[0m\n\u001b[0m\u001b[0;32m   1640\u001b[0m \u001b[1;33m\u001b[0m\u001b[0m\n\u001b[0;32m   1641\u001b[0m             \u001b[1;31m# We (temporarily) allow for some missing keys with .loc, except in\u001b[0m\u001b[1;33m\u001b[0m\u001b[1;33m\u001b[0m\u001b[1;33m\u001b[0m\u001b[0m\n",
      "\u001b[1;31mKeyError\u001b[0m: \"None of [Int64Index([27038, 80002, 115955], dtype='int64')] are in the [columns]\""
     ]
    }
   ],
   "source": [
    "a = sp[sp[sp['speech_rawer']==' '].index]"
   ]
  },
  {
   "cell_type": "code",
   "execution_count": 38,
   "metadata": {},
   "outputs": [],
   "source": [
    "sp = sp.drop(index=80002)"
   ]
  },
  {
   "cell_type": "code",
   "execution_count": null,
   "metadata": {},
   "outputs": [],
   "source": []
  }
 ],
 "metadata": {
  "kernelspec": {
   "display_name": "Python 3",
   "language": "python",
   "name": "python3"
  },
  "language_info": {
   "codemirror_mode": {
    "name": "ipython",
    "version": 3
   },
   "file_extension": ".py",
   "mimetype": "text/x-python",
   "name": "python",
   "nbconvert_exporter": "python",
   "pygments_lexer": "ipython3",
   "version": "3.7.6"
  }
 },
 "nbformat": 4,
 "nbformat_minor": 4
}
