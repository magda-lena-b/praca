{
 "cells": [
  {
   "cell_type": "code",
   "execution_count": 43,
   "metadata": {},
   "outputs": [
    {
     "data": {
      "text/plain": [
       "<module 'ng_models' from 'D:\\\\_projekty\\\\praca\\\\ng_models.py'>"
      ]
     },
     "execution_count": 43,
     "metadata": {},
     "output_type": "execute_result"
    }
   ],
   "source": [
    "import re\n",
    "import pandas as pd\n",
    "import funcs \n",
    "import importlib\n",
    "import unicodecsv as csv\n",
    "import pickle\n",
    "import random\n",
    "from timeit import default_timer as timer\n",
    "from datetime import datetime, timedelta\n",
    "import ng_models\n",
    "import matplotlib.pyplot as plt\n",
    "from collections import Counter\n",
    "\n",
    "%matplotlib notebook\n",
    "importlib.reload(funcs)\n",
    "importlib.reload(ng_models)"
   ]
  },
  {
   "cell_type": "code",
   "execution_count": 4,
   "metadata": {},
   "outputs": [
    {
     "data": {
      "text/plain": [
       "158885"
      ]
     },
     "execution_count": 4,
     "metadata": {},
     "output_type": "execute_result"
    }
   ],
   "source": [
    "len(sp_joined)\n"
   ]
  },
  {
   "cell_type": "code",
   "execution_count": 2,
   "metadata": {},
   "outputs": [],
   "source": [
    "sp_joined = pd.read_csv('00_dane/sp_joined2.csv',  sep='|', encoding='UTF-8')\n"
   ]
  },
  {
   "cell_type": "markdown",
   "metadata": {},
   "source": [
    "Wgranie pliku przygotowanego w SQL, zawierającego najnowsze przypisanie do partii."
   ]
  },
  {
   "cell_type": "code",
   "execution_count": 61,
   "metadata": {},
   "outputs": [],
   "source": [
    "parties = pd.read_csv('00_dane/party.csv',  sep='|', encoding='UTF-8')"
   ]
  },
  {
   "cell_type": "code",
   "execution_count": 62,
   "metadata": {},
   "outputs": [
    {
     "data": {
      "text/html": [
       "<div>\n",
       "<style>\n",
       "    .dataframe thead tr:only-child th {\n",
       "        text-align: right;\n",
       "    }\n",
       "\n",
       "    .dataframe thead th {\n",
       "        text-align: left;\n",
       "    }\n",
       "\n",
       "    .dataframe tbody tr th {\n",
       "        vertical-align: top;\n",
       "    }\n",
       "</style>\n",
       "<table border=\"1\" class=\"dataframe\">\n",
       "  <thead>\n",
       "    <tr style=\"text-align: right;\">\n",
       "      <th></th>\n",
       "      <th>full_name</th>\n",
       "      <th>term</th>\n",
       "      <th>party</th>\n",
       "      <th>party_final</th>\n",
       "    </tr>\n",
       "  </thead>\n",
       "  <tbody>\n",
       "    <tr>\n",
       "      <th>0</th>\n",
       "      <td>Adam Abramowicz</td>\n",
       "      <td>8</td>\n",
       "      <td>Klub Parlamentarny Prawo i Sprawiedliwość</td>\n",
       "      <td>Prawo i Sprawiedliwość</td>\n",
       "    </tr>\n",
       "    <tr>\n",
       "      <th>1</th>\n",
       "      <td>Adam Andruszkiewicz</td>\n",
       "      <td>8</td>\n",
       "      <td>Poseł niezrzeszony</td>\n",
       "      <td>posłowie niezrzeszeni</td>\n",
       "    </tr>\n",
       "    <tr>\n",
       "      <th>2</th>\n",
       "      <td>Adam Babul</td>\n",
       "      <td>0</td>\n",
       "      <td>Klub Poselski Polskiego Stronnictwa Ludowego</td>\n",
       "      <td>Polskie Stronnictwo Ludowe</td>\n",
       "    </tr>\n",
       "    <tr>\n",
       "      <th>3</th>\n",
       "      <td>Adam Biela</td>\n",
       "      <td>3</td>\n",
       "      <td>Klub Parlamentarny Akcji Wyborczej Solidarność\\n</td>\n",
       "      <td>Akcja Wyborcza Solidarność</td>\n",
       "    </tr>\n",
       "    <tr>\n",
       "      <th>4</th>\n",
       "      <td>Adam Bielan</td>\n",
       "      <td>4</td>\n",
       "      <td>Klub Parlamentarny Prawo i Sprawiedliwość\\n</td>\n",
       "      <td>Prawo i Sprawiedliwość</td>\n",
       "    </tr>\n",
       "  </tbody>\n",
       "</table>\n",
       "</div>"
      ],
      "text/plain": [
       "             full_name  term  \\\n",
       "0      Adam Abramowicz     8   \n",
       "1  Adam Andruszkiewicz     8   \n",
       "2           Adam Babul     0   \n",
       "3           Adam Biela     3   \n",
       "4          Adam Bielan     4   \n",
       "\n",
       "                                              party  \\\n",
       "0         Klub Parlamentarny Prawo i Sprawiedliwość   \n",
       "1                                Poseł niezrzeszony   \n",
       "2      Klub Poselski Polskiego Stronnictwa Ludowego   \n",
       "3  Klub Parlamentarny Akcji Wyborczej Solidarność\\n   \n",
       "4       Klub Parlamentarny Prawo i Sprawiedliwość\\n   \n",
       "\n",
       "                  party_final  \n",
       "0      Prawo i Sprawiedliwość  \n",
       "1       posłowie niezrzeszeni  \n",
       "2  Polskie Stronnictwo Ludowe  \n",
       "3  Akcja Wyborcza Solidarność  \n",
       "4      Prawo i Sprawiedliwość  "
      ]
     },
     "execution_count": 62,
     "metadata": {},
     "output_type": "execute_result"
    }
   ],
   "source": [
    "parties.head(5)"
   ]
  },
  {
   "cell_type": "code",
   "execution_count": 66,
   "metadata": {},
   "outputs": [],
   "source": [
    "sp_joined=sp_joined.merge(parties,how='left',left_on=['author_final'],right_on=['full_name'])"
   ]
  },
  {
   "cell_type": "code",
   "execution_count": 64,
   "metadata": {},
   "outputs": [
    {
     "data": {
      "text/html": [
       "<div>\n",
       "<style>\n",
       "    .dataframe thead tr:only-child th {\n",
       "        text-align: right;\n",
       "    }\n",
       "\n",
       "    .dataframe thead th {\n",
       "        text-align: left;\n",
       "    }\n",
       "\n",
       "    .dataframe tbody tr th {\n",
       "        vertical-align: top;\n",
       "    }\n",
       "</style>\n",
       "<table border=\"1\" class=\"dataframe\">\n",
       "  <thead>\n",
       "    <tr style=\"text-align: right;\">\n",
       "      <th></th>\n",
       "      <th>Unnamed: 0</th>\n",
       "      <th>date_</th>\n",
       "      <th>author_final</th>\n",
       "      <th>speech_title</th>\n",
       "      <th>speech_raw</th>\n",
       "      <th>speech_rawer</th>\n",
       "      <th>liczba_sl_raw</th>\n",
       "      <th>liczba_sl_rawer</th>\n",
       "      <th>full_name_x</th>\n",
       "      <th>term_x</th>\n",
       "      <th>party_x</th>\n",
       "      <th>party_final_x</th>\n",
       "      <th>full_name_y</th>\n",
       "      <th>term_y</th>\n",
       "      <th>party_y</th>\n",
       "      <th>party_final_y</th>\n",
       "    </tr>\n",
       "  </thead>\n",
       "  <tbody>\n",
       "    <tr>\n",
       "      <th>0</th>\n",
       "      <td>0</td>\n",
       "      <td>01-02-1992</td>\n",
       "      <td>Aleksander Bentkowski</td>\n",
       "      <td>Sprawozdanie Komisji Sprawiedliwości oraz Komi...</td>\n",
       "      <td>Panie Marszałku! Wysoki Sejmie! Chciałbym kil...</td>\n",
       "      <td>Chciałbym kilka zdań powiedzieć na temat skut...</td>\n",
       "      <td>851</td>\n",
       "      <td>845</td>\n",
       "      <td>Aleksander Bentkowski</td>\n",
       "      <td>3.0</td>\n",
       "      <td>Klub Parlamentarny Polskiego Stronnictwa Ludow...</td>\n",
       "      <td>Polskie Stronnictwo Ludowe</td>\n",
       "      <td>Aleksander Bentkowski</td>\n",
       "      <td>3.0</td>\n",
       "      <td>Klub Parlamentarny Polskiego Stronnictwa Ludow...</td>\n",
       "      <td>Polskie Stronnictwo Ludowe</td>\n",
       "    </tr>\n",
       "    <tr>\n",
       "      <th>1</th>\n",
       "      <td>1</td>\n",
       "      <td>01-02-1992</td>\n",
       "      <td>Aleksander Kwaśniewski</td>\n",
       "      <td>Sprawozdanie Komisji Sprawiedliwości oraz Komi...</td>\n",
       "      <td>Panie Marszałku! Wysoka Izbo! Przysłuchując s...</td>\n",
       "      <td>Przysłuchując się tej bardzo emocjonalnej, dł...</td>\n",
       "      <td>919</td>\n",
       "      <td>915</td>\n",
       "      <td>Aleksander Kwaśniewski</td>\n",
       "      <td>2.0</td>\n",
       "      <td>Sojusz Lewicy Demokratycznej Klub Parlamentarny</td>\n",
       "      <td>Sojusz Lewicy Demokratycznej</td>\n",
       "      <td>Aleksander Kwaśniewski</td>\n",
       "      <td>2.0</td>\n",
       "      <td>Sojusz Lewicy Demokratycznej Klub Parlamentarny</td>\n",
       "      <td>Sojusz Lewicy Demokratycznej</td>\n",
       "    </tr>\n",
       "  </tbody>\n",
       "</table>\n",
       "</div>"
      ],
      "text/plain": [
       "   Unnamed: 0       date_            author_final  \\\n",
       "0           0  01-02-1992   Aleksander Bentkowski   \n",
       "1           1  01-02-1992  Aleksander Kwaśniewski   \n",
       "\n",
       "                                        speech_title  \\\n",
       "0  Sprawozdanie Komisji Sprawiedliwości oraz Komi...   \n",
       "1  Sprawozdanie Komisji Sprawiedliwości oraz Komi...   \n",
       "\n",
       "                                          speech_raw  \\\n",
       "0   Panie Marszałku! Wysoki Sejmie! Chciałbym kil...   \n",
       "1   Panie Marszałku! Wysoka Izbo! Przysłuchując s...   \n",
       "\n",
       "                                        speech_rawer  liczba_sl_raw  \\\n",
       "0   Chciałbym kilka zdań powiedzieć na temat skut...            851   \n",
       "1   Przysłuchując się tej bardzo emocjonalnej, dł...            919   \n",
       "\n",
       "   liczba_sl_rawer             full_name_x  term_x  \\\n",
       "0              845   Aleksander Bentkowski     3.0   \n",
       "1              915  Aleksander Kwaśniewski     2.0   \n",
       "\n",
       "                                             party_x  \\\n",
       "0  Klub Parlamentarny Polskiego Stronnictwa Ludow...   \n",
       "1    Sojusz Lewicy Demokratycznej Klub Parlamentarny   \n",
       "\n",
       "                  party_final_x             full_name_y  term_y  \\\n",
       "0    Polskie Stronnictwo Ludowe   Aleksander Bentkowski     3.0   \n",
       "1  Sojusz Lewicy Demokratycznej  Aleksander Kwaśniewski     2.0   \n",
       "\n",
       "                                             party_y  \\\n",
       "0  Klub Parlamentarny Polskiego Stronnictwa Ludow...   \n",
       "1    Sojusz Lewicy Demokratycznej Klub Parlamentarny   \n",
       "\n",
       "                  party_final_y  \n",
       "0    Polskie Stronnictwo Ludowe  \n",
       "1  Sojusz Lewicy Demokratycznej  "
      ]
     },
     "execution_count": 64,
     "metadata": {},
     "output_type": "execute_result"
    }
   ],
   "source": [
    "sp_joined.head(2)"
   ]
  },
  {
   "cell_type": "markdown",
   "metadata": {},
   "source": [
    "Zapisanie pliku z dodaną partią."
   ]
  },
  {
   "cell_type": "code",
   "execution_count": 69,
   "metadata": {
    "collapsed": true
   },
   "outputs": [],
   "source": [
    "sp_joined.to_csv('00_dane/sp_joined2.csv', encoding='UTF-8', index=False, sep=\"|\")"
   ]
  },
  {
   "cell_type": "markdown",
   "metadata": {},
   "source": [
    "#### Które partie mają nawięcej treści?"
   ]
  },
  {
   "cell_type": "code",
   "execution_count": 5,
   "metadata": {},
   "outputs": [],
   "source": [
    "ag=sp_joined.groupby('party_final').agg({'liczba_sl_raw': sum, 'date_': 'count'}).reset_index()\n"
   ]
  },
  {
   "cell_type": "code",
   "execution_count": 6,
   "metadata": {},
   "outputs": [
    {
     "data": {
      "text/html": [
       "<div>\n",
       "<style scoped>\n",
       "    .dataframe tbody tr th:only-of-type {\n",
       "        vertical-align: middle;\n",
       "    }\n",
       "\n",
       "    .dataframe tbody tr th {\n",
       "        vertical-align: top;\n",
       "    }\n",
       "\n",
       "    .dataframe thead th {\n",
       "        text-align: right;\n",
       "    }\n",
       "</style>\n",
       "<table border=\"1\" class=\"dataframe\">\n",
       "  <thead>\n",
       "    <tr style=\"text-align: right;\">\n",
       "      <th></th>\n",
       "      <th>party_final</th>\n",
       "      <th>liczba_sl_raw</th>\n",
       "      <th>date_</th>\n",
       "    </tr>\n",
       "  </thead>\n",
       "  <tbody>\n",
       "    <tr>\n",
       "      <th>58</th>\n",
       "      <td>Prawo i Sprawiedliwość</td>\n",
       "      <td>12409825</td>\n",
       "      <td>31630</td>\n",
       "    </tr>\n",
       "    <tr>\n",
       "      <th>60</th>\n",
       "      <td>Sojusz Lewicy Demokratycznej</td>\n",
       "      <td>13143036</td>\n",
       "      <td>27129</td>\n",
       "    </tr>\n",
       "    <tr>\n",
       "      <th>56</th>\n",
       "      <td>Platforma Obywatelska</td>\n",
       "      <td>9438332</td>\n",
       "      <td>24977</td>\n",
       "    </tr>\n",
       "    <tr>\n",
       "      <th>57</th>\n",
       "      <td>Polskie Stronnictwo Ludowe</td>\n",
       "      <td>8256113</td>\n",
       "      <td>17851</td>\n",
       "    </tr>\n",
       "    <tr>\n",
       "      <th>62</th>\n",
       "      <td>posłowie niezrzeszeni</td>\n",
       "      <td>3735227</td>\n",
       "      <td>7358</td>\n",
       "    </tr>\n",
       "    <tr>\n",
       "      <th>0</th>\n",
       "      <td>Akcja Wyborcza Solidarność</td>\n",
       "      <td>3304864</td>\n",
       "      <td>5642</td>\n",
       "    </tr>\n",
       "    <tr>\n",
       "      <th>59</th>\n",
       "      <td>Samoobrona</td>\n",
       "      <td>2027951</td>\n",
       "      <td>4407</td>\n",
       "    </tr>\n",
       "  </tbody>\n",
       "</table>\n",
       "</div>"
      ],
      "text/plain": [
       "                     party_final  liczba_sl_raw  date_\n",
       "58        Prawo i Sprawiedliwość       12409825  31630\n",
       "60  Sojusz Lewicy Demokratycznej       13143036  27129\n",
       "56         Platforma Obywatelska        9438332  24977\n",
       "57    Polskie Stronnictwo Ludowe        8256113  17851\n",
       "62         posłowie niezrzeszeni        3735227   7358\n",
       "0     Akcja Wyborcza Solidarność        3304864   5642\n",
       "59                    Samoobrona        2027951   4407"
      ]
     },
     "execution_count": 6,
     "metadata": {},
     "output_type": "execute_result"
    }
   ],
   "source": [
    "ag.sort_values('date_', ascending=False).head(7)"
   ]
  },
  {
   "cell_type": "markdown",
   "metadata": {},
   "source": [
    "## Budowa modeli dedykowanych poszczególnym partiom\n",
    "\n",
    "Czy wypowiedzi są podobne?"
   ]
  },
  {
   "cell_type": "code",
   "execution_count": 3,
   "metadata": {},
   "outputs": [],
   "source": [
    "PiS = ' '.join(sp_joined['speech_raw'][sp_joined.party_final=='Prawo i Sprawiedliwość'])\n",
    "PO = ' '.join(sp_joined['speech_raw'][sp_joined.party_final=='Platforma Obywatelska'])\n",
    "SLD= ' '.join(sp_joined['speech_raw'][sp_joined.party_final=='Sojusz Lewicy Demokratycznej'])\n",
    "PSL = ' '.join(sp_joined['speech_raw'][sp_joined.party_final=='Polskie Stronnictwo Ludowe'])\n",
    "PNZ = ' '.join(sp_joined['speech_raw'][sp_joined.party_final=='posłowie niezrzeszeni'])\n",
    "AWS = ' '.join(sp_joined['speech_raw'][sp_joined.party_final=='Akcja Wyborcza Solidarność'])\n",
    "SO = ' '.join(sp_joined['speech_raw'][sp_joined.party_final=='Samoobrona'])\n"
   ]
  },
  {
   "cell_type": "markdown",
   "metadata": {},
   "source": [
    "### Czy modele wygenerują się wystarczająco szybko?"
   ]
  },
  {
   "cell_type": "code",
   "execution_count": 4,
   "metadata": {},
   "outputs": [
    {
     "name": "stdout",
     "output_type": "stream",
     "text": [
      "Wall time: 3min 1s\n"
     ]
    }
   ],
   "source": [
    "%%time\n",
    "model_PiS = ng_models.ng_models(1, PiS)\n",
    "model_PO = ng_models.ng_models(1, PO)\n",
    "model_SLD = ng_models.ng_models(1, SLD)\n",
    "model_PSL = ng_models.ng_models(1, PSL)\n",
    "model_PNZ = ng_models.ng_models(1, PNZ)\n",
    "model_AWS = ng_models.ng_models(1, AWS)\n",
    "model_SO = ng_models.ng_models(1, SO)"
   ]
  },
  {
   "cell_type": "code",
   "execution_count": 22,
   "metadata": {},
   "outputs": [
    {
     "name": "stdout",
     "output_type": "stream",
     "text": [
      "Wall time: 2min 22s\n"
     ]
    }
   ],
   "source": [
    "%%time\n",
    "model_PiS = ng_models.ng_models(2, PiS)\n",
    "model_PO = ng_models.ng_models(2, PO)\n",
    "model_SLD = ng_models.ng_models(2, SLD)\n",
    "model_PSL = ng_models.ng_models(2, PSL)\n",
    "model_PNZ = ng_models.ng_models(2, PNZ)\n",
    "model_AWS = ng_models.ng_models(2, AWS)\n",
    "model_SO = ng_models.ng_models(2, SO)\n",
    "\n",
    "#dla 1-gram 2 min 44 sek 9na nowym kompie 1 min 15 s\n",
    "# dla 2 gram Wall time: 2min 22s"
   ]
  },
  {
   "cell_type": "code",
   "execution_count": 17,
   "metadata": {},
   "outputs": [],
   "source": [
    "summary_table = pd.DataFrame()\n",
    "summary_table['Zdanie']=['Zapewniam państwa, że jestem uczciwym politykiem', \n",
    "                        'Lew czarownica i stara szafa',\n",
    "                        'Zupełnie przypadkowy układ pięciu słów',\n",
    "                        'Panie ministrze proszę o wysłuchanie',\n",
    "                        'Polskie rolnictwo rozwija się szybko i ma się dobrze',\n",
    "                        'Demokracja jest najlepszym systemem politycznym',\n",
    "                        'Jestem najlepszym kandydatem na prezydenta',\n",
    "                        'Dla porównania zdanie długie o polityce o ustawie dotyczące zagadnień istotnych, które każdy poseł wypowiedzieć może',\n",
    "                        'wysoka izbo']"
   ]
  },
  {
   "cell_type": "code",
   "execution_count": 18,
   "metadata": {},
   "outputs": [],
   "source": [
    "summary_table['PiS'] = summary_table['Zdanie'].apply(model_PiS.perplexity).round()\n",
    "summary_table['PO'] = summary_table['Zdanie'].apply(model_PO.perplexity).round()\n",
    "summary_table['SLD'] = summary_table['Zdanie'].apply(model_SLD.perplexity).round()\n",
    "summary_table['PSL'] = summary_table['Zdanie'].apply(model_PSL.perplexity).round()\n",
    "summary_table['PNZ'] = summary_table['Zdanie'].apply(model_PNZ.perplexity).round()\n",
    "summary_table['AWS'] = summary_table['Zdanie'].apply(model_AWS.perplexity).round()\n",
    "summary_table['SO'] = summary_table['Zdanie'].apply(model_SO.perplexity).round()"
   ]
  },
  {
   "cell_type": "code",
   "execution_count": 19,
   "metadata": {},
   "outputs": [
    {
     "data": {
      "text/html": [
       "<div>\n",
       "<style scoped>\n",
       "    .dataframe tbody tr th:only-of-type {\n",
       "        vertical-align: middle;\n",
       "    }\n",
       "\n",
       "    .dataframe tbody tr th {\n",
       "        vertical-align: top;\n",
       "    }\n",
       "\n",
       "    .dataframe thead th {\n",
       "        text-align: right;\n",
       "    }\n",
       "</style>\n",
       "<table border=\"1\" class=\"dataframe\">\n",
       "  <thead>\n",
       "    <tr style=\"text-align: right;\">\n",
       "      <th></th>\n",
       "      <th>PiS</th>\n",
       "      <th>PO</th>\n",
       "      <th>SLD</th>\n",
       "      <th>PSL</th>\n",
       "      <th>PNZ</th>\n",
       "      <th>AWS</th>\n",
       "      <th>SO</th>\n",
       "    </tr>\n",
       "    <tr>\n",
       "      <th>Zdanie</th>\n",
       "      <th></th>\n",
       "      <th></th>\n",
       "      <th></th>\n",
       "      <th></th>\n",
       "      <th></th>\n",
       "      <th></th>\n",
       "      <th></th>\n",
       "    </tr>\n",
       "  </thead>\n",
       "  <tbody>\n",
       "    <tr>\n",
       "      <th>wysoka izbo</th>\n",
       "      <td>55.0</td>\n",
       "      <td>66.0</td>\n",
       "      <td>79.0</td>\n",
       "      <td>85.0</td>\n",
       "      <td>108.0</td>\n",
       "      <td>203.0</td>\n",
       "      <td>161.0</td>\n",
       "    </tr>\n",
       "    <tr>\n",
       "      <th>Panie ministrze proszę o wysłuchanie</th>\n",
       "      <td>9793.0</td>\n",
       "      <td>8982.0</td>\n",
       "      <td>13313.0</td>\n",
       "      <td>12065.0</td>\n",
       "      <td>22204.0</td>\n",
       "      <td>30020.0</td>\n",
       "      <td>9233.0</td>\n",
       "    </tr>\n",
       "    <tr>\n",
       "      <th>Polskie rolnictwo rozwija się szybko i ma się dobrze</th>\n",
       "      <td>162484.0</td>\n",
       "      <td>183243.0</td>\n",
       "      <td>139085.0</td>\n",
       "      <td>114539.0</td>\n",
       "      <td>172099.0</td>\n",
       "      <td>178610.0</td>\n",
       "      <td>119240.0</td>\n",
       "    </tr>\n",
       "    <tr>\n",
       "      <th>Dla porównania zdanie długie o polityce o ustawie dotyczące zagadnień istotnych, które każdy poseł wypowiedzieć może</th>\n",
       "      <td>268838.0</td>\n",
       "      <td>246964.0</td>\n",
       "      <td>264019.0</td>\n",
       "      <td>220361.0</td>\n",
       "      <td>162338.0</td>\n",
       "      <td>151278.0</td>\n",
       "      <td>134367.0</td>\n",
       "    </tr>\n",
       "    <tr>\n",
       "      <th>Jestem najlepszym kandydatem na prezydenta</th>\n",
       "      <td>491029.0</td>\n",
       "      <td>576307.0</td>\n",
       "      <td>597829.0</td>\n",
       "      <td>437984.0</td>\n",
       "      <td>372432.0</td>\n",
       "      <td>383842.0</td>\n",
       "      <td>305622.0</td>\n",
       "    </tr>\n",
       "    <tr>\n",
       "      <th>Zapewniam państwa, że jestem uczciwym politykiem</th>\n",
       "      <td>522416.0</td>\n",
       "      <td>579467.0</td>\n",
       "      <td>675502.0</td>\n",
       "      <td>515996.0</td>\n",
       "      <td>368037.0</td>\n",
       "      <td>345055.0</td>\n",
       "      <td>463992.0</td>\n",
       "    </tr>\n",
       "    <tr>\n",
       "      <th>Demokracja jest najlepszym systemem politycznym</th>\n",
       "      <td>1341180.0</td>\n",
       "      <td>1514168.0</td>\n",
       "      <td>1464463.0</td>\n",
       "      <td>1252672.0</td>\n",
       "      <td>824512.0</td>\n",
       "      <td>827542.0</td>\n",
       "      <td>859406.0</td>\n",
       "    </tr>\n",
       "    <tr>\n",
       "      <th>Zupełnie przypadkowy układ pięciu słów</th>\n",
       "      <td>1569920.0</td>\n",
       "      <td>1396201.0</td>\n",
       "      <td>1409566.0</td>\n",
       "      <td>1137613.0</td>\n",
       "      <td>886868.0</td>\n",
       "      <td>756022.0</td>\n",
       "      <td>730734.0</td>\n",
       "    </tr>\n",
       "    <tr>\n",
       "      <th>Lew czarownica i stara szafa</th>\n",
       "      <td>3106221.0</td>\n",
       "      <td>2541750.0</td>\n",
       "      <td>2025807.0</td>\n",
       "      <td>2645245.0</td>\n",
       "      <td>1355215.0</td>\n",
       "      <td>1402827.0</td>\n",
       "      <td>987178.0</td>\n",
       "    </tr>\n",
       "  </tbody>\n",
       "</table>\n",
       "</div>"
      ],
      "text/plain": [
       "                                                          PiS         PO  \\\n",
       "Zdanie                                                                     \n",
       "wysoka izbo                                              55.0       66.0   \n",
       "Panie ministrze proszę o wysłuchanie                   9793.0     8982.0   \n",
       "Polskie rolnictwo rozwija się szybko i ma się d...   162484.0   183243.0   \n",
       "Dla porównania zdanie długie o polityce o ustaw...   268838.0   246964.0   \n",
       "Jestem najlepszym kandydatem na prezydenta           491029.0   576307.0   \n",
       "Zapewniam państwa, że jestem uczciwym politykiem     522416.0   579467.0   \n",
       "Demokracja jest najlepszym systemem politycznym     1341180.0  1514168.0   \n",
       "Zupełnie przypadkowy układ pięciu słów              1569920.0  1396201.0   \n",
       "Lew czarownica i stara szafa                        3106221.0  2541750.0   \n",
       "\n",
       "                                                          SLD        PSL  \\\n",
       "Zdanie                                                                     \n",
       "wysoka izbo                                              79.0       85.0   \n",
       "Panie ministrze proszę o wysłuchanie                  13313.0    12065.0   \n",
       "Polskie rolnictwo rozwija się szybko i ma się d...   139085.0   114539.0   \n",
       "Dla porównania zdanie długie o polityce o ustaw...   264019.0   220361.0   \n",
       "Jestem najlepszym kandydatem na prezydenta           597829.0   437984.0   \n",
       "Zapewniam państwa, że jestem uczciwym politykiem     675502.0   515996.0   \n",
       "Demokracja jest najlepszym systemem politycznym     1464463.0  1252672.0   \n",
       "Zupełnie przypadkowy układ pięciu słów              1409566.0  1137613.0   \n",
       "Lew czarownica i stara szafa                        2025807.0  2645245.0   \n",
       "\n",
       "                                                          PNZ        AWS  \\\n",
       "Zdanie                                                                     \n",
       "wysoka izbo                                             108.0      203.0   \n",
       "Panie ministrze proszę o wysłuchanie                  22204.0    30020.0   \n",
       "Polskie rolnictwo rozwija się szybko i ma się d...   172099.0   178610.0   \n",
       "Dla porównania zdanie długie o polityce o ustaw...   162338.0   151278.0   \n",
       "Jestem najlepszym kandydatem na prezydenta           372432.0   383842.0   \n",
       "Zapewniam państwa, że jestem uczciwym politykiem     368037.0   345055.0   \n",
       "Demokracja jest najlepszym systemem politycznym      824512.0   827542.0   \n",
       "Zupełnie przypadkowy układ pięciu słów               886868.0   756022.0   \n",
       "Lew czarownica i stara szafa                        1355215.0  1402827.0   \n",
       "\n",
       "                                                          SO  \n",
       "Zdanie                                                        \n",
       "wysoka izbo                                            161.0  \n",
       "Panie ministrze proszę o wysłuchanie                  9233.0  \n",
       "Polskie rolnictwo rozwija się szybko i ma się d...  119240.0  \n",
       "Dla porównania zdanie długie o polityce o ustaw...  134367.0  \n",
       "Jestem najlepszym kandydatem na prezydenta          305622.0  \n",
       "Zapewniam państwa, że jestem uczciwym politykiem    463992.0  \n",
       "Demokracja jest najlepszym systemem politycznym     859406.0  \n",
       "Zupełnie przypadkowy układ pięciu słów              730734.0  \n",
       "Lew czarownica i stara szafa                        987178.0  "
      ]
     },
     "execution_count": 19,
     "metadata": {},
     "output_type": "execute_result"
    }
   ],
   "source": [
    "summary_table.set_index('Zdanie').sort_values('PiS')"
   ]
  },
  {
   "cell_type": "code",
   "execution_count": 84,
   "metadata": {},
   "outputs": [
    {
     "data": {
      "text/plain": [
       "['odwagi', 'biologii']"
      ]
     },
     "execution_count": 84,
     "metadata": {},
     "output_type": "execute_result"
    }
   ],
   "source": [
    "model_PO.model_dict['test z']"
   ]
  },
  {
   "cell_type": "code",
   "execution_count": 23,
   "metadata": {},
   "outputs": [
    {
     "data": {
      "text/plain": [
       "'Proponowane przez rząd projekt ustawy był przygotowany przez poprzedni rząd. Dobrze ponad 50% mandatów w sejmie był forsowany przede wszystkim. Chciałbym przeprosić pana ministra o wyjaśnienie waszej strategii politycznej bo. Dzisiaj ustosunkować do apeli osób głuchoniemych dotyczących sztucznego systemu językowo-migowego. Natomiast wybory samorządowe dlatego też możliwość przedłużenia funkcjonowania podatku importowego. Z playbacku. Nie utrudnią nam szukania tego co wiadomo z którym zwracały. Nie zgodnie z art. Panie piotrowicz do sytuacji w praktyce w tym sejmie na. Nie zabiegać.'"
      ]
     },
     "execution_count": 23,
     "metadata": {},
     "output_type": "execute_result"
    }
   ],
   "source": [
    "model_PO.generate(steps=10, max_sent=10)"
   ]
  },
  {
   "cell_type": "code",
   "execution_count": 24,
   "metadata": {},
   "outputs": [
    {
     "data": {
      "text/plain": [
       "'Prezydent złamał konstytucję a składał przysięgę że będzie też źle. Po najniższych cenach natomiast ten kto dysponuje mediami obok zarabiania. Wywiadów środowiskowych. Nieszczęściem w postaci podatków zapłacą wasze dzieci i walczyć o. Wysoki koszt kredytu inwestycyjnego zaciągniętego przez kasy chorych musi mu. W posiedzeniu komisji gospodarki o rządowym projekcie ustawy o zmianie. Zdziwienie i twierdzi że możliwa tu będzie. I nagłaśniane przez media od lat popieramy wszystkie racjonalne inicjatywy. Można wyrobić zysk z pracy. Wysoka cena będą odpowiedzialne za dopuszczenie do obciążenia podatkowymi kosztami.'"
      ]
     },
     "execution_count": 24,
     "metadata": {},
     "output_type": "execute_result"
    }
   ],
   "source": [
    "model_SO.generate(steps=10, max_sent=10)"
   ]
  },
  {
   "cell_type": "markdown",
   "metadata": {
    "collapsed": true
   },
   "source": [
    "## Najbardziej prawdopodobne zdanie dla danej partii\n",
    "\n",
    "Wykorzystuję bardziej oczyszczony tekst aby nie wpadać ciagne na zbitki typu \"Wysoka Izbo!\"."
   ]
  },
  {
   "cell_type": "code",
   "execution_count": 15,
   "metadata": {},
   "outputs": [],
   "source": [
    "PiS = ' '.join(sp_joined['speech_rawer'][sp_joined.party_final=='Prawo i Sprawiedliwość'])\n",
    "PO = ' '.join(sp_joined['speech_rawer'][sp_joined.party_final=='Platforma Obywatelska'])\n",
    "SLD= ' '.join(sp_joined['speech_rawer'][sp_joined.party_final=='Sojusz Lewicy Demokratycznej'])\n",
    "PSL = ' '.join(sp_joined['speech_rawer'][sp_joined.party_final=='Polskie Stronnictwo Ludowe'])\n",
    "PNZ = ' '.join(sp_joined['speech_rawer'][sp_joined.party_final=='posłowie niezrzeszeni'])\n",
    "AWS = ' '.join(sp_joined['speech_rawer'][sp_joined.party_final=='Akcja Wyborcza Solidarność'])\n",
    "SO = ' '.join(sp_joined['speech_rawer'][sp_joined.party_final=='Samoobrona'])\n"
   ]
  },
  {
   "cell_type": "code",
   "execution_count": 16,
   "metadata": {},
   "outputs": [
    {
     "data": {
      "text/plain": [
       "' Podobnie jak wielu moich przedmówców, nie chciałem zabierać głosu w tej rzeczywiście mocno za długiej dyskusji. Zdecydowałem się tylko dlatego, że jak mówił Jacek Kuroń próbowano tutaj zaprzeczać faktom, próbowano przedstawić stan wojenny jako zabieg ratowania kraju przed obcą inwazją, przed interwencją sowiecką. Otóż można by sobie wyobrazić taką sytuację. Można by sobie wyobrazić, że Jaruzelski wraz z towarzyszami w tajemnicy przed Moskwą przygotowuje stan wojenny, żeby ochronić Polskę w ostatniej chwili, kiedy już dywizje sowieckie będą skoncentrowane i gotowe do wymarszu, kiedy będzie można rzeczywiście mówić, że to jest mniejsze zło. Można to sobie wyobrazić i wypowiedzi, w których mówiono o tym, że w gruncie rzeczy w żadnym wypadku państwo nie może użyć wobec własnego społeczeństwa przymusu są, jak sądzę, niesłuszne. Są takie wypadki i mam nadzieję, że one się już nigdy w polskiej historii nie powtórzą, ale można je sobie co najmniej wyobrazić. Natomiast w wypadku 13 grudnia, o '"
      ]
     },
     "execution_count": 16,
     "metadata": {},
     "output_type": "execute_result"
    }
   ],
   "source": [
    "PiS[:1000]"
   ]
  },
  {
   "cell_type": "code",
   "execution_count": 17,
   "metadata": {},
   "outputs": [
    {
     "name": "stdout",
     "output_type": "stream",
     "text": [
      "Wall time: 3min 19s\n"
     ]
    }
   ],
   "source": [
    "%%time\n",
    "model_PiS = ng_models.ng_models(1, PiS)\n",
    "model_PO = ng_models.ng_models(1, PO)\n",
    "model_SLD = ng_models.ng_models(1, SLD)\n",
    "model_PSL = ng_models.ng_models(1, PSL)\n",
    "model_PNZ = ng_models.ng_models(1, PNZ)\n",
    "model_AWS = ng_models.ng_models(1, AWS)\n",
    "model_SO = ng_models.ng_models(1, SO)\n"
   ]
  },
  {
   "cell_type": "code",
   "execution_count": 46,
   "metadata": {},
   "outputs": [
    {
     "name": "stdout",
     "output_type": "stream",
     "text": [
      "Wall time: 4min 41s\n"
     ]
    }
   ],
   "source": [
    "%%time\n",
    "model_PiS = ng_models.ng_models(2, PiS)\n",
    "model_PO = ng_models.ng_models(2, PO)\n",
    "model_SLD = ng_models.ng_models(2, SLD)\n",
    "model_PSL = ng_models.ng_models(2, PSL)\n",
    "model_PNZ = ng_models.ng_models(2, PNZ)\n",
    "model_AWS = ng_models.ng_models(2, AWS)\n",
    "model_SO = ng_models.ng_models(2, SO)"
   ]
  },
  {
   "cell_type": "code",
   "execution_count": 47,
   "metadata": {},
   "outputs": [
    {
     "name": "stdout",
     "output_type": "stream",
     "text": [
      "1  <s> <s> ja nie\n",
      "2  ja nie\n",
      "3  wiem\n",
      "1  <s> <s> dziś jest\n",
      "2  dziś jest\n",
      "3  to\n",
      "1  <s> <s> czy już\n",
      "2  czy już\n",
      "3  nie\n",
      "1  <s> <s> nie można\n",
      "2  nie można\n",
      "3  było\n",
      "1  <s> <s> \n",
      "2  <s> <s>\n",
      "3  w\n",
      "1  <s> <s> ja nie\n",
      "2  ja nie\n",
      "3  wiem\n",
      "1  <s> <s> dziś jest\n",
      "2  dziś jest\n",
      "3  to\n",
      "1  <s> <s> czy już\n",
      "2  czy już\n",
      "3  w\n",
      "1  <s> <s> nie można\n",
      "2  nie można\n",
      "3  było\n",
      "1  <s> <s> \n",
      "2  <s> <s>\n",
      "3  w\n",
      "1  <s> <s> ja nie\n",
      "2  ja nie\n",
      "3  jestem\n",
      "1  <s> <s> dziś jest\n",
      "2  dziś jest\n",
      "3  to\n",
      "1  <s> <s> czy już\n",
      "2  czy już\n",
      "3  w\n",
      "1  <s> <s> nie można\n",
      "2  nie można\n",
      "3  było\n",
      "1  <s> <s> \n",
      "2  <s> <s>\n",
      "3  w\n",
      "1  <s> <s> ja nie\n",
      "2  ja nie\n",
      "3  będę\n",
      "1  <s> <s> dziś jest\n",
      "2  dziś jest\n",
      "3  to\n",
      "1  <s> <s> czy już\n",
      "2  czy już\n",
      "3  jest\n",
      "1  <s> <s> nie można\n",
      "2  nie można\n",
      "3  było\n",
      "1  <s> <s> \n",
      "2  <s> <s>\n",
      "3  w\n",
      "1  <s> <s> ja nie\n",
      "2  ja nie\n",
      "3  jestem\n",
      "1  <s> <s> dziś jest\n",
      "2  dziś jest\n",
      "3  to\n",
      "1  <s> <s> czy już\n",
      "2  czy już\n",
      "3  po\n",
      "1  <s> <s> nie można\n",
      "2  nie można\n",
      "3  było\n",
      "1  <s> <s> \n",
      "2  <s> <s>\n",
      "3  w\n",
      "1  <s> <s> ja nie\n",
      "2  ja nie\n",
      "3  znam\n",
      "1  <s> <s> dziś jest\n",
      "2  dziś jest\n",
      "3  bardzo\n",
      "1  <s> <s> czy już\n",
      "2  czy już\n",
      "3  w\n",
      "1  <s> <s> nie można\n",
      "2  nie można\n",
      "3  było\n",
      "1  <s> <s> \n",
      "2  <s> <s>\n",
      "3  w\n",
      "1  <s> <s> ja nie\n",
      "2  ja nie\n",
      "3  chcę\n",
      "1  <s> <s> dziś jest\n",
      "2  dziś jest\n",
      "3  już\n",
      "1  <s> <s> czy już\n",
      "2  czy już\n",
      "3  dzisiaj\n",
      "1  <s> <s> nie można\n",
      "2  nie można\n",
      "3  było\n",
      "1  <s> <s> \n",
      "2  <s> <s>\n",
      "3  w\n"
     ]
    },
    {
     "data": {
      "text/html": [
       "<div>\n",
       "<style scoped>\n",
       "    .dataframe tbody tr th:only-of-type {\n",
       "        vertical-align: middle;\n",
       "    }\n",
       "\n",
       "    .dataframe tbody tr th {\n",
       "        vertical-align: top;\n",
       "    }\n",
       "\n",
       "    .dataframe thead th {\n",
       "        text-align: right;\n",
       "    }\n",
       "</style>\n",
       "<table border=\"1\" class=\"dataframe\">\n",
       "  <thead>\n",
       "    <tr style=\"text-align: right;\">\n",
       "      <th></th>\n",
       "      <th>PiS</th>\n",
       "      <th>PO</th>\n",
       "      <th>SLD</th>\n",
       "      <th>PSL</th>\n",
       "      <th>PNZ</th>\n",
       "      <th>AWS</th>\n",
       "      <th>SO</th>\n",
       "    </tr>\n",
       "    <tr>\n",
       "      <th>start</th>\n",
       "      <th></th>\n",
       "      <th></th>\n",
       "      <th></th>\n",
       "      <th></th>\n",
       "      <th></th>\n",
       "      <th></th>\n",
       "      <th></th>\n",
       "    </tr>\n",
       "  </thead>\n",
       "  <tbody>\n",
       "    <tr>\n",
       "      <th>Ja nie</th>\n",
       "      <td>Ja nie wiem czy pan minister powiedział że w tym zakresie.</td>\n",
       "      <td>Ja nie wiem czy pan minister powiedział że w tym zakresie.</td>\n",
       "      <td>Ja nie jestem w stanie odpowiedzieć na pytanie czy nie uważa pan że.</td>\n",
       "      <td>Ja nie będę się odnosił do tego że w tym zakresie.</td>\n",
       "      <td>Ja nie jestem w stanie tego zrobić.</td>\n",
       "      <td>Ja nie znam.</td>\n",
       "      <td>Ja nie chcę się odnieść do wypowiedzi pana posła sprawozdawcy.</td>\n",
       "    </tr>\n",
       "    <tr>\n",
       "      <th>Dziś jest</th>\n",
       "      <td>Dziś jest to że w tym zakresie.</td>\n",
       "      <td>Dziś jest to że w tym zakresie.</td>\n",
       "      <td>Dziś jest to że w tym zakresie.</td>\n",
       "      <td>Dziś jest to że w tym zakresie.</td>\n",
       "      <td>Dziś jest to że w tej sprawie.</td>\n",
       "      <td>Dziś jest bardzo ważne.</td>\n",
       "      <td>Dziś jest już w tej sprawie.</td>\n",
       "    </tr>\n",
       "    <tr>\n",
       "      <th>Czy już</th>\n",
       "      <td>Czy już nie ma.</td>\n",
       "      <td>Czy już w tej chwili jest to że nie ma.</td>\n",
       "      <td>Czy już w tej sprawie.</td>\n",
       "      <td>Czy już jest w stanie nietrzeźwości.</td>\n",
       "      <td>Czy już po raz kolejny w tej sprawie.</td>\n",
       "      <td>Czy już w tej chwili jest to że nie ma.</td>\n",
       "      <td>Czy już dzisiaj nie ma.</td>\n",
       "    </tr>\n",
       "    <tr>\n",
       "      <th>Nie można</th>\n",
       "      <td>Nie można było w tym zakresie.</td>\n",
       "      <td>Nie można było w przypadku gdy w innych krajach.</td>\n",
       "      <td>Nie można było w tym zakresie.</td>\n",
       "      <td>Nie można było to że w tym zakresie.</td>\n",
       "      <td>Nie można było w tym zakresie.</td>\n",
       "      <td>Nie można było w tym zakresie.</td>\n",
       "      <td>Nie można było w polsce.</td>\n",
       "    </tr>\n",
       "    <tr>\n",
       "      <th></th>\n",
       "      <td>W związku z tym że nie ma.</td>\n",
       "      <td>W związku z tym że nie ma.</td>\n",
       "      <td>W związku z tym że nie ma.</td>\n",
       "      <td>W związku z tym że nie ma.</td>\n",
       "      <td>W związku z tym że nie ma.</td>\n",
       "      <td>W związku z tym że nie ma.</td>\n",
       "      <td>W imieniu klubu parlamentarnego samoobrona rzeczypospolitej polskiej mam zaszczyt przedstawić stanowisko klubu w sprawie ustawy o zmianie.</td>\n",
       "    </tr>\n",
       "  </tbody>\n",
       "</table>\n",
       "</div>"
      ],
      "text/plain": [
       "                                                                  PiS  \\\n",
       "start                                                                   \n",
       "Ja nie     Ja nie wiem czy pan minister powiedział że w tym zakresie.   \n",
       "Dziś jest                             Dziś jest to że w tym zakresie.   \n",
       "Czy już                                               Czy już nie ma.   \n",
       "Nie można                              Nie można było w tym zakresie.   \n",
       "                                           W związku z tym że nie ma.   \n",
       "\n",
       "                                                                   PO  \\\n",
       "start                                                                   \n",
       "Ja nie     Ja nie wiem czy pan minister powiedział że w tym zakresie.   \n",
       "Dziś jest                             Dziś jest to że w tym zakresie.   \n",
       "Czy już                       Czy już w tej chwili jest to że nie ma.   \n",
       "Nie można            Nie można było w przypadku gdy w innych krajach.   \n",
       "                                           W związku z tym że nie ma.   \n",
       "\n",
       "                                                                            SLD  \\\n",
       "start                                                                             \n",
       "Ja nie     Ja nie jestem w stanie odpowiedzieć na pytanie czy nie uważa pan że.   \n",
       "Dziś jest                                       Dziś jest to że w tym zakresie.   \n",
       "Czy już                                                  Czy już w tej sprawie.   \n",
       "Nie można                                        Nie można było w tym zakresie.   \n",
       "                                                     W związku z tym że nie ma.   \n",
       "\n",
       "                                                          PSL  \\\n",
       "start                                                           \n",
       "Ja nie     Ja nie będę się odnosił do tego że w tym zakresie.   \n",
       "Dziś jest                     Dziś jest to że w tym zakresie.   \n",
       "Czy już                  Czy już jest w stanie nietrzeźwości.   \n",
       "Nie można                Nie można było to że w tym zakresie.   \n",
       "                                   W związku z tym że nie ma.   \n",
       "\n",
       "                                             PNZ  \\\n",
       "start                                              \n",
       "Ja nie       Ja nie jestem w stanie tego zrobić.   \n",
       "Dziś jest         Dziś jest to że w tej sprawie.   \n",
       "Czy już    Czy już po raz kolejny w tej sprawie.   \n",
       "Nie można         Nie można było w tym zakresie.   \n",
       "                      W związku z tym że nie ma.   \n",
       "\n",
       "                                               AWS  \\\n",
       "start                                                \n",
       "Ja nie                                Ja nie znam.   \n",
       "Dziś jest                  Dziś jest bardzo ważne.   \n",
       "Czy już    Czy już w tej chwili jest to że nie ma.   \n",
       "Nie można           Nie można było w tym zakresie.   \n",
       "                        W związku z tym że nie ma.   \n",
       "\n",
       "                                                                                                                                                   SO  \n",
       "start                                                                                                                                                  \n",
       "Ja nie                                                                                 Ja nie chcę się odnieść do wypowiedzi pana posła sprawozdawcy.  \n",
       "Dziś jest                                                                                                                Dziś jest już w tej sprawie.  \n",
       "Czy już                                                                                                                       Czy już dzisiaj nie ma.  \n",
       "Nie można                                                                                                                    Nie można było w polsce.  \n",
       "           W imieniu klubu parlamentarnego samoobrona rzeczypospolitej polskiej mam zaszczyt przedstawić stanowisko klubu w sprawie ustawy o zmianie.  "
      ]
     },
     "execution_count": 47,
     "metadata": {},
     "output_type": "execute_result"
    }
   ],
   "source": [
    "max_sent = pd.DataFrame()\n",
    "max_sent['start']=['Ja nie', 'Dziś jest', 'Czy już','Nie można', '']\n",
    "max_sent['PiS'] = max_sent['start'].apply(model_PiS.mprob_sent)\n",
    "max_sent['PO'] = max_sent['start'].apply(model_PO.mprob_sent)\n",
    "max_sent['SLD'] = max_sent['start'].apply(model_SLD.mprob_sent)\n",
    "max_sent['PSL'] = max_sent['start'].apply(model_PSL.mprob_sent)\n",
    "max_sent['PNZ'] = max_sent['start'].apply(model_PNZ.mprob_sent)\n",
    "max_sent['AWS'] = max_sent['start'].apply(model_AWS.mprob_sent)\n",
    "max_sent['SO'] = max_sent['start'].apply(model_SO.mprob_sent)\n",
    "\n",
    "max_sent.set_index('start')"
   ]
  },
  {
   "cell_type": "code",
   "execution_count": 20,
   "metadata": {},
   "outputs": [],
   "source": [
    "pd.options.display.max_colwidth=500\n"
   ]
  },
  {
   "cell_type": "code",
   "execution_count": 34,
   "metadata": {},
   "outputs": [
    {
     "data": {
      "text/plain": [
       "[('wiem', 54)]"
      ]
     },
     "execution_count": 34,
     "metadata": {},
     "output_type": "execute_result"
    }
   ],
   "source": [
    "Counter(model_PiS.model_dict['ja nie']).most_common(1)"
   ]
  },
  {
   "cell_type": "code",
   "execution_count": 27,
   "metadata": {},
   "outputs": [
    {
     "data": {
      "text/plain": [
       "[('nie', 439)]"
      ]
     },
     "execution_count": 27,
     "metadata": {},
     "output_type": "execute_result"
    }
   ],
   "source": [
    "Counter(model_PO.model_dict['ja']).most_common(1)"
   ]
  },
  {
   "cell_type": "code",
   "execution_count": 28,
   "metadata": {},
   "outputs": [
    {
     "data": {
      "text/plain": [
       "[('nie', 152)]"
      ]
     },
     "execution_count": 28,
     "metadata": {},
     "output_type": "execute_result"
    }
   ],
   "source": [
    "Counter(model_SO.model_dict['ja']).most_common(1)"
   ]
  },
  {
   "cell_type": "code",
   "execution_count": 44,
   "metadata": {},
   "outputs": [],
   "source": [
    "PiS = ' '.join(sp_joined['speech_rawer'][sp_joined.party_final=='Prawo i Sprawiedliwość'])\n",
    "model_PiS = ng_models.ng_models(2, PiS)"
   ]
  },
  {
   "cell_type": "code",
   "execution_count": 45,
   "metadata": {},
   "outputs": [
    {
     "name": "stdout",
     "output_type": "stream",
     "text": [
      "1  <s> <s> ja nie\n",
      "2  ja nie\n",
      "3  wiem\n"
     ]
    },
    {
     "data": {
      "text/plain": [
       "'Ja nie wiem czy pan minister powiedział że w tym zakresie.'"
      ]
     },
     "execution_count": 45,
     "metadata": {},
     "output_type": "execute_result"
    }
   ],
   "source": [
    "model_PiS.mprob_sent('ja nie')"
   ]
  },
  {
   "cell_type": "code",
   "execution_count": null,
   "metadata": {},
   "outputs": [],
   "source": []
  }
 ],
 "metadata": {
  "kernelspec": {
   "display_name": "Python 3",
   "language": "python",
   "name": "python3"
  },
  "language_info": {
   "codemirror_mode": {
    "name": "ipython",
    "version": 3
   },
   "file_extension": ".py",
   "mimetype": "text/x-python",
   "name": "python",
   "nbconvert_exporter": "python",
   "pygments_lexer": "ipython3",
   "version": "3.7.6"
  }
 },
 "nbformat": 4,
 "nbformat_minor": 2
}
