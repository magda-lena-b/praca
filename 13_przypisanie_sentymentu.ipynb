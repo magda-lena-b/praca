{
 "cells": [
  {
   "cell_type": "markdown",
   "metadata": {},
   "source": [
    "# Przypisanie sentymentu dla jak największej liczby słów\n",
    "\n",
    "1. Import danych z projektu NAWL - Nencki Affective Word List z oznaczeniem sentymentu\n",
    "2. Przypisanie sentymentu w oparciu o podstawowe słowa\n",
    "3. Wykorzystanie embedingów do przypisania sentymentu na podstawie sąsiadujących słów"
   ]
  },
  {
   "cell_type": "code",
   "execution_count": 1,
   "metadata": {},
   "outputs": [
    {
     "data": {
      "text/plain": [
       "<module 'funcs' from 'D:\\\\_projekty\\\\praca\\\\funcs.py'>"
      ]
     },
     "execution_count": 1,
     "metadata": {},
     "output_type": "execute_result"
    }
   ],
   "source": [
    "import re\n",
    "import pandas as pd\n",
    "import numpy as np\n",
    "import funcs \n",
    "import importlib\n",
    "import unicodecsv as csv\n",
    "import pickle\n",
    "import random\n",
    "import gensim\n",
    "from gensim import corpora, models\n",
    "from timeit import default_timer as timer\n",
    "from datetime import datetime, timedelta\n",
    "import nltk\n",
    "from nltk.tokenize import word_tokenize\n",
    "import matplotlib.pyplot as plt\n",
    "import spacy\n",
    "from collections import Counter\n",
    "import pyLDAvis\n",
    "import pyLDAvis.gensim\n",
    "from sklearn.model_selection import train_test_split\n",
    "\n",
    "importlib.reload(funcs)"
   ]
  },
  {
   "cell_type": "code",
   "execution_count": 2,
   "metadata": {},
   "outputs": [
    {
     "name": "stdout",
     "output_type": "stream",
     "text": [
      "Wall time: 14.4 s\n",
      "Wall time: 31.5 s\n",
      "Wall time: 5.4 s\n"
     ]
    }
   ],
   "source": [
    "%time dane = pd.read_csv('00_dane/dane_cleanest.csv',  sep='|', encoding='UTF-8')\n",
    "%time dane['speech_rawest'] = dane['speech_rawest'].apply(lambda x: re.sub(r'[\\W\\d]',' ', x))\n",
    "%time dane['speech_rawest'] = dane['speech_rawest'].apply(lambda x: [word for word in x.split()])"
   ]
  },
  {
   "cell_type": "code",
   "execution_count": 33,
   "metadata": {},
   "outputs": [
    {
     "data": {
      "text/html": [
       "<div>\n",
       "<style scoped>\n",
       "    .dataframe tbody tr th:only-of-type {\n",
       "        vertical-align: middle;\n",
       "    }\n",
       "\n",
       "    .dataframe tbody tr th {\n",
       "        vertical-align: top;\n",
       "    }\n",
       "\n",
       "    .dataframe thead th {\n",
       "        text-align: right;\n",
       "    }\n",
       "</style>\n",
       "<table border=\"1\" class=\"dataframe\">\n",
       "  <thead>\n",
       "    <tr style=\"text-align: right;\">\n",
       "      <th></th>\n",
       "      <th>nr</th>\n",
       "      <th>date_</th>\n",
       "      <th>speech_rawer</th>\n",
       "      <th>full_name</th>\n",
       "      <th>party_final</th>\n",
       "      <th>speech_rawest</th>\n",
       "      <th>topic_LDA_BOW</th>\n",
       "      <th>topic_LDA_TF</th>\n",
       "      <th>opis_LDA_BOW</th>\n",
       "      <th>opis_LDA_TF</th>\n",
       "    </tr>\n",
       "  </thead>\n",
       "  <tbody>\n",
       "    <tr>\n",
       "      <th>158315</th>\n",
       "      <td>158874</td>\n",
       "      <td>31-08-2011</td>\n",
       "      <td>Sojuszowi Lewicy Demokratycznej bardzo zależy...</td>\n",
       "      <td>Romuald Ajchler</td>\n",
       "      <td>Sojusz Lewicy Demokratycznej</td>\n",
       "      <td>[sojusz, lewica, demokratyczny, zależeć, ziemi...</td>\n",
       "      <td>26.0</td>\n",
       "      <td>8.0</td>\n",
       "      <td>posiedzenie</td>\n",
       "      <td>posiedzenie</td>\n",
       "    </tr>\n",
       "    <tr>\n",
       "      <th>158316</th>\n",
       "      <td>158875</td>\n",
       "      <td>31-08-2011</td>\n",
       "      <td>Panie Przewodniczący Krajowej Rady Sądownictw...</td>\n",
       "      <td>Stanisław Rydzoń</td>\n",
       "      <td>Sojusz Lewicy Demokratycznej</td>\n",
       "      <td>[przewodniczący, krajowy, rada, sądownictwo, z...</td>\n",
       "      <td>16.0</td>\n",
       "      <td>13.0</td>\n",
       "      <td>wymiar sprawiedliwości</td>\n",
       "      <td>przepisy</td>\n",
       "    </tr>\n",
       "    <tr>\n",
       "      <th>158317</th>\n",
       "      <td>158876</td>\n",
       "      <td>31-08-2011</td>\n",
       "      <td>Mam pytanie do pana ministra. Panie ministrze...</td>\n",
       "      <td>Stanisław Rydzoń</td>\n",
       "      <td>Sojusz Lewicy Demokratycznej</td>\n",
       "      <td>[mieć, pytanie, minister, minister, mieć, doty...</td>\n",
       "      <td>28.0</td>\n",
       "      <td>2.0</td>\n",
       "      <td>handel</td>\n",
       "      <td>inwestycje</td>\n",
       "    </tr>\n",
       "    <tr>\n",
       "      <th>158318</th>\n",
       "      <td>158877</td>\n",
       "      <td>31-08-2011</td>\n",
       "      <td>Pani Minister! Bardzo dużo mówi się o szkolni...</td>\n",
       "      <td>Stanisław Stec</td>\n",
       "      <td>Sojusz Lewicy Demokratycznej</td>\n",
       "      <td>[minister, mówić, szkolnictwo, zawodowy, dosto...</td>\n",
       "      <td>7.0</td>\n",
       "      <td>2.0</td>\n",
       "      <td>NaN</td>\n",
       "      <td>inwestycje</td>\n",
       "    </tr>\n",
       "    <tr>\n",
       "      <th>158319</th>\n",
       "      <td>158878</td>\n",
       "      <td>31-08-2011</td>\n",
       "      <td>Szanowna Pani Minister! Bardzo ważnym zadanie...</td>\n",
       "      <td>Tadeusz Tomaszewski</td>\n",
       "      <td>Sojusz Lewicy Demokratycznej</td>\n",
       "      <td>[szanowny, minister, ważny, zadanie, władza, p...</td>\n",
       "      <td>25.0</td>\n",
       "      <td>11.0</td>\n",
       "      <td>samorządy</td>\n",
       "      <td>rodzina</td>\n",
       "    </tr>\n",
       "  </tbody>\n",
       "</table>\n",
       "</div>"
      ],
      "text/plain": [
       "            nr       date_                                       speech_rawer  \\\n",
       "158315  158874  31-08-2011   Sojuszowi Lewicy Demokratycznej bardzo zależy...   \n",
       "158316  158875  31-08-2011   Panie Przewodniczący Krajowej Rady Sądownictw...   \n",
       "158317  158876  31-08-2011   Mam pytanie do pana ministra. Panie ministrze...   \n",
       "158318  158877  31-08-2011   Pani Minister! Bardzo dużo mówi się o szkolni...   \n",
       "158319  158878  31-08-2011   Szanowna Pani Minister! Bardzo ważnym zadanie...   \n",
       "\n",
       "                  full_name                   party_final  \\\n",
       "158315      Romuald Ajchler  Sojusz Lewicy Demokratycznej   \n",
       "158316     Stanisław Rydzoń  Sojusz Lewicy Demokratycznej   \n",
       "158317     Stanisław Rydzoń  Sojusz Lewicy Demokratycznej   \n",
       "158318       Stanisław Stec  Sojusz Lewicy Demokratycznej   \n",
       "158319  Tadeusz Tomaszewski  Sojusz Lewicy Demokratycznej   \n",
       "\n",
       "                                            speech_rawest  topic_LDA_BOW  \\\n",
       "158315  [sojusz, lewica, demokratyczny, zależeć, ziemi...           26.0   \n",
       "158316  [przewodniczący, krajowy, rada, sądownictwo, z...           16.0   \n",
       "158317  [mieć, pytanie, minister, minister, mieć, doty...           28.0   \n",
       "158318  [minister, mówić, szkolnictwo, zawodowy, dosto...            7.0   \n",
       "158319  [szanowny, minister, ważny, zadanie, władza, p...           25.0   \n",
       "\n",
       "        topic_LDA_TF            opis_LDA_BOW  opis_LDA_TF  \n",
       "158315           8.0             posiedzenie  posiedzenie  \n",
       "158316          13.0  wymiar sprawiedliwości     przepisy  \n",
       "158317           2.0                  handel   inwestycje  \n",
       "158318           2.0                     NaN   inwestycje  \n",
       "158319          11.0               samorządy      rodzina  "
      ]
     },
     "execution_count": 33,
     "metadata": {},
     "output_type": "execute_result"
    }
   ],
   "source": [
    "dane.tail()"
   ]
  },
  {
   "cell_type": "markdown",
   "metadata": {},
   "source": [
    "## 1. Wczytanie listy słów z NAWL"
   ]
  },
  {
   "cell_type": "code",
   "execution_count": 4,
   "metadata": {},
   "outputs": [
    {
     "data": {
      "text/html": [
       "<div>\n",
       "<style scoped>\n",
       "    .dataframe tbody tr th:only-of-type {\n",
       "        vertical-align: middle;\n",
       "    }\n",
       "\n",
       "    .dataframe tbody tr th {\n",
       "        vertical-align: top;\n",
       "    }\n",
       "\n",
       "    .dataframe thead th {\n",
       "        text-align: right;\n",
       "    }\n",
       "</style>\n",
       "<table border=\"1\" class=\"dataframe\">\n",
       "  <thead>\n",
       "    <tr style=\"text-align: right;\">\n",
       "      <th></th>\n",
       "      <th>word</th>\n",
       "      <th>category</th>\n",
       "      <th>mean Happiness</th>\n",
       "      <th>mean Anger</th>\n",
       "      <th>mean Sadness</th>\n",
       "      <th>mean Fear</th>\n",
       "      <th>mean Disgust</th>\n",
       "      <th>distance to H</th>\n",
       "      <th>distance to A</th>\n",
       "      <th>distance to S</th>\n",
       "      <th>distance to F</th>\n",
       "      <th>distance to D</th>\n",
       "      <th>distance to N</th>\n",
       "    </tr>\n",
       "  </thead>\n",
       "  <tbody>\n",
       "    <tr>\n",
       "      <th>0</th>\n",
       "      <td>rozkoszny</td>\n",
       "      <td>H</td>\n",
       "      <td>5.296296</td>\n",
       "      <td>1.407407</td>\n",
       "      <td>1.481481</td>\n",
       "      <td>1.555556</td>\n",
       "      <td>1.370370</td>\n",
       "      <td>2.366185</td>\n",
       "      <td>7.513857</td>\n",
       "      <td>7.449380</td>\n",
       "      <td>7.387380</td>\n",
       "      <td>7.536883</td>\n",
       "      <td>4.835511</td>\n",
       "    </tr>\n",
       "    <tr>\n",
       "      <th>1</th>\n",
       "      <td>świetny</td>\n",
       "      <td>H</td>\n",
       "      <td>5.666666</td>\n",
       "      <td>1.370370</td>\n",
       "      <td>1.370370</td>\n",
       "      <td>1.370370</td>\n",
       "      <td>1.222222</td>\n",
       "      <td>1.974388</td>\n",
       "      <td>7.555593</td>\n",
       "      <td>7.567725</td>\n",
       "      <td>7.552752</td>\n",
       "      <td>7.690782</td>\n",
       "      <td>4.933031</td>\n",
       "    </tr>\n",
       "    <tr>\n",
       "      <th>2</th>\n",
       "      <td>przyjaciel</td>\n",
       "      <td>H</td>\n",
       "      <td>6.037037</td>\n",
       "      <td>1.444444</td>\n",
       "      <td>1.629630</td>\n",
       "      <td>1.555556</td>\n",
       "      <td>1.037037</td>\n",
       "      <td>1.901643</td>\n",
       "      <td>7.838998</td>\n",
       "      <td>7.691452</td>\n",
       "      <td>7.755814</td>\n",
       "      <td>8.135946</td>\n",
       "      <td>5.409170</td>\n",
       "    </tr>\n",
       "    <tr>\n",
       "      <th>3</th>\n",
       "      <td>uśmiech</td>\n",
       "      <td>H</td>\n",
       "      <td>6.333334</td>\n",
       "      <td>1.074074</td>\n",
       "      <td>1.296296</td>\n",
       "      <td>1.259259</td>\n",
       "      <td>1.111111</td>\n",
       "      <td>1.016740</td>\n",
       "      <td>8.100848</td>\n",
       "      <td>7.925011</td>\n",
       "      <td>7.938565</td>\n",
       "      <td>8.076864</td>\n",
       "      <td>5.491653</td>\n",
       "    </tr>\n",
       "    <tr>\n",
       "      <th>4</th>\n",
       "      <td>pochwała</td>\n",
       "      <td>H</td>\n",
       "      <td>5.222222</td>\n",
       "      <td>1.518519</td>\n",
       "      <td>1.296296</td>\n",
       "      <td>1.370370</td>\n",
       "      <td>1.222222</td>\n",
       "      <td>2.182792</td>\n",
       "      <td>7.264471</td>\n",
       "      <td>7.469688</td>\n",
       "      <td>7.397619</td>\n",
       "      <td>7.539364</td>\n",
       "      <td>4.667134</td>\n",
       "    </tr>\n",
       "  </tbody>\n",
       "</table>\n",
       "</div>"
      ],
      "text/plain": [
       "         word category  mean Happiness  mean Anger  mean Sadness  mean Fear  \\\n",
       "0   rozkoszny        H        5.296296    1.407407      1.481481   1.555556   \n",
       "1     świetny        H        5.666666    1.370370      1.370370   1.370370   \n",
       "2  przyjaciel        H        6.037037    1.444444      1.629630   1.555556   \n",
       "3     uśmiech        H        6.333334    1.074074      1.296296   1.259259   \n",
       "4    pochwała        H        5.222222    1.518519      1.296296   1.370370   \n",
       "\n",
       "   mean Disgust  distance to H  distance to A  distance to S  distance to F  \\\n",
       "0      1.370370       2.366185       7.513857       7.449380       7.387380   \n",
       "1      1.222222       1.974388       7.555593       7.567725       7.552752   \n",
       "2      1.037037       1.901643       7.838998       7.691452       7.755814   \n",
       "3      1.111111       1.016740       8.100848       7.925011       7.938565   \n",
       "4      1.222222       2.182792       7.264471       7.469688       7.397619   \n",
       "\n",
       "   distance to D  distance to N  \n",
       "0       7.536883       4.835511  \n",
       "1       7.690782       4.933031  \n",
       "2       8.135946       5.409170  \n",
       "3       8.076864       5.491653  \n",
       "4       7.539364       4.667134  "
      ]
     },
     "execution_count": 4,
     "metadata": {},
     "output_type": "execute_result"
    }
   ],
   "source": [
    "NAWL = pd.read_csv('00_dane/nawl-analysis.csv', encoding='UTF-8')\n",
    "NAWL.head()"
   ]
  },
  {
   "cell_type": "code",
   "execution_count": 5,
   "metadata": {},
   "outputs": [
    {
     "name": "stdout",
     "output_type": "stream",
     "text": [
      "Lista zawiera 2902 słów.\n"
     ]
    }
   ],
   "source": [
    "print('Lista zawiera {} słów.'.format(len(NAWL)))"
   ]
  },
  {
   "cell_type": "markdown",
   "metadata": {},
   "source": [
    "Analiza wczytanych danych"
   ]
  },
  {
   "cell_type": "code",
   "execution_count": 6,
   "metadata": {},
   "outputs": [
    {
     "data": {
      "text/plain": [
       "category\n",
       "A      98\n",
       "D      48\n",
       "F     163\n",
       "H     147\n",
       "N     219\n",
       "S      64\n",
       "U    2163\n",
       "Name: word, dtype: int64"
      ]
     },
     "execution_count": 6,
     "metadata": {},
     "output_type": "execute_result"
    }
   ],
   "source": [
    "NAWL.groupby('category')[\"word\"].count()"
   ]
  },
  {
   "cell_type": "code",
   "execution_count": 7,
   "metadata": {},
   "outputs": [
    {
     "data": {
      "text/html": [
       "<div>\n",
       "<style scoped>\n",
       "    .dataframe tbody tr th:only-of-type {\n",
       "        vertical-align: middle;\n",
       "    }\n",
       "\n",
       "    .dataframe tbody tr th {\n",
       "        vertical-align: top;\n",
       "    }\n",
       "\n",
       "    .dataframe thead th {\n",
       "        text-align: right;\n",
       "    }\n",
       "</style>\n",
       "<table border=\"1\" class=\"dataframe\">\n",
       "  <thead>\n",
       "    <tr style=\"text-align: right;\">\n",
       "      <th></th>\n",
       "      <th>mean Happiness</th>\n",
       "      <th>mean Anger</th>\n",
       "      <th>mean Sadness</th>\n",
       "      <th>mean Fear</th>\n",
       "      <th>mean Disgust</th>\n",
       "      <th>distance to H</th>\n",
       "      <th>distance to A</th>\n",
       "      <th>distance to S</th>\n",
       "      <th>distance to F</th>\n",
       "      <th>distance to D</th>\n",
       "      <th>distance to N</th>\n",
       "    </tr>\n",
       "  </thead>\n",
       "  <tbody>\n",
       "    <tr>\n",
       "      <th>count</th>\n",
       "      <td>2902.000000</td>\n",
       "      <td>2902.000000</td>\n",
       "      <td>2902.000000</td>\n",
       "      <td>2902.000000</td>\n",
       "      <td>2902.000000</td>\n",
       "      <td>2902.000000</td>\n",
       "      <td>2902.000000</td>\n",
       "      <td>2902.000000</td>\n",
       "      <td>2902.000000</td>\n",
       "      <td>2902.000000</td>\n",
       "      <td>2902.000000</td>\n",
       "    </tr>\n",
       "    <tr>\n",
       "      <th>mean</th>\n",
       "      <td>2.943486</td>\n",
       "      <td>2.207620</td>\n",
       "      <td>2.161658</td>\n",
       "      <td>2.447183</td>\n",
       "      <td>1.958691</td>\n",
       "      <td>5.507071</td>\n",
       "      <td>6.744082</td>\n",
       "      <td>6.795276</td>\n",
       "      <td>6.520144</td>\n",
       "      <td>6.956904</td>\n",
       "      <td>4.262446</td>\n",
       "    </tr>\n",
       "    <tr>\n",
       "      <th>std</th>\n",
       "      <td>1.354380</td>\n",
       "      <td>0.984966</td>\n",
       "      <td>0.990665</td>\n",
       "      <td>1.033234</td>\n",
       "      <td>0.898510</td>\n",
       "      <td>2.040968</td>\n",
       "      <td>0.644592</td>\n",
       "      <td>0.586096</td>\n",
       "      <td>0.655118</td>\n",
       "      <td>0.667682</td>\n",
       "      <td>1.351084</td>\n",
       "    </tr>\n",
       "    <tr>\n",
       "      <th>min</th>\n",
       "      <td>1.000000</td>\n",
       "      <td>1.000000</td>\n",
       "      <td>1.000000</td>\n",
       "      <td>1.000000</td>\n",
       "      <td>1.000000</td>\n",
       "      <td>0.593512</td>\n",
       "      <td>3.906429</td>\n",
       "      <td>4.037939</td>\n",
       "      <td>3.549725</td>\n",
       "      <td>3.527269</td>\n",
       "      <td>0.803628</td>\n",
       "    </tr>\n",
       "    <tr>\n",
       "      <th>25%</th>\n",
       "      <td>1.733262</td>\n",
       "      <td>1.461538</td>\n",
       "      <td>1.461538</td>\n",
       "      <td>1.653846</td>\n",
       "      <td>1.333333</td>\n",
       "      <td>3.928527</td>\n",
       "      <td>6.334007</td>\n",
       "      <td>6.440185</td>\n",
       "      <td>6.098742</td>\n",
       "      <td>6.541179</td>\n",
       "      <td>3.328216</td>\n",
       "    </tr>\n",
       "    <tr>\n",
       "      <th>50%</th>\n",
       "      <td>2.769231</td>\n",
       "      <td>1.846154</td>\n",
       "      <td>1.777778</td>\n",
       "      <td>2.153846</td>\n",
       "      <td>1.615385</td>\n",
       "      <td>5.299247</td>\n",
       "      <td>6.736401</td>\n",
       "      <td>6.794270</td>\n",
       "      <td>6.527452</td>\n",
       "      <td>6.934837</td>\n",
       "      <td>4.151446</td>\n",
       "    </tr>\n",
       "    <tr>\n",
       "      <th>75%</th>\n",
       "      <td>4.037037</td>\n",
       "      <td>2.692308</td>\n",
       "      <td>2.576923</td>\n",
       "      <td>3.000000</td>\n",
       "      <td>2.304843</td>\n",
       "      <td>7.033776</td>\n",
       "      <td>7.175239</td>\n",
       "      <td>7.161664</td>\n",
       "      <td>6.951493</td>\n",
       "      <td>7.385088</td>\n",
       "      <td>5.041912</td>\n",
       "    </tr>\n",
       "    <tr>\n",
       "      <th>max</th>\n",
       "      <td>6.740741</td>\n",
       "      <td>5.884615</td>\n",
       "      <td>6.346154</td>\n",
       "      <td>6.153846</td>\n",
       "      <td>5.923077</td>\n",
       "      <td>11.734792</td>\n",
       "      <td>8.957582</td>\n",
       "      <td>8.980930</td>\n",
       "      <td>9.032602</td>\n",
       "      <td>9.284170</td>\n",
       "      <td>9.926695</td>\n",
       "    </tr>\n",
       "  </tbody>\n",
       "</table>\n",
       "</div>"
      ],
      "text/plain": [
       "       mean Happiness   mean Anger  mean Sadness    mean Fear  mean Disgust  \\\n",
       "count     2902.000000  2902.000000   2902.000000  2902.000000   2902.000000   \n",
       "mean         2.943486     2.207620      2.161658     2.447183      1.958691   \n",
       "std          1.354380     0.984966      0.990665     1.033234      0.898510   \n",
       "min          1.000000     1.000000      1.000000     1.000000      1.000000   \n",
       "25%          1.733262     1.461538      1.461538     1.653846      1.333333   \n",
       "50%          2.769231     1.846154      1.777778     2.153846      1.615385   \n",
       "75%          4.037037     2.692308      2.576923     3.000000      2.304843   \n",
       "max          6.740741     5.884615      6.346154     6.153846      5.923077   \n",
       "\n",
       "       distance to H  distance to A  distance to S  distance to F  \\\n",
       "count    2902.000000    2902.000000    2902.000000    2902.000000   \n",
       "mean        5.507071       6.744082       6.795276       6.520144   \n",
       "std         2.040968       0.644592       0.586096       0.655118   \n",
       "min         0.593512       3.906429       4.037939       3.549725   \n",
       "25%         3.928527       6.334007       6.440185       6.098742   \n",
       "50%         5.299247       6.736401       6.794270       6.527452   \n",
       "75%         7.033776       7.175239       7.161664       6.951493   \n",
       "max        11.734792       8.957582       8.980930       9.032602   \n",
       "\n",
       "       distance to D  distance to N  \n",
       "count    2902.000000    2902.000000  \n",
       "mean        6.956904       4.262446  \n",
       "std         0.667682       1.351084  \n",
       "min         3.527269       0.803628  \n",
       "25%         6.541179       3.328216  \n",
       "50%         6.934837       4.151446  \n",
       "75%         7.385088       5.041912  \n",
       "max         9.284170       9.926695  "
      ]
     },
     "execution_count": 7,
     "metadata": {},
     "output_type": "execute_result"
    }
   ],
   "source": [
    "NAWL.describe()"
   ]
  },
  {
   "cell_type": "markdown",
   "metadata": {},
   "source": [
    "## 2. Przypisanie sentymentu słów"
   ]
  },
  {
   "cell_type": "markdown",
   "metadata": {},
   "source": [
    "### 2.1 Budowa słownika wszystkich słów"
   ]
  },
  {
   "cell_type": "code",
   "execution_count": 13,
   "metadata": {},
   "outputs": [],
   "source": [
    "dict_sp = {}\n",
    "for sp in dane['speech_rawest']:\n",
    "    for w in sp:\n",
    "        if w not in dict_sp.keys():\n",
    "            dict_sp[w]=0\n",
    "        dict_sp[w]+=1"
   ]
  },
  {
   "cell_type": "code",
   "execution_count": 9,
   "metadata": {},
   "outputs": [
    {
     "name": "stdout",
     "output_type": "stream",
     "text": [
      "Liczba unikalnych słów w słowniku wynosi 152498.\n"
     ]
    }
   ],
   "source": [
    "print('Liczba unikalnych słów w słowniku wynosi {}.'.format(len(dict_sp)))"
   ]
  },
  {
   "cell_type": "code",
   "execution_count": 18,
   "metadata": {},
   "outputs": [
    {
     "ename": "ValueError",
     "evalue": "If using all scalar values, you must pass an index",
     "output_type": "error",
     "traceback": [
      "\u001b[1;31m---------------------------------------------------------------------------\u001b[0m",
      "\u001b[1;31mValueError\u001b[0m                                Traceback (most recent call last)",
      "\u001b[1;32m<ipython-input-18-5820a9e47092>\u001b[0m in \u001b[0;36m<module>\u001b[1;34m\u001b[0m\n\u001b[1;32m----> 1\u001b[1;33m \u001b[0mdf_sp\u001b[0m \u001b[1;33m=\u001b[0m \u001b[0mpd\u001b[0m\u001b[1;33m.\u001b[0m\u001b[0mDataFrame\u001b[0m\u001b[1;33m(\u001b[0m\u001b[0mdict_sp\u001b[0m\u001b[1;33m)\u001b[0m\u001b[1;33m\u001b[0m\u001b[1;33m\u001b[0m\u001b[0m\n\u001b[0m",
      "\u001b[1;32m~\\Anaconda3\\lib\\site-packages\\pandas\\core\\frame.py\u001b[0m in \u001b[0;36m__init__\u001b[1;34m(self, data, index, columns, dtype, copy)\u001b[0m\n\u001b[0;32m    433\u001b[0m             )\n\u001b[0;32m    434\u001b[0m         \u001b[1;32melif\u001b[0m \u001b[0misinstance\u001b[0m\u001b[1;33m(\u001b[0m\u001b[0mdata\u001b[0m\u001b[1;33m,\u001b[0m \u001b[0mdict\u001b[0m\u001b[1;33m)\u001b[0m\u001b[1;33m:\u001b[0m\u001b[1;33m\u001b[0m\u001b[1;33m\u001b[0m\u001b[0m\n\u001b[1;32m--> 435\u001b[1;33m             \u001b[0mmgr\u001b[0m \u001b[1;33m=\u001b[0m \u001b[0minit_dict\u001b[0m\u001b[1;33m(\u001b[0m\u001b[0mdata\u001b[0m\u001b[1;33m,\u001b[0m \u001b[0mindex\u001b[0m\u001b[1;33m,\u001b[0m \u001b[0mcolumns\u001b[0m\u001b[1;33m,\u001b[0m \u001b[0mdtype\u001b[0m\u001b[1;33m=\u001b[0m\u001b[0mdtype\u001b[0m\u001b[1;33m)\u001b[0m\u001b[1;33m\u001b[0m\u001b[1;33m\u001b[0m\u001b[0m\n\u001b[0m\u001b[0;32m    436\u001b[0m         \u001b[1;32melif\u001b[0m \u001b[0misinstance\u001b[0m\u001b[1;33m(\u001b[0m\u001b[0mdata\u001b[0m\u001b[1;33m,\u001b[0m \u001b[0mma\u001b[0m\u001b[1;33m.\u001b[0m\u001b[0mMaskedArray\u001b[0m\u001b[1;33m)\u001b[0m\u001b[1;33m:\u001b[0m\u001b[1;33m\u001b[0m\u001b[1;33m\u001b[0m\u001b[0m\n\u001b[0;32m    437\u001b[0m             \u001b[1;32mimport\u001b[0m \u001b[0mnumpy\u001b[0m\u001b[1;33m.\u001b[0m\u001b[0mma\u001b[0m\u001b[1;33m.\u001b[0m\u001b[0mmrecords\u001b[0m \u001b[1;32mas\u001b[0m \u001b[0mmrecords\u001b[0m\u001b[1;33m\u001b[0m\u001b[1;33m\u001b[0m\u001b[0m\n",
      "\u001b[1;32m~\\Anaconda3\\lib\\site-packages\\pandas\\core\\internals\\construction.py\u001b[0m in \u001b[0;36minit_dict\u001b[1;34m(data, index, columns, dtype)\u001b[0m\n\u001b[0;32m    252\u001b[0m             \u001b[0marr\u001b[0m \u001b[1;32mif\u001b[0m \u001b[1;32mnot\u001b[0m \u001b[0mis_datetime64tz_dtype\u001b[0m\u001b[1;33m(\u001b[0m\u001b[0marr\u001b[0m\u001b[1;33m)\u001b[0m \u001b[1;32melse\u001b[0m \u001b[0marr\u001b[0m\u001b[1;33m.\u001b[0m\u001b[0mcopy\u001b[0m\u001b[1;33m(\u001b[0m\u001b[1;33m)\u001b[0m \u001b[1;32mfor\u001b[0m \u001b[0marr\u001b[0m \u001b[1;32min\u001b[0m \u001b[0marrays\u001b[0m\u001b[1;33m\u001b[0m\u001b[1;33m\u001b[0m\u001b[0m\n\u001b[0;32m    253\u001b[0m         ]\n\u001b[1;32m--> 254\u001b[1;33m     \u001b[1;32mreturn\u001b[0m \u001b[0marrays_to_mgr\u001b[0m\u001b[1;33m(\u001b[0m\u001b[0marrays\u001b[0m\u001b[1;33m,\u001b[0m \u001b[0mdata_names\u001b[0m\u001b[1;33m,\u001b[0m \u001b[0mindex\u001b[0m\u001b[1;33m,\u001b[0m \u001b[0mcolumns\u001b[0m\u001b[1;33m,\u001b[0m \u001b[0mdtype\u001b[0m\u001b[1;33m=\u001b[0m\u001b[0mdtype\u001b[0m\u001b[1;33m)\u001b[0m\u001b[1;33m\u001b[0m\u001b[1;33m\u001b[0m\u001b[0m\n\u001b[0m\u001b[0;32m    255\u001b[0m \u001b[1;33m\u001b[0m\u001b[0m\n\u001b[0;32m    256\u001b[0m \u001b[1;33m\u001b[0m\u001b[0m\n",
      "\u001b[1;32m~\\Anaconda3\\lib\\site-packages\\pandas\\core\\internals\\construction.py\u001b[0m in \u001b[0;36marrays_to_mgr\u001b[1;34m(arrays, arr_names, index, columns, dtype)\u001b[0m\n\u001b[0;32m     62\u001b[0m     \u001b[1;31m# figure out the index, if necessary\u001b[0m\u001b[1;33m\u001b[0m\u001b[1;33m\u001b[0m\u001b[1;33m\u001b[0m\u001b[0m\n\u001b[0;32m     63\u001b[0m     \u001b[1;32mif\u001b[0m \u001b[0mindex\u001b[0m \u001b[1;32mis\u001b[0m \u001b[1;32mNone\u001b[0m\u001b[1;33m:\u001b[0m\u001b[1;33m\u001b[0m\u001b[1;33m\u001b[0m\u001b[0m\n\u001b[1;32m---> 64\u001b[1;33m         \u001b[0mindex\u001b[0m \u001b[1;33m=\u001b[0m \u001b[0mextract_index\u001b[0m\u001b[1;33m(\u001b[0m\u001b[0marrays\u001b[0m\u001b[1;33m)\u001b[0m\u001b[1;33m\u001b[0m\u001b[1;33m\u001b[0m\u001b[0m\n\u001b[0m\u001b[0;32m     65\u001b[0m     \u001b[1;32melse\u001b[0m\u001b[1;33m:\u001b[0m\u001b[1;33m\u001b[0m\u001b[1;33m\u001b[0m\u001b[0m\n\u001b[0;32m     66\u001b[0m         \u001b[0mindex\u001b[0m \u001b[1;33m=\u001b[0m \u001b[0mensure_index\u001b[0m\u001b[1;33m(\u001b[0m\u001b[0mindex\u001b[0m\u001b[1;33m)\u001b[0m\u001b[1;33m\u001b[0m\u001b[1;33m\u001b[0m\u001b[0m\n",
      "\u001b[1;32m~\\Anaconda3\\lib\\site-packages\\pandas\\core\\internals\\construction.py\u001b[0m in \u001b[0;36mextract_index\u001b[1;34m(data)\u001b[0m\n\u001b[0;32m    353\u001b[0m \u001b[1;33m\u001b[0m\u001b[0m\n\u001b[0;32m    354\u001b[0m         \u001b[1;32mif\u001b[0m \u001b[1;32mnot\u001b[0m \u001b[0mindexes\u001b[0m \u001b[1;32mand\u001b[0m \u001b[1;32mnot\u001b[0m \u001b[0mraw_lengths\u001b[0m\u001b[1;33m:\u001b[0m\u001b[1;33m\u001b[0m\u001b[1;33m\u001b[0m\u001b[0m\n\u001b[1;32m--> 355\u001b[1;33m             \u001b[1;32mraise\u001b[0m \u001b[0mValueError\u001b[0m\u001b[1;33m(\u001b[0m\u001b[1;34m\"If using all scalar values, you must pass an index\"\u001b[0m\u001b[1;33m)\u001b[0m\u001b[1;33m\u001b[0m\u001b[1;33m\u001b[0m\u001b[0m\n\u001b[0m\u001b[0;32m    356\u001b[0m \u001b[1;33m\u001b[0m\u001b[0m\n\u001b[0;32m    357\u001b[0m         \u001b[1;32mif\u001b[0m \u001b[0mhave_series\u001b[0m\u001b[1;33m:\u001b[0m\u001b[1;33m\u001b[0m\u001b[1;33m\u001b[0m\u001b[0m\n",
      "\u001b[1;31mValueError\u001b[0m: If using all scalar values, you must pass an index"
     ]
    }
   ],
   "source": [
    "df_sp = pd.DataFrame(dict_sp)\n"
   ]
  },
  {
   "cell_type": "code",
   "execution_count": 16,
   "metadata": {},
   "outputs": [
    {
     "data": {
      "text/plain": [
       "chcieć        205353\n",
       "zdanie         46410\n",
       "powiedzieć    114946\n",
       "temat          36539\n",
       "skutek         31434\n",
       "dtype: int64"
      ]
     },
     "execution_count": 16,
     "metadata": {},
     "output_type": "execute_result"
    }
   ],
   "source": [
    "df_sp.head()"
   ]
  },
  {
   "cell_type": "markdown",
   "metadata": {},
   "source": [
    "### 2.2 Dogranie parametrów"
   ]
  },
  {
   "cell_type": "code",
   "execution_count": null,
   "metadata": {},
   "outputs": [],
   "source": []
  }
 ],
 "metadata": {
  "kernelspec": {
   "display_name": "Python 3",
   "language": "python",
   "name": "python3"
  },
  "language_info": {
   "codemirror_mode": {
    "name": "ipython",
    "version": 3
   },
   "file_extension": ".py",
   "mimetype": "text/x-python",
   "name": "python",
   "nbconvert_exporter": "python",
   "pygments_lexer": "ipython3",
   "version": "3.7.6"
  }
 },
 "nbformat": 4,
 "nbformat_minor": 4
}
