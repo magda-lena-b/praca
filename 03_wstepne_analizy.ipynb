{
 "cells": [
  {
   "cell_type": "code",
   "execution_count": 1,
   "metadata": {},
   "outputs": [
    {
     "data": {
      "text/plain": [
       "<module 'funcs' from 'C:\\\\Users\\\\Mag\\\\Documents\\\\_projekty\\\\praca\\\\funcs.py'>"
      ]
     },
     "execution_count": 1,
     "metadata": {},
     "output_type": "execute_result"
    }
   ],
   "source": [
    "import re\n",
    "import pandas as pd\n",
    "import numpy as np\n",
    "import funcs \n",
    "import importlib\n",
    "import unicodecsv as csv\n",
    "import pickle\n",
    "import random\n",
    "from timeit import default_timer as timer\n",
    "from datetime import datetime, timedelta\n",
    "import spacy\n",
    "from spacy.lang.pl import Polish\n",
    "import nltk\n",
    "from nltk.tokenize import word_tokenize\n",
    "import matplotlib.pyplot as plt\n",
    "\n",
    "from collections import Counter\n",
    "\n",
    "importlib.reload(funcs)"
   ]
  },
  {
   "cell_type": "code",
   "execution_count": 2,
   "metadata": {
    "collapsed": true
   },
   "outputs": [],
   "source": [
    "sp_joined = pd.read_csv('00_dane/sp_joined.csv',  sep='|', encoding='UTF-8')"
   ]
  },
  {
   "cell_type": "code",
   "execution_count": 3,
   "metadata": {},
   "outputs": [
    {
     "data": {
      "text/plain": [
       "158885"
      ]
     },
     "execution_count": 3,
     "metadata": {},
     "output_type": "execute_result"
    }
   ],
   "source": [
    "len(sp_joined)"
   ]
  },
  {
   "cell_type": "markdown",
   "metadata": {},
   "source": [
    "#### Usuwam cyfry i znaki interpunkcyjne"
   ]
  },
  {
   "cell_type": "code",
   "execution_count": 4,
   "metadata": {},
   "outputs": [
    {
     "name": "stdout",
     "output_type": "stream",
     "text": [
      "Wall time: 46.8 s\n"
     ]
    }
   ],
   "source": [
    "%%time\n",
    "sp_test = sp_joined['speech_rawer']\n",
    "sp_test = sp_test.apply(lambda x: re.sub('[\\W\\d]',' ', x.lower()))\n",
    "\n",
    "#czas dla apply : 1 min 10 s"
   ]
  },
  {
   "cell_type": "markdown",
   "metadata": {},
   "source": [
    "#### Lista stopwords polskich do usunięcia"
   ]
  },
  {
   "cell_type": "code",
   "execution_count": 78,
   "metadata": {
    "collapsed": true
   },
   "outputs": [],
   "source": [
    "nlp = spacy.load('pl_model')\n",
    "stop = set(nlp.Defaults.stop_words)\n",
    "stop.add('zł')\n",
    "stop.add('pkt')\n",
    "stop.add('art')\n",
    "stop.add('ustawy')\n",
    "stop.add('r')\n",
    "\n",
    "#stop = nlp.Defaults.stop_words"
   ]
  },
  {
   "cell_type": "code",
   "execution_count": 79,
   "metadata": {},
   "outputs": [
    {
     "name": "stdout",
     "output_type": "stream",
     "text": [
      "Wall time: 14.2 s\n"
     ]
    }
   ],
   "source": [
    "%%time\n",
    "sp_test = sp_test.apply(lambda x: ' '.join([word for word in x.split() if word not in stop]))\n",
    "#sp_test = [w for w in sp_test if w not in stop]\n",
    "\n",
    "#Czas dla całości\n",
    "# 20,9 s\n"
   ]
  },
  {
   "cell_type": "markdown",
   "metadata": {},
   "source": [
    "### Ile mamy słów"
   ]
  },
  {
   "cell_type": "code",
   "execution_count": 80,
   "metadata": {},
   "outputs": [
    {
     "name": "stdout",
     "output_type": "stream",
     "text": [
      "Wystąpienie nr:  10000\n",
      "Wystąpienie nr:  20000\n",
      "Wystąpienie nr:  30000\n",
      "Wystąpienie nr:  40000\n",
      "Wystąpienie nr:  50000\n",
      "Wystąpienie nr:  60000\n",
      "Wystąpienie nr:  70000\n",
      "Wystąpienie nr:  80000\n",
      "Wystąpienie nr:  90000\n",
      "Wystąpienie nr:  100000\n",
      "Wystąpienie nr:  110000\n",
      "Wystąpienie nr:  120000\n",
      "Wystąpienie nr:  130000\n",
      "Wystąpienie nr:  140000\n",
      "Wystąpienie nr:  150000\n",
      "Wall time: 29.7 s\n"
     ]
    }
   ],
   "source": [
    "%%time\n",
    "corp_dict={}\n",
    "n = 1\n",
    "for speech in sp_test:\n",
    "    if n % 10000 == 0:\n",
    "        print('Wystąpienie nr: ', n)\n",
    "    for word in speech.split():\n",
    "        if word not in corp_dict.keys(): \n",
    "            corp_dict[word]=1\n",
    "        else:\n",
    "            corp_dict[word]+=1\n",
    "    n+=1"
   ]
  },
  {
   "cell_type": "code",
   "execution_count": 81,
   "metadata": {
    "collapsed": true
   },
   "outputs": [],
   "source": [
    "sp_test.to_csv('00_dane/clear_sp.csv', encoding='UTF=8', sep='|')"
   ]
  },
  {
   "cell_type": "code",
   "execution_count": 82,
   "metadata": {},
   "outputs": [
    {
     "data": {
      "text/plain": [
       "(367716, 42115946)"
      ]
     },
     "execution_count": 82,
     "metadata": {},
     "output_type": "execute_result"
    }
   ],
   "source": [
    "len(corp_dict.keys()), sum(corp_dict.values())"
   ]
  },
  {
   "cell_type": "markdown",
   "metadata": {},
   "source": [
    "#### Sortowanie słownika po liczbie wystąpień"
   ]
  },
  {
   "cell_type": "code",
   "execution_count": 83,
   "metadata": {
    "collapsed": true
   },
   "outputs": [],
   "source": [
    "corp_dict = {k: v for k, v in sorted(corp_dict.items(), key=lambda item: item[1])}"
   ]
  },
  {
   "cell_type": "code",
   "execution_count": 84,
   "metadata": {},
   "outputs": [
    {
     "data": {
      "text/plain": [
       "207"
      ]
     },
     "execution_count": 84,
     "metadata": {},
     "output_type": "execute_result"
    }
   ],
   "source": [
    "corp_dict['suweren']"
   ]
  },
  {
   "cell_type": "markdown",
   "metadata": {},
   "source": [
    "#### Jaki jest rozkład częstości słów?"
   ]
  },
  {
   "cell_type": "markdown",
   "metadata": {},
   "source": [
    "Jakie słowa pojawiają się najrzadziej?"
   ]
  },
  {
   "cell_type": "code",
   "execution_count": 85,
   "metadata": {
    "collapsed": true
   },
   "outputs": [],
   "source": [
    "u = [k for k,v in corp_dict.items() if v<=5]"
   ]
  },
  {
   "cell_type": "code",
   "execution_count": 86,
   "metadata": {},
   "outputs": [
    {
     "data": {
      "text/plain": [
       "226599"
      ]
     },
     "execution_count": 86,
     "metadata": {},
     "output_type": "execute_result"
    }
   ],
   "source": [
    "len(u)"
   ]
  },
  {
   "cell_type": "code",
   "execution_count": 87,
   "metadata": {},
   "outputs": [
    {
     "name": "stdout",
     "output_type": "stream",
     "text": [
      "balazsowi\n",
      "strzybny\n",
      "kaligraficznym\n",
      "nieuzgodniona\n",
      "piruet\n",
      "wahającym\n",
      "ukrainki\n",
      "skserowanie\n",
      "zapraszającą\n",
      "skamle\n"
     ]
    }
   ],
   "source": [
    "for _ in range(10):\n",
    "    print(u[random.randrange(len(u))])"
   ]
  },
  {
   "cell_type": "markdown",
   "metadata": {},
   "source": [
    "Jakie słowa pojawiają się najczęściej?"
   ]
  },
  {
   "cell_type": "code",
   "execution_count": 88,
   "metadata": {},
   "outputs": [
    {
     "data": {
      "text/plain": [
       "[('rząd', 95603),\n",
       " ('projektu', 95657),\n",
       " ('prawa', 96092),\n",
       " ('chodzi', 99480),\n",
       " ('panie', 108932),\n",
       " ('projekt', 113847),\n",
       " ('pytanie', 116217),\n",
       " ('pracy', 118301),\n",
       " ('komisji', 146153),\n",
       " ('państwa', 148339)]"
      ]
     },
     "execution_count": 88,
     "metadata": {},
     "output_type": "execute_result"
    }
   ],
   "source": [
    "sorted(corp_dict.items(), key=lambda item: item[1])[-10:]"
   ]
  },
  {
   "cell_type": "markdown",
   "metadata": {
    "collapsed": true
   },
   "source": [
    "#### Ile słów jest w każdym wystąpieniu?"
   ]
  },
  {
   "cell_type": "code",
   "execution_count": 4,
   "metadata": {
    "collapsed": true
   },
   "outputs": [],
   "source": [
    "sp_joined['liczba_sl_raw'] = [len(sp.split()) for sp in sp_joined['speech_raw']]"
   ]
  },
  {
   "cell_type": "code",
   "execution_count": 5,
   "metadata": {
    "collapsed": true
   },
   "outputs": [],
   "source": [
    "sp_joined['liczba_sl_rawer'] = [len(sp.split()) for sp in sp_joined['speech_rawer']]"
   ]
  },
  {
   "cell_type": "code",
   "execution_count": 8,
   "metadata": {},
   "outputs": [
    {
     "data": {
      "text/plain": [
       "70671141"
      ]
     },
     "execution_count": 8,
     "metadata": {},
     "output_type": "execute_result"
    }
   ],
   "source": [
    "sum(sp_joined['liczba_sl_rawer'])"
   ]
  },
  {
   "cell_type": "code",
   "execution_count": 9,
   "metadata": {
    "collapsed": true
   },
   "outputs": [],
   "source": [
    "sp_joined.to_csv('00_dane/sp_joined.csv', sep='|', encoding='UTF-8')"
   ]
  },
  {
   "cell_type": "code",
   "execution_count": null,
   "metadata": {
    "collapsed": true
   },
   "outputs": [],
   "source": []
  }
 ],
 "metadata": {
  "kernelspec": {
   "display_name": "Python 3",
   "language": "python",
   "name": "python3"
  },
  "language_info": {
   "codemirror_mode": {
    "name": "ipython",
    "version": 3
   },
   "file_extension": ".py",
   "mimetype": "text/x-python",
   "name": "python",
   "nbconvert_exporter": "python",
   "pygments_lexer": "ipython3",
   "version": "3.7.6"
  }
 },
 "nbformat": 4,
 "nbformat_minor": 2
}
