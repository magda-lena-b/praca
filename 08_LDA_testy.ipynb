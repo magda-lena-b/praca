{
 "cells": [
  {
   "cell_type": "code",
   "execution_count": 99,
   "metadata": {},
   "outputs": [
    {
     "data": {
      "text/plain": [
       "<module 'funcs' from 'D:\\\\_projekty\\\\praca\\\\funcs.py'>"
      ]
     },
     "execution_count": 99,
     "metadata": {},
     "output_type": "execute_result"
    }
   ],
   "source": [
    "import re\n",
    "import pandas as pd\n",
    "import numpy as np\n",
    "import funcs \n",
    "import importlib\n",
    "import unicodecsv as csv\n",
    "import pickle\n",
    "import random\n",
    "import gensim\n",
    "from gensim import corpora, models\n",
    "from timeit import default_timer as timer\n",
    "from datetime import datetime, timedelta\n",
    "import nltk\n",
    "from nltk.tokenize import word_tokenize\n",
    "import matplotlib.pyplot as plt\n",
    "import spacy\n",
    "from collections import Counter\n",
    "\n",
    "importlib.reload(funcs)"
   ]
  },
  {
   "cell_type": "markdown",
   "metadata": {},
   "source": [
    "## Załadowanie danych oczyszczonych i zlematyzowanych oraz dalsze czyszczenie"
   ]
  },
  {
   "cell_type": "code",
   "execution_count": 2,
   "metadata": {},
   "outputs": [],
   "source": [
    "sp = pd.read_csv('00_dane/rawest.csv',  sep='|', encoding='UTF-8')"
   ]
  },
  {
   "cell_type": "code",
   "execution_count": 19,
   "metadata": {},
   "outputs": [],
   "source": [
    "dane = sp[~sp['speech_rawest'].isnull()]"
   ]
  },
  {
   "cell_type": "code",
   "execution_count": 21,
   "metadata": {},
   "outputs": [
    {
     "name": "stdout",
     "output_type": "stream",
     "text": [
      "Wall time: 14.7 s\n"
     ]
    },
    {
     "name": "stderr",
     "output_type": "stream",
     "text": [
      "C:\\Users\\Magda\\Anaconda3\\lib\\site-packages\\ipykernel_launcher.py:1: SettingWithCopyWarning: \n",
      "A value is trying to be set on a copy of a slice from a DataFrame.\n",
      "Try using .loc[row_indexer,col_indexer] = value instead\n",
      "\n",
      "See the caveats in the documentation: https://pandas.pydata.org/pandas-docs/stable/user_guide/indexing.html#returning-a-view-versus-a-copy\n",
      "  \"\"\"Entry point for launching an IPython kernel.\n"
     ]
    }
   ],
   "source": [
    "%%time\n",
    "dane['speech_rawest'] = dane['speech_rawest'].apply(lambda x: re.sub('[\\W\\d]',' ', x.lower()))\n",
    "\n",
    "#czas dla apply : 19s"
   ]
  },
  {
   "cell_type": "code",
   "execution_count": 23,
   "metadata": {},
   "outputs": [],
   "source": [
    "nlp = spacy.load('pl_model')\n",
    "stop = set(nlp.Defaults.stop_words)\n",
    "stop.add('zł')\n",
    "stop.add('pkt')\n",
    "stop.add('art')\n",
    "stop.add('ustawy')\n",
    "stop.add('r')"
   ]
  },
  {
   "cell_type": "code",
   "execution_count": 24,
   "metadata": {},
   "outputs": [
    {
     "name": "stdout",
     "output_type": "stream",
     "text": [
      "Wall time: 7.59 s\n"
     ]
    },
    {
     "name": "stderr",
     "output_type": "stream",
     "text": [
      "C:\\Users\\Magda\\Anaconda3\\lib\\site-packages\\ipykernel_launcher.py:1: SettingWithCopyWarning: \n",
      "A value is trying to be set on a copy of a slice from a DataFrame.\n",
      "Try using .loc[row_indexer,col_indexer] = value instead\n",
      "\n",
      "See the caveats in the documentation: https://pandas.pydata.org/pandas-docs/stable/user_guide/indexing.html#returning-a-view-versus-a-copy\n",
      "  \"\"\"Entry point for launching an IPython kernel.\n"
     ]
    }
   ],
   "source": [
    "%%time\n",
    "dane['speech_rawest'] = dane['speech_rawest'].apply(lambda x: [word for word in x.split() if word not in stop])"
   ]
  },
  {
   "cell_type": "markdown",
   "metadata": {},
   "source": [
    "### Zapisanie pliku w takiej postaci"
   ]
  },
  {
   "cell_type": "code",
   "execution_count": 27,
   "metadata": {},
   "outputs": [],
   "source": [
    "dane.to_csv('00_dane/dane_TM.csv', sep='|', encoding='UTF-8', index=False)\n"
   ]
  },
  {
   "cell_type": "markdown",
   "metadata": {},
   "source": [
    "## Podzbiór testowy (analiza za: https://towardsdatascience.com/topic-modeling-and-latent-dirichlet-allocation-in-python-9bf156893c24)"
   ]
  },
  {
   "cell_type": "code",
   "execution_count": 55,
   "metadata": {},
   "outputs": [],
   "source": [
    "test = dane['speech_rawest'][:50000]"
   ]
  },
  {
   "cell_type": "code",
   "execution_count": 44,
   "metadata": {},
   "outputs": [
    {
     "name": "stdout",
     "output_type": "stream",
     "text": [
      "['rok', 'trwać', 'praca', 'legislacyjny', 'związany', 'opracowanie', 'nowy', 'ustawa', 'ochrona', 'grunt', 'rolny', 'leśny', 'dzień', 'grudzień', 'rok', 'ustawa', 'zostać', 'uchwalić', 'sejm', 'rzeczypospolity', 'polski', 'zasadniczy', 'sprawa', 'duży', 'osiągnięcie', 'omawiać', 'ustawa', 'decentralizacja', 'decyzja', 'dotyczyć', 'ochrona', 'grunt', 'wykorzystać', 'zamierzyć', 'cel', 'ustawa', 'zostać', 'osiągnąć', 'wyeliminować', 'niekorzystny', 'rolnictwo', 'produkcja', 'rolny', 'uregulowanie', 'prawny', 'dostosować', 'przepis', 'ochrona', 'grunt', 'rolny', 'leśny', 'zmienić', 'uwarunkowanie', 'społeczny', 'gospodarczy', 'ustawa', 'poszerzać', 'swoboda', 'właściciel', 'grunt', 'ograniczać', 'możliwość', 'wywłaszczenie', 'zwiększać', 'samodzielność', 'władza', 'lokalny', 'zmierzać', 'ochrona', 'wartościowy', 'grunt', 'rolny', 'leśny', 'zawierać', 'szereg', 'nowy', 'istotny', 'zdanie', 'klub', 'parlamentarny', 'sojusz', 'lewica', 'demokratyczny', 'rozstrzygnięcie', 'obejmować', 'ustawa', 'rok', 'regulować', 'problematyka', 'dostarczyć', 'sejm', 'sprawozdanie', 'posiedzenie', 'cztery', 'komisja', 'znajdować', 'stanowisko', 'wobec', 'poprawka', 'senat', 'mieć', 'charakter', 'uściślać', 'redakcyjny', 'porządkować', 'stylistyczny', 'bądź', 'usuwać', 'błąd', 'legislacyjny', 'imię', 'klub', 'parlamentarny', 'sojusz', 'lewica', 'demokratyczny', 'mieć', 'zaszczyt', 'przedstawić', 'stanowisko', 'sprawa', 'zasada', 'omawiać', 'poszczególny', 'poprawka', 'senat', 'mijać', 'cel', 'dokładnie', 'dokonać', 'przypadek', 'brak', 'miejscowy', 'plan', 'zagospodarowanie', 'przestrzenny', 'przeznaczenie', 'grunt', 'rolny', 'leśny', 'cel', 'nierolniczy', 'nieleśny', 'dokonać', 'decyzja', 'warunki', 'zabudowa', 'zagospodarowanie', 'teren', 'określić', 'przepis', 'zagospodarowanie', 'przestrzenny', 'senat', 'mieć', 'uwadza', 'usprawnienie', 'dokonywać', 'zmiana', 'dotyczyć', 'nieduży', 'obszar', 'propozycja', 'senat', 'niebezpieczny', 'ustawa', 'zagospodarowanie', 'przestrzenny', 'przewidywać', 'bezwzględny', 'wymog', 'opracowanie', 'plan', 'zagospodarowanie', 'przestrzenny', 'zmiana', 'przeznaczenie', 'teren', 'wymagać', 'miejscowy', 'plan', 'zagospodarowanie', 'przestrzenny', 'opracowanie', 'miejscowy', 'plan', 'zagospodarowanie', 'przestrzenny', 'móc', 'dotyczyć', 'światło', 'ustawa', 'wyłącznie', 'określić', 'dowolnie', 'mały', 'teren', 'teren', 'gmina', 'dzielnica', 'wprowadzić', 'omawiać', 'poprawka', 'umożliwać', 'omijanin', 'procedura', 'opracowanie', 'plan', 'przewidzieć', 'przepis', 'zagospodarowanie', 'przestrzenny', 'poprzez', 'wydawać', 'jednostkowy', 'decyzja', 'postawić', 'znak', 'zapytać', 'prowadzenie', 'spójny', 'polityka', 'zakres', 'zagospodarowanie', 'grunt', 'poprzez', 'plan', 'zmienić', 'przeznaczenie', 'grunt', 'polegać', 'obligatoryjność', 'imię', 'klub', 'sojusz', 'lewica', 'demokratyczny', 'wnosić', 'zgodnie', 'stanowisko', 'cztery', 'komisja', 'przyjąć', 'wszystek', 'poprawka', 'omówić', 'poprawka', 'ósmy', 'odnosić', 'odrzucić', 'poprawka', 'nra', 'przyjąć', 'pozostały']\n"
     ]
    }
   ],
   "source": [
    "print(test[113])"
   ]
  },
  {
   "cell_type": "code",
   "execution_count": 56,
   "metadata": {},
   "outputs": [],
   "source": [
    "dictionary = gensim.corpora.Dictionary(test)"
   ]
  },
  {
   "cell_type": "code",
   "execution_count": 32,
   "metadata": {
    "scrolled": true
   },
   "outputs": [
    {
     "name": "stdout",
     "output_type": "stream",
     "text": [
      "0 agent\n",
      "1 amnestyjny\n",
      "2 ażeby\n",
      "3 bezprecensnsowy\n",
      "4 bezzasadny\n",
      "5 budżetowy\n",
      "6 celowo\n",
      "7 chcieć\n",
      "8 cierpieć\n",
      "9 ciągle\n",
      "10 contry\n"
     ]
    }
   ],
   "source": [
    "count = 0\n",
    "for k, v in dictionary.iteritems():\n",
    "    print(k, v)\n",
    "    count += 1\n",
    "    if count > 10:\n",
    "        break"
   ]
  },
  {
   "cell_type": "markdown",
   "metadata": {},
   "source": [
    "Usuwanie słów rzadkich i zbyt częstych i ograniczeni liczby tokenów"
   ]
  },
  {
   "cell_type": "code",
   "execution_count": 57,
   "metadata": {},
   "outputs": [],
   "source": [
    "dictionary.filter_extremes(no_above=0.4, no_below=15 )"
   ]
  },
  {
   "cell_type": "code",
   "execution_count": 58,
   "metadata": {},
   "outputs": [
    {
     "data": {
      "text/plain": [
       "18888"
      ]
     },
     "execution_count": 58,
     "metadata": {},
     "output_type": "execute_result"
    }
   ],
   "source": [
    "len(dictionary)"
   ]
  },
  {
   "cell_type": "code",
   "execution_count": 40,
   "metadata": {},
   "outputs": [
    {
     "name": "stdout",
     "output_type": "stream",
     "text": [
      "Dictionary(8912 unique tokens: ['agent', 'ażeby', 'bezprecensnsowy', 'bezzasadny', 'budżetowy']...)\n"
     ]
    }
   ],
   "source": [
    "print(dictionary)"
   ]
  },
  {
   "cell_type": "markdown",
   "metadata": {},
   "source": [
    "## Bag of Words\n",
    "Dla każdego dokumentu tworzymy słownik zawierający informację jak dużo słów się pojawia i jak często."
   ]
  },
  {
   "cell_type": "code",
   "execution_count": 59,
   "metadata": {},
   "outputs": [],
   "source": [
    "BOW = [dictionary.doc2bow(speech) for speech in test]"
   ]
  },
  {
   "cell_type": "code",
   "execution_count": 48,
   "metadata": {},
   "outputs": [
    {
     "name": "stdout",
     "output_type": "stream",
     "text": [
      "Word 14 (\"decyzja\") appears 3 time.\n",
      "Word 18 (\"dotyczyć\") appears 3 time.\n",
      "Word 20 (\"duży\") appears 1 time.\n",
      "Word 35 (\"istotny\") appears 1 time.\n",
      "Word 42 (\"komisja\") appears 2 time.\n",
      "Word 65 (\"niebezpieczny\") appears 1 time.\n",
      "Word 114 (\"polski\") appears 1 time.\n",
      "Word 115 (\"poprawka\") appears 6 time.\n",
      "Word 117 (\"poprzez\") appears 2 time.\n",
      "Word 129 (\"praca\") appears 1 time.\n",
      "Word 144 (\"przyjąć\") appears 2 time.\n",
      "Word 159 (\"sejm\") appears 2 time.\n",
      "Word 167 (\"sprawa\") appears 2 time.\n",
      "Word 173 (\"stanowisko\") appears 3 time.\n",
      "Word 211 (\"wprowadzić\") appears 1 time.\n",
      "Word 215 (\"wszystek\") appears 1 time.\n",
      "Word 216 (\"wydawać\") appears 1 time.\n",
      "Word 230 (\"zakres\") appears 1 time.\n",
      "Word 240 (\"zdanie\") appears 1 time.\n",
      "Word 246 (\"zostać\") appears 2 time.\n",
      "Word 268 (\"demokratyczny\") appears 3 time.\n",
      "Word 292 (\"klub\") appears 3 time.\n",
      "Word 297 (\"lewica\") appears 3 time.\n",
      "Word 316 (\"nowy\") appears 2 time.\n",
      "Word 324 (\"odnosić\") appears 1 time.\n",
      "Word 327 (\"określić\") appears 2 time.\n",
      "Word 329 (\"parlamentarny\") appears 2 time.\n",
      "Word 347 (\"prawny\") appears 1 time.\n",
      "Word 349 (\"propozycja\") appears 1 time.\n",
      "Word 375 (\"rzeczypospolity\") appears 1 time.\n",
      "Word 383 (\"sojusz\") appears 3 time.\n",
      "Word 387 (\"społeczny\") appears 1 time.\n",
      "Word 405 (\"trwać\") appears 1 time.\n",
      "Word 415 (\"warunki\") appears 1 time.\n",
      "Word 433 (\"wymagać\") appears 1 time.\n",
      "Word 452 (\"zgodnie\") appears 1 time.\n",
      "Word 458 (\"związany\") appears 1 time.\n",
      "Word 520 (\"uwarunkowanie\") appears 1 time.\n",
      "Word 536 (\"zmierzać\") appears 1 time.\n",
      "Word 550 (\"cel\") appears 3 time.\n",
      "Word 580 (\"gospodarczy\") appears 1 time.\n",
      "Word 585 (\"imię\") appears 2 time.\n",
      "Word 604 (\"możliwość\") appears 1 time.\n",
      "Word 619 (\"ograniczać\") appears 1 time.\n",
      "Word 620 (\"omawiać\") appears 3 time.\n",
      "Word 621 (\"opracowanie\") appears 4 time.\n",
      "Word 634 (\"postawić\") appears 1 time.\n",
      "Word 641 (\"pozostały\") appears 1 time.\n",
      "Word 648 (\"produkcja\") appears 1 time.\n",
      "Word 654 (\"przedstawić\") appears 1 time.\n",
      "Word 690 (\"szereg\") appears 1 time.\n",
      "Word 726 (\"zmiana\") appears 2 time.\n",
      "Word 731 (\"bezwzględny\") appears 1 time.\n",
      "Word 761 (\"władza\") appears 1 time.\n",
      "Word 762 (\"zasada\") appears 1 time.\n",
      "Word 770 (\"wnosić\") appears 1 time.\n",
      "Word 773 (\"zapytać\") appears 1 time.\n",
      "Word 793 (\"nra\") appears 1 time.\n",
      "Word 832 (\"grudzień\") appears 1 time.\n",
      "Word 872 (\"procedura\") appears 1 time.\n",
      "Word 913 (\"zamierzyć\") appears 1 time.\n",
      "Word 915 (\"zawierać\") appears 1 time.\n",
      "Word 932 (\"dokonać\") appears 2 time.\n",
      "Word 965 (\"przepis\") appears 3 time.\n",
      "Word 1007 (\"znajdować\") appears 1 time.\n",
      "Word 1021 (\"charakter\") appears 1 time.\n",
      "Word 1033 (\"grunt\") appears 8 time.\n",
      "Word 1093 (\"senat\") appears 4 time.\n",
      "Word 1099 (\"spójny\") appears 1 time.\n",
      "Word 1108 (\"uregulowanie\") appears 1 time.\n",
      "Word 1124 (\"zmienić\") appears 2 time.\n",
      "Word 1130 (\"błąd\") appears 1 time.\n",
      "Word 1167 (\"dzień\") appears 1 time.\n",
      "Word 1206 (\"polityka\") appears 1 time.\n",
      "Word 1214 (\"przewidzieć\") appears 1 time.\n",
      "Word 1254 (\"wobec\") appears 1 time.\n",
      "Word 1259 (\"wykorzystać\") appears 1 time.\n",
      "Word 1263 (\"wyłącznie\") appears 1 time.\n",
      "Word 1281 (\"brak\") appears 1 time.\n",
      "Word 1306 (\"mały\") appears 1 time.\n",
      "Word 1357 (\"cztery\") appears 2 time.\n",
      "Word 1398 (\"odrzucić\") appears 1 time.\n",
      "Word 1417 (\"przewidywać\") appears 1 time.\n",
      "Word 1443 (\"uchwalić\") appears 1 time.\n",
      "Word 1465 (\"zasadniczy\") appears 1 time.\n",
      "Word 1754 (\"teren\") appears 4 time.\n",
      "Word 1793 (\"znak\") appears 1 time.\n",
      "Word 1838 (\"dokładnie\") appears 1 time.\n",
      "Word 1886 (\"obejmować\") appears 1 time.\n",
      "Word 2014 (\"regulować\") appears 1 time.\n",
      "Word 2019 (\"sprawozdanie\") appears 1 time.\n",
      "Word 2057 (\"dokonywać\") appears 1 time.\n",
      "Word 2152 (\"poszczególny\") appears 1 time.\n",
      "Word 2162 (\"swoboda\") appears 1 time.\n",
      "Word 2328 (\"mijać\") appears 1 time.\n",
      "Word 2334 (\"ochrona\") appears 4 time.\n",
      "Word 2343 (\"osiągnięcie\") appears 1 time.\n",
      "Word 2373 (\"usuwać\") appears 1 time.\n",
      "Word 2411 (\"omówić\") appears 1 time.\n",
      "Word 2413 (\"posiedzenie\") appears 1 time.\n",
      "Word 2432 (\"wyeliminować\") appears 1 time.\n",
      "Word 2640 (\"polegać\") appears 1 time.\n",
      "Word 2696 (\"osiągnąć\") appears 1 time.\n",
      "Word 2705 (\"właściciel\") appears 1 time.\n",
      "Word 2713 (\"jednostkowy\") appears 1 time.\n",
      "Word 2717 (\"legislacyjny\") appears 2 time.\n",
      "Word 2735 (\"rozstrzygnięcie\") appears 1 time.\n",
      "Word 2744 (\"wymog\") appears 1 time.\n",
      "Word 2903 (\"zaszczyt\") appears 1 time.\n",
      "Word 2923 (\"porządkować\") appears 1 time.\n",
      "Word 3004 (\"rolnictwo\") appears 1 time.\n",
      "Word 3006 (\"rolny\") appears 5 time.\n",
      "Word 3104 (\"niekorzystny\") appears 1 time.\n",
      "Word 3115 (\"światło\") appears 1 time.\n",
      "Word 3248 (\"przypadek\") appears 1 time.\n",
      "Word 3301 (\"problematyka\") appears 1 time.\n",
      "Word 3444 (\"dostosować\") appears 1 time.\n",
      "Word 3455 (\"obszar\") appears 1 time.\n",
      "Word 3613 (\"uwadza\") appears 1 time.\n",
      "Word 3993 (\"bądź\") appears 1 time.\n",
      "Word 3999 (\"gmina\") appears 1 time.\n",
      "Word 4142 (\"zwiększać\") appears 1 time.\n",
      "Word 4237 (\"prowadzenie\") appears 1 time.\n",
      "Word 4255 (\"umożliwać\") appears 1 time.\n",
      "Word 4260 (\"leśny\") appears 4 time.\n",
      "Word 4264 (\"plan\") appears 6 time.\n",
      "Word 4266 (\"przestrzenny\") appears 7 time.\n",
      "Word 4267 (\"redakcyjny\") appears 1 time.\n",
      "Word 4277 (\"zagospodarowanie\") appears 9 time.\n",
      "Word 4403 (\"lokalny\") appears 1 time.\n",
      "Word 4477 (\"przeznaczenie\") appears 3 time.\n",
      "Word 4644 (\"usprawnienie\") appears 1 time.\n",
      "Word 4645 (\"wartościowy\") appears 1 time.\n",
      "Word 4671 (\"dowolnie\") appears 1 time.\n",
      "Word 4690 (\"samodzielność\") appears 1 time.\n",
      "Word 4695 (\"decentralizacja\") appears 1 time.\n",
      "Word 4696 (\"dostarczyć\") appears 1 time.\n",
      "Word 4697 (\"dzielnica\") appears 1 time.\n",
      "Word 4698 (\"miejscowy\") appears 3 time.\n",
      "Word 4699 (\"nieduży\") appears 1 time.\n",
      "Word 4700 (\"obligatoryjność\") appears 1 time.\n",
      "Word 4701 (\"poszerzać\") appears 1 time.\n",
      "Word 4702 (\"uściślać\") appears 1 time.\n",
      "Word 4703 (\"zabudowa\") appears 1 time.\n",
      "Word 4704 (\"ósmy\") appears 1 time.\n"
     ]
    }
   ],
   "source": [
    "BOW_113 = BOW[113]\n",
    "for i in range(len(BOW_113)):\n",
    "    print(\"Word {} (\\\"{}\\\") appears {} time.\".format(BOW_113[i][0], \n",
    "                                               dictionary[BOW_113[i][0]], \n",
    "BOW_113[i][1]))"
   ]
  },
  {
   "cell_type": "markdown",
   "metadata": {},
   "source": [
    "## TF-IDF\n",
    "Oblicznie wartości tf-idf"
   ]
  },
  {
   "cell_type": "code",
   "execution_count": 60,
   "metadata": {},
   "outputs": [
    {
     "name": "stdout",
     "output_type": "stream",
     "text": [
      "[(0, 0.05282992042408906),\n",
      " (1, 0.08023904348830177),\n",
      " (2, 0.06567202781548985),\n",
      " (3, 0.0577810555986525),\n",
      " (4, 0.04991313038230942),\n",
      " (5, 0.05359437398375828),\n",
      " (6, 0.05100272276250704),\n",
      " (7, 0.034757299893813265),\n",
      " (8, 0.06102645254958782),\n",
      " (9, 0.07088930513846323),\n",
      " (10, 0.025120994845624463),\n",
      " (11, 0.12374710379250481),\n",
      " (12, 0.10384569089277046),\n",
      " (13, 0.03791792995869988),\n",
      " (14, 0.03493319055639545),\n",
      " (15, 0.06192046880189102),\n",
      " (16, 0.03410147037483845),\n",
      " (17, 0.03637815507963329),\n",
      " (18, 0.04452952420732084),\n",
      " (19, 0.0125191489463708),\n",
      " (20, 0.07164071674120644),\n",
      " (21, 0.029873369641820035),\n",
      " (22, 0.06118301440869654),\n",
      " (23, 0.05109120809980182),\n",
      " (24, 0.05348162349451137),\n",
      " (25, 0.03403925900734858),\n",
      " (26, 0.024219307979655946),\n",
      " (27, 0.020487971199778892),\n",
      " (28, 0.019006785777984175),\n",
      " (29, 0.029757475168270844),\n",
      " (30, 0.06262357928279715),\n",
      " (31, 0.055126303002906094),\n",
      " (32, 0.03103857407420638),\n",
      " (33, 0.13451308012933105),\n",
      " (34, 0.01917669019515162),\n",
      " (35, 0.01893259716308412),\n",
      " (36, 0.05450251361673981),\n",
      " (37, 0.015472522664402254),\n",
      " (38, 0.0930652319131507),\n",
      " (39, 0.08843626718736107),\n",
      " (40, 0.024023798381702863),\n",
      " (41, 0.02553162913474619),\n",
      " (42, 0.059243253560926454),\n",
      " (43, 0.026768845403234487),\n",
      " (44, 0.049384027408627136),\n",
      " (45, 0.03916672257573239),\n",
      " (46, 0.014409641938961),\n",
      " (47, 0.05054325037409373),\n",
      " (48, 0.1455937520878434),\n",
      " (49, 0.04832850092790667),\n",
      " (50, 0.06328090714902415),\n",
      " (51, 0.05568228920372351),\n",
      " (52, 0.04978550864944781),\n",
      " (53, 0.05991974652935202),\n",
      " (54, 0.015877746616795838),\n",
      " (55, 0.0567308193493731),\n",
      " (56, 0.01241062432687905),\n",
      " (57, 0.1328675648334137),\n",
      " (58, 0.017811928415248174),\n",
      " (59, 0.03970032064801024),\n",
      " (60, 0.12302457535643345),\n",
      " (61, 0.025941777994505852),\n",
      " (62, 0.034073145795862236),\n",
      " (63, 0.05322325124738056),\n",
      " (64, 0.03701326762873281),\n",
      " (65, 0.044944570594162174),\n",
      " (66, 0.05670373719321247),\n",
      " (67, 0.08902778153954612),\n",
      " (68, 0.058486176540316334),\n",
      " (69, 0.04920232732505032),\n",
      " (70, 0.05660196425085734),\n",
      " (71, 0.04991678735858471),\n",
      " (72, 0.035941570454542056),\n",
      " (73, 0.04048240805534205),\n",
      " (74, 0.10566327627095905),\n",
      " (75, 0.04070645288477873),\n",
      " (76, 0.04691356965909895),\n",
      " (77, 0.05615862094307087),\n",
      " (78, 0.019170052168956286),\n",
      " (79, 0.03708884872813251),\n",
      " (80, 0.01637617733663176),\n",
      " (81, 0.04872078807326921),\n",
      " (82, 0.05094415289916085),\n",
      " (83, 0.09297687666651692),\n",
      " (84, 0.08025942818646428),\n",
      " (85, 0.049227006768373514),\n",
      " (86, 0.023913725845774534),\n",
      " (87, 0.022675467740050727),\n",
      " (88, 0.03852773542828836),\n",
      " (89, 0.0371116318550208),\n",
      " (90, 0.018479738807692596),\n",
      " (91, 0.038686012035159),\n",
      " (92, 0.0444205861968383),\n",
      " (93, 0.19317742443362468),\n",
      " (94, 0.04035654138216356),\n",
      " (95, 0.04697292872611602),\n",
      " (96, 0.020952436544392963),\n",
      " (97, 0.01521188771325214),\n",
      " (98, 0.0675662128178715),\n",
      " (99, 0.08144208988069242),\n",
      " (100, 0.03947780220437172),\n",
      " (101, 0.04560036178382203),\n",
      " (102, 0.051988289883630114),\n",
      " (103, 0.05559010039558837),\n",
      " (104, 0.03426154676333226),\n",
      " (105, 0.023596531285386226),\n",
      " (106, 0.044066662213913345),\n",
      " (107, 0.030040141464197062),\n",
      " (108, 0.03191727908595173),\n",
      " (109, 0.029994389237891373),\n",
      " (110, 0.03218681578880678),\n",
      " (111, 0.03977742588736021),\n",
      " (112, 0.019883987320390255),\n",
      " (113, 0.01686707731159001),\n",
      " (114, 0.07070396958562347),\n",
      " (115, 0.02340038854417206),\n",
      " (116, 0.038982671405931556),\n",
      " (117, 0.045914824857430286),\n",
      " (118, 0.03126421415961199),\n",
      " (119, 0.03213515069704907),\n",
      " (120, 0.05598630407961594),\n",
      " (121, 0.03437743280709429),\n",
      " (122, 0.02851914753199135),\n",
      " (123, 0.030232998588794312),\n",
      " (124, 0.028572012878766904),\n",
      " (125, 0.0212421849135575),\n",
      " (126, 0.029144057014514266),\n",
      " (127, 0.06451586851277459),\n",
      " (128, 0.03514546465015904),\n",
      " (129, 0.03648489522059521),\n",
      " (130, 0.01501157756942175),\n",
      " (131, 0.01422013553255756),\n",
      " (132, 0.0727968760439217),\n",
      " (133, 0.0551383181794097),\n",
      " (134, 0.1606699587064115),\n",
      " (135, 0.04514193313484834),\n",
      " (136, 0.04777751248598925),\n",
      " (137, 0.06604034672619304),\n",
      " (138, 0.03478757674399876),\n",
      " (139, 0.04965588545368813),\n",
      " (140, 0.02589970599746703),\n",
      " (141, 0.035677420522932164),\n",
      " (142, 0.030561352698439567),\n",
      " (143, 0.03689257403158117),\n",
      " (144, 0.04935130070372139),\n",
      " (145, 0.03985800708774221),\n",
      " (146, 0.18315142063562345),\n",
      " (147, 0.2280609814869374),\n",
      " (148, 0.06468677536193436),\n",
      " (149, 0.04146737783320813),\n",
      " (150, 0.05712121520932476),\n",
      " (151, 0.03744386391505506),\n",
      " (152, 0.01589124368916161),\n",
      " (153, 0.032177402799864856),\n",
      " (154, 0.06842655932833325),\n",
      " (155, 0.013075252462446089),\n",
      " (156, 0.028499392913727373),\n",
      " (157, 0.03823525927108271),\n",
      " (158, 0.041277459837751315),\n",
      " (159, 0.07953802201241424),\n",
      " (160, 0.159451823862536),\n",
      " (161, 0.05323418558852449),\n",
      " (162, 0.02066909663865263),\n",
      " (163, 0.017008063081998526),\n",
      " (164, 0.09669325805959174),\n",
      " (165, 0.05824572152402222),\n",
      " (166, 0.20079407212941847),\n",
      " (167, 0.054585409091867314),\n",
      " (168, 0.013541945340670181),\n",
      " (169, 0.016550583081175456),\n",
      " (170, 0.043265355430474293),\n",
      " (171, 0.031114652422206093),\n",
      " (172, 0.02189746051486993),\n",
      " (173, 0.03658552942642021),\n",
      " (174, 0.023662067961389668),\n",
      " (175, 0.04852120436974957),\n",
      " (176, 0.02017043444184747),\n",
      " (177, 0.011516866166491557),\n",
      " (178, 0.0272031732819017),\n",
      " (179, 0.0940526739526426),\n",
      " (180, 0.03307136362430457),\n",
      " (181, 0.06936999450385956),\n",
      " (182, 0.02214085467603243),\n",
      " (183, 0.02911618138847996),\n",
      " (184, 0.056572957925327155),\n",
      " (185, 0.05362124856848291),\n",
      " (186, 0.026114666599645262),\n",
      " (187, 0.021947767005120147),\n",
      " (188, 0.02051062711198425),\n",
      " (189, 0.023857034343359042),\n",
      " (190, 0.030703022360639355),\n",
      " (191, 0.06299403318466207),\n",
      " (192, 0.011841522952572498),\n",
      " (193, 0.016764693000412),\n",
      " (194, 0.06451586851277459),\n",
      " (195, 0.023660013602792594),\n",
      " (196, 0.05860854683325078),\n",
      " (197, 0.07146672879008656),\n",
      " (198, 0.04105151768654037),\n",
      " (199, 0.04312766404712165),\n",
      " (200, 0.13454187727358896),\n",
      " (201, 0.11962905055141347),\n",
      " (202, 0.02598507608836114),\n",
      " (203, 0.04416073189094449),\n",
      " (204, 0.35980091973506273),\n",
      " (205, 0.025956784111218503),\n",
      " (206, 0.027693094810048308),\n",
      " (207, 0.035310033167409535),\n",
      " (208, 0.026039305242488313),\n",
      " (209, 0.05176447736372403),\n",
      " (210, 0.055427195778071134),\n",
      " (211, 0.016683096735371016),\n",
      " (212, 0.023196130782274553),\n",
      " (213, 0.02946429356253311),\n",
      " (214, 0.04558301328484098),\n",
      " (215, 0.06192046880189102),\n",
      " (216, 0.047443647340034915),\n",
      " (217, 0.04500993795726062),\n",
      " (218, 0.1648461838561032),\n",
      " (219, 0.07660394199385888),\n",
      " (220, 0.022632984424183687),\n",
      " (221, 0.046718145841218445),\n",
      " (222, 0.04598962969485348),\n",
      " (223, 0.07527577677592603),\n",
      " (224, 0.06330031977652449),\n",
      " (225, 0.028388161583562558),\n",
      " (226, 0.026193212446992933),\n",
      " (227, 0.01352277313530177),\n",
      " (228, 0.048016316922880976),\n",
      " (229, 0.04792883568671097),\n",
      " (230, 0.03783602527669148),\n",
      " (231, 0.0715733851455951),\n",
      " (232, 0.03441830356951414),\n",
      " (233, 0.07021361925613517),\n",
      " (234, 0.06377757299334043),\n",
      " (235, 0.041169747281576935),\n",
      " (236, 0.04371760365388866),\n",
      " (237, 0.04497720231428592),\n",
      " (238, 0.08794381784265054),\n",
      " (239, 0.0344534654619757),\n",
      " (240, 0.02301898645458341),\n",
      " (241, 0.02910919838331585),\n",
      " (242, 0.0218010082221197),\n",
      " (243, 0.02531219279168508),\n",
      " (244, 0.06514116697147544),\n",
      " (245, 0.049227006768373514),\n",
      " (246, 0.03734276646861328),\n",
      " (247, 0.03699821787025188),\n",
      " (248, 0.03699821787025188),\n",
      " (249, 0.01502398324031444)]\n"
     ]
    }
   ],
   "source": [
    "tfidf = models.TfidfModel(BOW)\n",
    "corpus_tfidf = tfidf[BOW]\n",
    "from pprint import pprint\n",
    "for doc in corpus_tfidf:\n",
    "    pprint(doc)\n",
    "    break"
   ]
  },
  {
   "cell_type": "markdown",
   "metadata": {},
   "source": [
    "## LDA oparte o BOW"
   ]
  },
  {
   "cell_type": "code",
   "execution_count": 63,
   "metadata": {},
   "outputs": [],
   "source": [
    "lda_model = gensim.models.LdaMulticore(BOW, id2word=dictionary,num_topics=10, passes=2, workers=2)"
   ]
  },
  {
   "cell_type": "code",
   "execution_count": 64,
   "metadata": {},
   "outputs": [
    {
     "name": "stdout",
     "output_type": "stream",
     "text": [
      "Topic: 0 \n",
      "Words: 0.014*\"zmiana\" + 0.012*\"poprawka\" + 0.010*\"przepis\" + 0.007*\"klub\" + 0.006*\"arta\" + 0.006*\"dzień\" + 0.006*\"zakres\" + 0.006*\"usta\" + 0.005*\"proponować\" + 0.005*\"przyjąć\"\n",
      "Topic: 1 \n",
      "Words: 0.008*\"spółka\" + 0.007*\"przedsiębiorstwo\" + 0.007*\"gospodarczy\" + 0.007*\"bank\" + 0.006*\"skarb\" + 0.006*\"prywatyzacja\" + 0.006*\"gospodarka\" + 0.005*\"rynek\" + 0.005*\"firma\" + 0.004*\"przedsiębiorca\"\n",
      "Topic: 2 \n",
      "Words: 0.006*\"narodowy\" + 0.006*\"polska\" + 0.005*\"wysoki\" + 0.005*\"wojskowy\" + 0.005*\"swój\" + 0.004*\"dzień\" + 0.004*\"żołnierz\" + 0.004*\"służba\" + 0.004*\"człowiek\" + 0.004*\"uczelnia\"\n",
      "Topic: 3 \n",
      "Words: 0.024*\"dziecko\" + 0.014*\"osoba\" + 0.014*\"rodzina\" + 0.007*\"praca\" + 0.006*\"rzecznik\" + 0.006*\"społeczny\" + 0.006*\"pomoc\" + 0.005*\"kobieta\" + 0.005*\"świadczenie\" + 0.005*\"niepełnosprawny\"\n",
      "Topic: 4 \n",
      "Words: 0.013*\"rząd\" + 0.009*\"problem\" + 0.008*\"praca\" + 0.007*\"sejm\" + 0.007*\"pewien\" + 0.006*\"budżet\" + 0.006*\"powiedzieć\" + 0.005*\"wniosek\" + 0.005*\"społeczny\" + 0.005*\"chodzić\"\n",
      "Topic: 5 \n",
      "Words: 0.020*\"polska\" + 0.018*\"europejski\" + 0.015*\"unia\" + 0.011*\"rząd\" + 0.009*\"kraj\" + 0.009*\"polityka\" + 0.005*\"europa\" + 0.005*\"zagraniczny\" + 0.004*\"swój\" + 0.004*\"polityczny\"\n",
      "Topic: 6 \n",
      "Words: 0.007*\"sejm\" + 0.006*\"powiedzieć\" + 0.006*\"marszałek\" + 0.006*\"sąd\" + 0.006*\"człowiek\" + 0.005*\"sprawiedliwość\" + 0.005*\"konstytucyjny\" + 0.005*\"prosić\" + 0.005*\"swój\" + 0.005*\"wniosek\"\n",
      "Topic: 7 \n",
      "Words: 0.018*\"praca\" + 0.011*\"samorząd\" + 0.009*\"środek\" + 0.007*\"program\" + 0.007*\"gmina\" + 0.006*\"społeczny\" + 0.006*\"województwo\" + 0.006*\"droga\" + 0.006*\"zadanie\" + 0.006*\"rozwój\"\n",
      "Topic: 8 \n",
      "Words: 0.020*\"zdrowie\" + 0.012*\"służba\" + 0.009*\"zdrowotny\" + 0.008*\"szpital\" + 0.007*\"system\" + 0.007*\"lekarz\" + 0.006*\"pacjent\" + 0.006*\"rząd\" + 0.005*\"medyczny\" + 0.005*\"opieka\"\n",
      "Topic: 9 \n",
      "Words: 0.011*\"złoty\" + 0.010*\"rząd\" + 0.010*\"budżet\" + 0.008*\"podatek\" + 0.008*\"rolnik\" + 0.007*\"rolnictwo\" + 0.007*\"rolny\" + 0.006*\"środek\" + 0.005*\"polska\" + 0.005*\"kwota\"\n"
     ]
    }
   ],
   "source": [
    "for idx, topic in lda_model.print_topics(-1):\n",
    "    print('Topic: {} \\nWords: {}'.format(idx, topic))"
   ]
  },
  {
   "cell_type": "markdown",
   "metadata": {},
   "source": [
    "## LDA oparte o TF-IDF"
   ]
  },
  {
   "cell_type": "code",
   "execution_count": 66,
   "metadata": {},
   "outputs": [
    {
     "name": "stdout",
     "output_type": "stream",
     "text": [
      "Topic: 0 Word: 0.004*\"złoty\" + 0.004*\"budżet\" + 0.003*\"podatek\" + 0.003*\"mld\" + 0.003*\"rząd\" + 0.003*\"bank\" + 0.003*\"wzrost\" + 0.002*\"budżetowy\" + 0.002*\"pieniądz\" + 0.002*\"wydatek\"\n",
      "Topic: 1 Word: 0.005*\"rolnik\" + 0.004*\"rolnictwo\" + 0.004*\"rolny\" + 0.004*\"europejski\" + 0.003*\"unia\" + 0.003*\"poprawka\" + 0.002*\"rynek\" + 0.002*\"rozwój\" + 0.002*\"podatek\" + 0.002*\"gospodarstwo\"\n",
      "Topic: 2 Word: 0.002*\"rząd\" + 0.002*\"polska\" + 0.002*\"premier\" + 0.002*\"marszałek\" + 0.002*\"człowiek\" + 0.002*\"sejm\" + 0.002*\"prosić\" + 0.002*\"polityczny\" + 0.001*\"powiedzieć\" + 0.001*\"polak\"\n",
      "Topic: 3 Word: 0.003*\"dziecko\" + 0.003*\"praca\" + 0.003*\"osoba\" + 0.002*\"zdrowie\" + 0.002*\"zmiana\" + 0.002*\"poprawka\" + 0.002*\"służba\" + 0.002*\"sąd\" + 0.002*\"świadczenie\" + 0.002*\"rodzina\"\n",
      "Topic: 4 Word: 0.011*\"poprawka\" + 0.006*\"senat\" + 0.003*\"klub\" + 0.003*\"zmiana\" + 0.003*\"przyjąć\" + 0.002*\"głosować\" + 0.002*\"sprawozdanie\" + 0.002*\"nieruchomość\" + 0.002*\"zgłosić\" + 0.002*\"konwencja\"\n"
     ]
    }
   ],
   "source": [
    "lda_model_tfidf = gensim.models.LdaMulticore(corpus_tfidf, num_topics=5, id2word=dictionary, passes=2, workers=4)\n",
    "for idx, topic in lda_model_tfidf.print_topics(-1):\n",
    "    print('Topic: {} Word: {}'.format(idx, topic))"
   ]
  },
  {
   "cell_type": "code",
   "execution_count": 69,
   "metadata": {},
   "outputs": [
    {
     "data": {
      "text/plain": [
       "[(0,\n",
       "  '0.004*\"złoty\" + 0.004*\"budżet\" + 0.003*\"podatek\" + 0.003*\"mld\" + 0.003*\"rząd\" + 0.003*\"bank\" + 0.003*\"wzrost\" + 0.002*\"budżetowy\" + 0.002*\"pieniądz\" + 0.002*\"wydatek\"'),\n",
       " (3,\n",
       "  '0.003*\"dziecko\" + 0.003*\"praca\" + 0.003*\"osoba\" + 0.002*\"zdrowie\" + 0.002*\"zmiana\" + 0.002*\"poprawka\" + 0.002*\"służba\" + 0.002*\"sąd\" + 0.002*\"świadczenie\" + 0.002*\"rodzina\"'),\n",
       " (4,\n",
       "  '0.011*\"poprawka\" + 0.006*\"senat\" + 0.003*\"klub\" + 0.003*\"zmiana\" + 0.003*\"przyjąć\" + 0.002*\"głosować\" + 0.002*\"sprawozdanie\" + 0.002*\"nieruchomość\" + 0.002*\"zgłosić\" + 0.002*\"konwencja\"'),\n",
       " (2,\n",
       "  '0.002*\"rząd\" + 0.002*\"polska\" + 0.002*\"premier\" + 0.002*\"marszałek\" + 0.002*\"człowiek\" + 0.002*\"sejm\" + 0.002*\"prosić\" + 0.002*\"polityczny\" + 0.001*\"powiedzieć\" + 0.001*\"polak\"'),\n",
       " (1,\n",
       "  '0.005*\"rolnik\" + 0.004*\"rolnictwo\" + 0.004*\"rolny\" + 0.004*\"europejski\" + 0.003*\"unia\" + 0.003*\"poprawka\" + 0.002*\"rynek\" + 0.002*\"rozwój\" + 0.002*\"podatek\" + 0.002*\"gospodarstwo\"')]"
      ]
     },
     "execution_count": 69,
     "metadata": {},
     "output_type": "execute_result"
    }
   ],
   "source": [
    "lda_model_tfidf.print_topics(0)"
   ]
  },
  {
   "cell_type": "code",
   "execution_count": 100,
   "metadata": {},
   "outputs": [
    {
     "data": {
      "text/html": [
       "<div>\n",
       "<style scoped>\n",
       "    .dataframe tbody tr th:only-of-type {\n",
       "        vertical-align: middle;\n",
       "    }\n",
       "\n",
       "    .dataframe tbody tr th {\n",
       "        vertical-align: top;\n",
       "    }\n",
       "\n",
       "    .dataframe thead th {\n",
       "        text-align: right;\n",
       "    }\n",
       "</style>\n",
       "<table border=\"1\" class=\"dataframe\">\n",
       "  <thead>\n",
       "    <tr style=\"text-align: right;\">\n",
       "      <th></th>\n",
       "      <th>Topic 0</th>\n",
       "      <th>Topic 1</th>\n",
       "      <th>Topic 2</th>\n",
       "      <th>Topic 3</th>\n",
       "      <th>Topic 4</th>\n",
       "    </tr>\n",
       "  </thead>\n",
       "  <tbody>\n",
       "    <tr>\n",
       "      <th>0</th>\n",
       "      <td>złoty</td>\n",
       "      <td>rolnik</td>\n",
       "      <td>rząd</td>\n",
       "      <td>dziecko</td>\n",
       "      <td>poprawka</td>\n",
       "    </tr>\n",
       "    <tr>\n",
       "      <th>1</th>\n",
       "      <td>budżet</td>\n",
       "      <td>rolnictwo</td>\n",
       "      <td>polska</td>\n",
       "      <td>praca</td>\n",
       "      <td>senat</td>\n",
       "    </tr>\n",
       "    <tr>\n",
       "      <th>2</th>\n",
       "      <td>podatek</td>\n",
       "      <td>rolny</td>\n",
       "      <td>premier</td>\n",
       "      <td>osoba</td>\n",
       "      <td>klub</td>\n",
       "    </tr>\n",
       "    <tr>\n",
       "      <th>3</th>\n",
       "      <td>mld</td>\n",
       "      <td>europejski</td>\n",
       "      <td>marszałek</td>\n",
       "      <td>zdrowie</td>\n",
       "      <td>zmiana</td>\n",
       "    </tr>\n",
       "    <tr>\n",
       "      <th>4</th>\n",
       "      <td>rząd</td>\n",
       "      <td>unia</td>\n",
       "      <td>człowiek</td>\n",
       "      <td>zmiana</td>\n",
       "      <td>przyjąć</td>\n",
       "    </tr>\n",
       "    <tr>\n",
       "      <th>5</th>\n",
       "      <td>bank</td>\n",
       "      <td>poprawka</td>\n",
       "      <td>sejm</td>\n",
       "      <td>poprawka</td>\n",
       "      <td>głosować</td>\n",
       "    </tr>\n",
       "    <tr>\n",
       "      <th>6</th>\n",
       "      <td>wzrost</td>\n",
       "      <td>rynek</td>\n",
       "      <td>prosić</td>\n",
       "      <td>służba</td>\n",
       "      <td>sprawozdanie</td>\n",
       "    </tr>\n",
       "    <tr>\n",
       "      <th>7</th>\n",
       "      <td>budżetowy</td>\n",
       "      <td>rozwój</td>\n",
       "      <td>polityczny</td>\n",
       "      <td>sąd</td>\n",
       "      <td>nieruchomość</td>\n",
       "    </tr>\n",
       "    <tr>\n",
       "      <th>8</th>\n",
       "      <td>pieniądz</td>\n",
       "      <td>podatek</td>\n",
       "      <td>powiedzieć</td>\n",
       "      <td>świadczenie</td>\n",
       "      <td>zgłosić</td>\n",
       "    </tr>\n",
       "    <tr>\n",
       "      <th>9</th>\n",
       "      <td>wydatek</td>\n",
       "      <td>gospodarstwo</td>\n",
       "      <td>polak</td>\n",
       "      <td>rodzina</td>\n",
       "      <td>konwencja</td>\n",
       "    </tr>\n",
       "  </tbody>\n",
       "</table>\n",
       "</div>"
      ],
      "text/plain": [
       "     Topic 0       Topic 1     Topic 2      Topic 3       Topic 4\n",
       "0      złoty        rolnik        rząd      dziecko      poprawka\n",
       "1     budżet     rolnictwo      polska        praca         senat\n",
       "2    podatek         rolny     premier        osoba          klub\n",
       "3        mld    europejski   marszałek      zdrowie        zmiana\n",
       "4       rząd          unia    człowiek       zmiana       przyjąć\n",
       "5       bank      poprawka        sejm     poprawka      głosować\n",
       "6     wzrost         rynek      prosić       służba  sprawozdanie\n",
       "7  budżetowy        rozwój  polityczny          sąd  nieruchomość\n",
       "8   pieniądz       podatek  powiedzieć  świadczenie       zgłosić\n",
       "9    wydatek  gospodarstwo       polak      rodzina     konwencja"
      ]
     },
     "execution_count": 100,
     "metadata": {},
     "output_type": "execute_result"
    }
   ],
   "source": [
    "funcs.print_topics(lda_model_tfidf.print_topics(-1))"
   ]
  },
  {
   "cell_type": "code",
   "execution_count": 85,
   "metadata": {
    "scrolled": true
   },
   "outputs": [
    {
     "data": {
      "text/plain": [
       "(0,\n",
       " '0.004*\"złoty\" + 0.004*\"budżet\" + 0.003*\"podatek\" + 0.003*\"mld\" + 0.003*\"rząd\" + 0.003*\"bank\" + 0.003*\"wzrost\" + 0.002*\"budżetowy\" + 0.002*\"pieniądz\" + 0.002*\"wydatek\"')"
      ]
     },
     "execution_count": 85,
     "metadata": {},
     "output_type": "execute_result"
    }
   ],
   "source": [
    "lda_model_tfidf.print_topics(-1)[0]"
   ]
  },
  {
   "cell_type": "code",
   "execution_count": 89,
   "metadata": {},
   "outputs": [
    {
     "data": {
      "text/plain": [
       "0        poprawka\n",
       "1           senat\n",
       "2            klub\n",
       "3          zmiana\n",
       "4         przyjąć\n",
       "5        głosować\n",
       "6    sprawozdanie\n",
       "7    nieruchomość\n",
       "8         zgłosić\n",
       "9       konwencja\n",
       "Name: Topic 4, dtype: object"
      ]
     },
     "execution_count": 89,
     "metadata": {},
     "output_type": "execute_result"
    }
   ],
   "source": [
    "pd.Series(a[0][1].split(' + ')).apply(lambda x : re.sub(r'[\\d\\.\\*\\\"\\']', '', x))"
   ]
  },
  {
   "cell_type": "code",
   "execution_count": 91,
   "metadata": {},
   "outputs": [],
   "source": [
    "topic_df = pd.DataFrame()\n",
    "for topic in lda_model_tfidf.print_topics(-1):\n",
    "    topic_df['Topic ' + str(topic[0])] = pd.Series(topic[1].split(' + ')).apply(lambda x : re.sub(r'[\\d\\.\\*\\\"\\']', '', x))"
   ]
  },
  {
   "cell_type": "code",
   "execution_count": 93,
   "metadata": {},
   "outputs": [
    {
     "data": {
      "text/html": [
       "<div>\n",
       "<style scoped>\n",
       "    .dataframe tbody tr th:only-of-type {\n",
       "        vertical-align: middle;\n",
       "    }\n",
       "\n",
       "    .dataframe tbody tr th {\n",
       "        vertical-align: top;\n",
       "    }\n",
       "\n",
       "    .dataframe thead th {\n",
       "        text-align: right;\n",
       "    }\n",
       "</style>\n",
       "<table border=\"1\" class=\"dataframe\">\n",
       "  <thead>\n",
       "    <tr style=\"text-align: right;\">\n",
       "      <th></th>\n",
       "      <th>Topic 0</th>\n",
       "      <th>Topic 1</th>\n",
       "      <th>Topic 2</th>\n",
       "      <th>Topic 3</th>\n",
       "      <th>Topic 4</th>\n",
       "    </tr>\n",
       "  </thead>\n",
       "  <tbody>\n",
       "    <tr>\n",
       "      <th>0</th>\n",
       "      <td>złoty</td>\n",
       "      <td>rolnik</td>\n",
       "      <td>rząd</td>\n",
       "      <td>dziecko</td>\n",
       "      <td>poprawka</td>\n",
       "    </tr>\n",
       "    <tr>\n",
       "      <th>1</th>\n",
       "      <td>budżet</td>\n",
       "      <td>rolnictwo</td>\n",
       "      <td>polska</td>\n",
       "      <td>praca</td>\n",
       "      <td>senat</td>\n",
       "    </tr>\n",
       "    <tr>\n",
       "      <th>2</th>\n",
       "      <td>podatek</td>\n",
       "      <td>rolny</td>\n",
       "      <td>premier</td>\n",
       "      <td>osoba</td>\n",
       "      <td>klub</td>\n",
       "    </tr>\n",
       "    <tr>\n",
       "      <th>3</th>\n",
       "      <td>mld</td>\n",
       "      <td>europejski</td>\n",
       "      <td>marszałek</td>\n",
       "      <td>zdrowie</td>\n",
       "      <td>zmiana</td>\n",
       "    </tr>\n",
       "    <tr>\n",
       "      <th>4</th>\n",
       "      <td>rząd</td>\n",
       "      <td>unia</td>\n",
       "      <td>człowiek</td>\n",
       "      <td>zmiana</td>\n",
       "      <td>przyjąć</td>\n",
       "    </tr>\n",
       "    <tr>\n",
       "      <th>5</th>\n",
       "      <td>bank</td>\n",
       "      <td>poprawka</td>\n",
       "      <td>sejm</td>\n",
       "      <td>poprawka</td>\n",
       "      <td>głosować</td>\n",
       "    </tr>\n",
       "    <tr>\n",
       "      <th>6</th>\n",
       "      <td>wzrost</td>\n",
       "      <td>rynek</td>\n",
       "      <td>prosić</td>\n",
       "      <td>służba</td>\n",
       "      <td>sprawozdanie</td>\n",
       "    </tr>\n",
       "    <tr>\n",
       "      <th>7</th>\n",
       "      <td>budżetowy</td>\n",
       "      <td>rozwój</td>\n",
       "      <td>polityczny</td>\n",
       "      <td>sąd</td>\n",
       "      <td>nieruchomość</td>\n",
       "    </tr>\n",
       "    <tr>\n",
       "      <th>8</th>\n",
       "      <td>pieniądz</td>\n",
       "      <td>podatek</td>\n",
       "      <td>powiedzieć</td>\n",
       "      <td>świadczenie</td>\n",
       "      <td>zgłosić</td>\n",
       "    </tr>\n",
       "    <tr>\n",
       "      <th>9</th>\n",
       "      <td>wydatek</td>\n",
       "      <td>gospodarstwo</td>\n",
       "      <td>polak</td>\n",
       "      <td>rodzina</td>\n",
       "      <td>konwencja</td>\n",
       "    </tr>\n",
       "  </tbody>\n",
       "</table>\n",
       "</div>"
      ],
      "text/plain": [
       "     Topic 0       Topic 1     Topic 2      Topic 3       Topic 4\n",
       "0      złoty        rolnik        rząd      dziecko      poprawka\n",
       "1     budżet     rolnictwo      polska        praca         senat\n",
       "2    podatek         rolny     premier        osoba          klub\n",
       "3        mld    europejski   marszałek      zdrowie        zmiana\n",
       "4       rząd          unia    człowiek       zmiana       przyjąć\n",
       "5       bank      poprawka        sejm     poprawka      głosować\n",
       "6     wzrost         rynek      prosić       służba  sprawozdanie\n",
       "7  budżetowy        rozwój  polityczny          sąd  nieruchomość\n",
       "8   pieniądz       podatek  powiedzieć  świadczenie       zgłosić\n",
       "9    wydatek  gospodarstwo       polak      rodzina     konwencja"
      ]
     },
     "execution_count": 93,
     "metadata": {},
     "output_type": "execute_result"
    }
   ],
   "source": [
    "topic_df"
   ]
  },
  {
   "cell_type": "code",
   "execution_count": null,
   "metadata": {},
   "outputs": [],
   "source": []
  }
 ],
 "metadata": {
  "kernelspec": {
   "display_name": "Python 3",
   "language": "python",
   "name": "python3"
  },
  "language_info": {
   "codemirror_mode": {
    "name": "ipython",
    "version": 3
   },
   "file_extension": ".py",
   "mimetype": "text/x-python",
   "name": "python",
   "nbconvert_exporter": "python",
   "pygments_lexer": "ipython3",
   "version": "3.7.6"
  }
 },
 "nbformat": 4,
 "nbformat_minor": 4
}
