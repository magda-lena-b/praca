{
 "cells": [
  {
   "cell_type": "markdown",
   "metadata": {},
   "source": [
    "# Klasteryzacja posłów\n",
    "\n",
    "Czy możemy pogrupować posłów wg rozkładów po tematach?\n",
    "\n",
    "Jak wyniki będą się różniły od przypisania do partii?"
   ]
  },
  {
   "cell_type": "code",
   "execution_count": 1,
   "metadata": {},
   "outputs": [
    {
     "data": {
      "text/plain": [
       "<module 'funcs' from 'D:\\\\_projekty\\\\praca\\\\funcs.py'>"
      ]
     },
     "execution_count": 1,
     "metadata": {},
     "output_type": "execute_result"
    }
   ],
   "source": [
    "import re\n",
    "import pandas as pd\n",
    "import numpy as np\n",
    "import funcs \n",
    "import importlib\n",
    "import unicodecsv as csv\n",
    "import pickle\n",
    "import random\n",
    "import gensim\n",
    "from gensim import corpora, models\n",
    "from timeit import default_timer as timer\n",
    "from datetime import datetime, timedelta\n",
    "import nltk\n",
    "from nltk.tokenize import word_tokenize\n",
    "import matplotlib.pyplot as plt\n",
    "import spacy\n",
    "from collections import Counter\n",
    "import pyLDAvis\n",
    "import pyLDAvis.gensim\n",
    "from sklearn.model_selection import train_test_split\n",
    "\n",
    "importlib.reload(funcs)"
   ]
  },
  {
   "cell_type": "code",
   "execution_count": 2,
   "metadata": {},
   "outputs": [],
   "source": [
    "dane = pd.read_csv('00_dane/dane_TM.csv',  sep='|', encoding='UTF-8')\n",
    "dane['speech_rawest'] = dane['speech_rawest'].apply(lambda x: re.sub(r'[\\W\\d]',' ', x.lower()))\n",
    "nlp = spacy.load('pl_model')\n",
    "stop = set(nlp.Defaults.stop_words)\n",
    "stop.add('zł')\n",
    "stop.add('pkt')\n",
    "stop.add('art')\n",
    "stop.add('ustawy')\n",
    "stop.add('r')\n",
    "dane['speech_rawest'] = dane['speech_rawest'].apply(lambda x: [word for word in x.split() if word not in stop])\n",
    "dane = dane[dane['full_name'].apply(lambda x:isinstance(x, str))]\n",
    "dane = dane.reset_index()\n",
    "dane = dane.drop('index', axis=1)\n",
    "dane.to_csv('00_dane/dane_cleanest.csv', sep='|', encoding='UTF-8', index = False)"
   ]
  },
  {
   "cell_type": "markdown",
   "metadata": {},
   "source": [
    "### Przygotowanie danych:\n",
    "\n",
    "1. Wybór liczniejszych partii\n",
    "2. Przypisanie wektorów tematycznych posłom"
   ]
  },
  {
   "cell_type": "markdown",
   "metadata": {},
   "source": [
    "#### 1. Wybór posłów"
   ]
  },
  {
   "cell_type": "code",
   "execution_count": 38,
   "metadata": {},
   "outputs": [
    {
     "data": {
      "text/html": [
       "<div>\n",
       "<style scoped>\n",
       "    .dataframe tbody tr th:only-of-type {\n",
       "        vertical-align: middle;\n",
       "    }\n",
       "\n",
       "    .dataframe tbody tr th {\n",
       "        vertical-align: top;\n",
       "    }\n",
       "\n",
       "    .dataframe thead th {\n",
       "        text-align: right;\n",
       "    }\n",
       "</style>\n",
       "<table border=\"1\" class=\"dataframe\">\n",
       "  <thead>\n",
       "    <tr style=\"text-align: right;\">\n",
       "      <th></th>\n",
       "      <th>nr</th>\n",
       "      <th>date_</th>\n",
       "      <th>speech_rawer</th>\n",
       "      <th>full_name</th>\n",
       "      <th>party_final</th>\n",
       "      <th>speech_rawest</th>\n",
       "      <th>topic_LDA_BOW</th>\n",
       "      <th>topic_LDA_TF</th>\n",
       "      <th>opis_LDA_BOW</th>\n",
       "      <th>opis_LDA_TF</th>\n",
       "    </tr>\n",
       "  </thead>\n",
       "  <tbody>\n",
       "    <tr>\n",
       "      <th>0</th>\n",
       "      <td>0</td>\n",
       "      <td>01-02-1992</td>\n",
       "      <td>Chciałbym kilka zdań powiedzieć na temat skut...</td>\n",
       "      <td>Aleksander Bentkowski</td>\n",
       "      <td>Polskie Stronnictwo Ludowe</td>\n",
       "      <td>[chcieć, zdanie, powiedzieć, temat, skutek, us...</td>\n",
       "      <td>16.0</td>\n",
       "      <td>13.0</td>\n",
       "      <td>wymiar sprawiedliwości</td>\n",
       "      <td>przepisy</td>\n",
       "    </tr>\n",
       "  </tbody>\n",
       "</table>\n",
       "</div>"
      ],
      "text/plain": [
       "   nr       date_                                       speech_rawer  \\\n",
       "0   0  01-02-1992   Chciałbym kilka zdań powiedzieć na temat skut...   \n",
       "\n",
       "               full_name                 party_final  \\\n",
       "0  Aleksander Bentkowski  Polskie Stronnictwo Ludowe   \n",
       "\n",
       "                                       speech_rawest  topic_LDA_BOW  \\\n",
       "0  [chcieć, zdanie, powiedzieć, temat, skutek, us...           16.0   \n",
       "\n",
       "   topic_LDA_TF            opis_LDA_BOW opis_LDA_TF  \n",
       "0          13.0  wymiar sprawiedliwości    przepisy  "
      ]
     },
     "execution_count": 38,
     "metadata": {},
     "output_type": "execute_result"
    }
   ],
   "source": [
    "dane.head(1)"
   ]
  },
  {
   "cell_type": "code",
   "execution_count": 194,
   "metadata": {},
   "outputs": [],
   "source": [
    "PP = dane[(dane['party_final']=='Prawo i Sprawiedliwość') | (dane['party_final']=='Platforma Obywatelska')\n",
    "         | (dane['party_final']=='Akcja Wyborcza Solidarność')\n",
    "         | (dane['party_final']=='Sojusz Lewicy Demokratycznej') | (dane['party_final']=='Polskie Stronnictwo Ludowe')][['full_name', 'party_final']]\n",
    "PP = PP.drop_duplicates()\n",
    "PP = PP.reset_index()\n",
    "PP = PP.drop('index', axis=1)"
   ]
  },
  {
   "cell_type": "code",
   "execution_count": 192,
   "metadata": {
    "collapsed": true
   },
   "outputs": [
    {
     "data": {
      "text/plain": [
       "Counter({'Polskie Stronnictwo Ludowe': 198,\n",
       "         'Sojusz Lewicy Demokratycznej': 311,\n",
       "         'Klub Parlamentarny NSZZ Solidarność': 16,\n",
       "         'Klub Parlamentarny Zjednoczenia Chrześcijańsko-Narodowego': 25,\n",
       "         'Klub Parlamentarny Unii Wolności \\r\\n': 42,\n",
       "         'Klub Polski Program Liberalny': 36,\n",
       "         'Koło Poselskie Konserwatywno-Ludowe\\r\\n': 5,\n",
       "         'Klub Parlamentarny Konwencja Polska': 17,\n",
       "         'posłowie niezrzeszeni': 109,\n",
       "         'Klub Parlamentarny Konfederacji Polski Niepodległej': 31,\n",
       "         'Klub Parlamentarny Ruch dla Rzeczypospolitej': 11,\n",
       "         'Koło Poselskie Socjaldemokracji Polskiej\\r\\n': 2,\n",
       "         'Klub Parlamentarny Unii Wolności': 26,\n",
       "         'Platforma Obywatelska': 276,\n",
       "         'posłowie niezrzeszeni\\r\\n': 21,\n",
       "         'Prawo i Sprawiedliwość': 317,\n",
       "         'Klub Parlamentarny Unia Demokratyczna': 15,\n",
       "         'Klub Parlamentarny Stronnictwa Konserwatywno-Ludowego\\r\\n': 7,\n",
       "         'Koło Parlamentarne Konfederacji Polski Niepodległej': 2,\n",
       "         'Koło Poselskie Prawica Rzeczypospolitej\\r\\n': 6,\n",
       "         'Akcja Wyborcza Solidarność': 124,\n",
       "         'Unia Pracy': 39,\n",
       "         'Koło Poselskie Chrześcijańska Demokracja': 6,\n",
       "         'Klub Parlamentarny Porozumienie Ludowe': 15,\n",
       "         'Klub Parlamentarny Polska Jest Najważniejsza\\r\\n': 6,\n",
       "         'Nowa Demokracja - Koło Poselskie': 3,\n",
       "         'Koło Parlamentarne ALTERNATYWA\\r\\n': 4,\n",
       "         'Koło Parlamentarne Porozumienie Prawicy - Solidarni w Wyborach': 3,\n",
       "         'Koło Parlamentarne BBWR': 2,\n",
       "         'Koło Konserwatywno-Ludowe': 5,\n",
       "         'Koło Parlamentarne Polskiej Partii Socjalistycznej': 2,\n",
       "         'Koło Poselskie Stronnictwa Gospodarczego\\r\\n': 10,\n",
       "         'Klub Parlamentarny Socjaldemokracji Polskiej\\r\\n': 26,\n",
       "         'Klub Parlamentarny Liga Polskich Rodzin\\r\\n': 39,\n",
       "         'Koło Poselskie Dom Ojczysty\\r\\n': 10,\n",
       "         'Koło Parlamentarne Bezpartyjnego Bloku Wspierania Reform': 4,\n",
       "         'Klub Poselski Lewica\\r\\n': 6,\n",
       "         'Koło Mniejszości Niemieckiej': 2,\n",
       "         'Koło Poselskie Ruch Patriotyczny\\r\\n': 3,\n",
       "         'Samoobrona': 54,\n",
       "         'Koło Poselskie Ruchu Katolicko-Narodowego\\r\\n': 2,\n",
       "         'Koło Poselskie Porozumienia Polskiego\\r\\n': 4,\n",
       "         'Klub Poselski Platformy Obywatelskiej\\r\\n': 3,\n",
       "         'Koło Parlamentarne Polska Plus\\r\\n': 1,\n",
       "         'Koło Parlamentarne Stronnictwa Konserwatywno-Ludowego\\r\\n': 1,\n",
       "         'Klub Parlamentarny Sprawiedliwa Polska': 1,\n",
       "         'Klub Parlamentarny Zjednoczona Prawica': 9,\n",
       "         'Koło Poselskie Ruch Palikota': 8,\n",
       "         \"Klub Poselski Kukiz'15\": 25,\n",
       "         'Klub Poselski Nowoczesna': 15,\n",
       "         'Parlamentarny Klub Porozumienia Centrum': 16,\n",
       "         'Koło Poselskie Unii Polityki Realnej': 4,\n",
       "         'Koło Parlamentarne Ruchu Odbudowy Polski\\r\\n': 2,\n",
       "         'Koło Poselskie Ruchu Odbudowy Polski\\r\\n': 2,\n",
       "         'Koło Poselskie Partii Ludowo-Demokratycznej\\r\\n': 1,\n",
       "         'Koło Poselskie Biało-Czerwoni': 4,\n",
       "         'Koło Poselskie TERAZ!': 3,\n",
       "         'Koło Poselskie Konfederacja': 4,\n",
       "         'Koło Poselskie Ruch Ludowo-Narodowy\\r\\n': 3,\n",
       "         'Parlamentarne Koło Mniejszości Niemieckiej': 6,\n",
       "         'Klub Poselski Twój Ruch': 1,\n",
       "         'Koło Poselskie Akcji Polskiej': 2,\n",
       "         'Koło Poselskie Partii Emerytów i Rencistów Nadzieja': 3,\n",
       "         'Koło Poselskie Wolni i Solidarni': 1})"
      ]
     },
     "execution_count": 192,
     "metadata": {},
     "output_type": "execute_result"
    }
   ],
   "source": [
    "aa = dane[['full_name', 'party_final']]\n",
    "aa = aa.drop_duplicates()\n",
    "Counter(aa.party_final)"
   ]
  },
  {
   "cell_type": "code",
   "execution_count": 191,
   "metadata": {},
   "outputs": [
    {
     "data": {
      "text/html": [
       "<div>\n",
       "<style scoped>\n",
       "    .dataframe tbody tr th:only-of-type {\n",
       "        vertical-align: middle;\n",
       "    }\n",
       "\n",
       "    .dataframe tbody tr th {\n",
       "        vertical-align: top;\n",
       "    }\n",
       "\n",
       "    .dataframe thead th {\n",
       "        text-align: right;\n",
       "    }\n",
       "</style>\n",
       "<table border=\"1\" class=\"dataframe\">\n",
       "  <thead>\n",
       "    <tr style=\"text-align: right;\">\n",
       "      <th></th>\n",
       "      <th>full_name</th>\n",
       "      <th>party_final</th>\n",
       "    </tr>\n",
       "  </thead>\n",
       "  <tbody>\n",
       "    <tr>\n",
       "      <th>0</th>\n",
       "      <td>Aleksander Bentkowski</td>\n",
       "      <td>Polskie Stronnictwo Ludowe</td>\n",
       "    </tr>\n",
       "    <tr>\n",
       "      <th>1</th>\n",
       "      <td>Aleksander Kwaśniewski</td>\n",
       "      <td>Sojusz Lewicy Demokratycznej</td>\n",
       "    </tr>\n",
       "    <tr>\n",
       "      <th>2</th>\n",
       "      <td>Alojzy Pietrzyk</td>\n",
       "      <td>Klub Parlamentarny NSZZ Solidarność</td>\n",
       "    </tr>\n",
       "    <tr>\n",
       "      <th>3</th>\n",
       "      <td>Alojzy Szablewski</td>\n",
       "      <td>Klub Parlamentarny Zjednoczenia Chrześcijańsko...</td>\n",
       "    </tr>\n",
       "    <tr>\n",
       "      <th>4</th>\n",
       "      <td>Andrzej Baraniecki</td>\n",
       "      <td>Sojusz Lewicy Demokratycznej</td>\n",
       "    </tr>\n",
       "    <tr>\n",
       "      <th>...</th>\n",
       "      <td>...</td>\n",
       "      <td>...</td>\n",
       "    </tr>\n",
       "    <tr>\n",
       "      <th>145050</th>\n",
       "      <td>Leszek Bubel</td>\n",
       "      <td>posłowie niezrzeszeni</td>\n",
       "    </tr>\n",
       "    <tr>\n",
       "      <th>146381</th>\n",
       "      <td>Ryszard Bonda</td>\n",
       "      <td>posłowie niezrzeszeni</td>\n",
       "    </tr>\n",
       "    <tr>\n",
       "      <th>149739</th>\n",
       "      <td>Jerzy Orłowski</td>\n",
       "      <td>Klub Polski Program Liberalny</td>\n",
       "    </tr>\n",
       "    <tr>\n",
       "      <th>152403</th>\n",
       "      <td>Stanisław Wąsik</td>\n",
       "      <td>Klub Parlamentarny NSZZ Solidarność</td>\n",
       "    </tr>\n",
       "    <tr>\n",
       "      <th>156435</th>\n",
       "      <td>Mirosław Sośnicki</td>\n",
       "      <td>Klub Polski Program Liberalny</td>\n",
       "    </tr>\n",
       "  </tbody>\n",
       "</table>\n",
       "<p>1957 rows × 2 columns</p>\n",
       "</div>"
      ],
      "text/plain": [
       "                     full_name  \\\n",
       "0        Aleksander Bentkowski   \n",
       "1       Aleksander Kwaśniewski   \n",
       "2              Alojzy Pietrzyk   \n",
       "3            Alojzy Szablewski   \n",
       "4           Andrzej Baraniecki   \n",
       "...                        ...   \n",
       "145050            Leszek Bubel   \n",
       "146381           Ryszard Bonda   \n",
       "149739          Jerzy Orłowski   \n",
       "152403         Stanisław Wąsik   \n",
       "156435       Mirosław Sośnicki   \n",
       "\n",
       "                                              party_final  \n",
       "0                              Polskie Stronnictwo Ludowe  \n",
       "1                            Sojusz Lewicy Demokratycznej  \n",
       "2                     Klub Parlamentarny NSZZ Solidarność  \n",
       "3       Klub Parlamentarny Zjednoczenia Chrześcijańsko...  \n",
       "4                            Sojusz Lewicy Demokratycznej  \n",
       "...                                                   ...  \n",
       "145050                              posłowie niezrzeszeni  \n",
       "146381                              posłowie niezrzeszeni  \n",
       "149739                      Klub Polski Program Liberalny  \n",
       "152403                Klub Parlamentarny NSZZ Solidarność  \n",
       "156435                      Klub Polski Program Liberalny  \n",
       "\n",
       "[1957 rows x 2 columns]"
      ]
     },
     "execution_count": 191,
     "metadata": {},
     "output_type": "execute_result"
    }
   ],
   "source": [
    "aa"
   ]
  },
  {
   "cell_type": "code",
   "execution_count": 195,
   "metadata": {},
   "outputs": [
    {
     "data": {
      "text/plain": [
       "Counter({'Polskie Stronnictwo Ludowe': 198,\n",
       "         'Sojusz Lewicy Demokratycznej': 311,\n",
       "         'Platforma Obywatelska': 276,\n",
       "         'Prawo i Sprawiedliwość': 317,\n",
       "         'Akcja Wyborcza Solidarność': 124})"
      ]
     },
     "execution_count": 195,
     "metadata": {},
     "output_type": "execute_result"
    }
   ],
   "source": [
    "Counter(PP.party_final)"
   ]
  },
  {
   "cell_type": "code",
   "execution_count": 100,
   "metadata": {},
   "outputs": [
    {
     "data": {
      "text/html": [
       "<div>\n",
       "<style scoped>\n",
       "    .dataframe tbody tr th:only-of-type {\n",
       "        vertical-align: middle;\n",
       "    }\n",
       "\n",
       "    .dataframe tbody tr th {\n",
       "        vertical-align: top;\n",
       "    }\n",
       "\n",
       "    .dataframe thead th {\n",
       "        text-align: right;\n",
       "    }\n",
       "</style>\n",
       "<table border=\"1\" class=\"dataframe\">\n",
       "  <thead>\n",
       "    <tr style=\"text-align: right;\">\n",
       "      <th></th>\n",
       "      <th>full_name</th>\n",
       "      <th>party_final</th>\n",
       "    </tr>\n",
       "  </thead>\n",
       "  <tbody>\n",
       "    <tr>\n",
       "      <th>0</th>\n",
       "      <td>Aleksander Bentkowski</td>\n",
       "      <td>Polskie Stronnictwo Ludowe</td>\n",
       "    </tr>\n",
       "    <tr>\n",
       "      <th>1</th>\n",
       "      <td>Aleksander Kwaśniewski</td>\n",
       "      <td>Sojusz Lewicy Demokratycznej</td>\n",
       "    </tr>\n",
       "    <tr>\n",
       "      <th>2</th>\n",
       "      <td>Andrzej Baraniecki</td>\n",
       "      <td>Sojusz Lewicy Demokratycznej</td>\n",
       "    </tr>\n",
       "    <tr>\n",
       "      <th>3</th>\n",
       "      <td>Danuta Waniek</td>\n",
       "      <td>Sojusz Lewicy Demokratycznej</td>\n",
       "    </tr>\n",
       "    <tr>\n",
       "      <th>4</th>\n",
       "      <td>Irena Nowacka</td>\n",
       "      <td>Sojusz Lewicy Demokratycznej</td>\n",
       "    </tr>\n",
       "  </tbody>\n",
       "</table>\n",
       "</div>"
      ],
      "text/plain": [
       "                full_name                   party_final\n",
       "0   Aleksander Bentkowski    Polskie Stronnictwo Ludowe\n",
       "1  Aleksander Kwaśniewski  Sojusz Lewicy Demokratycznej\n",
       "2      Andrzej Baraniecki  Sojusz Lewicy Demokratycznej\n",
       "3           Danuta Waniek  Sojusz Lewicy Demokratycznej\n",
       "4           Irena Nowacka  Sojusz Lewicy Demokratycznej"
      ]
     },
     "execution_count": 100,
     "metadata": {},
     "output_type": "execute_result"
    }
   ],
   "source": [
    "PP.head()"
   ]
  },
  {
   "cell_type": "code",
   "execution_count": 196,
   "metadata": {},
   "outputs": [
    {
     "data": {
      "text/plain": [
       "{'Akcja Wyborcza Solidarność',\n",
       " 'Platforma Obywatelska',\n",
       " 'Polskie Stronnictwo Ludowe',\n",
       " 'Prawo i Sprawiedliwość',\n",
       " 'Sojusz Lewicy Demokratycznej'}"
      ]
     },
     "execution_count": 196,
     "metadata": {},
     "output_type": "execute_result"
    }
   ],
   "source": [
    "set(PP.party_final)"
   ]
  },
  {
   "cell_type": "markdown",
   "metadata": {},
   "source": [
    "#### 2. Przypisanie wektorów tematycznych"
   ]
  },
  {
   "cell_type": "markdown",
   "metadata": {},
   "source": [
    "#### Załadowanie modelu"
   ]
  },
  {
   "cell_type": "code",
   "execution_count": 50,
   "metadata": {},
   "outputs": [],
   "source": [
    "model = pickle.load(open('model_atm.p', 'rb'))"
   ]
  },
  {
   "cell_type": "markdown",
   "metadata": {},
   "source": [
    "Dodanie kolumnz z zerami jako domyślnymi wartościami"
   ]
  },
  {
   "cell_type": "code",
   "execution_count": 197,
   "metadata": {},
   "outputs": [],
   "source": [
    "PP = dane[(dane['party_final']=='Prawo i Sprawiedliwość') | (dane['party_final']=='Platforma Obywatelska')\n",
    "         | (dane['party_final']=='Akcja Wyborcza Solidarność')\n",
    "         | (dane['party_final']=='Sojusz Lewicy Demokratycznej') | (dane['party_final']=='Polskie Stronnictwo Ludowe')][['full_name', 'party_final']]\n",
    "PP = PP.drop_duplicates()\n",
    "PP = PP.reset_index()\n",
    "PP = PP.drop('index', axis=1)\n",
    "z = pd.DataFrame(np.zeros((PP.shape[0],30)))\n",
    "PP = pd.concat([PP, z], axis=1 )"
   ]
  },
  {
   "cell_type": "code",
   "execution_count": 198,
   "metadata": {},
   "outputs": [
    {
     "data": {
      "text/html": [
       "<div>\n",
       "<style scoped>\n",
       "    .dataframe tbody tr th:only-of-type {\n",
       "        vertical-align: middle;\n",
       "    }\n",
       "\n",
       "    .dataframe tbody tr th {\n",
       "        vertical-align: top;\n",
       "    }\n",
       "\n",
       "    .dataframe thead th {\n",
       "        text-align: right;\n",
       "    }\n",
       "</style>\n",
       "<table border=\"1\" class=\"dataframe\">\n",
       "  <thead>\n",
       "    <tr style=\"text-align: right;\">\n",
       "      <th></th>\n",
       "      <th>full_name</th>\n",
       "      <th>party_final</th>\n",
       "      <th>0</th>\n",
       "      <th>1</th>\n",
       "      <th>2</th>\n",
       "      <th>3</th>\n",
       "      <th>4</th>\n",
       "      <th>5</th>\n",
       "      <th>6</th>\n",
       "      <th>7</th>\n",
       "      <th>...</th>\n",
       "      <th>20</th>\n",
       "      <th>21</th>\n",
       "      <th>22</th>\n",
       "      <th>23</th>\n",
       "      <th>24</th>\n",
       "      <th>25</th>\n",
       "      <th>26</th>\n",
       "      <th>27</th>\n",
       "      <th>28</th>\n",
       "      <th>29</th>\n",
       "    </tr>\n",
       "  </thead>\n",
       "  <tbody>\n",
       "    <tr>\n",
       "      <th>0</th>\n",
       "      <td>Aleksander Bentkowski</td>\n",
       "      <td>Polskie Stronnictwo Ludowe</td>\n",
       "      <td>0.0</td>\n",
       "      <td>0.0</td>\n",
       "      <td>0.0</td>\n",
       "      <td>0.0</td>\n",
       "      <td>0.0</td>\n",
       "      <td>0.0</td>\n",
       "      <td>0.0</td>\n",
       "      <td>0.0</td>\n",
       "      <td>...</td>\n",
       "      <td>0.0</td>\n",
       "      <td>0.0</td>\n",
       "      <td>0.0</td>\n",
       "      <td>0.0</td>\n",
       "      <td>0.0</td>\n",
       "      <td>0.0</td>\n",
       "      <td>0.0</td>\n",
       "      <td>0.0</td>\n",
       "      <td>0.0</td>\n",
       "      <td>0.0</td>\n",
       "    </tr>\n",
       "    <tr>\n",
       "      <th>1</th>\n",
       "      <td>Aleksander Kwaśniewski</td>\n",
       "      <td>Sojusz Lewicy Demokratycznej</td>\n",
       "      <td>0.0</td>\n",
       "      <td>0.0</td>\n",
       "      <td>0.0</td>\n",
       "      <td>0.0</td>\n",
       "      <td>0.0</td>\n",
       "      <td>0.0</td>\n",
       "      <td>0.0</td>\n",
       "      <td>0.0</td>\n",
       "      <td>...</td>\n",
       "      <td>0.0</td>\n",
       "      <td>0.0</td>\n",
       "      <td>0.0</td>\n",
       "      <td>0.0</td>\n",
       "      <td>0.0</td>\n",
       "      <td>0.0</td>\n",
       "      <td>0.0</td>\n",
       "      <td>0.0</td>\n",
       "      <td>0.0</td>\n",
       "      <td>0.0</td>\n",
       "    </tr>\n",
       "    <tr>\n",
       "      <th>2</th>\n",
       "      <td>Andrzej Baraniecki</td>\n",
       "      <td>Sojusz Lewicy Demokratycznej</td>\n",
       "      <td>0.0</td>\n",
       "      <td>0.0</td>\n",
       "      <td>0.0</td>\n",
       "      <td>0.0</td>\n",
       "      <td>0.0</td>\n",
       "      <td>0.0</td>\n",
       "      <td>0.0</td>\n",
       "      <td>0.0</td>\n",
       "      <td>...</td>\n",
       "      <td>0.0</td>\n",
       "      <td>0.0</td>\n",
       "      <td>0.0</td>\n",
       "      <td>0.0</td>\n",
       "      <td>0.0</td>\n",
       "      <td>0.0</td>\n",
       "      <td>0.0</td>\n",
       "      <td>0.0</td>\n",
       "      <td>0.0</td>\n",
       "      <td>0.0</td>\n",
       "    </tr>\n",
       "    <tr>\n",
       "      <th>3</th>\n",
       "      <td>Danuta Waniek</td>\n",
       "      <td>Sojusz Lewicy Demokratycznej</td>\n",
       "      <td>0.0</td>\n",
       "      <td>0.0</td>\n",
       "      <td>0.0</td>\n",
       "      <td>0.0</td>\n",
       "      <td>0.0</td>\n",
       "      <td>0.0</td>\n",
       "      <td>0.0</td>\n",
       "      <td>0.0</td>\n",
       "      <td>...</td>\n",
       "      <td>0.0</td>\n",
       "      <td>0.0</td>\n",
       "      <td>0.0</td>\n",
       "      <td>0.0</td>\n",
       "      <td>0.0</td>\n",
       "      <td>0.0</td>\n",
       "      <td>0.0</td>\n",
       "      <td>0.0</td>\n",
       "      <td>0.0</td>\n",
       "      <td>0.0</td>\n",
       "    </tr>\n",
       "    <tr>\n",
       "      <th>4</th>\n",
       "      <td>Irena Nowacka</td>\n",
       "      <td>Sojusz Lewicy Demokratycznej</td>\n",
       "      <td>0.0</td>\n",
       "      <td>0.0</td>\n",
       "      <td>0.0</td>\n",
       "      <td>0.0</td>\n",
       "      <td>0.0</td>\n",
       "      <td>0.0</td>\n",
       "      <td>0.0</td>\n",
       "      <td>0.0</td>\n",
       "      <td>...</td>\n",
       "      <td>0.0</td>\n",
       "      <td>0.0</td>\n",
       "      <td>0.0</td>\n",
       "      <td>0.0</td>\n",
       "      <td>0.0</td>\n",
       "      <td>0.0</td>\n",
       "      <td>0.0</td>\n",
       "      <td>0.0</td>\n",
       "      <td>0.0</td>\n",
       "      <td>0.0</td>\n",
       "    </tr>\n",
       "  </tbody>\n",
       "</table>\n",
       "<p>5 rows × 32 columns</p>\n",
       "</div>"
      ],
      "text/plain": [
       "                full_name                   party_final    0    1    2    3  \\\n",
       "0   Aleksander Bentkowski    Polskie Stronnictwo Ludowe  0.0  0.0  0.0  0.0   \n",
       "1  Aleksander Kwaśniewski  Sojusz Lewicy Demokratycznej  0.0  0.0  0.0  0.0   \n",
       "2      Andrzej Baraniecki  Sojusz Lewicy Demokratycznej  0.0  0.0  0.0  0.0   \n",
       "3           Danuta Waniek  Sojusz Lewicy Demokratycznej  0.0  0.0  0.0  0.0   \n",
       "4           Irena Nowacka  Sojusz Lewicy Demokratycznej  0.0  0.0  0.0  0.0   \n",
       "\n",
       "     4    5    6    7  ...   20   21   22   23   24   25   26   27   28   29  \n",
       "0  0.0  0.0  0.0  0.0  ...  0.0  0.0  0.0  0.0  0.0  0.0  0.0  0.0  0.0  0.0  \n",
       "1  0.0  0.0  0.0  0.0  ...  0.0  0.0  0.0  0.0  0.0  0.0  0.0  0.0  0.0  0.0  \n",
       "2  0.0  0.0  0.0  0.0  ...  0.0  0.0  0.0  0.0  0.0  0.0  0.0  0.0  0.0  0.0  \n",
       "3  0.0  0.0  0.0  0.0  ...  0.0  0.0  0.0  0.0  0.0  0.0  0.0  0.0  0.0  0.0  \n",
       "4  0.0  0.0  0.0  0.0  ...  0.0  0.0  0.0  0.0  0.0  0.0  0.0  0.0  0.0  0.0  \n",
       "\n",
       "[5 rows x 32 columns]"
      ]
     },
     "execution_count": 198,
     "metadata": {},
     "output_type": "execute_result"
    }
   ],
   "source": [
    "PP.head()"
   ]
  },
  {
   "cell_type": "code",
   "execution_count": 114,
   "metadata": {},
   "outputs": [
    {
     "data": {
      "text/plain": [
       "1156"
      ]
     },
     "execution_count": 114,
     "metadata": {},
     "output_type": "execute_result"
    }
   ],
   "source": [
    "PP.shape[0]"
   ]
  },
  {
   "cell_type": "markdown",
   "metadata": {},
   "source": [
    "#### Wpisanie prawdopodobieństw w kolumny"
   ]
  },
  {
   "cell_type": "code",
   "execution_count": 199,
   "metadata": {},
   "outputs": [],
   "source": [
    "for i in PP.index:\n",
    "    pos = PP.iloc[i]['full_name']\n",
    "    p_df = pd.DataFrame(model.get_author_topics(pos), columns=['nr_t', 'pr'])\n",
    "    for topic, prob in zip(p_df['nr_t'], p_df['pr']):\n",
    "        PP.at[i, topic] = prob"
   ]
  },
  {
   "cell_type": "code",
   "execution_count": 200,
   "metadata": {},
   "outputs": [
    {
     "data": {
      "text/html": [
       "<div>\n",
       "<style scoped>\n",
       "    .dataframe tbody tr th:only-of-type {\n",
       "        vertical-align: middle;\n",
       "    }\n",
       "\n",
       "    .dataframe tbody tr th {\n",
       "        vertical-align: top;\n",
       "    }\n",
       "\n",
       "    .dataframe thead th {\n",
       "        text-align: right;\n",
       "    }\n",
       "</style>\n",
       "<table border=\"1\" class=\"dataframe\">\n",
       "  <thead>\n",
       "    <tr style=\"text-align: right;\">\n",
       "      <th></th>\n",
       "      <th>full_name</th>\n",
       "      <th>party_final</th>\n",
       "      <th>0</th>\n",
       "      <th>1</th>\n",
       "      <th>2</th>\n",
       "      <th>3</th>\n",
       "      <th>4</th>\n",
       "      <th>5</th>\n",
       "      <th>6</th>\n",
       "      <th>7</th>\n",
       "      <th>...</th>\n",
       "      <th>20</th>\n",
       "      <th>21</th>\n",
       "      <th>22</th>\n",
       "      <th>23</th>\n",
       "      <th>24</th>\n",
       "      <th>25</th>\n",
       "      <th>26</th>\n",
       "      <th>27</th>\n",
       "      <th>28</th>\n",
       "      <th>29</th>\n",
       "    </tr>\n",
       "  </thead>\n",
       "  <tbody>\n",
       "    <tr>\n",
       "      <th>549</th>\n",
       "      <td>Elżbieta Witek</td>\n",
       "      <td>Prawo i Sprawiedliwość</td>\n",
       "      <td>0.0</td>\n",
       "      <td>0.010174</td>\n",
       "      <td>0.014873</td>\n",
       "      <td>0.024079</td>\n",
       "      <td>0.0</td>\n",
       "      <td>0.105116</td>\n",
       "      <td>0.01823</td>\n",
       "      <td>0.22354</td>\n",
       "      <td>...</td>\n",
       "      <td>0.042009</td>\n",
       "      <td>0.065132</td>\n",
       "      <td>0.0</td>\n",
       "      <td>0.0</td>\n",
       "      <td>0.031326</td>\n",
       "      <td>0.033539</td>\n",
       "      <td>0.012191</td>\n",
       "      <td>0.039969</td>\n",
       "      <td>0.036021</td>\n",
       "      <td>0.014318</td>\n",
       "    </tr>\n",
       "  </tbody>\n",
       "</table>\n",
       "<p>1 rows × 32 columns</p>\n",
       "</div>"
      ],
      "text/plain": [
       "          full_name             party_final    0         1         2  \\\n",
       "549  Elżbieta Witek  Prawo i Sprawiedliwość  0.0  0.010174  0.014873   \n",
       "\n",
       "            3    4         5        6        7  ...        20        21   22  \\\n",
       "549  0.024079  0.0  0.105116  0.01823  0.22354  ...  0.042009  0.065132  0.0   \n",
       "\n",
       "      23        24        25        26        27        28        29  \n",
       "549  0.0  0.031326  0.033539  0.012191  0.039969  0.036021  0.014318  \n",
       "\n",
       "[1 rows x 32 columns]"
      ]
     },
     "execution_count": 200,
     "metadata": {},
     "output_type": "execute_result"
    }
   ],
   "source": [
    "PP[PP['full_name']=='Elżbieta Witek']\n"
   ]
  },
  {
   "cell_type": "code",
   "execution_count": 51,
   "metadata": {},
   "outputs": [
    {
     "data": {
      "text/plain": [
       "[(1, 0.010173695171435126),\n",
       " (2, 0.014872677386877869),\n",
       " (3, 0.02407901524157414),\n",
       " (5, 0.10511610697817833),\n",
       " (6, 0.018229619890880247),\n",
       " (7, 0.2235401804266464),\n",
       " (8, 0.1712791074742982),\n",
       " (11, 0.02212356055109756),\n",
       " (12, 0.01838168075407171),\n",
       " (13, 0.02287676835633774),\n",
       " (14, 0.017514451907634475),\n",
       " (18, 0.015027905440992353),\n",
       " (19, 0.03473897075465472),\n",
       " (20, 0.04200934650766345),\n",
       " (21, 0.06513185956774548),\n",
       " (24, 0.031326426080217025),\n",
       " (25, 0.03353918415974472),\n",
       " (26, 0.0121908155606172),\n",
       " (27, 0.03996850684097312),\n",
       " (28, 0.036020736323498705),\n",
       " (29, 0.014318267145241299)]"
      ]
     },
     "execution_count": 51,
     "metadata": {},
     "output_type": "execute_result"
    }
   ],
   "source": [
    "model.get_author_topics('Elżbieta Witek')"
   ]
  },
  {
   "cell_type": "markdown",
   "metadata": {},
   "source": [
    "### Podział na grupy"
   ]
  },
  {
   "cell_type": "code",
   "execution_count": 123,
   "metadata": {},
   "outputs": [],
   "source": [
    "from sklearn.cluster import KMeans"
   ]
  },
  {
   "cell_type": "code",
   "execution_count": 150,
   "metadata": {},
   "outputs": [
    {
     "data": {
      "text/html": [
       "<div>\n",
       "<style scoped>\n",
       "    .dataframe tbody tr th:only-of-type {\n",
       "        vertical-align: middle;\n",
       "    }\n",
       "\n",
       "    .dataframe tbody tr th {\n",
       "        vertical-align: top;\n",
       "    }\n",
       "\n",
       "    .dataframe thead th {\n",
       "        text-align: right;\n",
       "    }\n",
       "</style>\n",
       "<table border=\"1\" class=\"dataframe\">\n",
       "  <thead>\n",
       "    <tr style=\"text-align: right;\">\n",
       "      <th></th>\n",
       "      <th>full_name</th>\n",
       "      <th>party_final</th>\n",
       "      <th>0</th>\n",
       "      <th>1</th>\n",
       "      <th>2</th>\n",
       "      <th>3</th>\n",
       "      <th>4</th>\n",
       "      <th>5</th>\n",
       "      <th>6</th>\n",
       "      <th>7</th>\n",
       "      <th>...</th>\n",
       "      <th>21</th>\n",
       "      <th>22</th>\n",
       "      <th>23</th>\n",
       "      <th>24</th>\n",
       "      <th>25</th>\n",
       "      <th>26</th>\n",
       "      <th>27</th>\n",
       "      <th>28</th>\n",
       "      <th>29</th>\n",
       "      <th>cluster</th>\n",
       "    </tr>\n",
       "  </thead>\n",
       "  <tbody>\n",
       "    <tr>\n",
       "      <th>0</th>\n",
       "      <td>Aleksander Bentkowski</td>\n",
       "      <td>Polskie Stronnictwo Ludowe</td>\n",
       "      <td>0.016329</td>\n",
       "      <td>0.000000</td>\n",
       "      <td>0.000000</td>\n",
       "      <td>0.000000</td>\n",
       "      <td>0.000000</td>\n",
       "      <td>0.025951</td>\n",
       "      <td>0.017050</td>\n",
       "      <td>0.000000</td>\n",
       "      <td>...</td>\n",
       "      <td>0.050733</td>\n",
       "      <td>0.0</td>\n",
       "      <td>0.000000</td>\n",
       "      <td>0.000000</td>\n",
       "      <td>0.000000</td>\n",
       "      <td>0.0</td>\n",
       "      <td>0.144057</td>\n",
       "      <td>0.025955</td>\n",
       "      <td>0.000000</td>\n",
       "      <td>5</td>\n",
       "    </tr>\n",
       "    <tr>\n",
       "      <th>1</th>\n",
       "      <td>Aleksander Kwaśniewski</td>\n",
       "      <td>Sojusz Lewicy Demokratycznej</td>\n",
       "      <td>0.000000</td>\n",
       "      <td>0.014935</td>\n",
       "      <td>0.000000</td>\n",
       "      <td>0.000000</td>\n",
       "      <td>0.087183</td>\n",
       "      <td>0.000000</td>\n",
       "      <td>0.056844</td>\n",
       "      <td>0.014710</td>\n",
       "      <td>...</td>\n",
       "      <td>0.088450</td>\n",
       "      <td>0.0</td>\n",
       "      <td>0.000000</td>\n",
       "      <td>0.000000</td>\n",
       "      <td>0.000000</td>\n",
       "      <td>0.0</td>\n",
       "      <td>0.000000</td>\n",
       "      <td>0.045425</td>\n",
       "      <td>0.018430</td>\n",
       "      <td>1</td>\n",
       "    </tr>\n",
       "    <tr>\n",
       "      <th>2</th>\n",
       "      <td>Andrzej Baraniecki</td>\n",
       "      <td>Sojusz Lewicy Demokratycznej</td>\n",
       "      <td>0.017562</td>\n",
       "      <td>0.045108</td>\n",
       "      <td>0.000000</td>\n",
       "      <td>0.027715</td>\n",
       "      <td>0.027780</td>\n",
       "      <td>0.010665</td>\n",
       "      <td>0.025111</td>\n",
       "      <td>0.000000</td>\n",
       "      <td>...</td>\n",
       "      <td>0.129243</td>\n",
       "      <td>0.0</td>\n",
       "      <td>0.010669</td>\n",
       "      <td>0.044385</td>\n",
       "      <td>0.016485</td>\n",
       "      <td>0.0</td>\n",
       "      <td>0.028154</td>\n",
       "      <td>0.039115</td>\n",
       "      <td>0.024910</td>\n",
       "      <td>1</td>\n",
       "    </tr>\n",
       "    <tr>\n",
       "      <th>3</th>\n",
       "      <td>Danuta Waniek</td>\n",
       "      <td>Sojusz Lewicy Demokratycznej</td>\n",
       "      <td>0.000000</td>\n",
       "      <td>0.072008</td>\n",
       "      <td>0.000000</td>\n",
       "      <td>0.089956</td>\n",
       "      <td>0.050291</td>\n",
       "      <td>0.015797</td>\n",
       "      <td>0.064131</td>\n",
       "      <td>0.081133</td>\n",
       "      <td>...</td>\n",
       "      <td>0.058760</td>\n",
       "      <td>0.0</td>\n",
       "      <td>0.000000</td>\n",
       "      <td>0.011286</td>\n",
       "      <td>0.015680</td>\n",
       "      <td>0.0</td>\n",
       "      <td>0.058784</td>\n",
       "      <td>0.022937</td>\n",
       "      <td>0.015485</td>\n",
       "      <td>1</td>\n",
       "    </tr>\n",
       "    <tr>\n",
       "      <th>4</th>\n",
       "      <td>Irena Nowacka</td>\n",
       "      <td>Sojusz Lewicy Demokratycznej</td>\n",
       "      <td>0.011017</td>\n",
       "      <td>0.028715</td>\n",
       "      <td>0.013483</td>\n",
       "      <td>0.044902</td>\n",
       "      <td>0.031392</td>\n",
       "      <td>0.049587</td>\n",
       "      <td>0.022568</td>\n",
       "      <td>0.228824</td>\n",
       "      <td>...</td>\n",
       "      <td>0.037328</td>\n",
       "      <td>0.0</td>\n",
       "      <td>0.000000</td>\n",
       "      <td>0.000000</td>\n",
       "      <td>0.016015</td>\n",
       "      <td>0.0</td>\n",
       "      <td>0.027311</td>\n",
       "      <td>0.054144</td>\n",
       "      <td>0.000000</td>\n",
       "      <td>4</td>\n",
       "    </tr>\n",
       "  </tbody>\n",
       "</table>\n",
       "<p>5 rows × 33 columns</p>\n",
       "</div>"
      ],
      "text/plain": [
       "                full_name                   party_final         0         1  \\\n",
       "0   Aleksander Bentkowski    Polskie Stronnictwo Ludowe  0.016329  0.000000   \n",
       "1  Aleksander Kwaśniewski  Sojusz Lewicy Demokratycznej  0.000000  0.014935   \n",
       "2      Andrzej Baraniecki  Sojusz Lewicy Demokratycznej  0.017562  0.045108   \n",
       "3           Danuta Waniek  Sojusz Lewicy Demokratycznej  0.000000  0.072008   \n",
       "4           Irena Nowacka  Sojusz Lewicy Demokratycznej  0.011017  0.028715   \n",
       "\n",
       "          2         3         4         5         6         7  ...        21  \\\n",
       "0  0.000000  0.000000  0.000000  0.025951  0.017050  0.000000  ...  0.050733   \n",
       "1  0.000000  0.000000  0.087183  0.000000  0.056844  0.014710  ...  0.088450   \n",
       "2  0.000000  0.027715  0.027780  0.010665  0.025111  0.000000  ...  0.129243   \n",
       "3  0.000000  0.089956  0.050291  0.015797  0.064131  0.081133  ...  0.058760   \n",
       "4  0.013483  0.044902  0.031392  0.049587  0.022568  0.228824  ...  0.037328   \n",
       "\n",
       "    22        23        24        25   26        27        28        29  \\\n",
       "0  0.0  0.000000  0.000000  0.000000  0.0  0.144057  0.025955  0.000000   \n",
       "1  0.0  0.000000  0.000000  0.000000  0.0  0.000000  0.045425  0.018430   \n",
       "2  0.0  0.010669  0.044385  0.016485  0.0  0.028154  0.039115  0.024910   \n",
       "3  0.0  0.000000  0.011286  0.015680  0.0  0.058784  0.022937  0.015485   \n",
       "4  0.0  0.000000  0.000000  0.016015  0.0  0.027311  0.054144  0.000000   \n",
       "\n",
       "   cluster  \n",
       "0        5  \n",
       "1        1  \n",
       "2        1  \n",
       "3        1  \n",
       "4        4  \n",
       "\n",
       "[5 rows x 33 columns]"
      ]
     },
     "execution_count": 150,
     "metadata": {},
     "output_type": "execute_result"
    }
   ],
   "source": [
    "PP.head()"
   ]
  },
  {
   "cell_type": "code",
   "execution_count": 201,
   "metadata": {},
   "outputs": [],
   "source": [
    "kmeans = KMeans(n_clusters=5).fit(PP.iloc[:, 2:])\n",
    "centroids = kmeans.cluster_centers_\n",
    "#dir(kmeans)"
   ]
  },
  {
   "cell_type": "code",
   "execution_count": 203,
   "metadata": {},
   "outputs": [],
   "source": [
    "#PP = PP.drop('cluster', axis=1)\n",
    "PP = pd.concat([PP, pd.Series(kmeans.labels_, name='cluster')], axis=1)"
   ]
  },
  {
   "cell_type": "markdown",
   "metadata": {},
   "source": [
    "Rozkład grup"
   ]
  },
  {
   "cell_type": "code",
   "execution_count": 205,
   "metadata": {},
   "outputs": [
    {
     "data": {
      "image/png": "[encoded data removed]",
      "text/plain": [
       "<Figure size 1440x720 with 1 Axes>"
      ]
     },
     "metadata": {
      "needs_background": "light"
     },
     "output_type": "display_data"
    }
   ],
   "source": [
    "a = Counter(PP['cluster'])\n",
    "\n",
    "fig = plt.figure(figsize=(20,10))\n",
    "bars = plt.bar(list(a.keys()), list(a.values()), align='center', linewidth=0, color='navy')\n",
    "plt.box(False)\n",
    "#plt.xticks(rotation=70)"
   ]
  },
  {
   "cell_type": "code",
   "execution_count": 206,
   "metadata": {},
   "outputs": [
    {
     "data": {
      "text/plain": [
       "<matplotlib.axes._subplots.AxesSubplot at 0x2205e3d2748>"
      ]
     },
     "execution_count": 206,
     "metadata": {},
     "output_type": "execute_result"
    },
    {
     "data": {
      "text/plain": [
       "<Figure size 1440x720 with 0 Axes>"
      ]
     },
     "metadata": {},
     "output_type": "display_data"
    },
    {
     "data": {
      "image/png": "[encoded data removed]",
      "text/plain": [
       "<Figure size 432x288 with 1 Axes>"
      ]
     },
     "metadata": {
      "needs_background": "light"
     },
     "output_type": "display_data"
    }
   ],
   "source": [
    "fig = plt.figure(figsize=(20,10))\n",
    "ct = pd.crosstab(PP.party_final, PP.cluster)\n",
    "\n",
    "ct.plot.bar(stacked=True)"
   ]
  },
  {
   "cell_type": "code",
   "execution_count": 207,
   "metadata": {},
   "outputs": [
    {
     "data": {
      "text/html": [
       "<div>\n",
       "<style scoped>\n",
       "    .dataframe tbody tr th:only-of-type {\n",
       "        vertical-align: middle;\n",
       "    }\n",
       "\n",
       "    .dataframe tbody tr th {\n",
       "        vertical-align: top;\n",
       "    }\n",
       "\n",
       "    .dataframe thead th {\n",
       "        text-align: right;\n",
       "    }\n",
       "</style>\n",
       "<table border=\"1\" class=\"dataframe\">\n",
       "  <thead>\n",
       "    <tr style=\"text-align: right;\">\n",
       "      <th>cluster</th>\n",
       "      <th>0</th>\n",
       "      <th>1</th>\n",
       "      <th>2</th>\n",
       "      <th>3</th>\n",
       "      <th>4</th>\n",
       "    </tr>\n",
       "    <tr>\n",
       "      <th>party_final</th>\n",
       "      <th></th>\n",
       "      <th></th>\n",
       "      <th></th>\n",
       "      <th></th>\n",
       "      <th></th>\n",
       "    </tr>\n",
       "  </thead>\n",
       "  <tbody>\n",
       "    <tr>\n",
       "      <th>Akcja Wyborcza Solidarność</th>\n",
       "      <td>17</td>\n",
       "      <td>0</td>\n",
       "      <td>97</td>\n",
       "      <td>6</td>\n",
       "      <td>4</td>\n",
       "    </tr>\n",
       "    <tr>\n",
       "      <th>Platforma Obywatelska</th>\n",
       "      <td>55</td>\n",
       "      <td>96</td>\n",
       "      <td>97</td>\n",
       "      <td>13</td>\n",
       "      <td>15</td>\n",
       "    </tr>\n",
       "    <tr>\n",
       "      <th>Polskie Stronnictwo Ludowe</th>\n",
       "      <td>23</td>\n",
       "      <td>13</td>\n",
       "      <td>128</td>\n",
       "      <td>30</td>\n",
       "      <td>4</td>\n",
       "    </tr>\n",
       "    <tr>\n",
       "      <th>Prawo i Sprawiedliwość</th>\n",
       "      <td>98</td>\n",
       "      <td>76</td>\n",
       "      <td>111</td>\n",
       "      <td>18</td>\n",
       "      <td>14</td>\n",
       "    </tr>\n",
       "    <tr>\n",
       "      <th>Sojusz Lewicy Demokratycznej</th>\n",
       "      <td>39</td>\n",
       "      <td>11</td>\n",
       "      <td>216</td>\n",
       "      <td>31</td>\n",
       "      <td>14</td>\n",
       "    </tr>\n",
       "  </tbody>\n",
       "</table>\n",
       "</div>"
      ],
      "text/plain": [
       "cluster                        0   1    2   3   4\n",
       "party_final                                      \n",
       "Akcja Wyborcza Solidarność    17   0   97   6   4\n",
       "Platforma Obywatelska         55  96   97  13  15\n",
       "Polskie Stronnictwo Ludowe    23  13  128  30   4\n",
       "Prawo i Sprawiedliwość        98  76  111  18  14\n",
       "Sojusz Lewicy Demokratycznej  39  11  216  31  14"
      ]
     },
     "execution_count": 207,
     "metadata": {},
     "output_type": "execute_result"
    }
   ],
   "source": [
    "ct"
   ]
  },
  {
   "cell_type": "code",
   "execution_count": 178,
   "metadata": {},
   "outputs": [
    {
     "data": {
      "text/plain": [
       "<matplotlib.legend.Legend at 0x2205de63788>"
      ]
     },
     "execution_count": 178,
     "metadata": {},
     "output_type": "execute_result"
    },
    {
     "data": {
      "image/png": "[encoded data removed]",
      "text/plain": [
       "<Figure size 432x288 with 1 Axes>"
      ]
     },
     "metadata": {
      "needs_background": "light"
     },
     "output_type": "display_data"
    }
   ],
   "source": [
    "ct2 = pd.crosstab(PP.party_final, PP.cluster, margins = True, normalize= 'index')\n",
    "p1 = ct2.plot.bar(stacked = True)\n",
    "plt.legend(loc=9)"
   ]
  },
  {
   "cell_type": "markdown",
   "metadata": {},
   "source": [
    "#### Czy inna liczba grup byłaby lepsza?"
   ]
  },
  {
   "cell_type": "code",
   "execution_count": 132,
   "metadata": {},
   "outputs": [
    {
     "data": {
      "image/png": "[encoded data removed]",
      "text/plain": [
       "<Figure size 432x288 with 1 Axes>"
      ]
     },
     "metadata": {
      "needs_background": "light"
     },
     "output_type": "display_data"
    }
   ],
   "source": [
    "wcss = []\n",
    "for i in range(1, 40):\n",
    "    kmeans = KMeans(n_clusters=i, init='k-means++', max_iter=300, n_init=10, random_state=0)\n",
    "    kmeans.fit(PP.iloc[:, 2:])\n",
    "    wcss.append(kmeans.inertia_)\n",
    "plt.plot(range(1, 40), wcss)\n",
    "plt.title('Elbow Method')\n",
    "plt.xlabel('Number of clusters')\n",
    "plt.ylabel('WCSS')\n",
    "plt.show()"
   ]
  },
  {
   "cell_type": "code",
   "execution_count": null,
   "metadata": {},
   "outputs": [],
   "source": []
  }
 ],
 "metadata": {
  "kernelspec": {
   "display_name": "Python 3",
   "language": "python",
   "name": "python3"
  },
  "language_info": {
   "codemirror_mode": {
    "name": "ipython",
    "version": 3
   },
   "file_extension": ".py",
   "mimetype": "text/x-python",
   "name": "python",
   "nbconvert_exporter": "python",
   "pygments_lexer": "ipython3",
   "version": "3.7.6"
  }
 },
 "nbformat": 4,
 "nbformat_minor": 4
}
