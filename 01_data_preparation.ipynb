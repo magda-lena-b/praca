{
 "cells": [
  {
   "cell_type": "code",
   "execution_count": 1,
   "metadata": {},
   "outputs": [
    {
     "data": {
      "text/plain": [
       "<module 'funcs' from 'C:\\\\Users\\\\Mag\\\\Documents\\\\_projekty\\\\praca\\\\funcs.py'>"
      ]
     },
     "execution_count": 1,
     "metadata": {},
     "output_type": "execute_result"
    }
   ],
   "source": [
    "import re\n",
    "import pandas as pd\n",
    "import funcs \n",
    "import importlib\n",
    "import unicodecsv as csv\n",
    "from timeit import default_timer as timer\n",
    "from datetime import datetime, timedelta\n",
    "\n",
    "importlib.reload(funcs)"
   ]
  },
  {
   "cell_type": "markdown",
   "metadata": {},
   "source": [
    "## 0. Wczytanie danych zrzuconych z bazy SQL do csv"
   ]
  },
  {
   "cell_type": "code",
   "execution_count": 2,
   "metadata": {},
   "outputs": [
    {
     "name": "stderr",
     "output_type": "stream",
     "text": [
      "C:\\Users\\Mag\\Anaconda3\\lib\\site-packages\\IPython\\core\\interactiveshell.py:2698: DtypeWarning: Columns (3,14) have mixed types. Specify dtype option on import or set low_memory=False.\n",
      "  interactivity=interactivity, compiler=compiler, result=result)\n"
     ]
    }
   ],
   "source": [
    "politicians = pd.read_csv(\"00_dane/portraits.csv\", sep='|')\n",
    "#speeches = pd.read_csv(\"00_dane/speech_data.csv\", sep='|')\n",
    "\n",
    "#wczytujemy plik po modyfikacjach w SQL\n",
    "speeches = pd.read_csv(\"00_dane/speeches.csv\", sep='|')"
   ]
  },
  {
   "cell_type": "markdown",
   "metadata": {},
   "source": [
    "## 1. Znalezienie imienia i nazwiska przemawiającego"
   ]
  },
  {
   "cell_type": "code",
   "execution_count": 5,
   "metadata": {
    "collapsed": true
   },
   "outputs": [],
   "source": [
    "speeches['author'] = speeches['speech_raw'].apply(funcs.name_finder)"
   ]
  },
  {
   "cell_type": "markdown",
   "metadata": {},
   "source": [
    "Zapisanie rozszerzonych danych do dalszych analiz."
   ]
  },
  {
   "cell_type": "code",
   "execution_count": 5,
   "metadata": {
    "collapsed": true
   },
   "outputs": [],
   "source": [
    "speeches.to_csv('00_dane/speeches.csv', encoding='UTF=8')"
   ]
  },
  {
   "cell_type": "markdown",
   "metadata": {},
   "source": [
    "## 2. Czyszczenie tekstu przemówień pt.1\n",
    "\n",
    "\n",
    "### 2.1. Wczytanie danych po czyszczeniu SQL i dodaniu autora"
   ]
  },
  {
   "cell_type": "code",
   "execution_count": 49,
   "metadata": {},
   "outputs": [
    {
     "name": "stderr",
     "output_type": "stream",
     "text": [
      "C:\\Users\\Mag\\Anaconda3\\lib\\site-packages\\IPython\\core\\interactiveshell.py:2698: DtypeWarning: Columns (3,14) have mixed types. Specify dtype option on import or set low_memory=False.\n",
      "  interactivity=interactivity, compiler=compiler, result=result)\n"
     ]
    }
   ],
   "source": [
    "politicians = pd.read_csv(\"00_dane/portraits.csv\", sep='|')\n",
    "speeches = pd.read_csv(\"00_dane/speeches_2.csv\", sep='|')\n",
    "\n",
    "#speeches.to_csv('00_dane/speeches_2.csv', encoding='UTF=8')"
   ]
  },
  {
   "cell_type": "code",
   "execution_count": 50,
   "metadata": {},
   "outputs": [
    {
     "data": {
      "text/plain": [
       "(272221, 225388)"
      ]
     },
     "execution_count": 50,
     "metadata": {},
     "output_type": "execute_result"
    }
   ],
   "source": [
    "len(speeches['speech_raw']), sum(1-pd.isnull(speeches['author_final']))\n"
   ]
  },
  {
   "cell_type": "markdown",
   "metadata": {
    "collapsed": true
   },
   "source": [
    "### 2.2. Czyszczenie znaków specjalnych i wycinanie nagłówka."
   ]
  },
  {
   "cell_type": "code",
   "execution_count": 51,
   "metadata": {},
   "outputs": [
    {
     "name": "stdout",
     "output_type": "stream",
     "text": [
      "190.62840582558692\n"
     ]
    }
   ],
   "source": [
    "start = timer()\n",
    "speeches['speech_raw'] = speeches['speech_raw'].apply(funcs.rem_head)\n",
    "speeches['speech_raw'] = speeches['speech_raw'].apply(funcs.clear_text)\n",
    "speeches['speech_title'] = speeches['speech_title'].apply(funcs.clear_text)\n",
    "end = timer()\n",
    "print(end - start)"
   ]
  },
  {
   "cell_type": "markdown",
   "metadata": {},
   "source": [
    "Wycinam fragment, który jest tytułem:\n",
    "1. Dodaję \"\\\" przed nawiasami w tytule.\n",
    "2. Wycinam tytuł z treści."
   ]
  },
  {
   "cell_type": "code",
   "execution_count": 60,
   "metadata": {},
   "outputs": [
    {
     "name": "stdout",
     "output_type": "stream",
     "text": [
      "0:00:02.197919\n"
     ]
    }
   ],
   "source": [
    "start = timer()\n",
    "speeches['speech_title'] = speeches['speech_title'].apply(lambda t: re.sub('\\(','\\(',t))\n",
    "speeches['speech_title'] = speeches['speech_title'].apply(lambda t: re.sub('\\)','\\)',t))\n",
    "print(timedelta(seconds=timer()-start))"
   ]
  },
  {
   "cell_type": "markdown",
   "metadata": {},
   "source": [
    "Jeden \"problematyczny\" case."
   ]
  },
  {
   "cell_type": "code",
   "execution_count": 116,
   "metadata": {
    "collapsed": true
   },
   "outputs": [],
   "source": [
    "speeches['speech_title'] = [re.sub('\\[COM\\\\\\\\\\(2005\\\\\\\\\\)0119 - C6-0099/2005 - 2005/0043\\\\\\\\\\(COD\\\\\\\\\\)\\]','',t) for t in speeches['speech_title']]\n",
    "speeches['speech_raw'] = speeches['speech_raw'].apply(funcs.rem_nasty) "
   ]
  },
  {
   "cell_type": "code",
   "execution_count": 118,
   "metadata": {
    "collapsed": true
   },
   "outputs": [],
   "source": [
    "speeches['speech_raw'] = [funcs.rem_title(t, r) for t, r, in zip(speeches['speech_title'], speeches['speech_raw'])]\n"
   ]
  },
  {
   "cell_type": "markdown",
   "metadata": {},
   "source": [
    "### 2.3. Zapisanie zmodyfikowanego pliku"
   ]
  },
  {
   "cell_type": "code",
   "execution_count": 119,
   "metadata": {},
   "outputs": [
    {
     "name": "stdout",
     "output_type": "stream",
     "text": [
      "0:00:29.467977\n"
     ]
    }
   ],
   "source": [
    "start = timer()\n",
    "speeches.to_csv('00_dane/speeches_2.csv', encoding='UTF-8', index=False, sep=\"|\")\n",
    "print(timedelta(seconds=timer()-start))"
   ]
  },
  {
   "cell_type": "markdown",
   "metadata": {},
   "source": [
    "## 3. Czyszczenie tekstu przemówienia pt 3.\n",
    "\n",
    "### 3.1. Wczytanie danych"
   ]
  },
  {
   "cell_type": "code",
   "execution_count": 46,
   "metadata": {},
   "outputs": [
    {
     "name": "stderr",
     "output_type": "stream",
     "text": [
      "C:\\Users\\Mag\\Anaconda3\\lib\\site-packages\\IPython\\core\\interactiveshell.py:2698: DtypeWarning: Columns (3,14) have mixed types. Specify dtype option on import or set low_memory=False.\n",
      "  interactivity=interactivity, compiler=compiler, result=result)\n"
     ]
    }
   ],
   "source": [
    "politicians = pd.read_csv(\"00_dane/portraits.csv\", sep='|')\n",
    "speeches = pd.read_csv(\"00_dane/speeches_2.csv\", sep='|')"
   ]
  },
  {
   "cell_type": "markdown",
   "metadata": {},
   "source": [
    "### 3.2. Usuwam problematyczny wiersz z pustą wartością"
   ]
  },
  {
   "cell_type": "code",
   "execution_count": 61,
   "metadata": {
    "collapsed": true
   },
   "outputs": [],
   "source": [
    "speeches = speeches[~speeches['speech_raw'].isnull()]"
   ]
  },
  {
   "cell_type": "markdown",
   "metadata": {},
   "source": [
    "### 3.3. Usuwanie przeszkadzających elementów, tj.:\n",
    "- Wypowiedzi innych posłów i komentarze typu \"Oklaski\" pojawiające się w nawiasach\n",
    "- \"Poseł Imię Nazwisko:\"\n",
    "- Panie Marszałku!\n",
    "- Pani Marszałek!\n",
    "- Wysoka Izbo!\n",
    "- Panie Ministrze!\n",
    "- Dziękuję bardzo."
   ]
  },
  {
   "cell_type": "code",
   "execution_count": 48,
   "metadata": {},
   "outputs": [
    {
     "name": "stdout",
     "output_type": "stream",
     "text": [
      "0:01:12.245097\n"
     ]
    }
   ],
   "source": [
    "start = timer()\n",
    "speeches['speech_raw'] = speeches['speech_raw'].apply(lambda t: re.sub('\\([\\w.,: ]+\\)','',t))\n",
    "speeches['speech_raw'] = speeches['speech_raw'].apply(lambda t: re.sub('[Pp]oseł ([\\w -\\.]+):','',t))\n",
    "speeches['speech_raw'] = speeches['speech_raw'].apply(lambda t: re.sub('Panie Marszałku!','',t))\n",
    "speeches['speech_raw'] = speeches['speech_raw'].apply(lambda t: re.sub('Pani Marszałek!','',t))\n",
    "speeches['speech_raw'] = speeches['speech_raw'].apply(lambda t: re.sub('Wysoka Izbo!','',t))\n",
    "speeches['speech_raw'] = speeches['speech_raw'].apply(lambda t: re.sub('Panie Ministrze!','',t))\n",
    "speeches['speech_raw'] = speeches['speech_raw'].apply(lambda t: re.sub('Dziękuję bardzo.','',t))\n",
    "speeches['speech_raw'] = speeches['speech_raw'].apply(lambda t: re.sub('\\s+',' ',t))\n",
    "print(timedelta(seconds=timer()-start))"
   ]
  },
  {
   "cell_type": "markdown",
   "metadata": {},
   "source": [
    "### 3.4. Zapisanie pliku"
   ]
  },
  {
   "cell_type": "code",
   "execution_count": 49,
   "metadata": {},
   "outputs": [
    {
     "name": "stdout",
     "output_type": "stream",
     "text": [
      "0:00:31.695712\n"
     ]
    }
   ],
   "source": [
    "start = timer()\n",
    "speeches.to_csv('00_dane/speeches_2.csv', encoding='UTF-8', index=False, sep=\"|\")\n",
    "print(timedelta(seconds=timer()-start))"
   ]
  },
  {
   "cell_type": "markdown",
   "metadata": {},
   "source": [
    "## 4. Łączenie fragmentów przemówień w całość"
   ]
  },
  {
   "cell_type": "markdown",
   "metadata": {},
   "source": [
    "### 4.1. Wczytanie plików"
   ]
  },
  {
   "cell_type": "code",
   "execution_count": 51,
   "metadata": {},
   "outputs": [
    {
     "name": "stderr",
     "output_type": "stream",
     "text": [
      "C:\\Users\\Mag\\Anaconda3\\lib\\site-packages\\IPython\\core\\interactiveshell.py:2698: DtypeWarning: Columns (3,14) have mixed types. Specify dtype option on import or set low_memory=False.\n",
      "  interactivity=interactivity, compiler=compiler, result=result)\n"
     ]
    },
    {
     "data": {
      "text/plain": [
       "(272220, 225387)"
      ]
     },
     "execution_count": 51,
     "metadata": {},
     "output_type": "execute_result"
    }
   ],
   "source": [
    "politicians = pd.read_csv(\"00_dane/portraits.csv\", sep='|')\n",
    "speeches = pd.read_csv(\"00_dane/speeches_2.csv\", sep='|')\n",
    "len(speeches['speech_raw']), sum(1-pd.isnull(speeches['author_final']))"
   ]
  },
  {
   "cell_type": "code",
   "execution_count": 63,
   "metadata": {},
   "outputs": [],
   "source": [
    "speeches = speeches[~speeches['speech_raw'].isnull()]"
   ]
  },
  {
   "cell_type": "code",
   "execution_count": 64,
   "metadata": {},
   "outputs": [
    {
     "data": {
      "text/plain": [
       "(272217, 225385)"
      ]
     },
     "execution_count": 64,
     "metadata": {},
     "output_type": "execute_result"
    }
   ],
   "source": [
    "len(speeches['speech_raw']), sum(1-pd.isnull(speeches['author_final']))"
   ]
  },
  {
   "cell_type": "markdown",
   "metadata": {},
   "source": [
    "### 4.2. Łączenie"
   ]
  },
  {
   "cell_type": "code",
   "execution_count": 123,
   "metadata": {},
   "outputs": [],
   "source": [
    "speeches = speeches.reset_index()\n"
   ]
  },
  {
   "cell_type": "code",
   "execution_count": null,
   "metadata": {},
   "outputs": [],
   "source": [
    "start = timer()\n",
    "\n",
    "dt, auth, t, sp = None, None, None, ''\n",
    "sp_joined = pd.DataFrame()\n",
    "\n",
    "for i in range(len(speeches.speech_raw)):\n",
    "    dt_, auth_, t_, sp_ = speeches[['date_', 'author_final','speech_title', 'speech_raw']].loc[i]\n",
    "    if (dt_!=dt and auth_!=auth and t_!=t and i!=0):\n",
    "        sp_joined = pd.concat([sp_joined, pd.DataFrame([[auth, dt, t, sp]])])\n",
    "        dt, auth, t, sp = dt_, auth_, t_ , sp_\n",
    "    else:\n",
    "        dt, auth, t = dt_, auth_, t_\n",
    "        sp = ' '.join([sp, sp_])\n",
    "    #print(dt_, id_p_, t_)\n",
    "sp_joined = pd.concat([sp_joined, pd.DataFrame([[auth, dt, t, sp]])])\n",
    "    \n",
    "sp_joined.columns = ['author', 'date_', 'title', 'speech']\n",
    "\n",
    "print(timedelta(seconds=timer()-start))"
   ]
  },
  {
   "cell_type": "code",
   "execution_count": 114,
   "metadata": {},
   "outputs": [
    {
     "data": {
      "text/plain": [
       "False"
      ]
     },
     "execution_count": 114,
     "metadata": {},
     "output_type": "execute_result"
    }
   ],
   "source": [
    "start = timer()\n",
    "speeches.to_csv('00_dane/speeches_2.csv', encoding='UTF-8', index=False, sep=\"|\")\n",
    "sp_joined.to_csv('00_dane/sp_joined.csv', encoding='UTF-8', index=False, sep=\"|\")\n",
    "print(timedelta(seconds=timer()-start))"
   ]
  },
  {
   "cell_type": "code",
   "execution_count": 59,
   "metadata": {},
   "outputs": [
    {
     "name": "stdout",
     "output_type": "stream",
     "text": [
      " Spróbowałbym może odpowiedzieć najpierw panu posłowi Dolacie, który domaga się konkretów, w ogóle całej tej prawej stronie sali, która - zdaje się - politykę zagraniczną utożsamia z werbalnym awanturnictwem. Chciałbym przypomnieć jeden... ( Fakty, fakty.) ( Powiedział, że tylko jeden.) ...konkretny przykład skuteczności działania pana ministra Sikorskiego, którego to przykładu państwo być może nie znacie, bo nie chcecie znać. Chciałbym przypomnieć ubiegłoroczną, lipcową wizytę pana ministra w Republice Mołdowy w sytuacji, jaka w tym kraju panowała, olbrzymiego napięcia spowodowanego fałszerstwami przedwyborczymi... (Gwar na sali) Gdybyście państwo zechcieli mnie wysłuchać, to dowiedzielibyście się czegoś, czego, zdaje się, nie wiecie. ( Panie pośle, słuchamy, słuchamy.) ...grożącego wybuchem protestów na dużą skalę, rozlewem krwi. Ta wizyta była wizytą nie tylko polskiego ministra spraw zagranicznych, ale też wysokiej rangi przedstawiciela społeczności międzynarodowej, ponieważ pan minister Sikorski miał wówczas upoważnienie prezydencji szwedzkiej, Unii Europejskiej, prezydencji greckiej w OBWE. Tak się robi politykę zagraniczną. Ta wizyta była skuteczna, te wybory odbyły się w sposób zasadniczo prawidłowy, doprowadziły do pokojowej demokratyzacji Republiki Mołdowy, co - zgodzi się pan poseł Dolata ze mną - leży również w interesie Polski. Moje krótkie pytanie do pana ministra. Ponieważ ta wizyta była, przynajmniej w jakiejś części, przygotowana również na szczeblu parlamentarnym, szczeblu sejmowej Komisji Spraw Zagranicznych, chciałbym zapytać, jaki jest stosunek pana ministra do tzw. dyplomacji parlamentarnej. Jest to pojęcie, które jest coraz bardziej aktualne w wielu krajach. Czy MSZ ma...\n",
      " Spróbowałbym może odpowiedzieć najpierw panu posłowi Dolacie, który domaga się konkretów, w ogóle całej tej prawej stronie sali, która - zdaje się - politykę zagraniczną utożsamia z werbalnym awanturnictwem. Chciałbym przypomnieć jeden... XXXXXXXXXXXXX XXXXXXXXXXXXX ...konkretny przykład skuteczności działania pana ministra Sikorskiego, którego to przykładu państwo być może nie znacie, bo nie chcecie znać. Chciałbym przypomnieć ubiegłoroczną, lipcową wizytę pana ministra w Republice Mołdowy w sytuacji, jaka w tym kraju panowała, olbrzymiego napięcia spowodowanego fałszerstwami przedwyborczymi... XXXXXXXXXXXXX Gdybyście państwo zechcieli mnie wysłuchać, to dowiedzielibyście się czegoś, czego, zdaje się, nie wiecie. XXXXXXXXXXXXX ...grożącego wybuchem protestów na dużą skalę, rozlewem krwi. Ta wizyta była wizytą nie tylko polskiego ministra spraw zagranicznych, ale też wysokiej rangi przedstawiciela społeczności międzynarodowej, ponieważ pan minister Sikorski miał wówczas upoważnienie prezydencji szwedzkiej, Unii Europejskiej, prezydencji greckiej w OBWE. Tak się robi politykę zagraniczną. Ta wizyta była skuteczna, te wybory odbyły się w sposób zasadniczo prawidłowy, doprowadziły do pokojowej demokratyzacji Republiki Mołdowy, co - zgodzi się pan poseł Dolata ze mną - leży również w interesie Polski. Moje krótkie pytanie do pana ministra. Ponieważ ta wizyta była, przynajmniej w jakiejś części, przygotowana również na szczeblu parlamentarnym, szczeblu sejmowej Komisji Spraw Zagranicznych, chciałbym zapytać, jaki jest stosunek pana ministra do tzw. dyplomacji parlamentarnej. Jest to pojęcie, które jest coraz bardziej aktualne w wielu krajach. Czy MSZ ma...\n"
     ]
    }
   ],
   "source": [
    "print(speeches['speech_raw'].iloc[241132])\n",
    "print(re.sub('\\([\\w.,: ]+\\)','XXXXXXXXXXXXX',speeches['speech_raw'].iloc[241132]))"
   ]
  },
  {
   "cell_type": "code",
   "execution_count": null,
   "metadata": {
    "collapsed": true
   },
   "outputs": [],
   "source": []
  }
 ],
 "metadata": {
  "kernelspec": {
   "display_name": "Python 3",
   "language": "python",
   "name": "python3"
  },
  "language_info": {
   "codemirror_mode": {
    "name": "ipython",
    "version": 3
   },
   "file_extension": ".py",
   "mimetype": "text/x-python",
   "name": "python",
   "nbconvert_exporter": "python",
   "pygments_lexer": "ipython3",
   "version": "3.6.3"
  }
 },
 "nbformat": 4,
 "nbformat_minor": 2
}
