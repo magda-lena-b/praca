{
 "cells": [
  {
   "cell_type": "code",
   "execution_count": 1,
   "metadata": {},
   "outputs": [
    {
     "data": {
      "text/plain": [
       "<module 'funcs' from 'C:\\\\Users\\\\Mag\\\\Documents\\\\_projekty\\\\praca\\\\funcs.py'>"
      ]
     },
     "execution_count": 1,
     "metadata": {},
     "output_type": "execute_result"
    }
   ],
   "source": [
    "import re\n",
    "import pandas as pd\n",
    "import funcs \n",
    "import importlib\n",
    "import unicodecsv as csv\n",
    "from timeit import default_timer as timer\n",
    "from datetime import datetime, timedelta\n",
    "\n",
    "importlib.reload(funcs)"
   ]
  },
  {
   "cell_type": "markdown",
   "metadata": {},
   "source": [
    "## 0. Wczytanie danych zrzuconych z bazy SQL do csv"
   ]
  },
  {
   "cell_type": "code",
   "execution_count": 2,
   "metadata": {},
   "outputs": [
    {
     "name": "stderr",
     "output_type": "stream",
     "text": [
      "C:\\Users\\Mag\\Anaconda3\\lib\\site-packages\\IPython\\core\\interactiveshell.py:2698: DtypeWarning: Columns (3,14) have mixed types. Specify dtype option on import or set low_memory=False.\n",
      "  interactivity=interactivity, compiler=compiler, result=result)\n"
     ]
    }
   ],
   "source": [
    "politicians = pd.read_csv(\"00_dane/portraits.csv\", sep='|')\n",
    "#speeches = pd.read_csv(\"00_dane/speech_data.csv\", sep='|')\n",
    "\n",
    "#wczytujemy plik po modyfikacjach w SQL\n",
    "speeches = pd.read_csv(\"00_dane/speeches.csv\", sep='|')"
   ]
  },
  {
   "cell_type": "markdown",
   "metadata": {},
   "source": [
    "## 1. Znalezienie imienia i nazwiska przemawiającego"
   ]
  },
  {
   "cell_type": "code",
   "execution_count": 5,
   "metadata": {
    "collapsed": true
   },
   "outputs": [],
   "source": [
    "speeches['author'] = speeches['speech_raw'].apply(funcs.name_finder)"
   ]
  },
  {
   "cell_type": "markdown",
   "metadata": {},
   "source": [
    "Zapisanie rozszerzonych danych do dalszych analiz."
   ]
  },
  {
   "cell_type": "code",
   "execution_count": 5,
   "metadata": {
    "collapsed": true
   },
   "outputs": [],
   "source": [
    "speeches.to_csv('00_dane/speeches.csv', encoding='UTF=8')"
   ]
  },
  {
   "cell_type": "markdown",
   "metadata": {},
   "source": [
    "## 2. Czyszczenie tekstu przemówień pt.1\n",
    "\n",
    "\n",
    "### 2.1. Wczytanie danych po czyszczeniu SQL i dodaniu autora"
   ]
  },
  {
   "cell_type": "code",
   "execution_count": 49,
   "metadata": {},
   "outputs": [
    {
     "name": "stderr",
     "output_type": "stream",
     "text": [
      "C:\\Users\\Mag\\Anaconda3\\lib\\site-packages\\IPython\\core\\interactiveshell.py:2698: DtypeWarning: Columns (3,14) have mixed types. Specify dtype option on import or set low_memory=False.\n",
      "  interactivity=interactivity, compiler=compiler, result=result)\n"
     ]
    }
   ],
   "source": [
    "politicians = pd.read_csv(\"00_dane/portraits.csv\", sep='|')\n",
    "speeches = pd.read_csv(\"00_dane/speeches_2.csv\", sep='|')\n",
    "\n",
    "#speeches.to_csv('00_dane/speeches_2.csv', encoding='UTF=8')"
   ]
  },
  {
   "cell_type": "code",
   "execution_count": 50,
   "metadata": {},
   "outputs": [
    {
     "data": {
      "text/plain": [
       "(272221, 225388)"
      ]
     },
     "execution_count": 50,
     "metadata": {},
     "output_type": "execute_result"
    }
   ],
   "source": [
    "len(speeches['speech_raw']), sum(1-pd.isnull(speeches['author_final']))\n"
   ]
  },
  {
   "cell_type": "markdown",
   "metadata": {
    "collapsed": true
   },
   "source": [
    "### 2.2. Czyszczenie znaków specjalnych i wycinanie nagłówka."
   ]
  },
  {
   "cell_type": "code",
   "execution_count": 51,
   "metadata": {},
   "outputs": [
    {
     "name": "stdout",
     "output_type": "stream",
     "text": [
      "190.62840582558692\n"
     ]
    }
   ],
   "source": [
    "start = timer()\n",
    "speeches['speech_raw'] = speeches['speech_raw'].apply(funcs.rem_head)\n",
    "speeches['speech_raw'] = speeches['speech_raw'].apply(funcs.clear_text)\n",
    "speeches['speech_title'] = speeches['speech_title'].apply(funcs.clear_text)\n",
    "end = timer()\n",
    "print(end - start)"
   ]
  },
  {
   "cell_type": "markdown",
   "metadata": {},
   "source": [
    "Wycinam fragment, który jest tytułem:\n",
    "1. Dodaję \"\\\" przed nawiasami w tytule.\n",
    "2. Wycinam tytuł z treści."
   ]
  },
  {
   "cell_type": "code",
   "execution_count": 60,
   "metadata": {},
   "outputs": [
    {
     "name": "stdout",
     "output_type": "stream",
     "text": [
      "0:00:02.197919\n"
     ]
    }
   ],
   "source": [
    "start = timer()\n",
    "speeches['speech_title'] = speeches['speech_title'].apply(lambda t: re.sub('\\(','\\(',t))\n",
    "speeches['speech_title'] = speeches['speech_title'].apply(lambda t: re.sub('\\)','\\)',t))\n",
    "print(timedelta(seconds=timer()-start))"
   ]
  },
  {
   "cell_type": "markdown",
   "metadata": {},
   "source": [
    "Jeden \"problematyczny\" case."
   ]
  },
  {
   "cell_type": "code",
   "execution_count": 116,
   "metadata": {
    "collapsed": true
   },
   "outputs": [],
   "source": [
    "speeches['speech_title'] = [re.sub('\\[COM\\\\\\\\\\(2005\\\\\\\\\\)0119 - C6-0099/2005 - 2005/0043\\\\\\\\\\(COD\\\\\\\\\\)\\]','',t) for t in speeches['speech_title']]\n",
    "speeches['speech_raw'] = speeches['speech_raw'].apply(funcs.rem_nasty) "
   ]
  },
  {
   "cell_type": "code",
   "execution_count": 118,
   "metadata": {
    "collapsed": true
   },
   "outputs": [],
   "source": [
    "speeches['speech_raw'] = [funcs.rem_title(t, r) for t, r, in zip(speeches['speech_title'], speeches['speech_raw'])]\n"
   ]
  },
  {
   "cell_type": "markdown",
   "metadata": {},
   "source": [
    "### 2.3. Zapisanie zmodyfikowanego pliku"
   ]
  },
  {
   "cell_type": "code",
   "execution_count": 119,
   "metadata": {},
   "outputs": [
    {
     "name": "stdout",
     "output_type": "stream",
     "text": [
      "0:00:29.467977\n"
     ]
    }
   ],
   "source": [
    "start = timer()\n",
    "speeches.to_csv('00_dane/speeches_2.csv', encoding='UTF-8', index=False, sep=\"|\")\n",
    "print(timedelta(seconds=timer()-start))"
   ]
  },
  {
   "cell_type": "markdown",
   "metadata": {},
   "source": [
    "## 3. Czyszczenie tekstu przemówienia pt 3.\n",
    "\n",
    "### 3.1. Wczytanie danych"
   ]
  },
  {
   "cell_type": "code",
   "execution_count": 46,
   "metadata": {},
   "outputs": [
    {
     "name": "stderr",
     "output_type": "stream",
     "text": [
      "C:\\Users\\Mag\\Anaconda3\\lib\\site-packages\\IPython\\core\\interactiveshell.py:2698: DtypeWarning: Columns (3,14) have mixed types. Specify dtype option on import or set low_memory=False.\n",
      "  interactivity=interactivity, compiler=compiler, result=result)\n"
     ]
    }
   ],
   "source": [
    "politicians = pd.read_csv(\"00_dane/portraits.csv\", sep='|')\n",
    "speeches = pd.read_csv(\"00_dane/speeches_2.csv\", sep='|')"
   ]
  },
  {
   "cell_type": "markdown",
   "metadata": {},
   "source": [
    "### 3.2. Usuwam problematyczny wiersz z pustą wartością"
   ]
  },
  {
   "cell_type": "code",
   "execution_count": 61,
   "metadata": {
    "collapsed": true
   },
   "outputs": [],
   "source": [
    "speeches = speeches[~speeches['speech_raw'].isnull()]"
   ]
  },
  {
   "cell_type": "markdown",
   "metadata": {},
   "source": [
    "### 3.3. Usuwanie przeszkadzających elementów, tj.:\n",
    "- Wypowiedzi innych posłów i komentarze typu \"Oklaski\" pojawiające się w nawiasach\n",
    "- \"Poseł Imię Nazwisko:\"\n",
    "- Panie Marszałku!\n",
    "- Pani Marszałek!\n",
    "- Wysoka Izbo!\n",
    "- Panie Ministrze!\n",
    "- Dziękuję bardzo.\n",
    "- Wysoki Sejmie!\n",
    "- Panie i Panowie Posłowie!\n",
    "- Panie Posłanki! Panowie Posłowie!\n",
    "- Wysokie Zgromadzenie Narodowe!"
   ]
  },
  {
   "cell_type": "code",
   "execution_count": 48,
   "metadata": {},
   "outputs": [
    {
     "name": "stdout",
     "output_type": "stream",
     "text": [
      "0:01:12.245097\n"
     ]
    }
   ],
   "source": [
    "start = timer()\n",
    "speeches['speech_raw'] = speeches['speech_raw'].apply(lambda t: re.sub('\\([\\w.,: ]+\\)','',t))\n",
    "speeches['speech_raw'] = speeches['speech_raw'].apply(lambda t: re.sub('[Pp]oseł ([\\w -\\.]+):','',t))\n",
    "speeches['speech_raw'] = speeches['speech_raw'].apply(lambda t: re.sub('Panie Marszałku!','',t))\n",
    "speeches['speech_raw'] = speeches['speech_raw'].apply(lambda t: re.sub('Pani Marszałek!','',t))\n",
    "speeches['speech_raw'] = speeches['speech_raw'].apply(lambda t: re.sub('Wysoka Izbo!','',t))\n",
    "speeches['speech_raw'] = speeches['speech_raw'].apply(lambda t: re.sub('Panie Ministrze!','',t))\n",
    "speeches['speech_raw'] = speeches['speech_raw'].apply(lambda t: re.sub('Dziękuję bardzo.','',t))\n",
    "speeches['speech_raw'] = speeches['speech_raw'].apply(lambda t: re.sub('\\s+',' ',t))\n",
    "print(timedelta(seconds=timer()-start))"
   ]
  },
  {
   "cell_type": "code",
   "execution_count": 127,
   "metadata": {
    "collapsed": true
   },
   "outputs": [],
   "source": [
    "speeches['speech_raw'] = speeches['speech_raw'].apply(lambda t: re.sub('Wysokie Zgromadzenie Narodowe!','',t))\n",
    "speeches['speech_raw'] = speeches['speech_raw'].apply(lambda t: re.sub('Wysoki Sejmie!','',t))\n",
    "speeches['speech_raw'] = speeches['speech_raw'].apply(lambda t: re.sub('Panie Posłanki! Panowie Posłowie!','',t))\n",
    "speeches['speech_raw'] = speeches['speech_raw'].apply(lambda t: re.sub('Panie i Panowie Posłowie!','',t))\n",
    "speeches['speech_raw'] = speeches['speech_raw'].apply(lambda t: re.sub('\\s+',' ',t))"
   ]
  },
  {
   "cell_type": "markdown",
   "metadata": {},
   "source": [
    "### 3.4. Zapisanie pliku"
   ]
  },
  {
   "cell_type": "code",
   "execution_count": 129,
   "metadata": {},
   "outputs": [
    {
     "name": "stdout",
     "output_type": "stream",
     "text": [
      "0:00:29.711693\n"
     ]
    }
   ],
   "source": [
    "start = timer()\n",
    "speeches.to_csv('00_dane/speeches_2.csv', encoding='UTF-8', index=False, sep=\"|\")\n",
    "print(timedelta(seconds=timer()-start))"
   ]
  },
  {
   "cell_type": "markdown",
   "metadata": {},
   "source": [
    "## 4. Łączenie fragmentów przemówień w całość"
   ]
  },
  {
   "cell_type": "markdown",
   "metadata": {},
   "source": [
    "### 4.1. Wczytanie plików"
   ]
  },
  {
   "cell_type": "code",
   "execution_count": 51,
   "metadata": {},
   "outputs": [
    {
     "name": "stderr",
     "output_type": "stream",
     "text": [
      "C:\\Users\\Mag\\Anaconda3\\lib\\site-packages\\IPython\\core\\interactiveshell.py:2698: DtypeWarning: Columns (3,14) have mixed types. Specify dtype option on import or set low_memory=False.\n",
      "  interactivity=interactivity, compiler=compiler, result=result)\n"
     ]
    },
    {
     "data": {
      "text/plain": [
       "(272220, 225387)"
      ]
     },
     "execution_count": 51,
     "metadata": {},
     "output_type": "execute_result"
    }
   ],
   "source": [
    "politicians = pd.read_csv(\"00_dane/portraits.csv\", sep='|')\n",
    "speeches = pd.read_csv(\"00_dane/speeches_2.csv\", sep='|')\n",
    "len(speeches['speech_raw']), sum(1-pd.isnull(speeches['author_final']))"
   ]
  },
  {
   "cell_type": "code",
   "execution_count": 128,
   "metadata": {},
   "outputs": [],
   "source": [
    "speeches = speeches[~speeches['speech_raw'].isnull()]"
   ]
  },
  {
   "cell_type": "code",
   "execution_count": 64,
   "metadata": {},
   "outputs": [
    {
     "data": {
      "text/plain": [
       "(272217, 225385)"
      ]
     },
     "execution_count": 64,
     "metadata": {},
     "output_type": "execute_result"
    }
   ],
   "source": [
    "len(speeches['speech_raw']), sum(1-pd.isnull(speeches['author_final']))"
   ]
  },
  {
   "cell_type": "markdown",
   "metadata": {},
   "source": [
    "### 4.2. Łączenie"
   ]
  },
  {
   "cell_type": "code",
   "execution_count": 123,
   "metadata": {},
   "outputs": [],
   "source": [
    "speeches = speeches.reset_index()\n"
   ]
  },
  {
   "cell_type": "code",
   "execution_count": 124,
   "metadata": {},
   "outputs": [
    {
     "ename": "KeyboardInterrupt",
     "evalue": "",
     "output_type": "error",
     "traceback": [
      "\u001b[1;31m---------------------------------------------------------------------------\u001b[0m",
      "\u001b[1;31mKeyboardInterrupt\u001b[0m                         Traceback (most recent call last)",
      "\u001b[1;32m<ipython-input-124-e5cc92a9b02c>\u001b[0m in \u001b[0;36m<module>\u001b[1;34m()\u001b[0m\n\u001b[0;32m      5\u001b[0m \u001b[1;33m\u001b[0m\u001b[0m\n\u001b[0;32m      6\u001b[0m \u001b[1;32mfor\u001b[0m \u001b[0mi\u001b[0m \u001b[1;32min\u001b[0m \u001b[0mrange\u001b[0m\u001b[1;33m(\u001b[0m\u001b[0mlen\u001b[0m\u001b[1;33m(\u001b[0m\u001b[0mspeeches\u001b[0m\u001b[1;33m.\u001b[0m\u001b[0mspeech_raw\u001b[0m\u001b[1;33m)\u001b[0m\u001b[1;33m)\u001b[0m\u001b[1;33m:\u001b[0m\u001b[1;33m\u001b[0m\u001b[0m\n\u001b[1;32m----> 7\u001b[1;33m     \u001b[0mdt_\u001b[0m\u001b[1;33m,\u001b[0m \u001b[0mauth_\u001b[0m\u001b[1;33m,\u001b[0m \u001b[0mt_\u001b[0m\u001b[1;33m,\u001b[0m \u001b[0msp_\u001b[0m \u001b[1;33m=\u001b[0m \u001b[0mspeeches\u001b[0m\u001b[1;33m[\u001b[0m\u001b[1;33m[\u001b[0m\u001b[1;34m'date_'\u001b[0m\u001b[1;33m,\u001b[0m \u001b[1;34m'author_final'\u001b[0m\u001b[1;33m,\u001b[0m\u001b[1;34m'speech_title'\u001b[0m\u001b[1;33m,\u001b[0m \u001b[1;34m'speech_raw'\u001b[0m\u001b[1;33m]\u001b[0m\u001b[1;33m]\u001b[0m\u001b[1;33m.\u001b[0m\u001b[0mloc\u001b[0m\u001b[1;33m[\u001b[0m\u001b[0mi\u001b[0m\u001b[1;33m]\u001b[0m\u001b[1;33m\u001b[0m\u001b[0m\n\u001b[0m\u001b[0;32m      8\u001b[0m     \u001b[1;32mif\u001b[0m \u001b[1;33m(\u001b[0m\u001b[0mdt_\u001b[0m\u001b[1;33m!=\u001b[0m\u001b[0mdt\u001b[0m \u001b[1;32mand\u001b[0m \u001b[0mauth_\u001b[0m\u001b[1;33m!=\u001b[0m\u001b[0mauth\u001b[0m \u001b[1;32mand\u001b[0m \u001b[0mt_\u001b[0m\u001b[1;33m!=\u001b[0m\u001b[0mt\u001b[0m \u001b[1;32mand\u001b[0m \u001b[0mi\u001b[0m\u001b[1;33m!=\u001b[0m\u001b[1;36m0\u001b[0m\u001b[1;33m)\u001b[0m\u001b[1;33m:\u001b[0m\u001b[1;33m\u001b[0m\u001b[0m\n\u001b[0;32m      9\u001b[0m         \u001b[0msp_joined\u001b[0m \u001b[1;33m=\u001b[0m \u001b[0mpd\u001b[0m\u001b[1;33m.\u001b[0m\u001b[0mconcat\u001b[0m\u001b[1;33m(\u001b[0m\u001b[1;33m[\u001b[0m\u001b[0msp_joined\u001b[0m\u001b[1;33m,\u001b[0m \u001b[0mpd\u001b[0m\u001b[1;33m.\u001b[0m\u001b[0mDataFrame\u001b[0m\u001b[1;33m(\u001b[0m\u001b[1;33m[\u001b[0m\u001b[1;33m[\u001b[0m\u001b[0mauth\u001b[0m\u001b[1;33m,\u001b[0m \u001b[0mdt\u001b[0m\u001b[1;33m,\u001b[0m \u001b[0mt\u001b[0m\u001b[1;33m,\u001b[0m \u001b[0msp\u001b[0m\u001b[1;33m]\u001b[0m\u001b[1;33m]\u001b[0m\u001b[1;33m)\u001b[0m\u001b[1;33m]\u001b[0m\u001b[1;33m)\u001b[0m\u001b[1;33m\u001b[0m\u001b[0m\n",
      "\u001b[1;32m~\\Anaconda3\\lib\\site-packages\\pandas\\core\\frame.py\u001b[0m in \u001b[0;36m__getitem__\u001b[1;34m(self, key)\u001b[0m\n\u001b[0;32m   1956\u001b[0m         \u001b[1;32mif\u001b[0m \u001b[0misinstance\u001b[0m\u001b[1;33m(\u001b[0m\u001b[0mkey\u001b[0m\u001b[1;33m,\u001b[0m \u001b[1;33m(\u001b[0m\u001b[0mSeries\u001b[0m\u001b[1;33m,\u001b[0m \u001b[0mnp\u001b[0m\u001b[1;33m.\u001b[0m\u001b[0mndarray\u001b[0m\u001b[1;33m,\u001b[0m \u001b[0mIndex\u001b[0m\u001b[1;33m,\u001b[0m \u001b[0mlist\u001b[0m\u001b[1;33m)\u001b[0m\u001b[1;33m)\u001b[0m\u001b[1;33m:\u001b[0m\u001b[1;33m\u001b[0m\u001b[0m\n\u001b[0;32m   1957\u001b[0m             \u001b[1;31m# either boolean or fancy integer index\u001b[0m\u001b[1;33m\u001b[0m\u001b[1;33m\u001b[0m\u001b[0m\n\u001b[1;32m-> 1958\u001b[1;33m             \u001b[1;32mreturn\u001b[0m \u001b[0mself\u001b[0m\u001b[1;33m.\u001b[0m\u001b[0m_getitem_array\u001b[0m\u001b[1;33m(\u001b[0m\u001b[0mkey\u001b[0m\u001b[1;33m)\u001b[0m\u001b[1;33m\u001b[0m\u001b[0m\n\u001b[0m\u001b[0;32m   1959\u001b[0m         \u001b[1;32melif\u001b[0m \u001b[0misinstance\u001b[0m\u001b[1;33m(\u001b[0m\u001b[0mkey\u001b[0m\u001b[1;33m,\u001b[0m \u001b[0mDataFrame\u001b[0m\u001b[1;33m)\u001b[0m\u001b[1;33m:\u001b[0m\u001b[1;33m\u001b[0m\u001b[0m\n\u001b[0;32m   1960\u001b[0m             \u001b[1;32mreturn\u001b[0m \u001b[0mself\u001b[0m\u001b[1;33m.\u001b[0m\u001b[0m_getitem_frame\u001b[0m\u001b[1;33m(\u001b[0m\u001b[0mkey\u001b[0m\u001b[1;33m)\u001b[0m\u001b[1;33m\u001b[0m\u001b[0m\n",
      "\u001b[1;32m~\\Anaconda3\\lib\\site-packages\\pandas\\core\\frame.py\u001b[0m in \u001b[0;36m_getitem_array\u001b[1;34m(self, key)\u001b[0m\n\u001b[0;32m   2001\u001b[0m         \u001b[1;32melse\u001b[0m\u001b[1;33m:\u001b[0m\u001b[1;33m\u001b[0m\u001b[0m\n\u001b[0;32m   2002\u001b[0m             \u001b[0mindexer\u001b[0m \u001b[1;33m=\u001b[0m \u001b[0mself\u001b[0m\u001b[1;33m.\u001b[0m\u001b[0mloc\u001b[0m\u001b[1;33m.\u001b[0m\u001b[0m_convert_to_indexer\u001b[0m\u001b[1;33m(\u001b[0m\u001b[0mkey\u001b[0m\u001b[1;33m,\u001b[0m \u001b[0maxis\u001b[0m\u001b[1;33m=\u001b[0m\u001b[1;36m1\u001b[0m\u001b[1;33m)\u001b[0m\u001b[1;33m\u001b[0m\u001b[0m\n\u001b[1;32m-> 2003\u001b[1;33m             \u001b[1;32mreturn\u001b[0m \u001b[0mself\u001b[0m\u001b[1;33m.\u001b[0m\u001b[0mtake\u001b[0m\u001b[1;33m(\u001b[0m\u001b[0mindexer\u001b[0m\u001b[1;33m,\u001b[0m \u001b[0maxis\u001b[0m\u001b[1;33m=\u001b[0m\u001b[1;36m1\u001b[0m\u001b[1;33m,\u001b[0m \u001b[0mconvert\u001b[0m\u001b[1;33m=\u001b[0m\u001b[1;32mTrue\u001b[0m\u001b[1;33m)\u001b[0m\u001b[1;33m\u001b[0m\u001b[0m\n\u001b[0m\u001b[0;32m   2004\u001b[0m \u001b[1;33m\u001b[0m\u001b[0m\n\u001b[0;32m   2005\u001b[0m     \u001b[1;32mdef\u001b[0m \u001b[0m_getitem_multilevel\u001b[0m\u001b[1;33m(\u001b[0m\u001b[0mself\u001b[0m\u001b[1;33m,\u001b[0m \u001b[0mkey\u001b[0m\u001b[1;33m)\u001b[0m\u001b[1;33m:\u001b[0m\u001b[1;33m\u001b[0m\u001b[0m\n",
      "\u001b[1;32m~\\Anaconda3\\lib\\site-packages\\pandas\\core\\generic.py\u001b[0m in \u001b[0;36mtake\u001b[1;34m(self, indices, axis, convert, is_copy, **kwargs)\u001b[0m\n\u001b[0;32m   1926\u001b[0m         new_data = self._data.take(indices,\n\u001b[0;32m   1927\u001b[0m                                    \u001b[0maxis\u001b[0m\u001b[1;33m=\u001b[0m\u001b[0mself\u001b[0m\u001b[1;33m.\u001b[0m\u001b[0m_get_block_manager_axis\u001b[0m\u001b[1;33m(\u001b[0m\u001b[0maxis\u001b[0m\u001b[1;33m)\u001b[0m\u001b[1;33m,\u001b[0m\u001b[1;33m\u001b[0m\u001b[0m\n\u001b[1;32m-> 1928\u001b[1;33m                                    convert=True, verify=True)\n\u001b[0m\u001b[0;32m   1929\u001b[0m         \u001b[0mresult\u001b[0m \u001b[1;33m=\u001b[0m \u001b[0mself\u001b[0m\u001b[1;33m.\u001b[0m\u001b[0m_constructor\u001b[0m\u001b[1;33m(\u001b[0m\u001b[0mnew_data\u001b[0m\u001b[1;33m)\u001b[0m\u001b[1;33m.\u001b[0m\u001b[0m__finalize__\u001b[0m\u001b[1;33m(\u001b[0m\u001b[0mself\u001b[0m\u001b[1;33m)\u001b[0m\u001b[1;33m\u001b[0m\u001b[0m\n\u001b[0;32m   1930\u001b[0m \u001b[1;33m\u001b[0m\u001b[0m\n",
      "\u001b[1;32m~\\Anaconda3\\lib\\site-packages\\pandas\\core\\internals.py\u001b[0m in \u001b[0;36mtake\u001b[1;34m(self, indexer, axis, verify, convert)\u001b[0m\n\u001b[0;32m   4009\u001b[0m         \u001b[0mnew_labels\u001b[0m \u001b[1;33m=\u001b[0m \u001b[0mself\u001b[0m\u001b[1;33m.\u001b[0m\u001b[0maxes\u001b[0m\u001b[1;33m[\u001b[0m\u001b[0maxis\u001b[0m\u001b[1;33m]\u001b[0m\u001b[1;33m.\u001b[0m\u001b[0mtake\u001b[0m\u001b[1;33m(\u001b[0m\u001b[0mindexer\u001b[0m\u001b[1;33m)\u001b[0m\u001b[1;33m\u001b[0m\u001b[0m\n\u001b[0;32m   4010\u001b[0m         return self.reindex_indexer(new_axis=new_labels, indexer=indexer,\n\u001b[1;32m-> 4011\u001b[1;33m                                     axis=axis, allow_dups=True)\n\u001b[0m\u001b[0;32m   4012\u001b[0m \u001b[1;33m\u001b[0m\u001b[0m\n\u001b[0;32m   4013\u001b[0m     \u001b[1;32mdef\u001b[0m \u001b[0mmerge\u001b[0m\u001b[1;33m(\u001b[0m\u001b[0mself\u001b[0m\u001b[1;33m,\u001b[0m \u001b[0mother\u001b[0m\u001b[1;33m,\u001b[0m \u001b[0mlsuffix\u001b[0m\u001b[1;33m=\u001b[0m\u001b[1;34m''\u001b[0m\u001b[1;33m,\u001b[0m \u001b[0mrsuffix\u001b[0m\u001b[1;33m=\u001b[0m\u001b[1;34m''\u001b[0m\u001b[1;33m)\u001b[0m\u001b[1;33m:\u001b[0m\u001b[1;33m\u001b[0m\u001b[0m\n",
      "\u001b[1;32m~\\Anaconda3\\lib\\site-packages\\pandas\\core\\internals.py\u001b[0m in \u001b[0;36mreindex_indexer\u001b[1;34m(self, new_axis, indexer, axis, fill_value, allow_dups, copy)\u001b[0m\n\u001b[0;32m   3891\u001b[0m         \u001b[1;32mif\u001b[0m \u001b[0maxis\u001b[0m \u001b[1;33m==\u001b[0m \u001b[1;36m0\u001b[0m\u001b[1;33m:\u001b[0m\u001b[1;33m\u001b[0m\u001b[0m\n\u001b[0;32m   3892\u001b[0m             new_blocks = self._slice_take_blocks_ax0(indexer,\n\u001b[1;32m-> 3893\u001b[1;33m                                                      fill_tuple=(fill_value,))\n\u001b[0m\u001b[0;32m   3894\u001b[0m         \u001b[1;32melse\u001b[0m\u001b[1;33m:\u001b[0m\u001b[1;33m\u001b[0m\u001b[0m\n\u001b[0;32m   3895\u001b[0m             new_blocks = [blk.take_nd(indexer, axis=axis, fill_tuple=(\n",
      "\u001b[1;32m~\\Anaconda3\\lib\\site-packages\\pandas\\core\\internals.py\u001b[0m in \u001b[0;36m_slice_take_blocks_ax0\u001b[1;34m(self, slice_or_indexer, fill_tuple)\u001b[0m\n\u001b[0;32m   3971\u001b[0m                     blocks.append(blk.take_nd(blklocs[mgr_locs.indexer],\n\u001b[0;32m   3972\u001b[0m                                               \u001b[0maxis\u001b[0m\u001b[1;33m=\u001b[0m\u001b[1;36m0\u001b[0m\u001b[1;33m,\u001b[0m \u001b[0mnew_mgr_locs\u001b[0m\u001b[1;33m=\u001b[0m\u001b[0mmgr_locs\u001b[0m\u001b[1;33m,\u001b[0m\u001b[1;33m\u001b[0m\u001b[0m\n\u001b[1;32m-> 3973\u001b[1;33m                                               fill_tuple=None))\n\u001b[0m\u001b[0;32m   3974\u001b[0m \u001b[1;33m\u001b[0m\u001b[0m\n\u001b[0;32m   3975\u001b[0m         \u001b[1;32mreturn\u001b[0m \u001b[0mblocks\u001b[0m\u001b[1;33m\u001b[0m\u001b[0m\n",
      "\u001b[1;32m~\\Anaconda3\\lib\\site-packages\\pandas\\core\\internals.py\u001b[0m in \u001b[0;36mtake_nd\u001b[1;34m(self, indexer, axis, new_mgr_locs, fill_tuple)\u001b[0m\n\u001b[0;32m   1040\u001b[0m             \u001b[0mfill_value\u001b[0m \u001b[1;33m=\u001b[0m \u001b[0mself\u001b[0m\u001b[1;33m.\u001b[0m\u001b[0mfill_value\u001b[0m\u001b[1;33m\u001b[0m\u001b[0m\n\u001b[0;32m   1041\u001b[0m             new_values = algos.take_nd(values, indexer, axis=axis,\n\u001b[1;32m-> 1042\u001b[1;33m                                        allow_fill=False)\n\u001b[0m\u001b[0;32m   1043\u001b[0m         \u001b[1;32melse\u001b[0m\u001b[1;33m:\u001b[0m\u001b[1;33m\u001b[0m\u001b[0m\n\u001b[0;32m   1044\u001b[0m             \u001b[0mfill_value\u001b[0m \u001b[1;33m=\u001b[0m \u001b[0mfill_tuple\u001b[0m\u001b[1;33m[\u001b[0m\u001b[1;36m0\u001b[0m\u001b[1;33m]\u001b[0m\u001b[1;33m\u001b[0m\u001b[0m\n",
      "\u001b[1;31mKeyboardInterrupt\u001b[0m: "
     ]
    }
   ],
   "source": [
    "start = timer()\n",
    "\n",
    "dt, auth, t, sp = None, None, None, ''\n",
    "sp_joined = pd.DataFrame()\n",
    "\n",
    "for i in range(len(speeches.speech_raw)):\n",
    "    dt_, auth_, t_, sp_ = speeches[['date_', 'author_final','speech_title', 'speech_raw']].loc[i]\n",
    "    if (dt_!=dt and auth_!=auth and t_!=t and i!=0):\n",
    "        sp_joined = pd.concat([sp_joined, pd.DataFrame([[auth, dt, t, sp]])])\n",
    "        dt, auth, t, sp = dt_, auth_, t_ , sp_\n",
    "    else:\n",
    "        dt, auth, t = dt_, auth_, t_\n",
    "        sp = ' '.join([sp, sp_])\n",
    "    #print(dt_, id_p_, t_)\n",
    "sp_joined = pd.concat([sp_joined, pd.DataFrame([[auth, dt, t, sp]])])\n",
    "    \n",
    "sp_joined.columns = ['author', 'date_', 'title', 'speech']\n",
    "\n",
    "print(timedelta(seconds=timer()-start))"
   ]
  },
  {
   "cell_type": "code",
   "execution_count": 126,
   "metadata": {},
   "outputs": [
    {
     "data": {
      "text/html": [
       "<div>\n",
       "<style>\n",
       "    .dataframe thead tr:only-child th {\n",
       "        text-align: right;\n",
       "    }\n",
       "\n",
       "    .dataframe thead th {\n",
       "        text-align: left;\n",
       "    }\n",
       "\n",
       "    .dataframe tbody tr th {\n",
       "        vertical-align: top;\n",
       "    }\n",
       "</style>\n",
       "<table border=\"1\" class=\"dataframe\">\n",
       "  <thead>\n",
       "    <tr style=\"text-align: right;\">\n",
       "      <th></th>\n",
       "      <th>0</th>\n",
       "      <th>1</th>\n",
       "      <th>2</th>\n",
       "      <th>3</th>\n",
       "    </tr>\n",
       "  </thead>\n",
       "  <tbody>\n",
       "    <tr>\n",
       "      <th>0</th>\n",
       "      <td>Paweł Abramski</td>\n",
       "      <td>13-02-1992</td>\n",
       "      <td>Interpelacje i zapytania.</td>\n",
       "      <td>Rozporządzenie ministra finansów o podwyższe...</td>\n",
       "    </tr>\n",
       "    <tr>\n",
       "      <th>0</th>\n",
       "      <td>Zbigniew Adamczyk</td>\n",
       "      <td>01-08-1992</td>\n",
       "      <td>Sprawozdanie Komisji Zdrowia oraz Komisji Usta...</td>\n",
       "      <td>Poselski projekt ustawy o zmianie ustawy o za...</td>\n",
       "    </tr>\n",
       "    <tr>\n",
       "      <th>0</th>\n",
       "      <td>Andrzej Adamowicz</td>\n",
       "      <td>25-01-1992</td>\n",
       "      <td>1. Sprawozdanie Komisji Polityki Gospodarczej,...</td>\n",
       "      <td>koszty uzyskania dochodów. Poprzemy również p...</td>\n",
       "    </tr>\n",
       "    <tr>\n",
       "      <th>0</th>\n",
       "      <td>Władysław Adamski</td>\n",
       "      <td>18-12-1991</td>\n",
       "      <td>Sprawozdanie Komisji Polityki Gospodarczej, Bu...</td>\n",
       "      <td>Wysoki Sejmie! Wniesiony do parlamentu ˝Pakt ...</td>\n",
       "    </tr>\n",
       "    <tr>\n",
       "      <th>0</th>\n",
       "      <td>Eugeniusz Aleksandrowicz</td>\n",
       "      <td>08-05-1992</td>\n",
       "      <td>Sprawozdanie Komisji Polityki Gospodarczej, Bu...</td>\n",
       "      <td>Wysoki Sejmie! My, posłowie, stajemy dziś prz...</td>\n",
       "    </tr>\n",
       "    <tr>\n",
       "      <th>0</th>\n",
       "      <td>Andrzej Andrysiak</td>\n",
       "      <td>25-04-1992</td>\n",
       "      <td>Pierwsze czytanie rządowych projektów ustaw: 1...</td>\n",
       "      <td>W imieniu Parlamentarnego Klubu Porozumienia ...</td>\n",
       "    </tr>\n",
       "    <tr>\n",
       "      <th>0</th>\n",
       "      <td>Andrzej Andrzejczak</td>\n",
       "      <td>08-01-1993</td>\n",
       "      <td>Interpelacje i zapytania.</td>\n",
       "      <td>Nie tak dawno zakończyły się strajki górnicze...</td>\n",
       "    </tr>\n",
       "    <tr>\n",
       "      <th>0</th>\n",
       "      <td>Roman Andrzejewski</td>\n",
       "      <td>17-12-1991</td>\n",
       "      <td>Oświadczenia.</td>\n",
       "      <td>Panie i Panowie Posłowie! Jak sądzę, wyczerpu...</td>\n",
       "    </tr>\n",
       "    <tr>\n",
       "      <th>0</th>\n",
       "      <td>Andrzej Anusz</td>\n",
       "      <td>23-07-1992</td>\n",
       "      <td>Sprawozdanie komisji do badania wykonywania pr...</td>\n",
       "      <td>Rozpatrywany dziś projekt ustawy o przejęciu ...</td>\n",
       "    </tr>\n",
       "    <tr>\n",
       "      <th>0</th>\n",
       "      <td>Wojciech Arkuszewski</td>\n",
       "      <td>04-01-1992</td>\n",
       "      <td>Pierwsze czytanie rządowych projektów ustawy o...</td>\n",
       "      <td>Będę mówił krótko, nie należy się więc denerw...</td>\n",
       "    </tr>\n",
       "    <tr>\n",
       "      <th>0</th>\n",
       "      <td>Piotr Aszyk</td>\n",
       "      <td>06-05-1992</td>\n",
       "      <td>Pierwsze czytanie podstawowych kierunków prywa...</td>\n",
       "      <td>Dotychczasowa koncepcja prywatyzacji nie jest...</td>\n",
       "    </tr>\n",
       "    <tr>\n",
       "      <th>0</th>\n",
       "      <td>Andrzej Bajołek</td>\n",
       "      <td>24-01-1992</td>\n",
       "      <td>1. Sprawozdanie Komisji Polityki Gospodarczej,...</td>\n",
       "      <td>Przy okazji omawiania ustawy o narodowych fun...</td>\n",
       "    </tr>\n",
       "    <tr>\n",
       "      <th>0</th>\n",
       "      <td>Bronisława Bajor</td>\n",
       "      <td>30-01-1992</td>\n",
       "      <td>Interpelacje i zapytania.</td>\n",
       "      <td>Po raz kolejny Wysoka Izba zajmuje się proble...</td>\n",
       "    </tr>\n",
       "    <tr>\n",
       "      <th>0</th>\n",
       "      <td>Artur Balazs</td>\n",
       "      <td>22-05-1992</td>\n",
       "      <td>Interpelacje i zapytania.</td>\n",
       "      <td>Panie marszałku, w imieniu koalicji proszę o ...</td>\n",
       "    </tr>\n",
       "    <tr>\n",
       "      <th>0</th>\n",
       "      <td>Marek Balicki</td>\n",
       "      <td>04-01-1992</td>\n",
       "      <td>Oświadczenia.</td>\n",
       "      <td>Panie Posłanki! Panowie Posłowie! Nie jest to...</td>\n",
       "    </tr>\n",
       "    <tr>\n",
       "      <th>0</th>\n",
       "      <td>Anna Bańkowska</td>\n",
       "      <td>04-01-1992</td>\n",
       "      <td>Pierwsze czytanie rządowych projektów ustawy o...</td>\n",
       "      <td>Anna Bańkowska, Komisja Polityki Społecznej. ...</td>\n",
       "    </tr>\n",
       "    <tr>\n",
       "      <th>0</th>\n",
       "      <td>Tomasz Bańkowski</td>\n",
       "      <td>25-11-1991</td>\n",
       "      <td>Wybór wicemarszałków Sejmu</td>\n",
       "      <td>Chciałem poprosić na wniosek Klubu Parlamenta...</td>\n",
       "    </tr>\n",
       "    <tr>\n",
       "      <th>0</th>\n",
       "      <td>Stanisław Baran</td>\n",
       "      <td>17-10-1992</td>\n",
       "      <td>Sprawozdanie komisji o założeniach polityki sp...</td>\n",
       "      <td>Właściwie chciałbym się zatrzymać na razie pr...</td>\n",
       "    </tr>\n",
       "    <tr>\n",
       "      <th>0</th>\n",
       "      <td>Andrzej Baraniecki</td>\n",
       "      <td>03-01-1992</td>\n",
       "      <td>Pierwsze czytanie: 1\\) poselskiego projektu us...</td>\n",
       "      <td>Czy drugi etap reformy samorządu i podziału k...</td>\n",
       "    </tr>\n",
       "    <tr>\n",
       "      <th>0</th>\n",
       "      <td>Piotr Barciński</td>\n",
       "      <td>01-02-1992</td>\n",
       "      <td>Oświadczenia.</td>\n",
       "      <td>Moje oświadczenie będzie wygłaszane w niekorz...</td>\n",
       "    </tr>\n",
       "    <tr>\n",
       "      <th>0</th>\n",
       "      <td>Kazimierz Barczyk</td>\n",
       "      <td>03-01-1992</td>\n",
       "      <td>Pierwsze czytanie: 1\\) poselskiego projektu us...</td>\n",
       "      <td>Klub Parlamentarny Ruch dla Rzeczypospolitej ...</td>\n",
       "    </tr>\n",
       "    <tr>\n",
       "      <th>0</th>\n",
       "      <td>Ryszard Bartosz</td>\n",
       "      <td>30-12-1992</td>\n",
       "      <td>2. Sprawozdanie Komisji Nadzwyczajnej o posels...</td>\n",
       "      <td>W czasie pierwszego czytania omawianej ustawy...</td>\n",
       "    </tr>\n",
       "    <tr>\n",
       "      <th>0</th>\n",
       "      <td>Waldemar Bartosz</td>\n",
       "      <td>23-01-1992</td>\n",
       "      <td>1. Sprawozdanie Komisji Polityki Gospodarczej,...</td>\n",
       "      <td>Klub Parlamentarny Niezależnego Samorządnego ...</td>\n",
       "    </tr>\n",
       "    <tr>\n",
       "      <th>0</th>\n",
       "      <td>Roman Bartoszcze</td>\n",
       "      <td>02-10-1992</td>\n",
       "      <td>Sprawozdanie Komisji Przekształceń Własnościow...</td>\n",
       "      <td>Przystępując po raz kolejny do tego samego pr...</td>\n",
       "    </tr>\n",
       "    <tr>\n",
       "      <th>0</th>\n",
       "      <td>Maria Barucka</td>\n",
       "      <td>06-11-1992</td>\n",
       "      <td>Oświadczenia.</td>\n",
       "      <td>Pragnę i ja nawiązać do dzisiejszej wypowiedz...</td>\n",
       "    </tr>\n",
       "    <tr>\n",
       "      <th>0</th>\n",
       "      <td>Erhard Bastek</td>\n",
       "      <td>02-04-1992</td>\n",
       "      <td>Pierwsze czytanie poselskiego projektu ustawy ...</td>\n",
       "      <td>W zapytaniu poselskim 19 marca br. zwróciłem ...</td>\n",
       "    </tr>\n",
       "    <tr>\n",
       "      <th>0</th>\n",
       "      <td>Teresa Bazała</td>\n",
       "      <td>07-11-1992</td>\n",
       "      <td>Pierwsze czytanie rządowego projektu ustawy o ...</td>\n",
       "      <td>Wysoki Sejmie! Klub Parlamentarny Zjednoczeni...</td>\n",
       "    </tr>\n",
       "    <tr>\n",
       "      <th>0</th>\n",
       "      <td>Henryk Bąk</td>\n",
       "      <td>25-11-1991</td>\n",
       "      <td>Wybór wicemarszałków Sejmu</td>\n",
       "      <td>Przede wszystkim pragnę przeprosić tych, któr...</td>\n",
       "    </tr>\n",
       "    <tr>\n",
       "      <th>0</th>\n",
       "      <td>Józef Bąk</td>\n",
       "      <td>31-01-1992</td>\n",
       "      <td>Pierwsze czytanie poselskich projektów ustaw o...</td>\n",
       "      <td>Wysoki Sejmie! Przygotowałem sobie dobre - mo...</td>\n",
       "    </tr>\n",
       "    <tr>\n",
       "      <th>0</th>\n",
       "      <td>Aleksander Bentkowski</td>\n",
       "      <td>25-11-1991</td>\n",
       "      <td>Wybór wicemarszałków Sejmu</td>\n",
       "      <td>Wysoki Sejmie! Chciałbym tylko prosić o uwagę...</td>\n",
       "    </tr>\n",
       "    <tr>\n",
       "      <th>...</th>\n",
       "      <td>...</td>\n",
       "      <td>...</td>\n",
       "      <td>...</td>\n",
       "      <td>...</td>\n",
       "    </tr>\n",
       "    <tr>\n",
       "      <th>0</th>\n",
       "      <td>Jan Chojnacki</td>\n",
       "      <td>18-11-1993</td>\n",
       "      <td>Pierwsze czytanie pilnego rządowego projektu u...</td>\n",
       "      <td>Wysoki Sejmie! Mam zaszczyt przedstawić w imi...</td>\n",
       "    </tr>\n",
       "    <tr>\n",
       "      <th>0</th>\n",
       "      <td>Piotr Chojnacki</td>\n",
       "      <td>17-11-1993</td>\n",
       "      <td>Pierwsze czytanie pilnego rządowego oraz posel...</td>\n",
       "      <td>Panie Przewodniczący Zgromadzenia Narodowego!...</td>\n",
       "    </tr>\n",
       "    <tr>\n",
       "      <th>0</th>\n",
       "      <td>Henryk Choryngiewicz</td>\n",
       "      <td>18-02-1994</td>\n",
       "      <td>Interpelacje i zapytania.</td>\n",
       "      <td>Obecna sytuacja jest sytuacją szczególną, wym...</td>\n",
       "    </tr>\n",
       "    <tr>\n",
       "      <th>0</th>\n",
       "      <td>Leszek Chwat</td>\n",
       "      <td>30-11-1995</td>\n",
       "      <td>Sprawozdanie Komisji Młodzieży, Kultury Fizycz...</td>\n",
       "      <td>To uregulowanie, które dzisiaj jest proponowa...</td>\n",
       "    </tr>\n",
       "    <tr>\n",
       "      <th>0</th>\n",
       "      <td>Danuta Ciborowska</td>\n",
       "      <td>25-11-1993</td>\n",
       "      <td>Pierwsze czytanie pilnego rządowego projektu u...</td>\n",
       "      <td>Proszę pozwolić, pani marszałek, że na począt...</td>\n",
       "    </tr>\n",
       "    <tr>\n",
       "      <th>0</th>\n",
       "      <td>Janusz Cichosz</td>\n",
       "      <td>29-12-1993</td>\n",
       "      <td>Sprawozdanie Komisji Polityki Gospodarczej, Bu...</td>\n",
       "      <td>Panie Przewodniczący! Wysokie Zgromadzenie Na...</td>\n",
       "    </tr>\n",
       "    <tr>\n",
       "      <th>0</th>\n",
       "      <td>Jacek Ciecióra</td>\n",
       "      <td>21-01-1994</td>\n",
       "      <td>7. Pierwsze czytanie poselskiego projektu usta...</td>\n",
       "      <td>Na wstępie chciałbym wyrazić zadowolenie z fa...</td>\n",
       "    </tr>\n",
       "    <tr>\n",
       "      <th>0</th>\n",
       "      <td>Jerzy Ciemniewski</td>\n",
       "      <td>08-11-1993</td>\n",
       "      <td>poza punktami porządku</td>\n",
       "      <td>Panie Przewodniczący! Wysokie Zgromadzenie! M...</td>\n",
       "    </tr>\n",
       "    <tr>\n",
       "      <th>0</th>\n",
       "      <td>Stanisław Ciesielski</td>\n",
       "      <td>10-05-1996</td>\n",
       "      <td>16. Rządowe sprawozdanie z funkcjonowania usta...</td>\n",
       "      <td>Wysoki Sejmie! Jeszcze kilka lat temu opinią ...</td>\n",
       "    </tr>\n",
       "    <tr>\n",
       "      <th>0</th>\n",
       "      <td>Wiesław Ciesielski</td>\n",
       "      <td>16-12-1993</td>\n",
       "      <td>Sprawozdanie komisji z wykonania budżetu państ...</td>\n",
       "      <td>Panie Przewodniczący! Wysokie Zgromadzenie Na...</td>\n",
       "    </tr>\n",
       "    <tr>\n",
       "      <th>0</th>\n",
       "      <td>Czesław Cieślak</td>\n",
       "      <td>01-12-1993</td>\n",
       "      <td>Oświadczenia.</td>\n",
       "      <td>Jak wiadomo, w Polsce powinno się co roku pro...</td>\n",
       "    </tr>\n",
       "    <tr>\n",
       "      <th>0</th>\n",
       "      <td>Zygmunt Cybulski</td>\n",
       "      <td>03-12-1993</td>\n",
       "      <td>8. Pierwsze czytanie rządowego projektu ustawy...</td>\n",
       "      <td>W kontekście tej interpelacji chciałbym posta...</td>\n",
       "    </tr>\n",
       "    <tr>\n",
       "      <th>0</th>\n",
       "      <td>Grzegorz Cygonik</td>\n",
       "      <td>25-11-1993</td>\n",
       "      <td>Pierwsze czytanie pilnego rządowego projektu u...</td>\n",
       "      <td>Tylko gwoli wyjaśnienia: posłowie KPN - Obóz ...</td>\n",
       "    </tr>\n",
       "    <tr>\n",
       "      <th>0</th>\n",
       "      <td>Stanisław Czajczyński</td>\n",
       "      <td>03-12-1993</td>\n",
       "      <td>Pierwsze czytanie poselskiego projektu ustawy ...</td>\n",
       "      <td>W imieniu klubu Sojuszu Lewicy Demokratycznej...</td>\n",
       "    </tr>\n",
       "    <tr>\n",
       "      <th>0</th>\n",
       "      <td>Andrzej Czajka</td>\n",
       "      <td>17-12-1993</td>\n",
       "      <td>Sprawozdanie Komisji Rolnictwa i Gospodarki Ży...</td>\n",
       "      <td>Panie ministrze, czy po II wojnie światowej b...</td>\n",
       "    </tr>\n",
       "    <tr>\n",
       "      <th>0</th>\n",
       "      <td>Piotr Czarnecki</td>\n",
       "      <td>18-11-1993</td>\n",
       "      <td>Pierwsze czytanie pilnego rządowego oraz posel...</td>\n",
       "      <td>W dniu 20 stycznia 1995 r., po kilkumiesięczn...</td>\n",
       "    </tr>\n",
       "    <tr>\n",
       "      <th>0</th>\n",
       "      <td>Mirosław Czech</td>\n",
       "      <td>14-10-1993</td>\n",
       "      <td>Wybór wicemarszałków Sejmu.</td>\n",
       "      <td>Wysokie Zgromadzenie Narodowe! Uchwalenie kon...</td>\n",
       "    </tr>\n",
       "    <tr>\n",
       "      <th>0</th>\n",
       "      <td>Andrzej Czernecki</td>\n",
       "      <td>25-11-1993</td>\n",
       "      <td>5. Pierwsze czytanie rządowego projektu ustawy...</td>\n",
       "      <td>Panie i Panowie Posłowie! W ciągu ostatniego ...</td>\n",
       "    </tr>\n",
       "    <tr>\n",
       "      <th>0</th>\n",
       "      <td>Joachim Czernek</td>\n",
       "      <td>01-12-1993</td>\n",
       "      <td>Sprawozdanie Komisji Edukacji, Nauki i Postępu...</td>\n",
       "      <td>Parlamentarne Koło Mniejszości Niemieckiej je...</td>\n",
       "    </tr>\n",
       "    <tr>\n",
       "      <th>0</th>\n",
       "      <td>Mieczysław Czerniawski</td>\n",
       "      <td>25-11-1993</td>\n",
       "      <td>Pierwsze czytanie pilnego rządowego projektu u...</td>\n",
       "      <td>Zanim przejdę do omówienia poprawek Senatu, k...</td>\n",
       "    </tr>\n",
       "    <tr>\n",
       "      <th>0</th>\n",
       "      <td>Dorota Dancewicz</td>\n",
       "      <td>10-03-1994</td>\n",
       "      <td>Sprawozdanie Komisji Edukacji, Nauki i Postępu...</td>\n",
       "      <td>Panie i Panowie Posłowie! Mam pytanie do pana...</td>\n",
       "    </tr>\n",
       "    <tr>\n",
       "      <th>0</th>\n",
       "      <td>Witold Deręgowski</td>\n",
       "      <td>26-11-1993</td>\n",
       "      <td>14. Pierwsze czytanie poselskiego i rządowego ...</td>\n",
       "      <td>Wysokie Zgromadzenie Narodowe! Dyskusja nad p...</td>\n",
       "    </tr>\n",
       "    <tr>\n",
       "      <th>0</th>\n",
       "      <td>Maria Dmochowska</td>\n",
       "      <td>10-11-1993</td>\n",
       "      <td>Oświadczenia.</td>\n",
       "      <td>Panie Marszałku Przewodniczący Zgromadzenia N...</td>\n",
       "    </tr>\n",
       "    <tr>\n",
       "      <th>0</th>\n",
       "      <td>Teresa Dobosz</td>\n",
       "      <td>19-01-1995</td>\n",
       "      <td>Informacje: 1\\) rządu o podstawowych problemac...</td>\n",
       "      <td>Zdaniem Klubu Parlamentarnego Sojuszu Lewicy ...</td>\n",
       "    </tr>\n",
       "    <tr>\n",
       "      <th>0</th>\n",
       "      <td>Adam Dobroński</td>\n",
       "      <td>10-12-1993</td>\n",
       "      <td>Sprawozdanie Komisji Systemu Gospodarczego i P...</td>\n",
       "      <td>Panie Posłanki! Panowie Posłowie! W pełni zga...</td>\n",
       "    </tr>\n",
       "    <tr>\n",
       "      <th>0</th>\n",
       "      <td>Janusz Dobrosz</td>\n",
       "      <td>09-11-1993</td>\n",
       "      <td>Przedstawiony przez prezesa Rady Ministrów pro...</td>\n",
       "      <td>Wysokie Zgromadzenie Narodowe! W pamiętnych d...</td>\n",
       "    </tr>\n",
       "    <tr>\n",
       "      <th>0</th>\n",
       "      <td>Waldemar Dobrowolski</td>\n",
       "      <td>10-03-1994</td>\n",
       "      <td>Interpelacje i zapytania.</td>\n",
       "      <td>Mam zaszczyt w imieniu klubu PSL odnieść się ...</td>\n",
       "    </tr>\n",
       "    <tr>\n",
       "      <th>0</th>\n",
       "      <td>Krzysztof Dołowy</td>\n",
       "      <td>06-01-1994</td>\n",
       "      <td>Pierwsze czytanie: 1\\) projektu ustawy budżeto...</td>\n",
       "      <td>Wysokie Zgromadzenie Narodowe! Chciałbym poru...</td>\n",
       "    </tr>\n",
       "    <tr>\n",
       "      <th>0</th>\n",
       "      <td>Alfred Domagalski</td>\n",
       "      <td>25-11-1993</td>\n",
       "      <td>Pierwsze czytanie pilnego rządowego projektu u...</td>\n",
       "      <td>Panie i Panowie Posłowie! U schyłku swojej ka...</td>\n",
       "    </tr>\n",
       "    <tr>\n",
       "      <th>0</th>\n",
       "      <td>Marek Dyduch</td>\n",
       "      <td>03-03-1994</td>\n",
       "      <td>Oświadczenia.</td>\n",
       "      <td>Chciałbym zadać dwa pytania. Wszyscy tutaj po...</td>\n",
       "    </tr>\n",
       "  </tbody>\n",
       "</table>\n",
       "<p>522 rows × 4 columns</p>\n",
       "</div>"
      ],
      "text/plain": [
       "                           0           1  \\\n",
       "0             Paweł Abramski  13-02-1992   \n",
       "0          Zbigniew Adamczyk  01-08-1992   \n",
       "0          Andrzej Adamowicz  25-01-1992   \n",
       "0          Władysław Adamski  18-12-1991   \n",
       "0   Eugeniusz Aleksandrowicz  08-05-1992   \n",
       "0          Andrzej Andrysiak  25-04-1992   \n",
       "0        Andrzej Andrzejczak  08-01-1993   \n",
       "0         Roman Andrzejewski  17-12-1991   \n",
       "0              Andrzej Anusz  23-07-1992   \n",
       "0       Wojciech Arkuszewski  04-01-1992   \n",
       "0                Piotr Aszyk  06-05-1992   \n",
       "0            Andrzej Bajołek  24-01-1992   \n",
       "0           Bronisława Bajor  30-01-1992   \n",
       "0               Artur Balazs  22-05-1992   \n",
       "0              Marek Balicki  04-01-1992   \n",
       "0             Anna Bańkowska  04-01-1992   \n",
       "0           Tomasz Bańkowski  25-11-1991   \n",
       "0            Stanisław Baran  17-10-1992   \n",
       "0         Andrzej Baraniecki  03-01-1992   \n",
       "0            Piotr Barciński  01-02-1992   \n",
       "0          Kazimierz Barczyk  03-01-1992   \n",
       "0            Ryszard Bartosz  30-12-1992   \n",
       "0           Waldemar Bartosz  23-01-1992   \n",
       "0           Roman Bartoszcze  02-10-1992   \n",
       "0              Maria Barucka  06-11-1992   \n",
       "0              Erhard Bastek  02-04-1992   \n",
       "0              Teresa Bazała  07-11-1992   \n",
       "0                 Henryk Bąk  25-11-1991   \n",
       "0                  Józef Bąk  31-01-1992   \n",
       "0      Aleksander Bentkowski  25-11-1991   \n",
       "..                       ...         ...   \n",
       "0              Jan Chojnacki  18-11-1993   \n",
       "0            Piotr Chojnacki  17-11-1993   \n",
       "0       Henryk Choryngiewicz  18-02-1994   \n",
       "0               Leszek Chwat  30-11-1995   \n",
       "0          Danuta Ciborowska  25-11-1993   \n",
       "0             Janusz Cichosz  29-12-1993   \n",
       "0             Jacek Ciecióra  21-01-1994   \n",
       "0          Jerzy Ciemniewski  08-11-1993   \n",
       "0       Stanisław Ciesielski  10-05-1996   \n",
       "0         Wiesław Ciesielski  16-12-1993   \n",
       "0            Czesław Cieślak  01-12-1993   \n",
       "0           Zygmunt Cybulski  03-12-1993   \n",
       "0           Grzegorz Cygonik  25-11-1993   \n",
       "0      Stanisław Czajczyński  03-12-1993   \n",
       "0             Andrzej Czajka  17-12-1993   \n",
       "0            Piotr Czarnecki  18-11-1993   \n",
       "0             Mirosław Czech  14-10-1993   \n",
       "0          Andrzej Czernecki  25-11-1993   \n",
       "0            Joachim Czernek  01-12-1993   \n",
       "0     Mieczysław Czerniawski  25-11-1993   \n",
       "0           Dorota Dancewicz  10-03-1994   \n",
       "0          Witold Deręgowski  26-11-1993   \n",
       "0           Maria Dmochowska  10-11-1993   \n",
       "0              Teresa Dobosz  19-01-1995   \n",
       "0             Adam Dobroński  10-12-1993   \n",
       "0             Janusz Dobrosz  09-11-1993   \n",
       "0       Waldemar Dobrowolski  10-03-1994   \n",
       "0           Krzysztof Dołowy  06-01-1994   \n",
       "0          Alfred Domagalski  25-11-1993   \n",
       "0               Marek Dyduch  03-03-1994   \n",
       "\n",
       "                                                    2  \\\n",
       "0                           Interpelacje i zapytania.   \n",
       "0   Sprawozdanie Komisji Zdrowia oraz Komisji Usta...   \n",
       "0   1. Sprawozdanie Komisji Polityki Gospodarczej,...   \n",
       "0   Sprawozdanie Komisji Polityki Gospodarczej, Bu...   \n",
       "0   Sprawozdanie Komisji Polityki Gospodarczej, Bu...   \n",
       "0   Pierwsze czytanie rządowych projektów ustaw: 1...   \n",
       "0                           Interpelacje i zapytania.   \n",
       "0                                       Oświadczenia.   \n",
       "0   Sprawozdanie komisji do badania wykonywania pr...   \n",
       "0   Pierwsze czytanie rządowych projektów ustawy o...   \n",
       "0   Pierwsze czytanie podstawowych kierunków prywa...   \n",
       "0   1. Sprawozdanie Komisji Polityki Gospodarczej,...   \n",
       "0                           Interpelacje i zapytania.   \n",
       "0                           Interpelacje i zapytania.   \n",
       "0                                       Oświadczenia.   \n",
       "0   Pierwsze czytanie rządowych projektów ustawy o...   \n",
       "0                          Wybór wicemarszałków Sejmu   \n",
       "0   Sprawozdanie komisji o założeniach polityki sp...   \n",
       "0   Pierwsze czytanie: 1\\) poselskiego projektu us...   \n",
       "0                                       Oświadczenia.   \n",
       "0   Pierwsze czytanie: 1\\) poselskiego projektu us...   \n",
       "0   2. Sprawozdanie Komisji Nadzwyczajnej o posels...   \n",
       "0   1. Sprawozdanie Komisji Polityki Gospodarczej,...   \n",
       "0   Sprawozdanie Komisji Przekształceń Własnościow...   \n",
       "0                                       Oświadczenia.   \n",
       "0   Pierwsze czytanie poselskiego projektu ustawy ...   \n",
       "0   Pierwsze czytanie rządowego projektu ustawy o ...   \n",
       "0                          Wybór wicemarszałków Sejmu   \n",
       "0   Pierwsze czytanie poselskich projektów ustaw o...   \n",
       "0                          Wybór wicemarszałków Sejmu   \n",
       "..                                                ...   \n",
       "0   Pierwsze czytanie pilnego rządowego projektu u...   \n",
       "0   Pierwsze czytanie pilnego rządowego oraz posel...   \n",
       "0                           Interpelacje i zapytania.   \n",
       "0   Sprawozdanie Komisji Młodzieży, Kultury Fizycz...   \n",
       "0   Pierwsze czytanie pilnego rządowego projektu u...   \n",
       "0   Sprawozdanie Komisji Polityki Gospodarczej, Bu...   \n",
       "0   7. Pierwsze czytanie poselskiego projektu usta...   \n",
       "0                              poza punktami porządku   \n",
       "0   16. Rządowe sprawozdanie z funkcjonowania usta...   \n",
       "0   Sprawozdanie komisji z wykonania budżetu państ...   \n",
       "0                                       Oświadczenia.   \n",
       "0   8. Pierwsze czytanie rządowego projektu ustawy...   \n",
       "0   Pierwsze czytanie pilnego rządowego projektu u...   \n",
       "0   Pierwsze czytanie poselskiego projektu ustawy ...   \n",
       "0   Sprawozdanie Komisji Rolnictwa i Gospodarki Ży...   \n",
       "0   Pierwsze czytanie pilnego rządowego oraz posel...   \n",
       "0                         Wybór wicemarszałków Sejmu.   \n",
       "0   5. Pierwsze czytanie rządowego projektu ustawy...   \n",
       "0   Sprawozdanie Komisji Edukacji, Nauki i Postępu...   \n",
       "0   Pierwsze czytanie pilnego rządowego projektu u...   \n",
       "0   Sprawozdanie Komisji Edukacji, Nauki i Postępu...   \n",
       "0   14. Pierwsze czytanie poselskiego i rządowego ...   \n",
       "0                                       Oświadczenia.   \n",
       "0   Informacje: 1\\) rządu o podstawowych problemac...   \n",
       "0   Sprawozdanie Komisji Systemu Gospodarczego i P...   \n",
       "0   Przedstawiony przez prezesa Rady Ministrów pro...   \n",
       "0                           Interpelacje i zapytania.   \n",
       "0   Pierwsze czytanie: 1\\) projektu ustawy budżeto...   \n",
       "0   Pierwsze czytanie pilnego rządowego projektu u...   \n",
       "0                                       Oświadczenia.   \n",
       "\n",
       "                                                    3  \n",
       "0     Rozporządzenie ministra finansów o podwyższe...  \n",
       "0    Poselski projekt ustawy o zmianie ustawy o za...  \n",
       "0    koszty uzyskania dochodów. Poprzemy również p...  \n",
       "0    Wysoki Sejmie! Wniesiony do parlamentu ˝Pakt ...  \n",
       "0    Wysoki Sejmie! My, posłowie, stajemy dziś prz...  \n",
       "0    W imieniu Parlamentarnego Klubu Porozumienia ...  \n",
       "0    Nie tak dawno zakończyły się strajki górnicze...  \n",
       "0    Panie i Panowie Posłowie! Jak sądzę, wyczerpu...  \n",
       "0    Rozpatrywany dziś projekt ustawy o przejęciu ...  \n",
       "0    Będę mówił krótko, nie należy się więc denerw...  \n",
       "0    Dotychczasowa koncepcja prywatyzacji nie jest...  \n",
       "0    Przy okazji omawiania ustawy o narodowych fun...  \n",
       "0    Po raz kolejny Wysoka Izba zajmuje się proble...  \n",
       "0    Panie marszałku, w imieniu koalicji proszę o ...  \n",
       "0    Panie Posłanki! Panowie Posłowie! Nie jest to...  \n",
       "0    Anna Bańkowska, Komisja Polityki Społecznej. ...  \n",
       "0    Chciałem poprosić na wniosek Klubu Parlamenta...  \n",
       "0    Właściwie chciałbym się zatrzymać na razie pr...  \n",
       "0    Czy drugi etap reformy samorządu i podziału k...  \n",
       "0    Moje oświadczenie będzie wygłaszane w niekorz...  \n",
       "0    Klub Parlamentarny Ruch dla Rzeczypospolitej ...  \n",
       "0    W czasie pierwszego czytania omawianej ustawy...  \n",
       "0    Klub Parlamentarny Niezależnego Samorządnego ...  \n",
       "0    Przystępując po raz kolejny do tego samego pr...  \n",
       "0    Pragnę i ja nawiązać do dzisiejszej wypowiedz...  \n",
       "0    W zapytaniu poselskim 19 marca br. zwróciłem ...  \n",
       "0    Wysoki Sejmie! Klub Parlamentarny Zjednoczeni...  \n",
       "0    Przede wszystkim pragnę przeprosić tych, któr...  \n",
       "0    Wysoki Sejmie! Przygotowałem sobie dobre - mo...  \n",
       "0    Wysoki Sejmie! Chciałbym tylko prosić o uwagę...  \n",
       "..                                                ...  \n",
       "0    Wysoki Sejmie! Mam zaszczyt przedstawić w imi...  \n",
       "0    Panie Przewodniczący Zgromadzenia Narodowego!...  \n",
       "0    Obecna sytuacja jest sytuacją szczególną, wym...  \n",
       "0    To uregulowanie, które dzisiaj jest proponowa...  \n",
       "0    Proszę pozwolić, pani marszałek, że na począt...  \n",
       "0    Panie Przewodniczący! Wysokie Zgromadzenie Na...  \n",
       "0    Na wstępie chciałbym wyrazić zadowolenie z fa...  \n",
       "0    Panie Przewodniczący! Wysokie Zgromadzenie! M...  \n",
       "0    Wysoki Sejmie! Jeszcze kilka lat temu opinią ...  \n",
       "0    Panie Przewodniczący! Wysokie Zgromadzenie Na...  \n",
       "0    Jak wiadomo, w Polsce powinno się co roku pro...  \n",
       "0    W kontekście tej interpelacji chciałbym posta...  \n",
       "0    Tylko gwoli wyjaśnienia: posłowie KPN - Obóz ...  \n",
       "0    W imieniu klubu Sojuszu Lewicy Demokratycznej...  \n",
       "0    Panie ministrze, czy po II wojnie światowej b...  \n",
       "0    W dniu 20 stycznia 1995 r., po kilkumiesięczn...  \n",
       "0    Wysokie Zgromadzenie Narodowe! Uchwalenie kon...  \n",
       "0    Panie i Panowie Posłowie! W ciągu ostatniego ...  \n",
       "0    Parlamentarne Koło Mniejszości Niemieckiej je...  \n",
       "0    Zanim przejdę do omówienia poprawek Senatu, k...  \n",
       "0    Panie i Panowie Posłowie! Mam pytanie do pana...  \n",
       "0    Wysokie Zgromadzenie Narodowe! Dyskusja nad p...  \n",
       "0    Panie Marszałku Przewodniczący Zgromadzenia N...  \n",
       "0    Zdaniem Klubu Parlamentarnego Sojuszu Lewicy ...  \n",
       "0    Panie Posłanki! Panowie Posłowie! W pełni zga...  \n",
       "0    Wysokie Zgromadzenie Narodowe! W pamiętnych d...  \n",
       "0    Mam zaszczyt w imieniu klubu PSL odnieść się ...  \n",
       "0    Wysokie Zgromadzenie Narodowe! Chciałbym poru...  \n",
       "0    Panie i Panowie Posłowie! U schyłku swojej ka...  \n",
       "0    Chciałbym zadać dwa pytania. Wszyscy tutaj po...  \n",
       "\n",
       "[522 rows x 4 columns]"
      ]
     },
     "execution_count": 126,
     "metadata": {},
     "output_type": "execute_result"
    }
   ],
   "source": [
    "sp_joined"
   ]
  },
  {
   "cell_type": "code",
   "execution_count": 114,
   "metadata": {},
   "outputs": [
    {
     "data": {
      "text/plain": [
       "False"
      ]
     },
     "execution_count": 114,
     "metadata": {},
     "output_type": "execute_result"
    }
   ],
   "source": [
    "start = timer()\n",
    "speeches.to_csv('00_dane/speeches_2.csv', encoding='UTF-8', index=False, sep=\"|\")\n",
    "sp_joined.to_csv('00_dane/sp_joined.csv', encoding='UTF-8', index=False, sep=\"|\")\n",
    "print(timedelta(seconds=timer()-start))"
   ]
  },
  {
   "cell_type": "code",
   "execution_count": 59,
   "metadata": {},
   "outputs": [
    {
     "name": "stdout",
     "output_type": "stream",
     "text": [
      " Spróbowałbym może odpowiedzieć najpierw panu posłowi Dolacie, który domaga się konkretów, w ogóle całej tej prawej stronie sali, która - zdaje się - politykę zagraniczną utożsamia z werbalnym awanturnictwem. Chciałbym przypomnieć jeden... ( Fakty, fakty.) ( Powiedział, że tylko jeden.) ...konkretny przykład skuteczności działania pana ministra Sikorskiego, którego to przykładu państwo być może nie znacie, bo nie chcecie znać. Chciałbym przypomnieć ubiegłoroczną, lipcową wizytę pana ministra w Republice Mołdowy w sytuacji, jaka w tym kraju panowała, olbrzymiego napięcia spowodowanego fałszerstwami przedwyborczymi... (Gwar na sali) Gdybyście państwo zechcieli mnie wysłuchać, to dowiedzielibyście się czegoś, czego, zdaje się, nie wiecie. ( Panie pośle, słuchamy, słuchamy.) ...grożącego wybuchem protestów na dużą skalę, rozlewem krwi. Ta wizyta była wizytą nie tylko polskiego ministra spraw zagranicznych, ale też wysokiej rangi przedstawiciela społeczności międzynarodowej, ponieważ pan minister Sikorski miał wówczas upoważnienie prezydencji szwedzkiej, Unii Europejskiej, prezydencji greckiej w OBWE. Tak się robi politykę zagraniczną. Ta wizyta była skuteczna, te wybory odbyły się w sposób zasadniczo prawidłowy, doprowadziły do pokojowej demokratyzacji Republiki Mołdowy, co - zgodzi się pan poseł Dolata ze mną - leży również w interesie Polski. Moje krótkie pytanie do pana ministra. Ponieważ ta wizyta była, przynajmniej w jakiejś części, przygotowana również na szczeblu parlamentarnym, szczeblu sejmowej Komisji Spraw Zagranicznych, chciałbym zapytać, jaki jest stosunek pana ministra do tzw. dyplomacji parlamentarnej. Jest to pojęcie, które jest coraz bardziej aktualne w wielu krajach. Czy MSZ ma...\n",
      " Spróbowałbym może odpowiedzieć najpierw panu posłowi Dolacie, który domaga się konkretów, w ogóle całej tej prawej stronie sali, która - zdaje się - politykę zagraniczną utożsamia z werbalnym awanturnictwem. Chciałbym przypomnieć jeden... XXXXXXXXXXXXX XXXXXXXXXXXXX ...konkretny przykład skuteczności działania pana ministra Sikorskiego, którego to przykładu państwo być może nie znacie, bo nie chcecie znać. Chciałbym przypomnieć ubiegłoroczną, lipcową wizytę pana ministra w Republice Mołdowy w sytuacji, jaka w tym kraju panowała, olbrzymiego napięcia spowodowanego fałszerstwami przedwyborczymi... XXXXXXXXXXXXX Gdybyście państwo zechcieli mnie wysłuchać, to dowiedzielibyście się czegoś, czego, zdaje się, nie wiecie. XXXXXXXXXXXXX ...grożącego wybuchem protestów na dużą skalę, rozlewem krwi. Ta wizyta była wizytą nie tylko polskiego ministra spraw zagranicznych, ale też wysokiej rangi przedstawiciela społeczności międzynarodowej, ponieważ pan minister Sikorski miał wówczas upoważnienie prezydencji szwedzkiej, Unii Europejskiej, prezydencji greckiej w OBWE. Tak się robi politykę zagraniczną. Ta wizyta była skuteczna, te wybory odbyły się w sposób zasadniczo prawidłowy, doprowadziły do pokojowej demokratyzacji Republiki Mołdowy, co - zgodzi się pan poseł Dolata ze mną - leży również w interesie Polski. Moje krótkie pytanie do pana ministra. Ponieważ ta wizyta była, przynajmniej w jakiejś części, przygotowana również na szczeblu parlamentarnym, szczeblu sejmowej Komisji Spraw Zagranicznych, chciałbym zapytać, jaki jest stosunek pana ministra do tzw. dyplomacji parlamentarnej. Jest to pojęcie, które jest coraz bardziej aktualne w wielu krajach. Czy MSZ ma...\n"
     ]
    }
   ],
   "source": [
    "print(speeches['speech_raw'].iloc[241132])\n",
    "print(re.sub('\\([\\w.,: ]+\\)','XXXXXXXXXXXXX',speeches['speech_raw'].iloc[241132]))"
   ]
  },
  {
   "cell_type": "code",
   "execution_count": null,
   "metadata": {
    "collapsed": true
   },
   "outputs": [],
   "source": []
  }
 ],
 "metadata": {
  "kernelspec": {
   "display_name": "Python 3",
   "language": "python",
   "name": "python3"
  },
  "language_info": {
   "codemirror_mode": {
    "name": "ipython",
    "version": 3
   },
   "file_extension": ".py",
   "mimetype": "text/x-python",
   "name": "python",
   "nbconvert_exporter": "python",
   "pygments_lexer": "ipython3",
   "version": "3.6.3"
  }
 },
 "nbformat": 4,
 "nbformat_minor": 2
}
