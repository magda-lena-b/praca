{
 "cells": [
  {
   "cell_type": "code",
   "execution_count": 29,
   "metadata": {},
   "outputs": [
    {
     "data": {
      "text/plain": [
       "<module 'funcs' from 'C:\\\\Users\\\\Mag\\\\Documents\\\\_projekty\\\\praca\\\\funcs.py'>"
      ]
     },
     "execution_count": 29,
     "metadata": {},
     "output_type": "execute_result"
    }
   ],
   "source": [
    "import re\n",
    "import pandas as pd\n",
    "import funcs \n",
    "import importlib\n",
    "import unicodecsv as csv\n",
    "from timeit import default_timer as timer\n",
    "from datetime import datetime, timedelta\n",
    "\n",
    "importlib.reload(funcs)"
   ]
  },
  {
   "cell_type": "markdown",
   "metadata": {},
   "source": [
    "## 0. Wczytanie danych zrzuconych z bazy SQL do csv"
   ]
  },
  {
   "cell_type": "code",
   "execution_count": 2,
   "metadata": {},
   "outputs": [
    {
     "name": "stderr",
     "output_type": "stream",
     "text": [
      "C:\\Users\\Mag\\Anaconda3\\lib\\site-packages\\IPython\\core\\interactiveshell.py:2698: DtypeWarning: Columns (3,14) have mixed types. Specify dtype option on import or set low_memory=False.\n",
      "  interactivity=interactivity, compiler=compiler, result=result)\n"
     ]
    }
   ],
   "source": [
    "politicians = pd.read_csv(\"00_dane/portraits.csv\", sep='|')\n",
    "#speeches = pd.read_csv(\"00_dane/speech_data.csv\", sep='|')\n",
    "\n",
    "#wczytujemy plik po modyfikacjach w SQL\n",
    "speeches = pd.read_csv(\"00_dane/speeches.csv\", sep='|')"
   ]
  },
  {
   "cell_type": "markdown",
   "metadata": {},
   "source": [
    "## 1. Znalezienie imienia i nazwiska przemawiającego"
   ]
  },
  {
   "cell_type": "code",
   "execution_count": 5,
   "metadata": {
    "collapsed": true
   },
   "outputs": [],
   "source": [
    "speeches['author'] = speeches['speech_raw'].apply(funcs.name_finder)"
   ]
  },
  {
   "cell_type": "markdown",
   "metadata": {},
   "source": [
    "Zapisanie rozszerzonych danych do dalszych analiz."
   ]
  },
  {
   "cell_type": "code",
   "execution_count": 5,
   "metadata": {
    "collapsed": true
   },
   "outputs": [],
   "source": [
    "speeches.to_csv('00_dane/speeches.csv', encoding='UTF=8')"
   ]
  },
  {
   "cell_type": "markdown",
   "metadata": {},
   "source": [
    "## 2. Czyszczenie tekstu przemówień pt.1\n",
    "\n",
    "\n",
    "### 2.1. Wczytanie danych po czyszczeniu SQL i dodaniu autora"
   ]
  },
  {
   "cell_type": "code",
   "execution_count": 19,
   "metadata": {},
   "outputs": [
    {
     "name": "stderr",
     "output_type": "stream",
     "text": [
      "C:\\Users\\Mag\\Anaconda3\\lib\\site-packages\\IPython\\core\\interactiveshell.py:2698: DtypeWarning: Columns (3,14) have mixed types. Specify dtype option on import or set low_memory=False.\n",
      "  interactivity=interactivity, compiler=compiler, result=result)\n"
     ]
    }
   ],
   "source": [
    "politicians = pd.read_csv(\"00_dane/portraits.csv\", sep='|')\n",
    "speeches = pd.read_csv(\"00_dane/speeches_2.csv\", sep='|')\n",
    "\n",
    "#speeches.to_csv('00_dane/speeches_2.csv', encoding='UTF=8')"
   ]
  },
  {
   "cell_type": "code",
   "execution_count": 20,
   "metadata": {},
   "outputs": [
    {
     "data": {
      "text/plain": [
       "(272221, 225388)"
      ]
     },
     "execution_count": 20,
     "metadata": {},
     "output_type": "execute_result"
    }
   ],
   "source": [
    "len(speeches['speech_raw']), sum(1-pd.isnull(speeches['author_final']))\n"
   ]
  },
  {
   "cell_type": "markdown",
   "metadata": {
    "collapsed": true
   },
   "source": [
    "### 2.2. Czyszczenie znaków specjalnych i wycinanie nagłówka."
   ]
  },
  {
   "cell_type": "code",
   "execution_count": 21,
   "metadata": {},
   "outputs": [
    {
     "name": "stdout",
     "output_type": "stream",
     "text": [
      "160.51025696024772\n"
     ]
    }
   ],
   "source": [
    "start = timer()\n",
    "speeches['speech_raw'] = speeches['speech_raw'].apply(funcs.rem_head)\n",
    "speeches['speech_raw'] = speeches['speech_raw'].apply(funcs.clear_text)\n",
    "speeches['speech_title'] = speeches['speech_title'].apply(funcs.clear_text)\n",
    "end = timer()\n",
    "print(end - start)"
   ]
  },
  {
   "cell_type": "markdown",
   "metadata": {},
   "source": [
    "Wycinam fragment, który jest tytułem:\n",
    "1. Dodaję \"\\\" przed nawiasami w tytule.\n",
    "2. Wycinam tytuł z treści."
   ]
  },
  {
   "cell_type": "code",
   "execution_count": 22,
   "metadata": {},
   "outputs": [
    {
     "name": "stdout",
     "output_type": "stream",
     "text": [
      "0:00:01.926572\n"
     ]
    }
   ],
   "source": [
    "start = timer()\n",
    "speeches['speech_title'] = speeches['speech_title'].apply(lambda t: re.sub('\\(','\\(',t))\n",
    "speeches['speech_title'] = speeches['speech_title'].apply(lambda t: re.sub('\\)','\\)',t))\n",
    "print(timedelta(seconds=timer()-start))"
   ]
  },
  {
   "cell_type": "markdown",
   "metadata": {},
   "source": [
    "Jeden \"problematyczny\" case."
   ]
  },
  {
   "cell_type": "code",
   "execution_count": 27,
   "metadata": {
    "collapsed": true
   },
   "outputs": [],
   "source": [
    "speeches = speeches[~speeches['speech_raw'].isnull()]\n",
    "speeches = speeches[~speeches['speech_title'].isnull()]"
   ]
  },
  {
   "cell_type": "code",
   "execution_count": 23,
   "metadata": {
    "collapsed": true
   },
   "outputs": [],
   "source": [
    "speeches['speech_title'] = [re.sub('\\[COM\\\\\\\\\\(2005\\\\\\\\\\)0119 - C6-0099/2005 - 2005/0043\\\\\\\\\\(COD\\\\\\\\\\)\\]','',t) for t in speeches['speech_title']]\n",
    "speeches['speech_raw'] = speeches['speech_raw'].apply(funcs.rem_nasty) "
   ]
  },
  {
   "cell_type": "code",
   "execution_count": 30,
   "metadata": {
    "collapsed": true
   },
   "outputs": [],
   "source": [
    "speeches['speech_raw'] = [funcs.rem_title(t, r) for t, r, in zip(speeches['speech_title'], speeches['speech_raw'])]\n"
   ]
  },
  {
   "cell_type": "markdown",
   "metadata": {},
   "source": [
    "### 2.3. Zapisanie zmodyfikowanego pliku"
   ]
  },
  {
   "cell_type": "code",
   "execution_count": 119,
   "metadata": {},
   "outputs": [
    {
     "name": "stdout",
     "output_type": "stream",
     "text": [
      "0:00:29.467977\n"
     ]
    }
   ],
   "source": [
    "start = timer()\n",
    "speeches.to_csv('00_dane/speeches_2.csv', encoding='UTF-8', index=False, sep=\"|\")\n",
    "print(timedelta(seconds=timer()-start))"
   ]
  },
  {
   "cell_type": "markdown",
   "metadata": {},
   "source": [
    "## 3. Łączenie fragmentów przemówień"
   ]
  },
  {
   "cell_type": "code",
   "execution_count": 33,
   "metadata": {},
   "outputs": [
    {
     "name": "stdout",
     "output_type": "stream",
     "text": [
      "Wall time: 4.46 s\n"
     ]
    }
   ],
   "source": [
    "%%time\n",
    "sp_joined = speeches.groupby(['date_', 'author_final','speech_title']).agg({'speech_raw': lambda x: ' '.join(x)}).reset_index()"
   ]
  },
  {
   "cell_type": "markdown",
   "metadata": {},
   "source": [
    "## 4. Czyszczenie tekstu przemówienia pt 3.\n"
   ]
  },
  {
   "cell_type": "markdown",
   "metadata": {},
   "source": [
    "### 4.1. Usuwanie bardziej ogólnych elementów\n",
    "- Wypowiedzi innych posłów i komentarze typu \"Oklaski\" pojawiające się w nawiasach\n",
    "- \"Poseł Imię Nazwisko:\""
   ]
  },
  {
   "cell_type": "code",
   "execution_count": 34,
   "metadata": {},
   "outputs": [
    {
     "name": "stdout",
     "output_type": "stream",
     "text": [
      "0:00:51.843886\n"
     ]
    }
   ],
   "source": [
    "start = timer()\n",
    "sp_joined['speech_raw'] = sp_joined['speech_raw'].apply(lambda t: re.sub('\\([\\w.,: ]+\\)','',t))\n",
    "sp_joined['speech_raw'] = sp_joined['speech_raw'].apply(lambda t: re.sub('[Pp]oseł ([\\w -\\.]+):','',t))\n",
    "sp_joined['speech_raw'] = sp_joined['speech_raw'].apply(lambda t: re.sub('\\s+',' ',t))\n",
    "print(timedelta(seconds=timer()-start))"
   ]
  },
  {
   "cell_type": "markdown",
   "metadata": {},
   "source": [
    "### 4.2. Usuwanie przeszkadzających elementów -tworze drugą kolumnę\n",
    "- Panie Marszałku!\n",
    "- Pani Marszałek!\n",
    "- Wysoka Izbo!\n",
    "- Panie Ministrze!\n",
    "- Dziękuję bardzo.\n",
    "- Wysoki Sejmie!\n",
    "- Panie i Panowie Posłowie!\n",
    "- Panie Posłanki! Panowie Posłowie!\n",
    "- Wysokie Zgromadzenie Narodowe!"
   ]
  },
  {
   "cell_type": "code",
   "execution_count": 37,
   "metadata": {
    "collapsed": true
   },
   "outputs": [],
   "source": [
    "sp_joined['speech_rawer'] = sp_joined['speech_raw'].apply(lambda t: re.sub('Panie Marszałku!','',t))\n",
    "sp_joined['speech_rawer'] = sp_joined['speech_rawer'].apply(lambda t: re.sub('Szanowny Panie Ministrze!','',t))\n",
    "sp_joined['speech_rawer'] = sp_joined['speech_rawer'].apply(lambda t: re.sub('Pani Marszałek!','',t))\n",
    "sp_joined['speech_rawer'] = sp_joined['speech_rawer'].apply(lambda t: re.sub('Wysoka Izbo!','',t))\n",
    "sp_joined['speech_rawer'] = sp_joined['speech_rawer'].apply(lambda t: re.sub('Panie Ministrze!','',t))\n",
    "sp_joined['speech_rawer'] = sp_joined['speech_rawer'].apply(lambda t: re.sub('Dziękuję bardzo.','',t))\n",
    "sp_joined['speech_rawer'] = sp_joined['speech_rawer'].apply(lambda t: re.sub('Wysokie Zgromadzenie Narodowe!','',t))\n",
    "sp_joined['speech_rawer'] = sp_joined['speech_rawer'].apply(lambda t: re.sub('Wysoki Sejmie!','',t))\n",
    "sp_joined['speech_rawer'] = sp_joined['speech_rawer'].apply(lambda t: re.sub('Panie Posłanki! Panowie Posłowie!','',t))\n",
    "sp_joined['speech_rawer'] = sp_joined['speech_rawer'].apply(lambda t: re.sub('Panie i Panowie Posłowie!','',t))\n",
    "sp_joined['speech_rawer'] = sp_joined['speech_rawer'].apply(lambda t: re.sub('\\s+',' ',t))\n",
    "\n",
    "sp_joined['speech_rawer'] = sp_joined['speech_rawer'].apply(lambda t: re.sub('Dziękuję[.,] panie marszałku[.,]','',t))\n",
    "sp_joined['speech_rawer'] = sp_joined['speech_rawer'].apply(lambda t: re.sub('Dziękuję.','',t))\n",
    "sp_joined['speech_rawer'] = sp_joined['speech_rawer'].apply(lambda t: re.sub('Panie!','',t))\n",
    "sp_joined['speech_rawer'] = sp_joined['speech_rawer'].apply(lambda t: re.sub('Panowie!','',t))\n",
    "sp_joined['speech_rawer'] = sp_joined['speech_rawer'].apply(lambda t: re.sub('\\s+',' ',t))"
   ]
  },
  {
   "cell_type": "markdown",
   "metadata": {},
   "source": [
    "Wgranie do pliku"
   ]
  },
  {
   "cell_type": "code",
   "execution_count": 38,
   "metadata": {
    "collapsed": true
   },
   "outputs": [],
   "source": [
    "sp_joined.to_csv('00_dane/sp_joined.csv', encoding='UTF-8', index=False, sep=\"|\")"
   ]
  },
  {
   "cell_type": "code",
   "execution_count": null,
   "metadata": {
    "collapsed": true
   },
   "outputs": [],
   "source": []
  }
 ],
 "metadata": {
  "kernelspec": {
   "display_name": "Python 3",
   "language": "python",
   "name": "python3"
  },
  "language_info": {
   "codemirror_mode": {
    "name": "ipython",
    "version": 3
   },
   "file_extension": ".py",
   "mimetype": "text/x-python",
   "name": "python",
   "nbconvert_exporter": "python",
   "pygments_lexer": "ipython3",
   "version": "3.6.3"
  }
 },
 "nbformat": 4,
 "nbformat_minor": 2
}
