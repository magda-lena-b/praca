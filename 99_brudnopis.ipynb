{
 "cells": [
  {
   "cell_type": "code",
   "execution_count": 84,
   "metadata": {},
   "outputs": [
    {
     "data": {
      "text/plain": [
       "<module 'ng_models' from 'C:\\\\Users\\\\Mag\\\\Documents\\\\_projekty\\\\praca\\\\ng_models.py'>"
      ]
     },
     "execution_count": 84,
     "metadata": {},
     "output_type": "execute_result"
    }
   ],
   "source": [
    "import re\n",
    "import pandas as pd\n",
    "import funcs \n",
    "import importlib\n",
    "import unicodecsv as csv\n",
    "import pickle\n",
    "import random\n",
    "from timeit import default_timer as timer\n",
    "from datetime import datetime, timedelta\n",
    "import ng_models\n",
    "import matplotlib.pyplot as plt\n",
    "from collections import Counter\n",
    "\n",
    "%matplotlib notebook\n",
    "importlib.reload(funcs)\n",
    "importlib.reload(ng_models)"
   ]
  },
  {
   "cell_type": "code",
   "execution_count": 58,
   "metadata": {
    "collapsed": true
   },
   "outputs": [],
   "source": [
    "#sp_joined = pd.read_csv('00_dane/sp_joined.csv',  sep='|', encoding='UTF-8')"
   ]
  },
  {
   "cell_type": "code",
   "execution_count": 85,
   "metadata": {
    "collapsed": true
   },
   "outputs": [],
   "source": [
    "JK = ' '.join(sp_joined['speech_rawer'][sp_joined.author_final=='Jan Kulas'])\n",
    "model_JK = ng_models.ng_models(1, JK)"
   ]
  },
  {
   "cell_type": "code",
   "execution_count": 89,
   "metadata": {},
   "outputs": [
    {
     "name": "stdout",
     "output_type": "stream",
     "text": [
      "to powtorzenie ['ja', 'to', 'jest']\n",
      "1 bardzo  nowe\n"
     ]
    },
    {
     "data": {
      "text/plain": [
       "'Ja to jest bardzo ważne.'"
      ]
     },
     "execution_count": 89,
     "metadata": {},
     "output_type": "execute_result"
    }
   ],
   "source": [
    "s = model_JK.mprob_sent('Ja')\n",
    "s"
   ]
  },
  {
   "cell_type": "code",
   "execution_count": 77,
   "metadata": {},
   "outputs": [
    {
     "data": {
      "text/plain": [
       "[('o', 118), ('jest', 43), ('w', 20)]"
      ]
     },
     "execution_count": 77,
     "metadata": {},
     "output_type": "execute_result"
    }
   ],
   "source": [
    "Counter(model_JK.model_dict['ustawa']).most_common(3)"
   ]
  },
  {
   "cell_type": "code",
   "execution_count": 78,
   "metadata": {},
   "outputs": [
    {
     "data": {
      "text/plain": [
       "[('tym', 484), ('to', 238), ('zmianie', 115)]"
      ]
     },
     "execution_count": 78,
     "metadata": {},
     "output_type": "execute_result"
    }
   ],
   "source": [
    "Counter(model_JK.model_dict['o']).most_common(3)"
   ]
  },
  {
   "cell_type": "code",
   "execution_count": 79,
   "metadata": {},
   "outputs": [
    {
     "data": {
      "text/plain": [
       "[('że', 156), ('roku', 126), ('zakresie', 110)]"
      ]
     },
     "execution_count": 79,
     "metadata": {},
     "output_type": "execute_result"
    }
   ],
   "source": [
    "Counter(model_JK.model_dict['tym']).most_common(3)"
   ]
  },
  {
   "cell_type": "code",
   "execution_count": 80,
   "metadata": {},
   "outputs": [
    {
     "data": {
      "text/plain": [
       "[('w', 554), ('to', 277), ('nie', 217)]"
      ]
     },
     "execution_count": 80,
     "metadata": {},
     "output_type": "execute_result"
    }
   ],
   "source": [
    "Counter(model_JK.model_dict['że']).most_common(3)"
   ]
  },
  {
   "cell_type": "code",
   "execution_count": 88,
   "metadata": {},
   "outputs": [],
   "source": [
    "JK = ' '.join(sp_joined['speech_rawer'][sp_joined.author_final=='Jan Kulas'])\n",
    "JZ = ' '.join(sp_joined['speech_rawer'][sp_joined.author_final=='Józef Zych'])\n",
    "JJ = ' '.join(sp_joined['speech_rawer'][sp_joined.author_final=='Jerzy Jaskiernia'])\n",
    "SS = ' '.join(sp_joined['speech_rawer'][sp_joined.author_final=='Stanisław Stec'])\n",
    "TT = ' '.join(sp_joined['speech_rawer'][sp_joined.author_final=='Tadeusz Tomaszewski'])\n",
    "KP = ' '.join(sp_joined['speech_rawer'][sp_joined.author_final=='Krystyna Pawłowicz'])\n",
    "DT = ' '.join(sp_joined['speech_rawer'][sp_joined.author_final=='Donald Tusk'])\n",
    "JKM = ' '.join(sp_joined['speech_rawer'][sp_joined.author_final=='Janusz Korwin-Mikke'])"
   ]
  },
  {
   "cell_type": "code",
   "execution_count": 72,
   "metadata": {},
   "outputs": [
    {
     "data": {
      "text/plain": [
       "['panie']"
      ]
     },
     "execution_count": 72,
     "metadata": {},
     "output_type": "execute_result"
    }
   ],
   "source": [
    "model_JK = ng_models.ng_models(1, JK)\n",
    "model_JZ = ng_models.ng_models(1, JZ)\n",
    "model_JJ = ng_models.ng_models(1, JJ)\n",
    "model_SS = ng_models.ng_models(1, SS)\n",
    "model_TT = ng_models.ng_models(1, TT)\n",
    "model_KP = ng_models.ng_models(1, KP)\n",
    "model_DT = ng_models.ng_models(1, DT)\n",
    "model_JKM = ng_models.ng_models(1, JKM)"
   ]
  },
  {
   "cell_type": "code",
   "execution_count": 47,
   "metadata": {},
   "outputs": [
    {
     "data": {
      "text/html": [
       "<div>\n",
       "<style>\n",
       "    .dataframe thead tr:only-child th {\n",
       "        text-align: right;\n",
       "    }\n",
       "\n",
       "    .dataframe thead th {\n",
       "        text-align: left;\n",
       "    }\n",
       "\n",
       "    .dataframe tbody tr th {\n",
       "        vertical-align: top;\n",
       "    }\n",
       "</style>\n",
       "<table border=\"1\" class=\"dataframe\">\n",
       "  <thead>\n",
       "    <tr style=\"text-align: right;\">\n",
       "      <th></th>\n",
       "      <th>Zdanie</th>\n",
       "      <th>JK</th>\n",
       "    </tr>\n",
       "  </thead>\n",
       "  <tbody>\n",
       "    <tr>\n",
       "      <th>0</th>\n",
       "      <td>Zapewniam państwa, że jestem uczciwym politykiem</td>\n",
       "      <td>113418.0</td>\n",
       "    </tr>\n",
       "    <tr>\n",
       "      <th>1</th>\n",
       "      <td>Lew czarownica i stara szafa</td>\n",
       "      <td>461136.0</td>\n",
       "    </tr>\n",
       "    <tr>\n",
       "      <th>2</th>\n",
       "      <td>Zupełnie przypadkowy układ pięciu słów</td>\n",
       "      <td>350400.0</td>\n",
       "    </tr>\n",
       "    <tr>\n",
       "      <th>3</th>\n",
       "      <td>Panie ministrze proszę o wysłuchanie</td>\n",
       "      <td>5621.0</td>\n",
       "    </tr>\n",
       "    <tr>\n",
       "      <th>4</th>\n",
       "      <td>Polskie rolnictwo rozwija się szybko i ma się ...</td>\n",
       "      <td>27058.0</td>\n",
       "    </tr>\n",
       "    <tr>\n",
       "      <th>5</th>\n",
       "      <td>Demokracja jest najlepszym systemem politycznym</td>\n",
       "      <td>171608.0</td>\n",
       "    </tr>\n",
       "    <tr>\n",
       "      <th>6</th>\n",
       "      <td>Jestem najlepszym kandydatem na prezydenta</td>\n",
       "      <td>45919.0</td>\n",
       "    </tr>\n",
       "    <tr>\n",
       "      <th>7</th>\n",
       "      <td>Dla porównania zdanie długie o polityce o usta...</td>\n",
       "      <td>34491.0</td>\n",
       "    </tr>\n",
       "    <tr>\n",
       "      <th>8</th>\n",
       "      <td>wysoka izbo</td>\n",
       "      <td>6820.0</td>\n",
       "    </tr>\n",
       "  </tbody>\n",
       "</table>\n",
       "</div>"
      ],
      "text/plain": [
       "                                              Zdanie        JK\n",
       "0   Zapewniam państwa, że jestem uczciwym politykiem  113418.0\n",
       "1                       Lew czarownica i stara szafa  461136.0\n",
       "2             Zupełnie przypadkowy układ pięciu słów  350400.0\n",
       "3               Panie ministrze proszę o wysłuchanie    5621.0\n",
       "4  Polskie rolnictwo rozwija się szybko i ma się ...   27058.0\n",
       "5    Demokracja jest najlepszym systemem politycznym  171608.0\n",
       "6         Jestem najlepszym kandydatem na prezydenta   45919.0\n",
       "7  Dla porównania zdanie długie o polityce o usta...   34491.0\n",
       "8                                        wysoka izbo    6820.0"
      ]
     },
     "execution_count": 47,
     "metadata": {},
     "output_type": "execute_result"
    }
   ],
   "source": [
    "summary_table = pd.DataFrame()\n",
    "summary_table['Zdanie']=['Zapewniam państwa, że jestem uczciwym politykiem', \n",
    "                        'Lew czarownica i stara szafa',\n",
    "                        'Zupełnie przypadkowy układ pięciu słów',\n",
    "                        'Panie ministrze proszę o wysłuchanie',\n",
    "                        'Polskie rolnictwo rozwija się szybko i ma się dobrze',\n",
    "                        'Demokracja jest najlepszym systemem politycznym',\n",
    "                        'Jestem najlepszym kandydatem na prezydenta',\n",
    "                        'Dla porównania zdanie długie o polityce o ustawie dotyczące zagadnień istotnych, które każdy poseł wypowiedzieć może',\n",
    "                        'wysoka izbo']\n",
    "summary_table['JK'] = summary_table['Zdanie'].apply(model_JK.perplexity).round()\n",
    "summary_table"
   ]
  },
  {
   "cell_type": "code",
   "execution_count": 51,
   "metadata": {},
   "outputs": [
    {
     "data": {
      "text/plain": [
       "[('to', 13),\n",
       " ('się', 12),\n",
       " ('osobiście', 11),\n",
       " ('bym', 11),\n",
       " ('rozumiem', 10),\n",
       " ('nie', 9),\n",
       " ('myślę', 9),\n",
       " ('w', 9),\n",
       " ('chciałbym', 7),\n",
       " ('jestem', 6)]"
      ]
     },
     "execution_count": 51,
     "metadata": {},
     "output_type": "execute_result"
    }
   ],
   "source": [
    "Counter(model_JK.model_dict['ja']).most_common(10)"
   ]
  },
  {
   "cell_type": "code",
   "execution_count": 40,
   "metadata": {},
   "outputs": [
    {
     "data": {
      "text/plain": [
       "'<s>zapewniam państwa że jestem uczciwym politykiem </s>'"
      ]
     },
     "execution_count": 40,
     "metadata": {},
     "output_type": "execute_result"
    }
   ],
   "source": [
    "model_JK.process_text(model_JK, 'Zapewniam państwa, że jestem uczciwym politykiem')"
   ]
  },
  {
   "cell_type": "code",
   "execution_count": null,
   "metadata": {
    "collapsed": true
   },
   "outputs": [],
   "source": [
    "model_JK."
   ]
  }
 ],
 "metadata": {
  "kernelspec": {
   "display_name": "Python 3",
   "language": "python",
   "name": "python3"
  },
  "language_info": {
   "codemirror_mode": {
    "name": "ipython",
    "version": 3
   },
   "file_extension": ".py",
   "mimetype": "text/x-python",
   "name": "python",
   "nbconvert_exporter": "python",
   "pygments_lexer": "ipython3",
   "version": "3.6.3"
  }
 },
 "nbformat": 4,
 "nbformat_minor": 2
}
