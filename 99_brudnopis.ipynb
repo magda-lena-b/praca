{
 "cells": [
  {
   "cell_type": "code",
   "execution_count": 1,
   "metadata": {},
   "outputs": [
    {
     "data": {
      "text/plain": [
       "<module 'ng_models' from 'D:\\\\_projekty\\\\praca\\\\ng_models.py'>"
      ]
     },
     "execution_count": 1,
     "metadata": {},
     "output_type": "execute_result"
    }
   ],
   "source": [
    "import re\n",
    "import pandas as pd\n",
    "import funcs \n",
    "import importlib\n",
    "import unicodecsv as csv\n",
    "import pickle\n",
    "import random\n",
    "from timeit import default_timer as timer\n",
    "from datetime import datetime, timedelta\n",
    "import ng_models\n",
    "import matplotlib.pyplot as plt\n",
    "from collections import Counter\n",
    "import stanza\n",
    "\n",
    "\n",
    "%matplotlib notebook\n",
    "importlib.reload(funcs)\n",
    "importlib.reload(ng_models)"
   ]
  },
  {
   "cell_type": "code",
   "execution_count": 2,
   "metadata": {},
   "outputs": [],
   "source": [
    "sp_joined = pd.read_csv('00_dane/sp_joined2.csv',  sep='|', encoding='UTF-8')\n"
   ]
  },
  {
   "cell_type": "code",
   "execution_count": 8,
   "metadata": {},
   "outputs": [
    {
     "name": "stderr",
     "output_type": "stream",
     "text": [
      "Downloading https://raw.githubusercontent.com/stanfordnlp/stanza-resources/master/resources_1.0.0.json: 116kB [00:00, 2.99MB/s]\n",
      "2020-04-19 18:04:21 INFO: Downloading default packages for language: pl (Polish)...\n",
      "Downloading http://nlp.stanford.edu/software/stanza/1.0.0/pl/default.zip: 100%|█| 228M/228M [01:00<00:00, 3.\n",
      "2020-04-19 18:05:26 INFO: Finished downloading models and saved to C:\\Users\\Magda\\stanza_resources.\n"
     ]
    }
   ],
   "source": [
    "stanza.download('pl')"
   ]
  },
  {
   "cell_type": "code",
   "execution_count": 10,
   "metadata": {},
   "outputs": [
    {
     "name": "stderr",
     "output_type": "stream",
     "text": [
      "2020-04-19 18:06:50 INFO: Loading these models for language: pl (Polish):\n",
      "=======================\n",
      "| Processor | Package |\n",
      "-----------------------\n",
      "| tokenize  | lfg     |\n",
      "=======================\n",
      "\n",
      "2020-04-19 18:06:50 INFO: Use device: cpu\n",
      "2020-04-19 18:06:50 INFO: Loading: tokenize\n",
      "2020-04-19 18:06:50 INFO: Done loading processors!\n"
     ]
    }
   ],
   "source": [
    "nlp = stanza.Pipeline(lang='pl', processors='tokenize')"
   ]
  },
  {
   "cell_type": "code",
   "execution_count": 16,
   "metadata": {},
   "outputs": [
    {
     "name": "stderr",
     "output_type": "stream",
     "text": [
      "2020-04-19 18:12:16 WARNING: Can not find mwt: default from official model list. Ignoring it.\n",
      "2020-04-19 18:12:16 INFO: Loading these models for language: pl (Polish):\n",
      "=======================\n",
      "| Processor | Package |\n",
      "-----------------------\n",
      "| tokenize  | lfg     |\n",
      "| pos       | lfg     |\n",
      "| lemma     | lfg     |\n",
      "=======================\n",
      "\n",
      "2020-04-19 18:12:16 INFO: Use device: cpu\n",
      "2020-04-19 18:12:16 INFO: Loading: tokenize\n",
      "2020-04-19 18:12:16 INFO: Loading: pos\n",
      "2020-04-19 18:12:16 INFO: Loading: lemma\n",
      "2020-04-19 18:12:16 INFO: Done loading processors!\n"
     ]
    }
   ],
   "source": [
    "nlp = stanza.Pipeline(lang='pl', processors='tokenize,mwt, pos, lemma')"
   ]
  },
  {
   "cell_type": "code",
   "execution_count": 17,
   "metadata": {},
   "outputs": [],
   "source": [
    "doc = nlp('Kotek domu lubię sprawdzam stop podstawa')"
   ]
  },
  {
   "cell_type": "code",
   "execution_count": 18,
   "metadata": {},
   "outputs": [
    {
     "name": "stdout",
     "output_type": "stream",
     "text": [
      "word: Kotek \tlemma: kotek\n",
      "word: domu \tlemma: dom\n",
      "word: lubię \tlemma: lubić\n",
      "word: sprawdzam \tlemma: sprawdzać\n",
      "word: stop \tlemma: stop\n",
      "word: podstawa \tlemma: podstawa\n"
     ]
    }
   ],
   "source": [
    "print(*[f'word: {word.text+\" \"}\\tlemma: {word.lemma}' for sent in doc.sentences for word in sent.words], sep='\\n')"
   ]
  },
  {
   "cell_type": "code",
   "execution_count": 27,
   "metadata": {},
   "outputs": [
    {
     "data": {
      "text/plain": [
       "'kotek'"
      ]
     },
     "execution_count": 27,
     "metadata": {},
     "output_type": "execute_result"
    }
   ],
   "source": [
    "doc.sentences[0].words[0].lemma\n"
   ]
  },
  {
   "cell_type": "code",
   "execution_count": null,
   "metadata": {},
   "outputs": [],
   "source": []
  }
 ],
 "metadata": {
  "kernelspec": {
   "display_name": "Python 3",
   "language": "python",
   "name": "python3"
  },
  "language_info": {
   "codemirror_mode": {
    "name": "ipython",
    "version": 3
   },
   "file_extension": ".py",
   "mimetype": "text/x-python",
   "name": "python",
   "nbconvert_exporter": "python",
   "pygments_lexer": "ipython3",
   "version": "3.7.6"
  }
 },
 "nbformat": 4,
 "nbformat_minor": 2
}
