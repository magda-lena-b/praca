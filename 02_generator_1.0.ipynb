{
 "cells": [
  {
   "cell_type": "markdown",
   "metadata": {},
   "source": [
    "# Najprostszy z możliwych model n-gramowy"
   ]
  },
  {
   "cell_type": "code",
   "execution_count": 1,
   "metadata": {},
   "outputs": [
    {
     "data": {
      "text/plain": [
       "<module 'funcs' from 'C:\\\\Users\\\\Mag\\\\Documents\\\\_projekty\\\\praca\\\\funcs.py'>"
      ]
     },
     "execution_count": 1,
     "metadata": {},
     "output_type": "execute_result"
    }
   ],
   "source": [
    "import re\n",
    "import pandas as pd\n",
    "import funcs \n",
    "import importlib\n",
    "import unicodecsv as csv\n",
    "import pickle\n",
    "import random\n",
    "from timeit import default_timer as timer\n",
    "from datetime import datetime, timedelta\n",
    "\n",
    "importlib.reload(funcs)"
   ]
  },
  {
   "cell_type": "code",
   "execution_count": 2,
   "metadata": {
    "collapsed": true
   },
   "outputs": [],
   "source": [
    "sp_joined = pd.read_csv('00_dane/sp_joined.csv',  sep='|', encoding='UTF-8')"
   ]
  },
  {
   "cell_type": "code",
   "execution_count": 5,
   "metadata": {},
   "outputs": [
    {
     "name": "stdout",
     "output_type": "stream",
     "text": [
      "Wall time: 2min 14s\n"
     ]
    }
   ],
   "source": [
    "%%time\n",
    "n=1\n",
    "words, words_model = list(), dict()\n",
    "for speech in sp_joined['speech_raw']:\n",
    "    words = list()\n",
    "    words.extend(speech.split())\n",
    "    for i in range(len(words)-n):\n",
    "        speech_part = ' '.join(words[i:i+n])\n",
    "        if speech_part not in words_model.keys():\n",
    "            words_model[speech_part]=[]\n",
    "        words_model[speech_part].append(words[i+n])\n",
    "        \n",
    "#Wall time: 3min 30s        "
   ]
  },
  {
   "cell_type": "code",
   "execution_count": 6,
   "metadata": {
    "collapsed": true
   },
   "outputs": [],
   "source": [
    "model1 = words_model"
   ]
  },
  {
   "cell_type": "code",
   "execution_count": 4,
   "metadata": {
    "collapsed": true
   },
   "outputs": [],
   "source": [
    "model2 = words_model"
   ]
  },
  {
   "cell_type": "code",
   "execution_count": 3,
   "metadata": {
    "collapsed": true
   },
   "outputs": [],
   "source": [
    "file = open('00_dane/model1', 'rb')\n",
    "\n",
    "# dump information to that file\n",
    "words_model = pickle.load(file)\n",
    "\n",
    "# close the file\n",
    "file.close()"
   ]
  },
  {
   "cell_type": "code",
   "execution_count": 30,
   "metadata": {
    "collapsed": true
   },
   "outputs": [],
   "source": [
    "def spin_doctor(speech_start, steps, words_model, n):\n",
    "    if len(speech_start)==0:\n",
    "        r = random.randrange(len(words_model.keys()))\n",
    "        speech_start = list(words_model.keys())[r]\n",
    "        \n",
    "    if speech_start in words_model.keys():\n",
    "        speech = list()\n",
    "        words = speech_start\n",
    "        speech.append(speech_start.capitalize())\n",
    "        for _ in range(steps):\n",
    "            possibilities = words_model[words]\n",
    "            next_item = possibilities[random.randrange(len(possibilities))]\n",
    "            speech.append(next_item)\n",
    "            words = ' '.join(speech[-n:])\n",
    "            words = ' '.join(words.split()[-n:])\n",
    "            \n",
    "        return ' '.join(speech)+'.'\n",
    "    else:\n",
    "        print('Brak w modelu')"
   ]
  },
  {
   "cell_type": "markdown",
   "metadata": {},
   "source": [
    "Output modelu na 1-gram"
   ]
  },
  {
   "cell_type": "code",
   "execution_count": 18,
   "metadata": {},
   "outputs": [
    {
     "name": "stdout",
     "output_type": "stream",
     "text": [
      "Urobek podkomisji, mają stosować się zadania i tylko chęci ani upraw na czym operatorzy i przytułków dla polskiej żeglugi śródlądowej do Prawa Podatkowego, która zwalnia urzędników. Muszę zresztą widać w którym funkcjonuje już wyżej wymienionym projektem ustawy o których niesławnymi bohaterami narodowymi funduszami spójności terminologicznej. Wydaje się, że nasilają się zgodnie z mechanizmów, które toczą się teraz tego demo potrafi przeprowadzić.\n"
     ]
    }
   ],
   "source": [
    "print(spin_doctor('', 60, model1, 1))"
   ]
  },
  {
   "cell_type": "code",
   "execution_count": 22,
   "metadata": {},
   "outputs": [
    {
     "name": "stdout",
     "output_type": "stream",
     "text": [
      "Dziś jest już ustalony system finansów publicznych? Czy może mi pan minister mówi, że ta krytyka zasługuje na aprobatę argument zakładający, iż prezes Izby Cywilnej oraz Izby Kontroli w dniu 2 marca 2006 r. o świadczeniach przedemerytalnych też jest możliwe. Zdaniem prezydenta narusza to uprawnień przedsiębiorcy, naprawienie szkody wyrządzonej czynem niedozwolonym oraz pracowników cywilnych. Dla obydwu grup wyważyć. Pamiętajmy także o zwykłą większość głosów. Co to oznacza? Jest to bardzo ważna kwestia, to mianowicie, że w tej sytuacji pogłębia fakt, że pomoc państwa dla firm oraz poparcie dla tego rodzaju działalności tak specyficznych instytucji, jakimi są Policja, ośrodki pomocy społecznej regulują oczywiście.\n"
     ]
    }
   ],
   "source": [
    "print(spin_doctor('Dziś jest', 100, model2, 2))"
   ]
  },
  {
   "cell_type": "code",
   "execution_count": 35,
   "metadata": {},
   "outputs": [
    {
     "name": "stdout",
     "output_type": "stream",
     "text": [
      "Złudzeń, jakie są koszty badania i analizy odnoszące się do dynamiki eksportu nad importem alkoholi. Takim skutecznym i wystarczającym do uruchomienia Krajowego Centrum Hodowli Zwierząt na temat której dzisiaj mówimy o odsetkach wynoszących 12%, ale nie jest ustawą zasadniczą, którą postulowało rozwiązanie samorządowe. Czy ministerstwa podejmą działania na szkodę gospodarki, obywateli. Natomiast nie akceptujemy takich zachowań. Nawet jeśli jest ono słuszne. Aby się o swoje doświadczenia w zarządzaniu oświatą. W związku z tym, że księga wieczysta jest rejestrem centralnym, w budżecie na wydatki zwiazane z tą ostatnią, muszę powiedzieć, że to nie jest możliwe do zsumowania dopiero po 1 maja 2004 r..\n"
     ]
    }
   ],
   "source": [
    "print(spin_doctor('', 100, model2, 2))"
   ]
  },
  {
   "cell_type": "markdown",
   "metadata": {
    "collapsed": true
   },
   "source": [
    "## Spróbujmy ulepszyć model lepiej uwzględniając początek i koniec zdania."
   ]
  },
  {
   "cell_type": "code",
   "execution_count": 15,
   "metadata": {},
   "outputs": [],
   "source": [
    "dane_do_modelu = ' '.join(sp_joined['speech_raw'])"
   ]
  },
  {
   "cell_type": "markdown",
   "metadata": {},
   "source": [
    "Usuńmy kropkę po \"r.\", przecinki, wielokrotne spacje."
   ]
  },
  {
   "cell_type": "code",
   "execution_count": 16,
   "metadata": {
    "collapsed": true
   },
   "outputs": [],
   "source": [
    "dane_do_modelu = re.sub('\\s+',' ',dane_do_modelu)\n",
    "dane_do_modelu = re.sub('\\ r.',' r',dane_do_modelu)"
   ]
  },
  {
   "cell_type": "code",
   "execution_count": 21,
   "metadata": {
    "collapsed": true
   },
   "outputs": [],
   "source": [
    "dane_do_modelu = re.sub('[!?.] ',' </s> <s> ',dane_do_modelu.lower())"
   ]
  },
  {
   "cell_type": "code",
   "execution_count": 23,
   "metadata": {},
   "outputs": [],
   "source": [
    "dane_do_modelu = re.sub(',','',dane_do_modelu)"
   ]
  },
  {
   "cell_type": "markdown",
   "metadata": {},
   "source": [
    "### Budowa modelu 1-gramowego"
   ]
  },
  {
   "cell_type": "code",
   "execution_count": 25,
   "metadata": {},
   "outputs": [],
   "source": [
    "\n",
    "    "
   ]
  },
  {
   "cell_type": "code",
   "execution_count": 26,
   "metadata": {},
   "outputs": [
    {
     "name": "stdout",
     "output_type": "stream",
     "text": [
      "Wall time: 3min 26s\n"
     ]
    }
   ],
   "source": [
    "%%time\n",
    "model1 = model_ng(dane_do_modelu, 2)"
   ]
  },
  {
   "cell_type": "code",
   "execution_count": 33,
   "metadata": {
    "collapsed": true
   },
   "outputs": [],
   "source": [
    "kl=list(model1.keys())"
   ]
  },
  {
   "cell_type": "code",
   "execution_count": 37,
   "metadata": {},
   "outputs": [
    {
     "data": {
      "text/plain": [
       "['w stanie',\n",
       " 'stanie wojennym',\n",
       " 'wojennym byli',\n",
       " 'byli skazywani',\n",
       " 'skazywani przez',\n",
       " 'przez niekiedy',\n",
       " 'niekiedy psychopatycznych',\n",
       " 'psychopatycznych sędziów',\n",
       " 'sędziów na',\n",
       " 'na wyroki',\n",
       " 'wyroki które',\n",
       " 'które nie',\n",
       " 'nie mają',\n",
       " 'mają nic',\n",
       " 'nic wspólnego',\n",
       " 'wspólnego z',\n",
       " 'z wymiarem',\n",
       " 'wymiarem sprawiedliwości',\n",
       " 'sprawiedliwości </s>',\n",
       " '<s> ale']"
      ]
     },
     "execution_count": 37,
     "metadata": {},
     "output_type": "execute_result"
    }
   ],
   "source": [
    "kl[100:120]"
   ]
  },
  {
   "cell_type": "code",
   "execution_count": null,
   "metadata": {
    "collapsed": true
   },
   "outputs": [],
   "source": []
  }
 ],
 "metadata": {
  "kernelspec": {
   "display_name": "Python 3",
   "language": "python",
   "name": "python3"
  },
  "language_info": {
   "codemirror_mode": {
    "name": "ipython",
    "version": 3
   },
   "file_extension": ".py",
   "mimetype": "text/x-python",
   "name": "python",
   "nbconvert_exporter": "python",
   "pygments_lexer": "ipython3",
   "version": "3.6.3"
  }
 },
 "nbformat": 4,
 "nbformat_minor": 2
}
