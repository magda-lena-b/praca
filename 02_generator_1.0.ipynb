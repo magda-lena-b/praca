{
 "cells": [
  {
   "cell_type": "code",
   "execution_count": null,
   "metadata": {
    "collapsed": true
   },
   "outputs": [],
   "source": [
    "import re\n",
    "import pandas as pd\n",
    "import funcs \n",
    "import importlib\n",
    "import unicodecsv as csv\n",
    "from timeit import default_timer as timer\n",
    "from datetime import datetime, timedelta\n",
    "\n",
    "importlib.reload(funcs)"
   ]
  },
  {
   "cell_type": "code",
   "execution_count": null,
   "metadata": {
    "collapsed": true
   },
   "outputs": [],
   "source": [
    "n=1\n",
    "words, words_model = list(), dict()\n",
    "for speech in sp_joined['speech_raw']:\n",
    "    words.extend(speech.split())\n",
    "    for i in range(len(words)-n):\n",
    "        speech_part = ' '.join(words[i:i+n])\n",
    "        if speech_part not in words_model.keys():\n",
    "            words_model[speech_part]=[]\n",
    "        words_model[speech_part].append(words[i+n])"
   ]
  },
  {
   "cell_type": "code",
   "execution_count": null,
   "metadata": {
    "collapsed": true
   },
   "outputs": [],
   "source": [
    " if song_start=='':\n",
    "            r = random.randrange(len(self.model.keys()))\n",
    "            song_start = list(self.model.keys())[r]\n",
    "            \n",
    "        if song_start in self.model.keys():\n",
    "            song = list()\n",
    "            words = song_start\n",
    "            song.append(words)\n",
    "            for _ in range(steps):\n",
    "                possibilities = self.model[words]\n",
    "                next_item = possibilities[random.randrange(len(possibilities))]\n",
    "                song.append(next_item)\n",
    "                words = ' '.join(song[-self.n:])\n",
    "                words = ' '.join(words.split()[-self.n:])\n",
    "            return ' '.join(song)"
   ]
  }
 ],
 "metadata": {
  "kernelspec": {
   "display_name": "Python 3",
   "language": "python",
   "name": "python3"
  },
  "language_info": {
   "codemirror_mode": {
    "name": "ipython",
    "version": 3
   },
   "file_extension": ".py",
   "mimetype": "text/x-python",
   "name": "python",
   "nbconvert_exporter": "python",
   "pygments_lexer": "ipython3",
   "version": "3.6.3"
  }
 },
 "nbformat": 4,
 "nbformat_minor": 2
}
