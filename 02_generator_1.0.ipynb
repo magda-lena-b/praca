{
 "cells": [
  {
   "cell_type": "markdown",
   "metadata": {},
   "source": [
    "# Najprostszy z możliwych model n-gramowy"
   ]
  },
  {
   "cell_type": "code",
   "execution_count": 1,
   "metadata": {},
   "outputs": [
    {
     "data": {
      "text/plain": [
       "<module 'ng_models' from 'C:\\\\Users\\\\Mag\\\\Documents\\\\_projekty\\\\praca\\\\ng_models.py'>"
      ]
     },
     "execution_count": 1,
     "metadata": {},
     "output_type": "execute_result"
    }
   ],
   "source": [
    "import re\n",
    "import pandas as pd\n",
    "import funcs \n",
    "import importlib\n",
    "import unicodecsv as csv\n",
    "import pickle\n",
    "import random\n",
    "from timeit import default_timer as timer\n",
    "from datetime import datetime, timedelta\n",
    "import ng_models\n",
    "\n",
    "importlib.reload(funcs)\n",
    "importlib.reload(ng_models)"
   ]
  },
  {
   "cell_type": "code",
   "execution_count": 2,
   "metadata": {
    "collapsed": true
   },
   "outputs": [],
   "source": [
    "sp_joined = pd.read_csv('00_dane/sp_joined.csv',  sep='|', encoding='UTF-8')"
   ]
  },
  {
   "cell_type": "markdown",
   "metadata": {},
   "source": [
    "Output modelu na 1-gram"
   ]
  },
  {
   "cell_type": "code",
   "execution_count": 18,
   "metadata": {},
   "outputs": [
    {
     "name": "stdout",
     "output_type": "stream",
     "text": [
      "Urobek podkomisji, mają stosować się zadania i tylko chęci ani upraw na czym operatorzy i przytułków dla polskiej żeglugi śródlądowej do Prawa Podatkowego, która zwalnia urzędników. Muszę zresztą widać w którym funkcjonuje już wyżej wymienionym projektem ustawy o których niesławnymi bohaterami narodowymi funduszami spójności terminologicznej. Wydaje się, że nasilają się zgodnie z mechanizmów, które toczą się teraz tego demo potrafi przeprowadzić.\n"
     ]
    }
   ],
   "source": [
    "#print(spin_doctor('', 60, model1, 1))"
   ]
  },
  {
   "cell_type": "code",
   "execution_count": 22,
   "metadata": {},
   "outputs": [
    {
     "name": "stdout",
     "output_type": "stream",
     "text": [
      "Dziś jest już ustalony system finansów publicznych? Czy może mi pan minister mówi, że ta krytyka zasługuje na aprobatę argument zakładający, iż prezes Izby Cywilnej oraz Izby Kontroli w dniu 2 marca 2006 r. o świadczeniach przedemerytalnych też jest możliwe. Zdaniem prezydenta narusza to uprawnień przedsiębiorcy, naprawienie szkody wyrządzonej czynem niedozwolonym oraz pracowników cywilnych. Dla obydwu grup wyważyć. Pamiętajmy także o zwykłą większość głosów. Co to oznacza? Jest to bardzo ważna kwestia, to mianowicie, że w tej sytuacji pogłębia fakt, że pomoc państwa dla firm oraz poparcie dla tego rodzaju działalności tak specyficznych instytucji, jakimi są Policja, ośrodki pomocy społecznej regulują oczywiście.\n"
     ]
    }
   ],
   "source": [
    "#print(spin_doctor('Dziś jest', 100, model2, 2))"
   ]
  },
  {
   "cell_type": "code",
   "execution_count": 35,
   "metadata": {},
   "outputs": [
    {
     "name": "stdout",
     "output_type": "stream",
     "text": [
      "Złudzeń, jakie są koszty badania i analizy odnoszące się do dynamiki eksportu nad importem alkoholi. Takim skutecznym i wystarczającym do uruchomienia Krajowego Centrum Hodowli Zwierząt na temat której dzisiaj mówimy o odsetkach wynoszących 12%, ale nie jest ustawą zasadniczą, którą postulowało rozwiązanie samorządowe. Czy ministerstwa podejmą działania na szkodę gospodarki, obywateli. Natomiast nie akceptujemy takich zachowań. Nawet jeśli jest ono słuszne. Aby się o swoje doświadczenia w zarządzaniu oświatą. W związku z tym, że księga wieczysta jest rejestrem centralnym, w budżecie na wydatki zwiazane z tą ostatnią, muszę powiedzieć, że to nie jest możliwe do zsumowania dopiero po 1 maja 2004 r..\n"
     ]
    }
   ],
   "source": [
    "#print(spin_doctor('', 100, model2, 2))"
   ]
  },
  {
   "cell_type": "markdown",
   "metadata": {
    "collapsed": true
   },
   "source": [
    "## Spróbujmy ulepszyć model lepiej uwzględniając początek i koniec zdania.\n",
    "\n",
    "Wszystkie funkcje i metody przeniesione do odrębnego modułu `ng_models`, łącznie z preprocessingiem danych."
   ]
  },
  {
   "cell_type": "code",
   "execution_count": 3,
   "metadata": {
    "collapsed": true
   },
   "outputs": [],
   "source": [
    "dane_do_modelu = ' '.join(sp_joined['speech_raw'])"
   ]
  },
  {
   "cell_type": "code",
   "execution_count": 4,
   "metadata": {},
   "outputs": [
    {
     "name": "stdout",
     "output_type": "stream",
     "text": [
      "Wall time: 0 ns\n",
      "Processing data....\n",
      "Building a model...\n"
     ]
    }
   ],
   "source": [
    "%time\n",
    "model_1 = ng_models.ng_models(2, dane_do_modelu)"
   ]
  },
  {
   "cell_type": "code",
   "execution_count": 5,
   "metadata": {
    "collapsed": true
   },
   "outputs": [],
   "source": [
    "kl=list(model_1.model_dict.keys())"
   ]
  },
  {
   "cell_type": "code",
   "execution_count": 6,
   "metadata": {},
   "outputs": [
    {
     "data": {
      "text/plain": [
       "['w stanie',\n",
       " 'stanie wojennym',\n",
       " 'wojennym byli',\n",
       " 'byli skazywani',\n",
       " 'skazywani przez',\n",
       " 'przez niekiedy',\n",
       " 'niekiedy psychopatycznych',\n",
       " 'psychopatycznych sędziów',\n",
       " 'sędziów na',\n",
       " 'na wyroki',\n",
       " 'wyroki które',\n",
       " 'które nie',\n",
       " 'nie mają',\n",
       " 'mają nic',\n",
       " 'nic wspólnego',\n",
       " 'wspólnego z',\n",
       " 'z wymiarem',\n",
       " 'wymiarem sprawiedliwości',\n",
       " 'sprawiedliwości </s>',\n",
       " '<s> ale']"
      ]
     },
     "execution_count": 6,
     "metadata": {},
     "output_type": "execute_result"
    }
   ],
   "source": [
    "kl[100:120]\n"
   ]
  },
  {
   "cell_type": "code",
   "execution_count": 7,
   "metadata": {},
   "outputs": [
    {
     "name": "stdout",
     "output_type": "stream",
     "text": [
      "Wall time: 1min 4s\n"
     ]
    },
    {
     "data": {
      "text/plain": [
       "'1-2% realnych płac jest sztywno 10 i 14. Uzyskuje stałą poprawę i to nazywano i oprotestowano to na celu jej ochrony. Udoskonalono w toku swojej działalności w postaci ustawy lub zinterpretowano wymagania ustawowe co w konsekwencji poniesie koszty tego szczytu. Zapraszałem do udziału skarbu państwa przysługuje prawo i sprawiedliwość przedstawić stanowisko odnośnie do tych którzy chcą sprawnie tą organizacją tą. Dziwnymi przepływami państwowych pieniędzy 8 mln wyborców to żeby każdy miał prawo wyboru lekarza pierwszego kontaktu i nie da się. Kuria nie widzi różnicy pomiędzy poziomem centralnym a władzą za pośrednictwem komunikacji elektronicznej lub dane dotyczące numeru pesel mogły również. Ranga dyskusji jest - zdaniem rządu mechanizmy które działały dotąd zgodnie z komisją w sprawie tragicznego losu tych 5 tys. Wyciekło w 1995 r a więc również dla telekomunikacji polskiej ani też przenosić lub wynosić zabytków ruchomych - na mocy. Opisując ten projekt komisji ˝przyjazne państwo˝ łącznie z podatkiem bankowym ażeby ta komisja m.in. Wychowawców ulicy zorganizowano kluby policyjne stworzono instytucje prawa po prostu zsumuje się to wysoce naganne sytuacje.'"
      ]
     },
     "execution_count": 7,
     "metadata": {},
     "output_type": "execute_result"
    }
   ],
   "source": [
    "%%time\n",
    "model_1.generate(10)"
   ]
  },
  {
   "cell_type": "code",
   "execution_count": 8,
   "metadata": {},
   "outputs": [
    {
     "name": "stdout",
     "output_type": "stream",
     "text": [
      "Wall time: 1min 2s\n"
     ]
    },
    {
     "data": {
      "text/plain": [
       "'Ujawniono że 26 lat polski ustawodawca z kolei w obecnym wydaniu prokuratoria generalna niebezpieczeństwa czy perspektywy byłyby wyraźniejsze i sprzyja. 23.44.41 w pkt 54 i art. Pijanymi byłyby na wniosek rady ministrów na wniosek sądu rejonowego w mielcu czy w przypadku tego projektu w pierwszym okresie. 25-35 stanowisk w służbie cywilnej. Szturmowało je wiele innych. Dziwactwo - trudno mi się scena z użyciem przemocy lub posługiwaniem się narzędziem które służy rzeczypospolitej˝. Ustawodawcza jaką jest eksploatacja kopalni. Esencją naszej walki jak dotąd - w szczególności bezpodstawnego zarzutu że być może upadłość a pacjenci nie umierali w ub-owskich. Przejmą oświatę będzie jeszcze obowiązywała. T-shirtów wolności.'"
      ]
     },
     "execution_count": 8,
     "metadata": {},
     "output_type": "execute_result"
    }
   ],
   "source": [
    "%%time\n",
    "model_1.generate(10)"
   ]
  },
  {
   "cell_type": "code",
   "execution_count": 15,
   "metadata": {},
   "outputs": [
    {
     "data": {
      "text/plain": [
       "173"
      ]
     },
     "execution_count": 15,
     "metadata": {},
     "output_type": "execute_result"
    }
   ],
   "source": [
    "sum([1 for v in model_1.model_dict['my nie'] if v=='mamy'])"
   ]
  },
  {
   "cell_type": "code",
   "execution_count": 95,
   "metadata": {
    "collapsed": true
   },
   "outputs": [],
   "source": [
    "train = \"This is the cat that killed the. rat that ate the malt that lay in the house that Jack built\"\n",
    "test = \"This is the house that Jack built\""
   ]
  },
  {
   "cell_type": "code",
   "execution_count": 169,
   "metadata": {},
   "outputs": [
    {
     "name": "stdout",
     "output_type": "stream",
     "text": [
      "Processing data....\n",
      "Building a model...\n",
      "Sent_start:  <s>\n"
     ]
    }
   ],
   "source": [
    "importlib.reload(ng_models)\n",
    "model_2 = ng_models.ng_models(1, train)"
   ]
  },
  {
   "cell_type": "code",
   "execution_count": 170,
   "metadata": {},
   "outputs": [
    {
     "data": {
      "text/plain": [
       "{'</s>': ['<s>'],\n",
       " '<s>': ['this', 'rat'],\n",
       " 'ate': ['the'],\n",
       " 'built': ['</s>'],\n",
       " 'cat': ['that'],\n",
       " 'house': ['that'],\n",
       " 'in': ['the'],\n",
       " 'is': ['the'],\n",
       " 'jack': ['built'],\n",
       " 'killed': ['the'],\n",
       " 'lay': ['in'],\n",
       " 'malt': ['that'],\n",
       " 'rat': ['that'],\n",
       " 'that': ['killed', 'ate', 'lay', 'jack'],\n",
       " 'the': ['cat', '</s>', 'malt', 'house'],\n",
       " 'this': ['is']}"
      ]
     },
     "execution_count": 170,
     "metadata": {},
     "output_type": "execute_result"
    }
   ],
   "source": [
    "model_2.model_dict"
   ]
  },
  {
   "cell_type": "code",
   "execution_count": 171,
   "metadata": {},
   "outputs": [
    {
     "name": "stdout",
     "output_type": "stream",
     "text": [
      "['this'] ['is']\n",
      "['is'] ['the']\n",
      "['the'] ['cat', '</s>', 'malt', 'house']\n",
      "['malt'] ['that']\n",
      "['that'] ['killed', 'ate', 'lay', 'jack']\n",
      "['jack'] ['built']\n",
      "['built'] ['</s>']\n",
      "['rat'] ['that']\n",
      "['that'] ['killed', 'ate', 'lay', 'jack']\n",
      "['jack'] ['built']\n",
      "['built'] ['</s>']\n"
     ]
    },
    {
     "data": {
      "text/plain": [
       "'This is the malt that jack built. Rat that jack built.'"
      ]
     },
     "execution_count": 171,
     "metadata": {},
     "output_type": "execute_result"
    }
   ],
   "source": [
    "model_2.generate(2)"
   ]
  },
  {
   "cell_type": "code",
   "execution_count": 159,
   "metadata": {},
   "outputs": [
    {
     "data": {
      "text/plain": [
       "['this', 'rat']"
      ]
     },
     "execution_count": 159,
     "metadata": {},
     "output_type": "execute_result"
    }
   ],
   "source": [
    "model_2.first_words"
   ]
  },
  {
   "cell_type": "code",
   "execution_count": 140,
   "metadata": {},
   "outputs": [
    {
     "data": {
      "text/plain": [
       "[]"
      ]
     },
     "execution_count": 140,
     "metadata": {},
     "output_type": "execute_result"
    }
   ],
   "source": [
    "t"
   ]
  },
  {
   "cell_type": "code",
   "execution_count": 102,
   "metadata": {},
   "outputs": [
    {
     "data": {
      "text/plain": [
       "['this', 'cat', 'the']"
      ]
     },
     "execution_count": 102,
     "metadata": {},
     "output_type": "execute_result"
    }
   ],
   "source": [
    "re.findall(r'<s> <s> ([^ ]+)',t)"
   ]
  },
  {
   "cell_type": "code",
   "execution_count": 58,
   "metadata": {},
   "outputs": [
    {
     "data": {
      "text/plain": [
       "15"
      ]
     },
     "execution_count": 58,
     "metadata": {},
     "output_type": "execute_result"
    }
   ],
   "source": [
    "model_2.V"
   ]
  },
  {
   "cell_type": "code",
   "execution_count": 29,
   "metadata": {
    "collapsed": true
   },
   "outputs": [],
   "source": [
    "a = ['<s>', '<s>', 'this']"
   ]
  },
  {
   "cell_type": "code",
   "execution_count": 30,
   "metadata": {},
   "outputs": [
    {
     "data": {
      "text/plain": [
       "'<s>'"
      ]
     },
     "execution_count": 30,
     "metadata": {},
     "output_type": "execute_result"
    }
   ],
   "source": [
    "a[0]"
   ]
  },
  {
   "cell_type": "code",
   "execution_count": 31,
   "metadata": {},
   "outputs": [
    {
     "data": {
      "text/plain": [
       "['<s>', '<s>']"
      ]
     },
     "execution_count": 31,
     "metadata": {},
     "output_type": "execute_result"
    }
   ],
   "source": [
    "a[0:2]"
   ]
  },
  {
   "cell_type": "code",
   "execution_count": null,
   "metadata": {
    "collapsed": true
   },
   "outputs": [],
   "source": []
  }
 ],
 "metadata": {
  "kernelspec": {
   "display_name": "Python 3",
   "language": "python",
   "name": "python3"
  },
  "language_info": {
   "codemirror_mode": {
    "name": "ipython",
    "version": 3
   },
   "file_extension": ".py",
   "mimetype": "text/x-python",
   "name": "python",
   "nbconvert_exporter": "python",
   "pygments_lexer": "ipython3",
   "version": "3.6.3"
  }
 },
 "nbformat": 4,
 "nbformat_minor": 2
}
