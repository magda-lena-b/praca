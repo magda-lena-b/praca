{
 "cells": [
  {
   "cell_type": "markdown",
   "metadata": {},
   "source": [
    "# Najprostszy z możliwych model n-gramowy"
   ]
  },
  {
   "cell_type": "code",
   "execution_count": 1,
   "metadata": {},
   "outputs": [
    {
     "data": {
      "text/plain": [
       "<module 'funcs' from 'C:\\\\Users\\\\Mag\\\\Documents\\\\_projekty\\\\praca\\\\funcs.py'>"
      ]
     },
     "execution_count": 1,
     "metadata": {},
     "output_type": "execute_result"
    }
   ],
   "source": [
    "import re\n",
    "import pandas as pd\n",
    "import funcs \n",
    "import importlib\n",
    "import unicodecsv as csv\n",
    "import pickle\n",
    "import random\n",
    "from timeit import default_timer as timer\n",
    "from datetime import datetime, timedelta\n",
    "\n",
    "importlib.reload(funcs)"
   ]
  },
  {
   "cell_type": "code",
   "execution_count": 2,
   "metadata": {
    "collapsed": true
   },
   "outputs": [],
   "source": [
    "sp_joined = pd.read_csv('00_dane/sp_joined.csv',  sep='|', encoding='UTF-8')"
   ]
  },
  {
   "cell_type": "code",
   "execution_count": 5,
   "metadata": {},
   "outputs": [
    {
     "name": "stdout",
     "output_type": "stream",
     "text": [
      "Wall time: 2min 14s\n"
     ]
    }
   ],
   "source": [
    "%%time\n",
    "n=1\n",
    "words, words_model = list(), dict()\n",
    "for speech in sp_joined['speech_raw']:\n",
    "    words = list()\n",
    "    words.extend(speech.split())\n",
    "    for i in range(len(words)-n):\n",
    "        speech_part = ' '.join(words[i:i+n])\n",
    "        if speech_part not in words_model.keys():\n",
    "            words_model[speech_part]=[]\n",
    "        words_model[speech_part].append(words[i+n])\n",
    "        \n",
    "#Wall time: 3min 30s        "
   ]
  },
  {
   "cell_type": "code",
   "execution_count": 6,
   "metadata": {
    "collapsed": true
   },
   "outputs": [],
   "source": [
    "model1 = words_model"
   ]
  },
  {
   "cell_type": "code",
   "execution_count": 4,
   "metadata": {
    "collapsed": true
   },
   "outputs": [],
   "source": [
    "model2 = words_model"
   ]
  },
  {
   "cell_type": "code",
   "execution_count": 3,
   "metadata": {
    "collapsed": true
   },
   "outputs": [],
   "source": [
    "file = open('00_dane/model1', 'rb')\n",
    "\n",
    "# dump information to that file\n",
    "words_model = pickle.load(file)\n",
    "\n",
    "# close the file\n",
    "file.close()"
   ]
  },
  {
   "cell_type": "code",
   "execution_count": 30,
   "metadata": {
    "collapsed": true
   },
   "outputs": [],
   "source": [
    "def spin_doctor(speech_start, steps, words_model, n):\n",
    "    if len(speech_start)==0:\n",
    "        r = random.randrange(len(words_model.keys()))\n",
    "        speech_start = list(words_model.keys())[r]\n",
    "        \n",
    "    if speech_start in words_model.keys():\n",
    "        speech = list()\n",
    "        words = speech_start\n",
    "        speech.append(speech_start.capitalize())\n",
    "        for _ in range(steps):\n",
    "            possibilities = words_model[words]\n",
    "            next_item = possibilities[random.randrange(len(possibilities))]\n",
    "            speech.append(next_item)\n",
    "            words = ' '.join(speech[-n:])\n",
    "            words = ' '.join(words.split()[-n:])\n",
    "            \n",
    "        return ' '.join(speech)+'.'\n",
    "    else:\n",
    "        print('Brak w modelu')"
   ]
  },
  {
   "cell_type": "markdown",
   "metadata": {},
   "source": [
    "Output modelu na 1-gram"
   ]
  },
  {
   "cell_type": "code",
   "execution_count": 18,
   "metadata": {},
   "outputs": [
    {
     "name": "stdout",
     "output_type": "stream",
     "text": [
      "Urobek podkomisji, mają stosować się zadania i tylko chęci ani upraw na czym operatorzy i przytułków dla polskiej żeglugi śródlądowej do Prawa Podatkowego, która zwalnia urzędników. Muszę zresztą widać w którym funkcjonuje już wyżej wymienionym projektem ustawy o których niesławnymi bohaterami narodowymi funduszami spójności terminologicznej. Wydaje się, że nasilają się zgodnie z mechanizmów, które toczą się teraz tego demo potrafi przeprowadzić.\n"
     ]
    }
   ],
   "source": [
    "print(spin_doctor('', 60, model1, 1))"
   ]
  },
  {
   "cell_type": "code",
   "execution_count": 22,
   "metadata": {},
   "outputs": [
    {
     "name": "stdout",
     "output_type": "stream",
     "text": [
      "Dziś jest już ustalony system finansów publicznych? Czy może mi pan minister mówi, że ta krytyka zasługuje na aprobatę argument zakładający, iż prezes Izby Cywilnej oraz Izby Kontroli w dniu 2 marca 2006 r. o świadczeniach przedemerytalnych też jest możliwe. Zdaniem prezydenta narusza to uprawnień przedsiębiorcy, naprawienie szkody wyrządzonej czynem niedozwolonym oraz pracowników cywilnych. Dla obydwu grup wyważyć. Pamiętajmy także o zwykłą większość głosów. Co to oznacza? Jest to bardzo ważna kwestia, to mianowicie, że w tej sytuacji pogłębia fakt, że pomoc państwa dla firm oraz poparcie dla tego rodzaju działalności tak specyficznych instytucji, jakimi są Policja, ośrodki pomocy społecznej regulują oczywiście.\n"
     ]
    }
   ],
   "source": [
    "print(spin_doctor('Dziś jest', 100, model2, 2))"
   ]
  },
  {
   "cell_type": "code",
   "execution_count": 35,
   "metadata": {},
   "outputs": [
    {
     "name": "stdout",
     "output_type": "stream",
     "text": [
      "Złudzeń, jakie są koszty badania i analizy odnoszące się do dynamiki eksportu nad importem alkoholi. Takim skutecznym i wystarczającym do uruchomienia Krajowego Centrum Hodowli Zwierząt na temat której dzisiaj mówimy o odsetkach wynoszących 12%, ale nie jest ustawą zasadniczą, którą postulowało rozwiązanie samorządowe. Czy ministerstwa podejmą działania na szkodę gospodarki, obywateli. Natomiast nie akceptujemy takich zachowań. Nawet jeśli jest ono słuszne. Aby się o swoje doświadczenia w zarządzaniu oświatą. W związku z tym, że księga wieczysta jest rejestrem centralnym, w budżecie na wydatki zwiazane z tą ostatnią, muszę powiedzieć, że to nie jest możliwe do zsumowania dopiero po 1 maja 2004 r..\n"
     ]
    }
   ],
   "source": [
    "print(spin_doctor('', 100, model2, 2))"
   ]
  },
  {
   "cell_type": "markdown",
   "metadata": {
    "collapsed": true
   },
   "source": [
    "## Spróbujmy ulepszyć model lepiej uwzględniając początek i koniec zdania."
   ]
  },
  {
   "cell_type": "code",
   "execution_count": 3,
   "metadata": {
    "collapsed": true
   },
   "outputs": [],
   "source": [
    "dane_do_modelu = ' '.join(sp_joined['speech_raw'])"
   ]
  },
  {
   "cell_type": "markdown",
   "metadata": {},
   "source": [
    "Usuńmy kropkę po \"r.\", przecinki, wielokrotne spacje."
   ]
  },
  {
   "cell_type": "code",
   "execution_count": 4,
   "metadata": {
    "collapsed": true
   },
   "outputs": [],
   "source": [
    "dane_do_modelu = re.sub('\\s+',' ',dane_do_modelu)\n",
    "dane_do_modelu = re.sub('\\ r.',' r',dane_do_modelu)"
   ]
  },
  {
   "cell_type": "code",
   "execution_count": 5,
   "metadata": {
    "collapsed": true
   },
   "outputs": [],
   "source": [
    "dane_do_modelu = re.sub('[!?.] ',' </s> <s> ',dane_do_modelu.lower())"
   ]
  },
  {
   "cell_type": "code",
   "execution_count": 6,
   "metadata": {
    "collapsed": true
   },
   "outputs": [],
   "source": [
    "dane_do_modelu = re.sub(',','',dane_do_modelu)"
   ]
  },
  {
   "cell_type": "markdown",
   "metadata": {},
   "source": [
    "### Budowa modelu 1-gramowego"
   ]
  },
  {
   "cell_type": "code",
   "execution_count": 7,
   "metadata": {},
   "outputs": [
    {
     "name": "stdout",
     "output_type": "stream",
     "text": [
      "Wall time: 25min 49s\n"
     ]
    }
   ],
   "source": [
    "%%time\n",
    "model1 = funcs.model_ng(dane_do_modelu, 3)"
   ]
  },
  {
   "cell_type": "code",
   "execution_count": 33,
   "metadata": {
    "collapsed": true
   },
   "outputs": [],
   "source": [
    "kl=list(model1.keys())"
   ]
  },
  {
   "cell_type": "code",
   "execution_count": 37,
   "metadata": {},
   "outputs": [
    {
     "data": {
      "text/plain": [
       "['w stanie',\n",
       " 'stanie wojennym',\n",
       " 'wojennym byli',\n",
       " 'byli skazywani',\n",
       " 'skazywani przez',\n",
       " 'przez niekiedy',\n",
       " 'niekiedy psychopatycznych',\n",
       " 'psychopatycznych sędziów',\n",
       " 'sędziów na',\n",
       " 'na wyroki',\n",
       " 'wyroki które',\n",
       " 'które nie',\n",
       " 'nie mają',\n",
       " 'mają nic',\n",
       " 'nic wspólnego',\n",
       " 'wspólnego z',\n",
       " 'z wymiarem',\n",
       " 'wymiarem sprawiedliwości',\n",
       " 'sprawiedliwości </s>',\n",
       " '<s> ale']"
      ]
     },
     "execution_count": 37,
     "metadata": {},
     "output_type": "execute_result"
    }
   ],
   "source": [
    "kl[100:120]"
   ]
  },
  {
   "cell_type": "code",
   "execution_count": 72,
   "metadata": {
    "collapsed": true
   },
   "outputs": [],
   "source": [
    "def spin_doctor(words_model, steps: int = 60, n: int =2, max_sent: int = 20):\n",
    "    import random\n",
    "    \n",
    "    speech = list()\n",
    "    first_words = [k.split()[1] for k in list(words_model.keys()) if k.split()[0]=='<s>']\n",
    "    \n",
    "    while len(speech)<steps:\n",
    "        sentence=''\n",
    "        \n",
    "        w1 = first_words[random.randrange(len(first_words))]\n",
    "\n",
    "        first_keys = [k for k in list(words_model.keys()) if k.split()[0]==w1]\n",
    "        sent_start  = first_keys[random.randrange(len(first_keys))]\n",
    "\n",
    "        words = sent_start\n",
    "        sentence = sent_start.capitalize()\n",
    "        sent_len=2\n",
    "        ifend=0\n",
    "        \n",
    "        while sent_len<max_sent and ifend==0:\n",
    "            possibilities = words_model[words]\n",
    "            next_item = possibilities[random.randrange(len(possibilities))]\n",
    "            \n",
    "            if next_item == '</s>':\n",
    "                ifend = 1\n",
    "                speech.append(' '.join(sentence)+'.')\n",
    "            else:\n",
    "                sentence += ' ' + next_item\n",
    "                words = ' '.join(sentence.split()[-n:])\n",
    "                sent_len+=1\n",
    "            print('Ifend = {}, sentence = {}, words = {}, next = {}'.format(ifend, sentence, words, next_item))\n",
    "        \n",
    "    return speech\n",
    "    "
   ]
  },
  {
   "cell_type": "code",
   "execution_count": 73,
   "metadata": {},
   "outputs": [
    {
     "name": "stdout",
     "output_type": "stream",
     "text": [
      "Ifend = 0, sentence = Fundamentalne rzbieżności co, words = rzbieżności co, next = co\n",
      "Ifend = 0, sentence = Fundamentalne rzbieżności co do, words = co do, next = do\n",
      "Ifend = 0, sentence = Fundamentalne rzbieżności co do złotówki, words = do złotówki, next = złotówki\n",
      "Ifend = 0, sentence = Fundamentalne rzbieżności co do złotówki traktowały, words = złotówki traktowały, next = traktowały\n",
      "Ifend = 0, sentence = Fundamentalne rzbieżności co do złotówki traktowały i, words = traktowały i, next = i\n",
      "Ifend = 0, sentence = Fundamentalne rzbieżności co do złotówki traktowały i traktują, words = i traktują, next = traktują\n",
      "Ifend = 0, sentence = Fundamentalne rzbieżności co do złotówki traktowały i traktują nasz, words = traktują nasz, next = nasz\n",
      "Ifend = 0, sentence = Fundamentalne rzbieżności co do złotówki traktowały i traktują nasz kraj, words = nasz kraj, next = kraj\n",
      "Ifend = 0, sentence = Fundamentalne rzbieżności co do złotówki traktowały i traktują nasz kraj europejskiej, words = kraj europejskiej, next = europejskiej\n",
      "Ifend = 0, sentence = Fundamentalne rzbieżności co do złotówki traktowały i traktują nasz kraj europejskiej karcie, words = europejskiej karcie, next = karcie\n",
      "Ifend = 0, sentence = Fundamentalne rzbieżności co do złotówki traktowały i traktują nasz kraj europejskiej karcie społecznej, words = karcie społecznej, next = społecznej\n",
      "Ifend = 1, sentence = Fundamentalne rzbieżności co do złotówki traktowały i traktują nasz kraj europejskiej karcie społecznej, words = karcie społecznej, next = </s>\n",
      "Ifend = 0, sentence = Bezpośredniej pracy przy, words = pracy przy, next = przy\n",
      "Ifend = 0, sentence = Bezpośredniej pracy przy ministrze, words = przy ministrze, next = ministrze\n",
      "Ifend = 0, sentence = Bezpośredniej pracy przy ministrze sportu, words = ministrze sportu, next = sportu\n",
      "Ifend = 1, sentence = Bezpośredniej pracy przy ministrze sportu, words = ministrze sportu, next = </s>\n",
      "Ifend = 0, sentence = Szopce ruch palikota, words = ruch palikota, next = palikota\n",
      "Ifend = 0, sentence = Szopce ruch palikota w, words = palikota w, next = w\n",
      "Ifend = 0, sentence = Szopce ruch palikota w sprawie, words = w sprawie, next = sprawie\n",
      "Ifend = 0, sentence = Szopce ruch palikota w sprawie udzielania, words = sprawie udzielania, next = udzielania\n",
      "Ifend = 0, sentence = Szopce ruch palikota w sprawie udzielania pomocy, words = udzielania pomocy, next = pomocy\n",
      "Ifend = 1, sentence = Szopce ruch palikota w sprawie udzielania pomocy, words = udzielania pomocy, next = </s>\n",
      "Ifend = 0, sentence = Lodowiska i baseny, words = i baseny, next = baseny\n",
      "Ifend = 0, sentence = Lodowiska i baseny oraz, words = baseny oraz, next = oraz\n",
      "Ifend = 0, sentence = Lodowiska i baseny oraz korty, words = oraz korty, next = korty\n",
      "Ifend = 0, sentence = Lodowiska i baseny oraz korty tenisowe, words = korty tenisowe, next = tenisowe\n",
      "Ifend = 0, sentence = Lodowiska i baseny oraz korty tenisowe oraz, words = tenisowe oraz, next = oraz\n",
      "Ifend = 0, sentence = Lodowiska i baseny oraz korty tenisowe oraz boisko, words = oraz boisko, next = boisko\n",
      "Ifend = 0, sentence = Lodowiska i baseny oraz korty tenisowe oraz boisko do, words = boisko do, next = do\n",
      "Ifend = 0, sentence = Lodowiska i baseny oraz korty tenisowe oraz boisko do gry, words = do gry, next = gry\n",
      "Ifend = 0, sentence = Lodowiska i baseny oraz korty tenisowe oraz boisko do gry jedna, words = gry jedna, next = jedna\n",
      "Ifend = 0, sentence = Lodowiska i baseny oraz korty tenisowe oraz boisko do gry jedna akcja, words = jedna akcja, next = akcja\n",
      "Ifend = 0, sentence = Lodowiska i baseny oraz korty tenisowe oraz boisko do gry jedna akcja jeden, words = akcja jeden, next = jeden\n",
      "Ifend = 0, sentence = Lodowiska i baseny oraz korty tenisowe oraz boisko do gry jedna akcja jeden głos, words = jeden głos, next = głos\n",
      "Ifend = 0, sentence = Lodowiska i baseny oraz korty tenisowe oraz boisko do gry jedna akcja jeden głos czy, words = głos czy, next = czy\n",
      "Ifend = 0, sentence = Lodowiska i baseny oraz korty tenisowe oraz boisko do gry jedna akcja jeden głos czy osób, words = czy osób, next = osób\n",
      "Ifend = 0, sentence = Lodowiska i baseny oraz korty tenisowe oraz boisko do gry jedna akcja jeden głos czy osób a, words = osób a, next = a\n",
      "Ifend = 0, sentence = Lodowiska i baseny oraz korty tenisowe oraz boisko do gry jedna akcja jeden głos czy osób a łączny, words = a łączny, next = łączny\n",
      "Ifend = 0, sentence = Lodowiska i baseny oraz korty tenisowe oraz boisko do gry jedna akcja jeden głos czy osób a łączny wydatek, words = łączny wydatek, next = wydatek\n",
      "Ifend = 0, sentence = Lodowiska i baseny oraz korty tenisowe oraz boisko do gry jedna akcja jeden głos czy osób a łączny wydatek jeśli, words = wydatek jeśli, next = jeśli\n",
      "Ifend = 1, sentence = Skończył dawno, words = skończył dawno, next = </s>\n",
      "Ifend = 0, sentence = Spora biorąc pod, words = biorąc pod, next = pod\n",
      "Ifend = 0, sentence = Spora biorąc pod uwagę, words = pod uwagę, next = uwagę\n",
      "Ifend = 0, sentence = Spora biorąc pod uwagę ogólne, words = uwagę ogólne, next = ogólne\n",
      "Ifend = 0, sentence = Spora biorąc pod uwagę ogólne szacunki, words = ogólne szacunki, next = szacunki\n",
      "Ifend = 0, sentence = Spora biorąc pod uwagę ogólne szacunki które, words = szacunki które, next = które\n",
      "Ifend = 0, sentence = Spora biorąc pod uwagę ogólne szacunki które były, words = które były, next = były\n",
      "Ifend = 0, sentence = Spora biorąc pod uwagę ogólne szacunki które były prowadzone, words = były prowadzone, next = prowadzone\n",
      "Ifend = 0, sentence = Spora biorąc pod uwagę ogólne szacunki które były prowadzone intensywnie, words = prowadzone intensywnie, next = intensywnie\n",
      "Ifend = 0, sentence = Spora biorąc pod uwagę ogólne szacunki które były prowadzone intensywnie i, words = intensywnie i, next = i\n",
      "Ifend = 0, sentence = Spora biorąc pod uwagę ogólne szacunki które były prowadzone intensywnie i chyba, words = i chyba, next = chyba\n",
      "Ifend = 0, sentence = Spora biorąc pod uwagę ogólne szacunki które były prowadzone intensywnie i chyba organizacyjnie, words = chyba organizacyjnie, next = organizacyjnie\n",
      "Ifend = 1, sentence = Spora biorąc pod uwagę ogólne szacunki które były prowadzone intensywnie i chyba organizacyjnie, words = chyba organizacyjnie, next = </s>\n"
     ]
    },
    {
     "data": {
      "text/plain": [
       "['F u n d a m e n t a l n e   r z b i e ż n o ś c i   c o   d o   z ł o t ó w k i   t r a k t o w a ł y   i   t r a k t u j ą   n a s z   k r a j   e u r o p e j s k i e j   k a r c i e   s p o ł e c z n e j.',\n",
       " 'B e z p o ś r e d n i e j   p r a c y   p r z y   m i n i s t r z e   s p o r t u.',\n",
       " 'S z o p c e   r u c h   p a l i k o t a   w   s p r a w i e   u d z i e l a n i a   p o m o c y.',\n",
       " 'S k o ń c z y ł   d a w n o.',\n",
       " 'S p o r a   b i o r ą c   p o d   u w a g ę   o g ó l n e   s z a c u n k i   k t ó r e   b y ł y   p r o w a d z o n e   i n t e n s y w n i e   i   c h y b a   o r g a n i z a c y j n i e.']"
      ]
     },
     "execution_count": 73,
     "metadata": {},
     "output_type": "execute_result"
    }
   ],
   "source": [
    "spin_doctor(model1, 5, max_sent=20)"
   ]
  },
  {
   "cell_type": "code",
   "execution_count": 56,
   "metadata": {
    "collapsed": true
   },
   "outputs": [],
   "source": [
    "t ='Złudzeń, jakie są koszty badania i analizy odnoszące się do dynamiki'"
   ]
  },
  {
   "cell_type": "code",
   "execution_count": 57,
   "metadata": {},
   "outputs": [
    {
     "data": {
      "text/plain": [
       "'ki'"
      ]
     },
     "execution_count": 57,
     "metadata": {},
     "output_type": "execute_result"
    }
   ],
   "source": [
    "t[-2:]"
   ]
  },
  {
   "cell_type": "code",
   "execution_count": null,
   "metadata": {
    "collapsed": true
   },
   "outputs": [],
   "source": []
  }
 ],
 "metadata": {
  "kernelspec": {
   "display_name": "Python 3",
   "language": "python",
   "name": "python3"
  },
  "language_info": {
   "codemirror_mode": {
    "name": "ipython",
    "version": 3
   },
   "file_extension": ".py",
   "mimetype": "text/x-python",
   "name": "python",
   "nbconvert_exporter": "python",
   "pygments_lexer": "ipython3",
   "version": "3.6.3"
  }
 },
 "nbformat": 4,
 "nbformat_minor": 2
}
